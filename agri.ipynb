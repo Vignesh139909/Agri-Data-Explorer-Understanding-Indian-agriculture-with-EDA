{
 "cells": [
  {
   "cell_type": "code",
   "execution_count": null,
   "id": "7a59a6d6",
   "metadata": {},
   "outputs": [],
   "source": [
    "import pandas as pd\n",
    "import plotly.express as px\n",
    "import mysql.connector\n",
    "from mysql.connector import Error\n",
    "from tabulate import tabulate"
   ]
  },
  {
   "cell_type": "code",
   "execution_count": 2,
   "id": "b172cfb9",
   "metadata": {},
   "outputs": [
    {
     "data": {
      "text/html": [
       "<div>\n",
       "<style scoped>\n",
       "    .dataframe tbody tr th:only-of-type {\n",
       "        vertical-align: middle;\n",
       "    }\n",
       "\n",
       "    .dataframe tbody tr th {\n",
       "        vertical-align: top;\n",
       "    }\n",
       "\n",
       "    .dataframe thead th {\n",
       "        text-align: right;\n",
       "    }\n",
       "</style>\n",
       "<table border=\"1\" class=\"dataframe\">\n",
       "  <thead>\n",
       "    <tr style=\"text-align: right;\">\n",
       "      <th></th>\n",
       "      <th>Dist Code</th>\n",
       "      <th>Year</th>\n",
       "      <th>State Code</th>\n",
       "      <th>State Name</th>\n",
       "      <th>Dist Name</th>\n",
       "      <th>RICE AREA (1000 ha)</th>\n",
       "      <th>RICE PRODUCTION (1000 tons)</th>\n",
       "      <th>RICE YIELD (Kg per ha)</th>\n",
       "      <th>WHEAT AREA (1000 ha)</th>\n",
       "      <th>WHEAT PRODUCTION (1000 tons)</th>\n",
       "      <th>...</th>\n",
       "      <th>SUGARCANE YIELD (Kg per ha)</th>\n",
       "      <th>COTTON AREA (1000 ha)</th>\n",
       "      <th>COTTON PRODUCTION (1000 tons)</th>\n",
       "      <th>COTTON YIELD (Kg per ha)</th>\n",
       "      <th>FRUITS AREA (1000 ha)</th>\n",
       "      <th>VEGETABLES AREA (1000 ha)</th>\n",
       "      <th>FRUITS AND VEGETABLES AREA (1000 ha)</th>\n",
       "      <th>POTATOES AREA (1000 ha)</th>\n",
       "      <th>ONION AREA (1000 ha)</th>\n",
       "      <th>FODDER AREA (1000 ha)</th>\n",
       "    </tr>\n",
       "  </thead>\n",
       "  <tbody>\n",
       "    <tr>\n",
       "      <th>0</th>\n",
       "      <td>1</td>\n",
       "      <td>1966</td>\n",
       "      <td>14</td>\n",
       "      <td>Chhattisgarh</td>\n",
       "      <td>Durg</td>\n",
       "      <td>548.0</td>\n",
       "      <td>185.0</td>\n",
       "      <td>337.59</td>\n",
       "      <td>44.0</td>\n",
       "      <td>20.0</td>\n",
       "      <td>...</td>\n",
       "      <td>1777.78</td>\n",
       "      <td>0.0</td>\n",
       "      <td>0.0</td>\n",
       "      <td>0.0</td>\n",
       "      <td>5.95</td>\n",
       "      <td>6.64</td>\n",
       "      <td>12.59</td>\n",
       "      <td>0.01</td>\n",
       "      <td>0.60</td>\n",
       "      <td>0.47</td>\n",
       "    </tr>\n",
       "    <tr>\n",
       "      <th>1</th>\n",
       "      <td>1</td>\n",
       "      <td>1967</td>\n",
       "      <td>14</td>\n",
       "      <td>Chhattisgarh</td>\n",
       "      <td>Durg</td>\n",
       "      <td>547.0</td>\n",
       "      <td>409.0</td>\n",
       "      <td>747.71</td>\n",
       "      <td>50.0</td>\n",
       "      <td>26.0</td>\n",
       "      <td>...</td>\n",
       "      <td>1500.00</td>\n",
       "      <td>0.0</td>\n",
       "      <td>0.0</td>\n",
       "      <td>0.0</td>\n",
       "      <td>5.77</td>\n",
       "      <td>7.24</td>\n",
       "      <td>13.02</td>\n",
       "      <td>0.01</td>\n",
       "      <td>0.56</td>\n",
       "      <td>1.23</td>\n",
       "    </tr>\n",
       "    <tr>\n",
       "      <th>2</th>\n",
       "      <td>1</td>\n",
       "      <td>1968</td>\n",
       "      <td>14</td>\n",
       "      <td>Chhattisgarh</td>\n",
       "      <td>Durg</td>\n",
       "      <td>556.3</td>\n",
       "      <td>468.0</td>\n",
       "      <td>841.27</td>\n",
       "      <td>53.7</td>\n",
       "      <td>30.0</td>\n",
       "      <td>...</td>\n",
       "      <td>1000.00</td>\n",
       "      <td>0.0</td>\n",
       "      <td>0.0</td>\n",
       "      <td>0.0</td>\n",
       "      <td>5.41</td>\n",
       "      <td>7.40</td>\n",
       "      <td>12.81</td>\n",
       "      <td>0.10</td>\n",
       "      <td>0.58</td>\n",
       "      <td>1.02</td>\n",
       "    </tr>\n",
       "    <tr>\n",
       "      <th>3</th>\n",
       "      <td>1</td>\n",
       "      <td>1969</td>\n",
       "      <td>14</td>\n",
       "      <td>Chhattisgarh</td>\n",
       "      <td>Durg</td>\n",
       "      <td>563.4</td>\n",
       "      <td>400.8</td>\n",
       "      <td>711.40</td>\n",
       "      <td>49.4</td>\n",
       "      <td>26.5</td>\n",
       "      <td>...</td>\n",
       "      <td>1900.00</td>\n",
       "      <td>0.0</td>\n",
       "      <td>0.0</td>\n",
       "      <td>0.0</td>\n",
       "      <td>5.52</td>\n",
       "      <td>7.16</td>\n",
       "      <td>12.69</td>\n",
       "      <td>0.01</td>\n",
       "      <td>0.56</td>\n",
       "      <td>0.84</td>\n",
       "    </tr>\n",
       "    <tr>\n",
       "      <th>4</th>\n",
       "      <td>1</td>\n",
       "      <td>1970</td>\n",
       "      <td>14</td>\n",
       "      <td>Chhattisgarh</td>\n",
       "      <td>Durg</td>\n",
       "      <td>571.6</td>\n",
       "      <td>473.6</td>\n",
       "      <td>828.55</td>\n",
       "      <td>44.2</td>\n",
       "      <td>29.0</td>\n",
       "      <td>...</td>\n",
       "      <td>2000.00</td>\n",
       "      <td>0.0</td>\n",
       "      <td>0.0</td>\n",
       "      <td>0.0</td>\n",
       "      <td>5.45</td>\n",
       "      <td>7.19</td>\n",
       "      <td>12.64</td>\n",
       "      <td>0.02</td>\n",
       "      <td>0.52</td>\n",
       "      <td>0.42</td>\n",
       "    </tr>\n",
       "  </tbody>\n",
       "</table>\n",
       "<p>5 rows × 80 columns</p>\n",
       "</div>"
      ],
      "text/plain": [
       "   Dist Code  Year  State Code    State Name Dist Name  RICE AREA (1000 ha)  \\\n",
       "0          1  1966          14  Chhattisgarh      Durg                548.0   \n",
       "1          1  1967          14  Chhattisgarh      Durg                547.0   \n",
       "2          1  1968          14  Chhattisgarh      Durg                556.3   \n",
       "3          1  1969          14  Chhattisgarh      Durg                563.4   \n",
       "4          1  1970          14  Chhattisgarh      Durg                571.6   \n",
       "\n",
       "   RICE PRODUCTION (1000 tons)  RICE YIELD (Kg per ha)  WHEAT AREA (1000 ha)  \\\n",
       "0                        185.0                  337.59                  44.0   \n",
       "1                        409.0                  747.71                  50.0   \n",
       "2                        468.0                  841.27                  53.7   \n",
       "3                        400.8                  711.40                  49.4   \n",
       "4                        473.6                  828.55                  44.2   \n",
       "\n",
       "   WHEAT PRODUCTION (1000 tons)  ...  SUGARCANE YIELD (Kg per ha)  \\\n",
       "0                          20.0  ...                      1777.78   \n",
       "1                          26.0  ...                      1500.00   \n",
       "2                          30.0  ...                      1000.00   \n",
       "3                          26.5  ...                      1900.00   \n",
       "4                          29.0  ...                      2000.00   \n",
       "\n",
       "   COTTON AREA (1000 ha)  COTTON PRODUCTION (1000 tons)  \\\n",
       "0                    0.0                            0.0   \n",
       "1                    0.0                            0.0   \n",
       "2                    0.0                            0.0   \n",
       "3                    0.0                            0.0   \n",
       "4                    0.0                            0.0   \n",
       "\n",
       "   COTTON YIELD (Kg per ha)  FRUITS AREA (1000 ha)  VEGETABLES AREA (1000 ha)  \\\n",
       "0                       0.0                   5.95                       6.64   \n",
       "1                       0.0                   5.77                       7.24   \n",
       "2                       0.0                   5.41                       7.40   \n",
       "3                       0.0                   5.52                       7.16   \n",
       "4                       0.0                   5.45                       7.19   \n",
       "\n",
       "   FRUITS AND VEGETABLES AREA (1000 ha)  POTATOES AREA (1000 ha)  \\\n",
       "0                                 12.59                     0.01   \n",
       "1                                 13.02                     0.01   \n",
       "2                                 12.81                     0.10   \n",
       "3                                 12.69                     0.01   \n",
       "4                                 12.64                     0.02   \n",
       "\n",
       "   ONION AREA (1000 ha)  FODDER AREA (1000 ha)  \n",
       "0                  0.60                   0.47  \n",
       "1                  0.56                   1.23  \n",
       "2                  0.58                   1.02  \n",
       "3                  0.56                   0.84  \n",
       "4                  0.52                   0.42  \n",
       "\n",
       "[5 rows x 80 columns]"
      ]
     },
     "metadata": {},
     "output_type": "display_data"
    }
   ],
   "source": [
    "agri = pd.read_csv(r\"C:\\Users\\Vignesh\\OneDrive\\Desktop\\Datascience\\PROJECT1\\Agri\\ICRISAT-District Level Data - ICRISAT-District Level Data.csv\")\n",
    "display(agri.head())"
   ]
  },
  {
   "cell_type": "code",
   "execution_count": 3,
   "id": "84416a2b",
   "metadata": {},
   "outputs": [
    {
     "data": {
      "text/html": [
       "<div>\n",
       "<style scoped>\n",
       "    .dataframe tbody tr th:only-of-type {\n",
       "        vertical-align: middle;\n",
       "    }\n",
       "\n",
       "    .dataframe tbody tr th {\n",
       "        vertical-align: top;\n",
       "    }\n",
       "\n",
       "    .dataframe thead th {\n",
       "        text-align: right;\n",
       "    }\n",
       "</style>\n",
       "<table border=\"1\" class=\"dataframe\">\n",
       "  <thead>\n",
       "    <tr style=\"text-align: right;\">\n",
       "      <th></th>\n",
       "      <th>Dist Code</th>\n",
       "      <th>Year</th>\n",
       "      <th>State Code</th>\n",
       "      <th>State Name</th>\n",
       "      <th>Dist Name</th>\n",
       "      <th>RICE AREA (1000 ha)</th>\n",
       "      <th>RICE PRODUCTION (1000 tons)</th>\n",
       "      <th>RICE YIELD (Kg per ha)</th>\n",
       "      <th>WHEAT AREA (1000 ha)</th>\n",
       "      <th>WHEAT PRODUCTION (1000 tons)</th>\n",
       "      <th>...</th>\n",
       "      <th>SUGARCANE YIELD (Kg per ha)</th>\n",
       "      <th>COTTON AREA (1000 ha)</th>\n",
       "      <th>COTTON PRODUCTION (1000 tons)</th>\n",
       "      <th>COTTON YIELD (Kg per ha)</th>\n",
       "      <th>FRUITS AREA (1000 ha)</th>\n",
       "      <th>VEGETABLES AREA (1000 ha)</th>\n",
       "      <th>FRUITS AND VEGETABLES AREA (1000 ha)</th>\n",
       "      <th>POTATOES AREA (1000 ha)</th>\n",
       "      <th>ONION AREA (1000 ha)</th>\n",
       "      <th>FODDER AREA (1000 ha)</th>\n",
       "    </tr>\n",
       "  </thead>\n",
       "  <tbody>\n",
       "    <tr>\n",
       "      <th>0</th>\n",
       "      <td>1</td>\n",
       "      <td>1966</td>\n",
       "      <td>14</td>\n",
       "      <td>Chhattisgarh</td>\n",
       "      <td>Durg</td>\n",
       "      <td>548.0</td>\n",
       "      <td>185.0</td>\n",
       "      <td>337.59</td>\n",
       "      <td>44.0</td>\n",
       "      <td>20.0</td>\n",
       "      <td>...</td>\n",
       "      <td>1777.78</td>\n",
       "      <td>0.0</td>\n",
       "      <td>0.0</td>\n",
       "      <td>0.0</td>\n",
       "      <td>5.95</td>\n",
       "      <td>6.64</td>\n",
       "      <td>12.59</td>\n",
       "      <td>0.01</td>\n",
       "      <td>0.60</td>\n",
       "      <td>0.47</td>\n",
       "    </tr>\n",
       "    <tr>\n",
       "      <th>1</th>\n",
       "      <td>1</td>\n",
       "      <td>1967</td>\n",
       "      <td>14</td>\n",
       "      <td>Chhattisgarh</td>\n",
       "      <td>Durg</td>\n",
       "      <td>547.0</td>\n",
       "      <td>409.0</td>\n",
       "      <td>747.71</td>\n",
       "      <td>50.0</td>\n",
       "      <td>26.0</td>\n",
       "      <td>...</td>\n",
       "      <td>1500.00</td>\n",
       "      <td>0.0</td>\n",
       "      <td>0.0</td>\n",
       "      <td>0.0</td>\n",
       "      <td>5.77</td>\n",
       "      <td>7.24</td>\n",
       "      <td>13.02</td>\n",
       "      <td>0.01</td>\n",
       "      <td>0.56</td>\n",
       "      <td>1.23</td>\n",
       "    </tr>\n",
       "    <tr>\n",
       "      <th>2</th>\n",
       "      <td>1</td>\n",
       "      <td>1968</td>\n",
       "      <td>14</td>\n",
       "      <td>Chhattisgarh</td>\n",
       "      <td>Durg</td>\n",
       "      <td>556.3</td>\n",
       "      <td>468.0</td>\n",
       "      <td>841.27</td>\n",
       "      <td>53.7</td>\n",
       "      <td>30.0</td>\n",
       "      <td>...</td>\n",
       "      <td>1000.00</td>\n",
       "      <td>0.0</td>\n",
       "      <td>0.0</td>\n",
       "      <td>0.0</td>\n",
       "      <td>5.41</td>\n",
       "      <td>7.40</td>\n",
       "      <td>12.81</td>\n",
       "      <td>0.10</td>\n",
       "      <td>0.58</td>\n",
       "      <td>1.02</td>\n",
       "    </tr>\n",
       "    <tr>\n",
       "      <th>3</th>\n",
       "      <td>1</td>\n",
       "      <td>1969</td>\n",
       "      <td>14</td>\n",
       "      <td>Chhattisgarh</td>\n",
       "      <td>Durg</td>\n",
       "      <td>563.4</td>\n",
       "      <td>400.8</td>\n",
       "      <td>711.40</td>\n",
       "      <td>49.4</td>\n",
       "      <td>26.5</td>\n",
       "      <td>...</td>\n",
       "      <td>1900.00</td>\n",
       "      <td>0.0</td>\n",
       "      <td>0.0</td>\n",
       "      <td>0.0</td>\n",
       "      <td>5.52</td>\n",
       "      <td>7.16</td>\n",
       "      <td>12.69</td>\n",
       "      <td>0.01</td>\n",
       "      <td>0.56</td>\n",
       "      <td>0.84</td>\n",
       "    </tr>\n",
       "    <tr>\n",
       "      <th>4</th>\n",
       "      <td>1</td>\n",
       "      <td>1970</td>\n",
       "      <td>14</td>\n",
       "      <td>Chhattisgarh</td>\n",
       "      <td>Durg</td>\n",
       "      <td>571.6</td>\n",
       "      <td>473.6</td>\n",
       "      <td>828.55</td>\n",
       "      <td>44.2</td>\n",
       "      <td>29.0</td>\n",
       "      <td>...</td>\n",
       "      <td>2000.00</td>\n",
       "      <td>0.0</td>\n",
       "      <td>0.0</td>\n",
       "      <td>0.0</td>\n",
       "      <td>5.45</td>\n",
       "      <td>7.19</td>\n",
       "      <td>12.64</td>\n",
       "      <td>0.02</td>\n",
       "      <td>0.52</td>\n",
       "      <td>0.42</td>\n",
       "    </tr>\n",
       "  </tbody>\n",
       "</table>\n",
       "<p>5 rows × 80 columns</p>\n",
       "</div>"
      ],
      "text/plain": [
       "   Dist Code  Year  State Code    State Name Dist Name  RICE AREA (1000 ha)  \\\n",
       "0          1  1966          14  Chhattisgarh      Durg                548.0   \n",
       "1          1  1967          14  Chhattisgarh      Durg                547.0   \n",
       "2          1  1968          14  Chhattisgarh      Durg                556.3   \n",
       "3          1  1969          14  Chhattisgarh      Durg                563.4   \n",
       "4          1  1970          14  Chhattisgarh      Durg                571.6   \n",
       "\n",
       "   RICE PRODUCTION (1000 tons)  RICE YIELD (Kg per ha)  WHEAT AREA (1000 ha)  \\\n",
       "0                        185.0                  337.59                  44.0   \n",
       "1                        409.0                  747.71                  50.0   \n",
       "2                        468.0                  841.27                  53.7   \n",
       "3                        400.8                  711.40                  49.4   \n",
       "4                        473.6                  828.55                  44.2   \n",
       "\n",
       "   WHEAT PRODUCTION (1000 tons)  ...  SUGARCANE YIELD (Kg per ha)  \\\n",
       "0                          20.0  ...                      1777.78   \n",
       "1                          26.0  ...                      1500.00   \n",
       "2                          30.0  ...                      1000.00   \n",
       "3                          26.5  ...                      1900.00   \n",
       "4                          29.0  ...                      2000.00   \n",
       "\n",
       "   COTTON AREA (1000 ha)  COTTON PRODUCTION (1000 tons)  \\\n",
       "0                    0.0                            0.0   \n",
       "1                    0.0                            0.0   \n",
       "2                    0.0                            0.0   \n",
       "3                    0.0                            0.0   \n",
       "4                    0.0                            0.0   \n",
       "\n",
       "   COTTON YIELD (Kg per ha)  FRUITS AREA (1000 ha)  VEGETABLES AREA (1000 ha)  \\\n",
       "0                       0.0                   5.95                       6.64   \n",
       "1                       0.0                   5.77                       7.24   \n",
       "2                       0.0                   5.41                       7.40   \n",
       "3                       0.0                   5.52                       7.16   \n",
       "4                       0.0                   5.45                       7.19   \n",
       "\n",
       "   FRUITS AND VEGETABLES AREA (1000 ha)  POTATOES AREA (1000 ha)  \\\n",
       "0                                 12.59                     0.01   \n",
       "1                                 13.02                     0.01   \n",
       "2                                 12.81                     0.10   \n",
       "3                                 12.69                     0.01   \n",
       "4                                 12.64                     0.02   \n",
       "\n",
       "   ONION AREA (1000 ha)  FODDER AREA (1000 ha)  \n",
       "0                  0.60                   0.47  \n",
       "1                  0.56                   1.23  \n",
       "2                  0.58                   1.02  \n",
       "3                  0.56                   0.84  \n",
       "4                  0.52                   0.42  \n",
       "\n",
       "[5 rows x 80 columns]"
      ]
     },
     "metadata": {},
     "output_type": "display_data"
    }
   ],
   "source": [
    "df = agri.copy()\n",
    "display(df.head())"
   ]
  },
  {
   "cell_type": "code",
   "execution_count": 3,
   "id": "9b06dc36",
   "metadata": {},
   "outputs": [
    {
     "data": {
      "text/plain": [
       "(16146, 80)"
      ]
     },
     "execution_count": 3,
     "metadata": {},
     "output_type": "execute_result"
    }
   ],
   "source": [
    "df.shape"
   ]
  },
  {
   "cell_type": "code",
   "execution_count": 4,
   "id": "6ff72968",
   "metadata": {},
   "outputs": [
    {
     "data": {
      "text/html": [
       "<div>\n",
       "<style scoped>\n",
       "    .dataframe tbody tr th:only-of-type {\n",
       "        vertical-align: middle;\n",
       "    }\n",
       "\n",
       "    .dataframe tbody tr th {\n",
       "        vertical-align: top;\n",
       "    }\n",
       "\n",
       "    .dataframe thead th {\n",
       "        text-align: right;\n",
       "    }\n",
       "</style>\n",
       "<table border=\"1\" class=\"dataframe\">\n",
       "  <thead>\n",
       "    <tr style=\"text-align: right;\">\n",
       "      <th></th>\n",
       "      <th>Dist Code</th>\n",
       "      <th>Year</th>\n",
       "      <th>State Code</th>\n",
       "      <th>RICE AREA (1000 ha)</th>\n",
       "      <th>RICE PRODUCTION (1000 tons)</th>\n",
       "      <th>RICE YIELD (Kg per ha)</th>\n",
       "      <th>WHEAT AREA (1000 ha)</th>\n",
       "      <th>WHEAT PRODUCTION (1000 tons)</th>\n",
       "      <th>WHEAT YIELD (Kg per ha)</th>\n",
       "      <th>KHARIF SORGHUM AREA (1000 ha)</th>\n",
       "      <th>...</th>\n",
       "      <th>SUGARCANE YIELD (Kg per ha)</th>\n",
       "      <th>COTTON AREA (1000 ha)</th>\n",
       "      <th>COTTON PRODUCTION (1000 tons)</th>\n",
       "      <th>COTTON YIELD (Kg per ha)</th>\n",
       "      <th>FRUITS AREA (1000 ha)</th>\n",
       "      <th>VEGETABLES AREA (1000 ha)</th>\n",
       "      <th>FRUITS AND VEGETABLES AREA (1000 ha)</th>\n",
       "      <th>POTATOES AREA (1000 ha)</th>\n",
       "      <th>ONION AREA (1000 ha)</th>\n",
       "      <th>FODDER AREA (1000 ha)</th>\n",
       "    </tr>\n",
       "  </thead>\n",
       "  <tbody>\n",
       "    <tr>\n",
       "      <th>count</th>\n",
       "      <td>16146.000000</td>\n",
       "      <td>16146.000000</td>\n",
       "      <td>16146.000000</td>\n",
       "      <td>16146.000000</td>\n",
       "      <td>16146.000000</td>\n",
       "      <td>16146.000000</td>\n",
       "      <td>16146.000000</td>\n",
       "      <td>16146.000000</td>\n",
       "      <td>16146.000000</td>\n",
       "      <td>16146.000000</td>\n",
       "      <td>...</td>\n",
       "      <td>16146.00000</td>\n",
       "      <td>16146.000000</td>\n",
       "      <td>16146.000000</td>\n",
       "      <td>16146.000000</td>\n",
       "      <td>16146.000000</td>\n",
       "      <td>16146.000000</td>\n",
       "      <td>16146.000000</td>\n",
       "      <td>16146.000000</td>\n",
       "      <td>16146.000000</td>\n",
       "      <td>16146.000000</td>\n",
       "    </tr>\n",
       "    <tr>\n",
       "      <th>mean</th>\n",
       "      <td>269.769231</td>\n",
       "      <td>1991.496841</td>\n",
       "      <td>9.568562</td>\n",
       "      <td>128.593192</td>\n",
       "      <td>224.889565</td>\n",
       "      <td>1486.924784</td>\n",
       "      <td>77.057946</td>\n",
       "      <td>182.012746</td>\n",
       "      <td>1492.419859</td>\n",
       "      <td>22.632268</td>\n",
       "      <td>...</td>\n",
       "      <td>4500.15306</td>\n",
       "      <td>28.018367</td>\n",
       "      <td>7.229225</td>\n",
       "      <td>124.644823</td>\n",
       "      <td>7.750478</td>\n",
       "      <td>11.086250</td>\n",
       "      <td>18.677877</td>\n",
       "      <td>3.177038</td>\n",
       "      <td>1.194604</td>\n",
       "      <td>21.550328</td>\n",
       "    </tr>\n",
       "    <tr>\n",
       "      <th>std</th>\n",
       "      <td>278.309125</td>\n",
       "      <td>15.011185</td>\n",
       "      <td>4.988538</td>\n",
       "      <td>160.078825</td>\n",
       "      <td>326.629828</td>\n",
       "      <td>956.185281</td>\n",
       "      <td>100.394479</td>\n",
       "      <td>348.834254</td>\n",
       "      <td>1081.255367</td>\n",
       "      <td>45.062714</td>\n",
       "      <td>...</td>\n",
       "      <td>3153.97042</td>\n",
       "      <td>74.239648</td>\n",
       "      <td>25.042132</td>\n",
       "      <td>207.681147</td>\n",
       "      <td>13.591135</td>\n",
       "      <td>18.003257</td>\n",
       "      <td>25.881842</td>\n",
       "      <td>8.029509</td>\n",
       "      <td>4.285067</td>\n",
       "      <td>60.062601</td>\n",
       "    </tr>\n",
       "    <tr>\n",
       "      <th>min</th>\n",
       "      <td>1.000000</td>\n",
       "      <td>1966.000000</td>\n",
       "      <td>1.000000</td>\n",
       "      <td>-1.000000</td>\n",
       "      <td>-1.000000</td>\n",
       "      <td>-1.000000</td>\n",
       "      <td>-1.000000</td>\n",
       "      <td>-1.000000</td>\n",
       "      <td>-1.000000</td>\n",
       "      <td>-1.000000</td>\n",
       "      <td>...</td>\n",
       "      <td>-1.00000</td>\n",
       "      <td>-1.000000</td>\n",
       "      <td>-1.000000</td>\n",
       "      <td>-1.000000</td>\n",
       "      <td>-1.000000</td>\n",
       "      <td>-1.000000</td>\n",
       "      <td>-1.000000</td>\n",
       "      <td>-1.000000</td>\n",
       "      <td>-1.000000</td>\n",
       "      <td>-1.000000</td>\n",
       "    </tr>\n",
       "    <tr>\n",
       "      <th>25%</th>\n",
       "      <td>78.000000</td>\n",
       "      <td>1978.000000</td>\n",
       "      <td>6.000000</td>\n",
       "      <td>10.400000</td>\n",
       "      <td>9.460000</td>\n",
       "      <td>800.000000</td>\n",
       "      <td>1.770000</td>\n",
       "      <td>2.000000</td>\n",
       "      <td>750.000000</td>\n",
       "      <td>0.000000</td>\n",
       "      <td>...</td>\n",
       "      <td>2000.00000</td>\n",
       "      <td>0.000000</td>\n",
       "      <td>0.000000</td>\n",
       "      <td>0.000000</td>\n",
       "      <td>0.310000</td>\n",
       "      <td>1.600000</td>\n",
       "      <td>2.520000</td>\n",
       "      <td>0.000000</td>\n",
       "      <td>0.060000</td>\n",
       "      <td>0.000000</td>\n",
       "    </tr>\n",
       "    <tr>\n",
       "      <th>50%</th>\n",
       "      <td>156.000000</td>\n",
       "      <td>1991.000000</td>\n",
       "      <td>10.000000</td>\n",
       "      <td>66.800000</td>\n",
       "      <td>95.840000</td>\n",
       "      <td>1333.210000</td>\n",
       "      <td>36.800000</td>\n",
       "      <td>42.700000</td>\n",
       "      <td>1347.450000</td>\n",
       "      <td>2.050000</td>\n",
       "      <td>...</td>\n",
       "      <td>4502.21000</td>\n",
       "      <td>0.050000</td>\n",
       "      <td>0.000000</td>\n",
       "      <td>0.000000</td>\n",
       "      <td>2.220000</td>\n",
       "      <td>4.740000</td>\n",
       "      <td>8.945000</td>\n",
       "      <td>0.390000</td>\n",
       "      <td>0.280000</td>\n",
       "      <td>1.200000</td>\n",
       "    </tr>\n",
       "    <tr>\n",
       "      <th>75%</th>\n",
       "      <td>241.000000</td>\n",
       "      <td>2005.000000</td>\n",
       "      <td>12.000000</td>\n",
       "      <td>191.390000</td>\n",
       "      <td>315.715000</td>\n",
       "      <td>2113.517500</td>\n",
       "      <td>123.000000</td>\n",
       "      <td>215.192500</td>\n",
       "      <td>2131.580000</td>\n",
       "      <td>20.900000</td>\n",
       "      <td>...</td>\n",
       "      <td>6704.60500</td>\n",
       "      <td>10.097500</td>\n",
       "      <td>2.000000</td>\n",
       "      <td>202.270000</td>\n",
       "      <td>8.790000</td>\n",
       "      <td>12.510000</td>\n",
       "      <td>23.570000</td>\n",
       "      <td>3.150000</td>\n",
       "      <td>0.880000</td>\n",
       "      <td>16.762500</td>\n",
       "    </tr>\n",
       "    <tr>\n",
       "      <th>max</th>\n",
       "      <td>917.000000</td>\n",
       "      <td>2017.000000</td>\n",
       "      <td>20.000000</td>\n",
       "      <td>1154.230000</td>\n",
       "      <td>3215.010000</td>\n",
       "      <td>5653.830000</td>\n",
       "      <td>879.490000</td>\n",
       "      <td>4305.500000</td>\n",
       "      <td>5541.520000</td>\n",
       "      <td>334.800000</td>\n",
       "      <td>...</td>\n",
       "      <td>22062.30000</td>\n",
       "      <td>800.890000</td>\n",
       "      <td>376.610000</td>\n",
       "      <td>5000.000000</td>\n",
       "      <td>159.540000</td>\n",
       "      <td>200.060000</td>\n",
       "      <td>240.990000</td>\n",
       "      <td>111.610000</td>\n",
       "      <td>131.350000</td>\n",
       "      <td>1162.660000</td>\n",
       "    </tr>\n",
       "  </tbody>\n",
       "</table>\n",
       "<p>8 rows × 78 columns</p>\n",
       "</div>"
      ],
      "text/plain": [
       "          Dist Code          Year    State Code  RICE AREA (1000 ha)  \\\n",
       "count  16146.000000  16146.000000  16146.000000         16146.000000   \n",
       "mean     269.769231   1991.496841      9.568562           128.593192   \n",
       "std      278.309125     15.011185      4.988538           160.078825   \n",
       "min        1.000000   1966.000000      1.000000            -1.000000   \n",
       "25%       78.000000   1978.000000      6.000000            10.400000   \n",
       "50%      156.000000   1991.000000     10.000000            66.800000   \n",
       "75%      241.000000   2005.000000     12.000000           191.390000   \n",
       "max      917.000000   2017.000000     20.000000          1154.230000   \n",
       "\n",
       "       RICE PRODUCTION (1000 tons)  RICE YIELD (Kg per ha)  \\\n",
       "count                 16146.000000            16146.000000   \n",
       "mean                    224.889565             1486.924784   \n",
       "std                     326.629828              956.185281   \n",
       "min                      -1.000000               -1.000000   \n",
       "25%                       9.460000              800.000000   \n",
       "50%                      95.840000             1333.210000   \n",
       "75%                     315.715000             2113.517500   \n",
       "max                    3215.010000             5653.830000   \n",
       "\n",
       "       WHEAT AREA (1000 ha)  WHEAT PRODUCTION (1000 tons)  \\\n",
       "count          16146.000000                  16146.000000   \n",
       "mean              77.057946                    182.012746   \n",
       "std              100.394479                    348.834254   \n",
       "min               -1.000000                     -1.000000   \n",
       "25%                1.770000                      2.000000   \n",
       "50%               36.800000                     42.700000   \n",
       "75%              123.000000                    215.192500   \n",
       "max              879.490000                   4305.500000   \n",
       "\n",
       "       WHEAT YIELD (Kg per ha)  KHARIF SORGHUM AREA (1000 ha)  ...  \\\n",
       "count             16146.000000                   16146.000000  ...   \n",
       "mean               1492.419859                      22.632268  ...   \n",
       "std                1081.255367                      45.062714  ...   \n",
       "min                  -1.000000                      -1.000000  ...   \n",
       "25%                 750.000000                       0.000000  ...   \n",
       "50%                1347.450000                       2.050000  ...   \n",
       "75%                2131.580000                      20.900000  ...   \n",
       "max                5541.520000                     334.800000  ...   \n",
       "\n",
       "       SUGARCANE YIELD (Kg per ha)  COTTON AREA (1000 ha)  \\\n",
       "count                  16146.00000           16146.000000   \n",
       "mean                    4500.15306              28.018367   \n",
       "std                     3153.97042              74.239648   \n",
       "min                       -1.00000              -1.000000   \n",
       "25%                     2000.00000               0.000000   \n",
       "50%                     4502.21000               0.050000   \n",
       "75%                     6704.60500              10.097500   \n",
       "max                    22062.30000             800.890000   \n",
       "\n",
       "       COTTON PRODUCTION (1000 tons)  COTTON YIELD (Kg per ha)  \\\n",
       "count                   16146.000000              16146.000000   \n",
       "mean                        7.229225                124.644823   \n",
       "std                        25.042132                207.681147   \n",
       "min                        -1.000000                 -1.000000   \n",
       "25%                         0.000000                  0.000000   \n",
       "50%                         0.000000                  0.000000   \n",
       "75%                         2.000000                202.270000   \n",
       "max                       376.610000               5000.000000   \n",
       "\n",
       "       FRUITS AREA (1000 ha)  VEGETABLES AREA (1000 ha)  \\\n",
       "count           16146.000000               16146.000000   \n",
       "mean                7.750478                  11.086250   \n",
       "std                13.591135                  18.003257   \n",
       "min                -1.000000                  -1.000000   \n",
       "25%                 0.310000                   1.600000   \n",
       "50%                 2.220000                   4.740000   \n",
       "75%                 8.790000                  12.510000   \n",
       "max               159.540000                 200.060000   \n",
       "\n",
       "       FRUITS AND VEGETABLES AREA (1000 ha)  POTATOES AREA (1000 ha)  \\\n",
       "count                          16146.000000             16146.000000   \n",
       "mean                              18.677877                 3.177038   \n",
       "std                               25.881842                 8.029509   \n",
       "min                               -1.000000                -1.000000   \n",
       "25%                                2.520000                 0.000000   \n",
       "50%                                8.945000                 0.390000   \n",
       "75%                               23.570000                 3.150000   \n",
       "max                              240.990000               111.610000   \n",
       "\n",
       "       ONION AREA (1000 ha)  FODDER AREA (1000 ha)  \n",
       "count          16146.000000           16146.000000  \n",
       "mean               1.194604              21.550328  \n",
       "std                4.285067              60.062601  \n",
       "min               -1.000000              -1.000000  \n",
       "25%                0.060000               0.000000  \n",
       "50%                0.280000               1.200000  \n",
       "75%                0.880000              16.762500  \n",
       "max              131.350000            1162.660000  \n",
       "\n",
       "[8 rows x 78 columns]"
      ]
     },
     "execution_count": 4,
     "metadata": {},
     "output_type": "execute_result"
    }
   ],
   "source": [
    "df.describe()"
   ]
  },
  {
   "cell_type": "code",
   "execution_count": 32,
   "id": "b2cbeea4",
   "metadata": {},
   "outputs": [
    {
     "name": "stdout",
     "output_type": "stream",
     "text": [
      "<class 'pandas.core.frame.DataFrame'>\n",
      "RangeIndex: 16146 entries, 0 to 16145\n",
      "Data columns (total 80 columns):\n",
      " #   Column                                       Non-Null Count  Dtype  \n",
      "---  ------                                       --------------  -----  \n",
      " 0   Dist Code                                    16146 non-null  int64  \n",
      " 1   Year                                         16146 non-null  int64  \n",
      " 2   State Code                                   16146 non-null  int64  \n",
      " 3   State Name                                   16146 non-null  object \n",
      " 4   Dist Name                                    16146 non-null  object \n",
      " 5   RICE AREA (1000 ha)                          16146 non-null  float64\n",
      " 6   RICE PRODUCTION (1000 tons)                  16146 non-null  float64\n",
      " 7   RICE YIELD (Kg per ha)                       16146 non-null  float64\n",
      " 8   WHEAT AREA (1000 ha)                         16146 non-null  float64\n",
      " 9   WHEAT PRODUCTION (1000 tons)                 16146 non-null  float64\n",
      " 10  WHEAT YIELD (Kg per ha)                      16146 non-null  float64\n",
      " 11  KHARIF SORGHUM AREA (1000 ha)                16146 non-null  float64\n",
      " 12  KHARIF SORGHUM PRODUCTION (1000 tons)        16146 non-null  float64\n",
      " 13  KHARIF SORGHUM YIELD (Kg per ha)             16146 non-null  float64\n",
      " 14  RABI SORGHUM AREA (1000 ha)                  16146 non-null  float64\n",
      " 15  RABI SORGHUM PRODUCTION (1000 tons)          16146 non-null  float64\n",
      " 16  RABI SORGHUM YIELD (Kg per ha)               16146 non-null  float64\n",
      " 17  SORGHUM AREA (1000 ha)                       16146 non-null  float64\n",
      " 18  SORGHUM PRODUCTION (1000 tons)               16146 non-null  float64\n",
      " 19  SORGHUM YIELD (Kg per ha)                    16146 non-null  float64\n",
      " 20  PEARL MILLET AREA (1000 ha)                  16146 non-null  float64\n",
      " 21  PEARL MILLET PRODUCTION (1000 tons)          16146 non-null  float64\n",
      " 22  PEARL MILLET YIELD (Kg per ha)               16146 non-null  float64\n",
      " 23  MAIZE AREA (1000 ha)                         16146 non-null  float64\n",
      " 24  MAIZE PRODUCTION (1000 tons)                 16146 non-null  float64\n",
      " 25  MAIZE YIELD (Kg per ha)                      16146 non-null  float64\n",
      " 26  FINGER MILLET AREA (1000 ha)                 16146 non-null  float64\n",
      " 27  FINGER MILLET PRODUCTION (1000 tons)         16146 non-null  float64\n",
      " 28  FINGER MILLET YIELD (Kg per ha)              16146 non-null  float64\n",
      " 29  BARLEY AREA (1000 ha)                        16146 non-null  float64\n",
      " 30  BARLEY PRODUCTION (1000 tons)                16146 non-null  float64\n",
      " 31  BARLEY YIELD (Kg per ha)                     16146 non-null  float64\n",
      " 32  CHICKPEA AREA (1000 ha)                      16146 non-null  float64\n",
      " 33  CHICKPEA PRODUCTION (1000 tons)              16146 non-null  float64\n",
      " 34  CHICKPEA YIELD (Kg per ha)                   16146 non-null  float64\n",
      " 35  PIGEONPEA AREA (1000 ha)                     16146 non-null  float64\n",
      " 36  PIGEONPEA PRODUCTION (1000 tons)             16146 non-null  float64\n",
      " 37  PIGEONPEA YIELD (Kg per ha)                  16146 non-null  float64\n",
      " 38  MINOR PULSES AREA (1000 ha)                  16146 non-null  float64\n",
      " 39  MINOR PULSES PRODUCTION (1000 tons)          16146 non-null  float64\n",
      " 40  MINOR PULSES YIELD (Kg per ha)               16146 non-null  float64\n",
      " 41  GROUNDNUT AREA (1000 ha)                     16146 non-null  float64\n",
      " 42  GROUNDNUT PRODUCTION (1000 tons)             16146 non-null  float64\n",
      " 43  GROUNDNUT YIELD (Kg per ha)                  16146 non-null  float64\n",
      " 44  SESAMUM AREA (1000 ha)                       16146 non-null  float64\n",
      " 45  SESAMUM PRODUCTION (1000 tons)               16146 non-null  float64\n",
      " 46  SESAMUM YIELD (Kg per ha)                    16146 non-null  float64\n",
      " 47  RAPESEED AND MUSTARD AREA (1000 ha)          16146 non-null  float64\n",
      " 48  RAPESEED AND MUSTARD PRODUCTION (1000 tons)  16146 non-null  float64\n",
      " 49  RAPESEED AND MUSTARD YIELD (Kg per ha)       16146 non-null  float64\n",
      " 50  SAFFLOWER AREA (1000 ha)                     16146 non-null  float64\n",
      " 51  SAFFLOWER PRODUCTION (1000 tons)             16146 non-null  float64\n",
      " 52  SAFFLOWER YIELD (Kg per ha)                  16146 non-null  float64\n",
      " 53  CASTOR AREA (1000 ha)                        16146 non-null  float64\n",
      " 54  CASTOR PRODUCTION (1000 tons)                16146 non-null  float64\n",
      " 55  CASTOR YIELD (Kg per ha)                     16146 non-null  float64\n",
      " 56  LINSEED AREA (1000 ha)                       16146 non-null  float64\n",
      " 57  LINSEED PRODUCTION (1000 tons)               16146 non-null  float64\n",
      " 58  LINSEED YIELD (Kg per ha)                    16146 non-null  float64\n",
      " 59  SUNFLOWER AREA (1000 ha)                     16146 non-null  float64\n",
      " 60  SUNFLOWER PRODUCTION (1000 tons)             16146 non-null  float64\n",
      " 61  SUNFLOWER YIELD (Kg per ha)                  16146 non-null  float64\n",
      " 62  SOYABEAN AREA (1000 ha)                      16146 non-null  float64\n",
      " 63  SOYABEAN PRODUCTION (1000 tons)              16146 non-null  float64\n",
      " 64  SOYABEAN YIELD (Kg per ha)                   16146 non-null  float64\n",
      " 65  OILSEEDS AREA (1000 ha)                      16146 non-null  float64\n",
      " 66  OILSEEDS PRODUCTION (1000 tons)              16146 non-null  float64\n",
      " 67  OILSEEDS YIELD (Kg per ha)                   16146 non-null  float64\n",
      " 68  SUGARCANE AREA (1000 ha)                     16146 non-null  float64\n",
      " 69  SUGARCANE PRODUCTION (1000 tons)             16146 non-null  float64\n",
      " 70  SUGARCANE YIELD (Kg per ha)                  16146 non-null  float64\n",
      " 71  COTTON AREA (1000 ha)                        16146 non-null  float64\n",
      " 72  COTTON PRODUCTION (1000 tons)                16146 non-null  float64\n",
      " 73  COTTON YIELD (Kg per ha)                     16146 non-null  float64\n",
      " 74  FRUITS AREA (1000 ha)                        16146 non-null  float64\n",
      " 75  VEGETABLES AREA (1000 ha)                    16146 non-null  float64\n",
      " 76  FRUITS AND VEGETABLES AREA (1000 ha)         16146 non-null  float64\n",
      " 77  POTATOES AREA (1000 ha)                      16146 non-null  float64\n",
      " 78  ONION AREA (1000 ha)                         16146 non-null  float64\n",
      " 79  FODDER AREA (1000 ha)                        16146 non-null  float64\n",
      "dtypes: float64(75), int64(3), object(2)\n",
      "memory usage: 9.9+ MB\n"
     ]
    }
   ],
   "source": [
    "df.info()"
   ]
  },
  {
   "cell_type": "code",
   "execution_count": 4,
   "id": "b68f97de",
   "metadata": {},
   "outputs": [
    {
     "data": {
      "text/plain": [
       "Dist Code                               0\n",
       "Year                                    0\n",
       "State Code                              0\n",
       "State Name                              0\n",
       "Dist Name                               0\n",
       "                                       ..\n",
       "VEGETABLES AREA (1000 ha)               0\n",
       "FRUITS AND VEGETABLES AREA (1000 ha)    0\n",
       "POTATOES AREA (1000 ha)                 0\n",
       "ONION AREA (1000 ha)                    0\n",
       "FODDER AREA (1000 ha)                   0\n",
       "Length: 80, dtype: int64"
      ]
     },
     "execution_count": 4,
     "metadata": {},
     "output_type": "execute_result"
    }
   ],
   "source": [
    "df.isnull().sum()"
   ]
  },
  {
   "cell_type": "code",
   "execution_count": 5,
   "id": "8493fa90",
   "metadata": {},
   "outputs": [],
   "source": [
    "df.columns = df.columns.str.title()"
   ]
  },
  {
   "cell_type": "code",
   "execution_count": 6,
   "id": "6d2519aa",
   "metadata": {},
   "outputs": [
    {
     "data": {
      "text/plain": [
       "Dist Code                                 int64\n",
       "Year                                      int64\n",
       "State Code                                int64\n",
       "State Name                               object\n",
       "Dist Name                                object\n",
       "                                         ...   \n",
       "Vegetables Area (1000 Ha)               float64\n",
       "Fruits And Vegetables Area (1000 Ha)    float64\n",
       "Potatoes Area (1000 Ha)                 float64\n",
       "Onion Area (1000 Ha)                    float64\n",
       "Fodder Area (1000 Ha)                   float64\n",
       "Length: 80, dtype: object"
      ]
     },
     "execution_count": 6,
     "metadata": {},
     "output_type": "execute_result"
    }
   ],
   "source": [
    "df.dtypes"
   ]
  },
  {
   "cell_type": "code",
   "execution_count": 7,
   "id": "475d166a",
   "metadata": {},
   "outputs": [],
   "source": [
    "def clean_column_names(col):\n",
    " \n",
    "   \n",
    "    col = col.replace('(', '').replace(')', '')\n",
    "    col = col.replace('1000 Ha', '')\n",
    "    col = col.replace('1000 Tons', '')\n",
    "    col = col.replace('Kg Per Ha', '')           \n",
    "    col = col.replace(' ', '_')\n",
    "    col = col.strip('_')                                      \n",
    "    return col\n",
    "\n",
    "df.columns = [clean_column_names(col) for col in df.columns]"
   ]
  },
  {
   "cell_type": "code",
   "execution_count": 8,
   "id": "e8542f18",
   "metadata": {},
   "outputs": [
    {
     "data": {
      "text/html": [
       "<div>\n",
       "<style scoped>\n",
       "    .dataframe tbody tr th:only-of-type {\n",
       "        vertical-align: middle;\n",
       "    }\n",
       "\n",
       "    .dataframe tbody tr th {\n",
       "        vertical-align: top;\n",
       "    }\n",
       "\n",
       "    .dataframe thead th {\n",
       "        text-align: right;\n",
       "    }\n",
       "</style>\n",
       "<table border=\"1\" class=\"dataframe\">\n",
       "  <thead>\n",
       "    <tr style=\"text-align: right;\">\n",
       "      <th></th>\n",
       "      <th>Dist_Code</th>\n",
       "      <th>Year</th>\n",
       "      <th>State_Code</th>\n",
       "      <th>State_Name</th>\n",
       "      <th>Dist_Name</th>\n",
       "      <th>Rice_Area</th>\n",
       "      <th>Rice_Production</th>\n",
       "      <th>Rice_Yield</th>\n",
       "      <th>Wheat_Area</th>\n",
       "      <th>Wheat_Production</th>\n",
       "      <th>...</th>\n",
       "      <th>Sugarcane_Yield</th>\n",
       "      <th>Cotton_Area</th>\n",
       "      <th>Cotton_Production</th>\n",
       "      <th>Cotton_Yield</th>\n",
       "      <th>Fruits_Area</th>\n",
       "      <th>Vegetables_Area</th>\n",
       "      <th>Fruits_And_Vegetables_Area</th>\n",
       "      <th>Potatoes_Area</th>\n",
       "      <th>Onion_Area</th>\n",
       "      <th>Fodder_Area</th>\n",
       "    </tr>\n",
       "  </thead>\n",
       "  <tbody>\n",
       "    <tr>\n",
       "      <th>0</th>\n",
       "      <td>1</td>\n",
       "      <td>1966</td>\n",
       "      <td>14</td>\n",
       "      <td>Chhattisgarh</td>\n",
       "      <td>Durg</td>\n",
       "      <td>548.0</td>\n",
       "      <td>185.0</td>\n",
       "      <td>337.59</td>\n",
       "      <td>44.0</td>\n",
       "      <td>20.0</td>\n",
       "      <td>...</td>\n",
       "      <td>1777.78</td>\n",
       "      <td>0.0</td>\n",
       "      <td>0.0</td>\n",
       "      <td>0.0</td>\n",
       "      <td>5.95</td>\n",
       "      <td>6.64</td>\n",
       "      <td>12.59</td>\n",
       "      <td>0.01</td>\n",
       "      <td>0.60</td>\n",
       "      <td>0.47</td>\n",
       "    </tr>\n",
       "    <tr>\n",
       "      <th>1</th>\n",
       "      <td>1</td>\n",
       "      <td>1967</td>\n",
       "      <td>14</td>\n",
       "      <td>Chhattisgarh</td>\n",
       "      <td>Durg</td>\n",
       "      <td>547.0</td>\n",
       "      <td>409.0</td>\n",
       "      <td>747.71</td>\n",
       "      <td>50.0</td>\n",
       "      <td>26.0</td>\n",
       "      <td>...</td>\n",
       "      <td>1500.00</td>\n",
       "      <td>0.0</td>\n",
       "      <td>0.0</td>\n",
       "      <td>0.0</td>\n",
       "      <td>5.77</td>\n",
       "      <td>7.24</td>\n",
       "      <td>13.02</td>\n",
       "      <td>0.01</td>\n",
       "      <td>0.56</td>\n",
       "      <td>1.23</td>\n",
       "    </tr>\n",
       "    <tr>\n",
       "      <th>2</th>\n",
       "      <td>1</td>\n",
       "      <td>1968</td>\n",
       "      <td>14</td>\n",
       "      <td>Chhattisgarh</td>\n",
       "      <td>Durg</td>\n",
       "      <td>556.3</td>\n",
       "      <td>468.0</td>\n",
       "      <td>841.27</td>\n",
       "      <td>53.7</td>\n",
       "      <td>30.0</td>\n",
       "      <td>...</td>\n",
       "      <td>1000.00</td>\n",
       "      <td>0.0</td>\n",
       "      <td>0.0</td>\n",
       "      <td>0.0</td>\n",
       "      <td>5.41</td>\n",
       "      <td>7.40</td>\n",
       "      <td>12.81</td>\n",
       "      <td>0.10</td>\n",
       "      <td>0.58</td>\n",
       "      <td>1.02</td>\n",
       "    </tr>\n",
       "    <tr>\n",
       "      <th>3</th>\n",
       "      <td>1</td>\n",
       "      <td>1969</td>\n",
       "      <td>14</td>\n",
       "      <td>Chhattisgarh</td>\n",
       "      <td>Durg</td>\n",
       "      <td>563.4</td>\n",
       "      <td>400.8</td>\n",
       "      <td>711.40</td>\n",
       "      <td>49.4</td>\n",
       "      <td>26.5</td>\n",
       "      <td>...</td>\n",
       "      <td>1900.00</td>\n",
       "      <td>0.0</td>\n",
       "      <td>0.0</td>\n",
       "      <td>0.0</td>\n",
       "      <td>5.52</td>\n",
       "      <td>7.16</td>\n",
       "      <td>12.69</td>\n",
       "      <td>0.01</td>\n",
       "      <td>0.56</td>\n",
       "      <td>0.84</td>\n",
       "    </tr>\n",
       "    <tr>\n",
       "      <th>4</th>\n",
       "      <td>1</td>\n",
       "      <td>1970</td>\n",
       "      <td>14</td>\n",
       "      <td>Chhattisgarh</td>\n",
       "      <td>Durg</td>\n",
       "      <td>571.6</td>\n",
       "      <td>473.6</td>\n",
       "      <td>828.55</td>\n",
       "      <td>44.2</td>\n",
       "      <td>29.0</td>\n",
       "      <td>...</td>\n",
       "      <td>2000.00</td>\n",
       "      <td>0.0</td>\n",
       "      <td>0.0</td>\n",
       "      <td>0.0</td>\n",
       "      <td>5.45</td>\n",
       "      <td>7.19</td>\n",
       "      <td>12.64</td>\n",
       "      <td>0.02</td>\n",
       "      <td>0.52</td>\n",
       "      <td>0.42</td>\n",
       "    </tr>\n",
       "  </tbody>\n",
       "</table>\n",
       "<p>5 rows × 80 columns</p>\n",
       "</div>"
      ],
      "text/plain": [
       "   Dist_Code  Year  State_Code    State_Name Dist_Name  Rice_Area  \\\n",
       "0          1  1966          14  Chhattisgarh      Durg      548.0   \n",
       "1          1  1967          14  Chhattisgarh      Durg      547.0   \n",
       "2          1  1968          14  Chhattisgarh      Durg      556.3   \n",
       "3          1  1969          14  Chhattisgarh      Durg      563.4   \n",
       "4          1  1970          14  Chhattisgarh      Durg      571.6   \n",
       "\n",
       "   Rice_Production  Rice_Yield  Wheat_Area  Wheat_Production  ...  \\\n",
       "0            185.0      337.59        44.0              20.0  ...   \n",
       "1            409.0      747.71        50.0              26.0  ...   \n",
       "2            468.0      841.27        53.7              30.0  ...   \n",
       "3            400.8      711.40        49.4              26.5  ...   \n",
       "4            473.6      828.55        44.2              29.0  ...   \n",
       "\n",
       "   Sugarcane_Yield  Cotton_Area  Cotton_Production  Cotton_Yield  Fruits_Area  \\\n",
       "0          1777.78          0.0                0.0           0.0         5.95   \n",
       "1          1500.00          0.0                0.0           0.0         5.77   \n",
       "2          1000.00          0.0                0.0           0.0         5.41   \n",
       "3          1900.00          0.0                0.0           0.0         5.52   \n",
       "4          2000.00          0.0                0.0           0.0         5.45   \n",
       "\n",
       "   Vegetables_Area  Fruits_And_Vegetables_Area  Potatoes_Area  Onion_Area  \\\n",
       "0             6.64                       12.59           0.01        0.60   \n",
       "1             7.24                       13.02           0.01        0.56   \n",
       "2             7.40                       12.81           0.10        0.58   \n",
       "3             7.16                       12.69           0.01        0.56   \n",
       "4             7.19                       12.64           0.02        0.52   \n",
       "\n",
       "   Fodder_Area  \n",
       "0         0.47  \n",
       "1         1.23  \n",
       "2         1.02  \n",
       "3         0.84  \n",
       "4         0.42  \n",
       "\n",
       "[5 rows x 80 columns]"
      ]
     },
     "execution_count": 8,
     "metadata": {},
     "output_type": "execute_result"
    }
   ],
   "source": [
    "df.head()"
   ]
  },
  {
   "cell_type": "code",
   "execution_count": 10,
   "id": "8000c551",
   "metadata": {},
   "outputs": [],
   "source": [
    "df.to_csv(r\"C:\\Users\\Vignesh\\OneDrive\\Desktop\\Datascience\\PROJECT1\\Agri\\modified_csv.csv\", index=False)"
   ]
  },
  {
   "cell_type": "code",
   "execution_count": 11,
   "id": "6b3e161d",
   "metadata": {},
   "outputs": [
    {
     "data": {
      "text/plain": [
       "['Dist_Code',\n",
       " 'Year',\n",
       " 'State_Code',\n",
       " 'State_Name',\n",
       " 'Dist_Name',\n",
       " 'Rice_Area',\n",
       " 'Rice_Production',\n",
       " 'Rice_Yield',\n",
       " 'Wheat_Area',\n",
       " 'Wheat_Production',\n",
       " 'Wheat_Yield',\n",
       " 'Kharif_Sorghum_Area',\n",
       " 'Kharif_Sorghum_Production',\n",
       " 'Kharif_Sorghum_Yield',\n",
       " 'Rabi_Sorghum_Area',\n",
       " 'Rabi_Sorghum_Production',\n",
       " 'Rabi_Sorghum_Yield',\n",
       " 'Sorghum_Area',\n",
       " 'Sorghum_Production',\n",
       " 'Sorghum_Yield',\n",
       " 'Pearl_Millet_Area',\n",
       " 'Pearl_Millet_Production',\n",
       " 'Pearl_Millet_Yield',\n",
       " 'Maize_Area',\n",
       " 'Maize_Production',\n",
       " 'Maize_Yield',\n",
       " 'Finger_Millet_Area',\n",
       " 'Finger_Millet_Production',\n",
       " 'Finger_Millet_Yield',\n",
       " 'Barley_Area',\n",
       " 'Barley_Production',\n",
       " 'Barley_Yield',\n",
       " 'Chickpea_Area',\n",
       " 'Chickpea_Production',\n",
       " 'Chickpea_Yield',\n",
       " 'Pigeonpea_Area',\n",
       " 'Pigeonpea_Production',\n",
       " 'Pigeonpea_Yield',\n",
       " 'Minor_Pulses_Area',\n",
       " 'Minor_Pulses_Production',\n",
       " 'Minor_Pulses_Yield',\n",
       " 'Groundnut_Area',\n",
       " 'Groundnut_Production',\n",
       " 'Groundnut_Yield',\n",
       " 'Sesamum_Area',\n",
       " 'Sesamum_Production',\n",
       " 'Sesamum_Yield',\n",
       " 'Rapeseed_And_Mustard_Area',\n",
       " 'Rapeseed_And_Mustard_Production',\n",
       " 'Rapeseed_And_Mustard_Yield',\n",
       " 'Safflower_Area',\n",
       " 'Safflower_Production',\n",
       " 'Safflower_Yield',\n",
       " 'Castor_Area',\n",
       " 'Castor_Production',\n",
       " 'Castor_Yield',\n",
       " 'Linseed_Area',\n",
       " 'Linseed_Production',\n",
       " 'Linseed_Yield',\n",
       " 'Sunflower_Area',\n",
       " 'Sunflower_Production',\n",
       " 'Sunflower_Yield',\n",
       " 'Soyabean_Area',\n",
       " 'Soyabean_Production',\n",
       " 'Soyabean_Yield',\n",
       " 'Oilseeds_Area',\n",
       " 'Oilseeds_Production',\n",
       " 'Oilseeds_Yield',\n",
       " 'Sugarcane_Area',\n",
       " 'Sugarcane_Production',\n",
       " 'Sugarcane_Yield',\n",
       " 'Cotton_Area',\n",
       " 'Cotton_Production',\n",
       " 'Cotton_Yield',\n",
       " 'Fruits_Area',\n",
       " 'Vegetables_Area',\n",
       " 'Fruits_And_Vegetables_Area',\n",
       " 'Potatoes_Area',\n",
       " 'Onion_Area',\n",
       " 'Fodder_Area']"
      ]
     },
     "execution_count": 11,
     "metadata": {},
     "output_type": "execute_result"
    }
   ],
   "source": [
    "df.columns.to_list()"
   ]
  },
  {
   "cell_type": "markdown",
   "id": "f40b8ca1",
   "metadata": {},
   "source": [
    "**Exploratory Data Analysis (EDA):**"
   ]
  },
  {
   "cell_type": "code",
   "execution_count": 13,
   "id": "d00a0639",
   "metadata": {},
   "outputs": [
    {
     "data": {
      "application/vnd.plotly.v1+json": {
       "config": {
        "plotlyServerURL": "https://plot.ly"
       },
       "data": [
        {
         "hovertemplate": "State_Name=%{x}<br>Rice_Production=%{marker.color}<extra></extra>",
         "legendgroup": "",
         "marker": {
          "color": {
           "bdata": "UrgehdCbIEGuR+F6djIbQWZmZmYAcxRBmpmZmcU8E0GkcD0KBsYRQYXrUbiTPhFBAAAAAHhKDEE=",
           "dtype": "f8"
          },
          "coloraxis": "coloraxis",
          "pattern": {
           "shape": ""
          }
         },
         "name": "",
         "orientation": "v",
         "showlegend": false,
         "textposition": "auto",
         "type": "bar",
         "x": [
          "West Bengal",
          "Uttar Pradesh",
          "Punjab",
          "Andhra Pradesh",
          "Tamil Nadu",
          "Orissa",
          "Bihar"
         ],
         "xaxis": "x",
         "y": {
          "bdata": "UrgehdCbIEGuR+F6djIbQWZmZmYAcxRBmpmZmcU8E0GkcD0KBsYRQYXrUbiTPhFBAAAAAHhKDEE=",
          "dtype": "f8"
         },
         "yaxis": "y"
        }
       ],
       "layout": {
        "barmode": "relative",
        "coloraxis": {
         "colorbar": {
          "title": {
           "text": "Rice_Production"
          }
         },
         "colorscale": [
          [
           0,
           "#0d0887"
          ],
          [
           0.1111111111111111,
           "#46039f"
          ],
          [
           0.2222222222222222,
           "#7201a8"
          ],
          [
           0.3333333333333333,
           "#9c179e"
          ],
          [
           0.4444444444444444,
           "#bd3786"
          ],
          [
           0.5555555555555556,
           "#d8576b"
          ],
          [
           0.6666666666666666,
           "#ed7953"
          ],
          [
           0.7777777777777778,
           "#fb9f3a"
          ],
          [
           0.8888888888888888,
           "#fdca26"
          ],
          [
           1,
           "#f0f921"
          ]
         ]
        },
        "legend": {
         "tracegroupgap": 0
        },
        "template": {
         "data": {
          "bar": [
           {
            "error_x": {
             "color": "#2a3f5f"
            },
            "error_y": {
             "color": "#2a3f5f"
            },
            "marker": {
             "line": {
              "color": "#E5ECF6",
              "width": 0.5
             },
             "pattern": {
              "fillmode": "overlay",
              "size": 10,
              "solidity": 0.2
             }
            },
            "type": "bar"
           }
          ],
          "barpolar": [
           {
            "marker": {
             "line": {
              "color": "#E5ECF6",
              "width": 0.5
             },
             "pattern": {
              "fillmode": "overlay",
              "size": 10,
              "solidity": 0.2
             }
            },
            "type": "barpolar"
           }
          ],
          "carpet": [
           {
            "aaxis": {
             "endlinecolor": "#2a3f5f",
             "gridcolor": "white",
             "linecolor": "white",
             "minorgridcolor": "white",
             "startlinecolor": "#2a3f5f"
            },
            "baxis": {
             "endlinecolor": "#2a3f5f",
             "gridcolor": "white",
             "linecolor": "white",
             "minorgridcolor": "white",
             "startlinecolor": "#2a3f5f"
            },
            "type": "carpet"
           }
          ],
          "choropleth": [
           {
            "colorbar": {
             "outlinewidth": 0,
             "ticks": ""
            },
            "type": "choropleth"
           }
          ],
          "contour": [
           {
            "colorbar": {
             "outlinewidth": 0,
             "ticks": ""
            },
            "colorscale": [
             [
              0,
              "#0d0887"
             ],
             [
              0.1111111111111111,
              "#46039f"
             ],
             [
              0.2222222222222222,
              "#7201a8"
             ],
             [
              0.3333333333333333,
              "#9c179e"
             ],
             [
              0.4444444444444444,
              "#bd3786"
             ],
             [
              0.5555555555555556,
              "#d8576b"
             ],
             [
              0.6666666666666666,
              "#ed7953"
             ],
             [
              0.7777777777777778,
              "#fb9f3a"
             ],
             [
              0.8888888888888888,
              "#fdca26"
             ],
             [
              1,
              "#f0f921"
             ]
            ],
            "type": "contour"
           }
          ],
          "contourcarpet": [
           {
            "colorbar": {
             "outlinewidth": 0,
             "ticks": ""
            },
            "type": "contourcarpet"
           }
          ],
          "heatmap": [
           {
            "colorbar": {
             "outlinewidth": 0,
             "ticks": ""
            },
            "colorscale": [
             [
              0,
              "#0d0887"
             ],
             [
              0.1111111111111111,
              "#46039f"
             ],
             [
              0.2222222222222222,
              "#7201a8"
             ],
             [
              0.3333333333333333,
              "#9c179e"
             ],
             [
              0.4444444444444444,
              "#bd3786"
             ],
             [
              0.5555555555555556,
              "#d8576b"
             ],
             [
              0.6666666666666666,
              "#ed7953"
             ],
             [
              0.7777777777777778,
              "#fb9f3a"
             ],
             [
              0.8888888888888888,
              "#fdca26"
             ],
             [
              1,
              "#f0f921"
             ]
            ],
            "type": "heatmap"
           }
          ],
          "histogram": [
           {
            "marker": {
             "pattern": {
              "fillmode": "overlay",
              "size": 10,
              "solidity": 0.2
             }
            },
            "type": "histogram"
           }
          ],
          "histogram2d": [
           {
            "colorbar": {
             "outlinewidth": 0,
             "ticks": ""
            },
            "colorscale": [
             [
              0,
              "#0d0887"
             ],
             [
              0.1111111111111111,
              "#46039f"
             ],
             [
              0.2222222222222222,
              "#7201a8"
             ],
             [
              0.3333333333333333,
              "#9c179e"
             ],
             [
              0.4444444444444444,
              "#bd3786"
             ],
             [
              0.5555555555555556,
              "#d8576b"
             ],
             [
              0.6666666666666666,
              "#ed7953"
             ],
             [
              0.7777777777777778,
              "#fb9f3a"
             ],
             [
              0.8888888888888888,
              "#fdca26"
             ],
             [
              1,
              "#f0f921"
             ]
            ],
            "type": "histogram2d"
           }
          ],
          "histogram2dcontour": [
           {
            "colorbar": {
             "outlinewidth": 0,
             "ticks": ""
            },
            "colorscale": [
             [
              0,
              "#0d0887"
             ],
             [
              0.1111111111111111,
              "#46039f"
             ],
             [
              0.2222222222222222,
              "#7201a8"
             ],
             [
              0.3333333333333333,
              "#9c179e"
             ],
             [
              0.4444444444444444,
              "#bd3786"
             ],
             [
              0.5555555555555556,
              "#d8576b"
             ],
             [
              0.6666666666666666,
              "#ed7953"
             ],
             [
              0.7777777777777778,
              "#fb9f3a"
             ],
             [
              0.8888888888888888,
              "#fdca26"
             ],
             [
              1,
              "#f0f921"
             ]
            ],
            "type": "histogram2dcontour"
           }
          ],
          "mesh3d": [
           {
            "colorbar": {
             "outlinewidth": 0,
             "ticks": ""
            },
            "type": "mesh3d"
           }
          ],
          "parcoords": [
           {
            "line": {
             "colorbar": {
              "outlinewidth": 0,
              "ticks": ""
             }
            },
            "type": "parcoords"
           }
          ],
          "pie": [
           {
            "automargin": true,
            "type": "pie"
           }
          ],
          "scatter": [
           {
            "fillpattern": {
             "fillmode": "overlay",
             "size": 10,
             "solidity": 0.2
            },
            "type": "scatter"
           }
          ],
          "scatter3d": [
           {
            "line": {
             "colorbar": {
              "outlinewidth": 0,
              "ticks": ""
             }
            },
            "marker": {
             "colorbar": {
              "outlinewidth": 0,
              "ticks": ""
             }
            },
            "type": "scatter3d"
           }
          ],
          "scattercarpet": [
           {
            "marker": {
             "colorbar": {
              "outlinewidth": 0,
              "ticks": ""
             }
            },
            "type": "scattercarpet"
           }
          ],
          "scattergeo": [
           {
            "marker": {
             "colorbar": {
              "outlinewidth": 0,
              "ticks": ""
             }
            },
            "type": "scattergeo"
           }
          ],
          "scattergl": [
           {
            "marker": {
             "colorbar": {
              "outlinewidth": 0,
              "ticks": ""
             }
            },
            "type": "scattergl"
           }
          ],
          "scattermap": [
           {
            "marker": {
             "colorbar": {
              "outlinewidth": 0,
              "ticks": ""
             }
            },
            "type": "scattermap"
           }
          ],
          "scattermapbox": [
           {
            "marker": {
             "colorbar": {
              "outlinewidth": 0,
              "ticks": ""
             }
            },
            "type": "scattermapbox"
           }
          ],
          "scatterpolar": [
           {
            "marker": {
             "colorbar": {
              "outlinewidth": 0,
              "ticks": ""
             }
            },
            "type": "scatterpolar"
           }
          ],
          "scatterpolargl": [
           {
            "marker": {
             "colorbar": {
              "outlinewidth": 0,
              "ticks": ""
             }
            },
            "type": "scatterpolargl"
           }
          ],
          "scatterternary": [
           {
            "marker": {
             "colorbar": {
              "outlinewidth": 0,
              "ticks": ""
             }
            },
            "type": "scatterternary"
           }
          ],
          "surface": [
           {
            "colorbar": {
             "outlinewidth": 0,
             "ticks": ""
            },
            "colorscale": [
             [
              0,
              "#0d0887"
             ],
             [
              0.1111111111111111,
              "#46039f"
             ],
             [
              0.2222222222222222,
              "#7201a8"
             ],
             [
              0.3333333333333333,
              "#9c179e"
             ],
             [
              0.4444444444444444,
              "#bd3786"
             ],
             [
              0.5555555555555556,
              "#d8576b"
             ],
             [
              0.6666666666666666,
              "#ed7953"
             ],
             [
              0.7777777777777778,
              "#fb9f3a"
             ],
             [
              0.8888888888888888,
              "#fdca26"
             ],
             [
              1,
              "#f0f921"
             ]
            ],
            "type": "surface"
           }
          ],
          "table": [
           {
            "cells": {
             "fill": {
              "color": "#EBF0F8"
             },
             "line": {
              "color": "white"
             }
            },
            "header": {
             "fill": {
              "color": "#C8D4E3"
             },
             "line": {
              "color": "white"
             }
            },
            "type": "table"
           }
          ]
         },
         "layout": {
          "annotationdefaults": {
           "arrowcolor": "#2a3f5f",
           "arrowhead": 0,
           "arrowwidth": 1
          },
          "autotypenumbers": "strict",
          "coloraxis": {
           "colorbar": {
            "outlinewidth": 0,
            "ticks": ""
           }
          },
          "colorscale": {
           "diverging": [
            [
             0,
             "#8e0152"
            ],
            [
             0.1,
             "#c51b7d"
            ],
            [
             0.2,
             "#de77ae"
            ],
            [
             0.3,
             "#f1b6da"
            ],
            [
             0.4,
             "#fde0ef"
            ],
            [
             0.5,
             "#f7f7f7"
            ],
            [
             0.6,
             "#e6f5d0"
            ],
            [
             0.7,
             "#b8e186"
            ],
            [
             0.8,
             "#7fbc41"
            ],
            [
             0.9,
             "#4d9221"
            ],
            [
             1,
             "#276419"
            ]
           ],
           "sequential": [
            [
             0,
             "#0d0887"
            ],
            [
             0.1111111111111111,
             "#46039f"
            ],
            [
             0.2222222222222222,
             "#7201a8"
            ],
            [
             0.3333333333333333,
             "#9c179e"
            ],
            [
             0.4444444444444444,
             "#bd3786"
            ],
            [
             0.5555555555555556,
             "#d8576b"
            ],
            [
             0.6666666666666666,
             "#ed7953"
            ],
            [
             0.7777777777777778,
             "#fb9f3a"
            ],
            [
             0.8888888888888888,
             "#fdca26"
            ],
            [
             1,
             "#f0f921"
            ]
           ],
           "sequentialminus": [
            [
             0,
             "#0d0887"
            ],
            [
             0.1111111111111111,
             "#46039f"
            ],
            [
             0.2222222222222222,
             "#7201a8"
            ],
            [
             0.3333333333333333,
             "#9c179e"
            ],
            [
             0.4444444444444444,
             "#bd3786"
            ],
            [
             0.5555555555555556,
             "#d8576b"
            ],
            [
             0.6666666666666666,
             "#ed7953"
            ],
            [
             0.7777777777777778,
             "#fb9f3a"
            ],
            [
             0.8888888888888888,
             "#fdca26"
            ],
            [
             1,
             "#f0f921"
            ]
           ]
          },
          "colorway": [
           "#636efa",
           "#EF553B",
           "#00cc96",
           "#ab63fa",
           "#FFA15A",
           "#19d3f3",
           "#FF6692",
           "#B6E880",
           "#FF97FF",
           "#FECB52"
          ],
          "font": {
           "color": "#2a3f5f"
          },
          "geo": {
           "bgcolor": "white",
           "lakecolor": "white",
           "landcolor": "#E5ECF6",
           "showlakes": true,
           "showland": true,
           "subunitcolor": "white"
          },
          "hoverlabel": {
           "align": "left"
          },
          "hovermode": "closest",
          "mapbox": {
           "style": "light"
          },
          "paper_bgcolor": "white",
          "plot_bgcolor": "#E5ECF6",
          "polar": {
           "angularaxis": {
            "gridcolor": "white",
            "linecolor": "white",
            "ticks": ""
           },
           "bgcolor": "#E5ECF6",
           "radialaxis": {
            "gridcolor": "white",
            "linecolor": "white",
            "ticks": ""
           }
          },
          "scene": {
           "xaxis": {
            "backgroundcolor": "#E5ECF6",
            "gridcolor": "white",
            "gridwidth": 2,
            "linecolor": "white",
            "showbackground": true,
            "ticks": "",
            "zerolinecolor": "white"
           },
           "yaxis": {
            "backgroundcolor": "#E5ECF6",
            "gridcolor": "white",
            "gridwidth": 2,
            "linecolor": "white",
            "showbackground": true,
            "ticks": "",
            "zerolinecolor": "white"
           },
           "zaxis": {
            "backgroundcolor": "#E5ECF6",
            "gridcolor": "white",
            "gridwidth": 2,
            "linecolor": "white",
            "showbackground": true,
            "ticks": "",
            "zerolinecolor": "white"
           }
          },
          "shapedefaults": {
           "line": {
            "color": "#2a3f5f"
           }
          },
          "ternary": {
           "aaxis": {
            "gridcolor": "white",
            "linecolor": "white",
            "ticks": ""
           },
           "baxis": {
            "gridcolor": "white",
            "linecolor": "white",
            "ticks": ""
           },
           "bgcolor": "#E5ECF6",
           "caxis": {
            "gridcolor": "white",
            "linecolor": "white",
            "ticks": ""
           }
          },
          "title": {
           "x": 0.05
          },
          "xaxis": {
           "automargin": true,
           "gridcolor": "white",
           "linecolor": "white",
           "ticks": "",
           "title": {
            "standoff": 15
           },
           "zerolinecolor": "white",
           "zerolinewidth": 2
          },
          "yaxis": {
           "automargin": true,
           "gridcolor": "white",
           "linecolor": "white",
           "ticks": "",
           "title": {
            "standoff": 15
           },
           "zerolinecolor": "white",
           "zerolinewidth": 2
          }
         }
        },
        "title": {
         "text": "Top 7 Rice Producing States"
        },
        "xaxis": {
         "anchor": "y",
         "domain": [
          0,
          1
         ],
         "title": {
          "text": "State_Name"
         }
        },
        "yaxis": {
         "anchor": "x",
         "domain": [
          0,
          1
         ],
         "title": {
          "text": "Rice_Production"
         }
        }
       }
      }
     },
     "metadata": {},
     "output_type": "display_data"
    }
   ],
   "source": [
    "#1.Top 7 RICE PRODUCTION State Data(Bar_plot)\n",
    "\n",
    "rice_production = df.groupby('State_Name')['Rice_Production'].sum().sort_values(ascending=False).head(7).reset_index()\n",
    "fig = px.bar(rice_production, x='State_Name', y='Rice_Production', color='Rice_Production',title='Top 7 Rice Producing States')\n",
    "fig.show()\n"
   ]
  },
  {
   "cell_type": "code",
   "execution_count": 14,
   "id": "7181bd6b",
   "metadata": {},
   "outputs": [
    {
     "data": {
      "application/vnd.plotly.v1+json": {
       "config": {
        "plotlyServerURL": "https://plot.ly"
       },
       "data": [
        {
         "hovertemplate": "State_Name=%{x}<br>Wheat_Production=%{marker.color}<extra></extra>",
         "legendgroup": "",
         "marker": {
          "color": {
           "bdata": "PQrXI8SbLUHNzMzMcR8iQWZmZmY2RBVBAAAAAFGrFEFcj8L1KzwQQQ==",
           "dtype": "f8"
          },
          "coloraxis": "coloraxis",
          "pattern": {
           "shape": ""
          }
         },
         "name": "",
         "orientation": "v",
         "showlegend": false,
         "textposition": "auto",
         "type": "bar",
         "x": [
          "Uttar Pradesh",
          "Punjab",
          "Haryana",
          "Madhya Pradesh",
          "Rajasthan"
         ],
         "xaxis": "x",
         "y": {
          "bdata": "PQrXI8SbLUHNzMzMcR8iQWZmZmY2RBVBAAAAAFGrFEFcj8L1KzwQQQ==",
          "dtype": "f8"
         },
         "yaxis": "y"
        }
       ],
       "layout": {
        "barmode": "relative",
        "coloraxis": {
         "colorbar": {
          "title": {
           "text": "Wheat_Production"
          }
         },
         "colorscale": [
          [
           0,
           "#0d0887"
          ],
          [
           0.1111111111111111,
           "#46039f"
          ],
          [
           0.2222222222222222,
           "#7201a8"
          ],
          [
           0.3333333333333333,
           "#9c179e"
          ],
          [
           0.4444444444444444,
           "#bd3786"
          ],
          [
           0.5555555555555556,
           "#d8576b"
          ],
          [
           0.6666666666666666,
           "#ed7953"
          ],
          [
           0.7777777777777778,
           "#fb9f3a"
          ],
          [
           0.8888888888888888,
           "#fdca26"
          ],
          [
           1,
           "#f0f921"
          ]
         ]
        },
        "legend": {
         "tracegroupgap": 0
        },
        "template": {
         "data": {
          "bar": [
           {
            "error_x": {
             "color": "#2a3f5f"
            },
            "error_y": {
             "color": "#2a3f5f"
            },
            "marker": {
             "line": {
              "color": "#E5ECF6",
              "width": 0.5
             },
             "pattern": {
              "fillmode": "overlay",
              "size": 10,
              "solidity": 0.2
             }
            },
            "type": "bar"
           }
          ],
          "barpolar": [
           {
            "marker": {
             "line": {
              "color": "#E5ECF6",
              "width": 0.5
             },
             "pattern": {
              "fillmode": "overlay",
              "size": 10,
              "solidity": 0.2
             }
            },
            "type": "barpolar"
           }
          ],
          "carpet": [
           {
            "aaxis": {
             "endlinecolor": "#2a3f5f",
             "gridcolor": "white",
             "linecolor": "white",
             "minorgridcolor": "white",
             "startlinecolor": "#2a3f5f"
            },
            "baxis": {
             "endlinecolor": "#2a3f5f",
             "gridcolor": "white",
             "linecolor": "white",
             "minorgridcolor": "white",
             "startlinecolor": "#2a3f5f"
            },
            "type": "carpet"
           }
          ],
          "choropleth": [
           {
            "colorbar": {
             "outlinewidth": 0,
             "ticks": ""
            },
            "type": "choropleth"
           }
          ],
          "contour": [
           {
            "colorbar": {
             "outlinewidth": 0,
             "ticks": ""
            },
            "colorscale": [
             [
              0,
              "#0d0887"
             ],
             [
              0.1111111111111111,
              "#46039f"
             ],
             [
              0.2222222222222222,
              "#7201a8"
             ],
             [
              0.3333333333333333,
              "#9c179e"
             ],
             [
              0.4444444444444444,
              "#bd3786"
             ],
             [
              0.5555555555555556,
              "#d8576b"
             ],
             [
              0.6666666666666666,
              "#ed7953"
             ],
             [
              0.7777777777777778,
              "#fb9f3a"
             ],
             [
              0.8888888888888888,
              "#fdca26"
             ],
             [
              1,
              "#f0f921"
             ]
            ],
            "type": "contour"
           }
          ],
          "contourcarpet": [
           {
            "colorbar": {
             "outlinewidth": 0,
             "ticks": ""
            },
            "type": "contourcarpet"
           }
          ],
          "heatmap": [
           {
            "colorbar": {
             "outlinewidth": 0,
             "ticks": ""
            },
            "colorscale": [
             [
              0,
              "#0d0887"
             ],
             [
              0.1111111111111111,
              "#46039f"
             ],
             [
              0.2222222222222222,
              "#7201a8"
             ],
             [
              0.3333333333333333,
              "#9c179e"
             ],
             [
              0.4444444444444444,
              "#bd3786"
             ],
             [
              0.5555555555555556,
              "#d8576b"
             ],
             [
              0.6666666666666666,
              "#ed7953"
             ],
             [
              0.7777777777777778,
              "#fb9f3a"
             ],
             [
              0.8888888888888888,
              "#fdca26"
             ],
             [
              1,
              "#f0f921"
             ]
            ],
            "type": "heatmap"
           }
          ],
          "histogram": [
           {
            "marker": {
             "pattern": {
              "fillmode": "overlay",
              "size": 10,
              "solidity": 0.2
             }
            },
            "type": "histogram"
           }
          ],
          "histogram2d": [
           {
            "colorbar": {
             "outlinewidth": 0,
             "ticks": ""
            },
            "colorscale": [
             [
              0,
              "#0d0887"
             ],
             [
              0.1111111111111111,
              "#46039f"
             ],
             [
              0.2222222222222222,
              "#7201a8"
             ],
             [
              0.3333333333333333,
              "#9c179e"
             ],
             [
              0.4444444444444444,
              "#bd3786"
             ],
             [
              0.5555555555555556,
              "#d8576b"
             ],
             [
              0.6666666666666666,
              "#ed7953"
             ],
             [
              0.7777777777777778,
              "#fb9f3a"
             ],
             [
              0.8888888888888888,
              "#fdca26"
             ],
             [
              1,
              "#f0f921"
             ]
            ],
            "type": "histogram2d"
           }
          ],
          "histogram2dcontour": [
           {
            "colorbar": {
             "outlinewidth": 0,
             "ticks": ""
            },
            "colorscale": [
             [
              0,
              "#0d0887"
             ],
             [
              0.1111111111111111,
              "#46039f"
             ],
             [
              0.2222222222222222,
              "#7201a8"
             ],
             [
              0.3333333333333333,
              "#9c179e"
             ],
             [
              0.4444444444444444,
              "#bd3786"
             ],
             [
              0.5555555555555556,
              "#d8576b"
             ],
             [
              0.6666666666666666,
              "#ed7953"
             ],
             [
              0.7777777777777778,
              "#fb9f3a"
             ],
             [
              0.8888888888888888,
              "#fdca26"
             ],
             [
              1,
              "#f0f921"
             ]
            ],
            "type": "histogram2dcontour"
           }
          ],
          "mesh3d": [
           {
            "colorbar": {
             "outlinewidth": 0,
             "ticks": ""
            },
            "type": "mesh3d"
           }
          ],
          "parcoords": [
           {
            "line": {
             "colorbar": {
              "outlinewidth": 0,
              "ticks": ""
             }
            },
            "type": "parcoords"
           }
          ],
          "pie": [
           {
            "automargin": true,
            "type": "pie"
           }
          ],
          "scatter": [
           {
            "fillpattern": {
             "fillmode": "overlay",
             "size": 10,
             "solidity": 0.2
            },
            "type": "scatter"
           }
          ],
          "scatter3d": [
           {
            "line": {
             "colorbar": {
              "outlinewidth": 0,
              "ticks": ""
             }
            },
            "marker": {
             "colorbar": {
              "outlinewidth": 0,
              "ticks": ""
             }
            },
            "type": "scatter3d"
           }
          ],
          "scattercarpet": [
           {
            "marker": {
             "colorbar": {
              "outlinewidth": 0,
              "ticks": ""
             }
            },
            "type": "scattercarpet"
           }
          ],
          "scattergeo": [
           {
            "marker": {
             "colorbar": {
              "outlinewidth": 0,
              "ticks": ""
             }
            },
            "type": "scattergeo"
           }
          ],
          "scattergl": [
           {
            "marker": {
             "colorbar": {
              "outlinewidth": 0,
              "ticks": ""
             }
            },
            "type": "scattergl"
           }
          ],
          "scattermap": [
           {
            "marker": {
             "colorbar": {
              "outlinewidth": 0,
              "ticks": ""
             }
            },
            "type": "scattermap"
           }
          ],
          "scattermapbox": [
           {
            "marker": {
             "colorbar": {
              "outlinewidth": 0,
              "ticks": ""
             }
            },
            "type": "scattermapbox"
           }
          ],
          "scatterpolar": [
           {
            "marker": {
             "colorbar": {
              "outlinewidth": 0,
              "ticks": ""
             }
            },
            "type": "scatterpolar"
           }
          ],
          "scatterpolargl": [
           {
            "marker": {
             "colorbar": {
              "outlinewidth": 0,
              "ticks": ""
             }
            },
            "type": "scatterpolargl"
           }
          ],
          "scatterternary": [
           {
            "marker": {
             "colorbar": {
              "outlinewidth": 0,
              "ticks": ""
             }
            },
            "type": "scatterternary"
           }
          ],
          "surface": [
           {
            "colorbar": {
             "outlinewidth": 0,
             "ticks": ""
            },
            "colorscale": [
             [
              0,
              "#0d0887"
             ],
             [
              0.1111111111111111,
              "#46039f"
             ],
             [
              0.2222222222222222,
              "#7201a8"
             ],
             [
              0.3333333333333333,
              "#9c179e"
             ],
             [
              0.4444444444444444,
              "#bd3786"
             ],
             [
              0.5555555555555556,
              "#d8576b"
             ],
             [
              0.6666666666666666,
              "#ed7953"
             ],
             [
              0.7777777777777778,
              "#fb9f3a"
             ],
             [
              0.8888888888888888,
              "#fdca26"
             ],
             [
              1,
              "#f0f921"
             ]
            ],
            "type": "surface"
           }
          ],
          "table": [
           {
            "cells": {
             "fill": {
              "color": "#EBF0F8"
             },
             "line": {
              "color": "white"
             }
            },
            "header": {
             "fill": {
              "color": "#C8D4E3"
             },
             "line": {
              "color": "white"
             }
            },
            "type": "table"
           }
          ]
         },
         "layout": {
          "annotationdefaults": {
           "arrowcolor": "#2a3f5f",
           "arrowhead": 0,
           "arrowwidth": 1
          },
          "autotypenumbers": "strict",
          "coloraxis": {
           "colorbar": {
            "outlinewidth": 0,
            "ticks": ""
           }
          },
          "colorscale": {
           "diverging": [
            [
             0,
             "#8e0152"
            ],
            [
             0.1,
             "#c51b7d"
            ],
            [
             0.2,
             "#de77ae"
            ],
            [
             0.3,
             "#f1b6da"
            ],
            [
             0.4,
             "#fde0ef"
            ],
            [
             0.5,
             "#f7f7f7"
            ],
            [
             0.6,
             "#e6f5d0"
            ],
            [
             0.7,
             "#b8e186"
            ],
            [
             0.8,
             "#7fbc41"
            ],
            [
             0.9,
             "#4d9221"
            ],
            [
             1,
             "#276419"
            ]
           ],
           "sequential": [
            [
             0,
             "#0d0887"
            ],
            [
             0.1111111111111111,
             "#46039f"
            ],
            [
             0.2222222222222222,
             "#7201a8"
            ],
            [
             0.3333333333333333,
             "#9c179e"
            ],
            [
             0.4444444444444444,
             "#bd3786"
            ],
            [
             0.5555555555555556,
             "#d8576b"
            ],
            [
             0.6666666666666666,
             "#ed7953"
            ],
            [
             0.7777777777777778,
             "#fb9f3a"
            ],
            [
             0.8888888888888888,
             "#fdca26"
            ],
            [
             1,
             "#f0f921"
            ]
           ],
           "sequentialminus": [
            [
             0,
             "#0d0887"
            ],
            [
             0.1111111111111111,
             "#46039f"
            ],
            [
             0.2222222222222222,
             "#7201a8"
            ],
            [
             0.3333333333333333,
             "#9c179e"
            ],
            [
             0.4444444444444444,
             "#bd3786"
            ],
            [
             0.5555555555555556,
             "#d8576b"
            ],
            [
             0.6666666666666666,
             "#ed7953"
            ],
            [
             0.7777777777777778,
             "#fb9f3a"
            ],
            [
             0.8888888888888888,
             "#fdca26"
            ],
            [
             1,
             "#f0f921"
            ]
           ]
          },
          "colorway": [
           "#636efa",
           "#EF553B",
           "#00cc96",
           "#ab63fa",
           "#FFA15A",
           "#19d3f3",
           "#FF6692",
           "#B6E880",
           "#FF97FF",
           "#FECB52"
          ],
          "font": {
           "color": "#2a3f5f"
          },
          "geo": {
           "bgcolor": "white",
           "lakecolor": "white",
           "landcolor": "#E5ECF6",
           "showlakes": true,
           "showland": true,
           "subunitcolor": "white"
          },
          "hoverlabel": {
           "align": "left"
          },
          "hovermode": "closest",
          "mapbox": {
           "style": "light"
          },
          "paper_bgcolor": "white",
          "plot_bgcolor": "#E5ECF6",
          "polar": {
           "angularaxis": {
            "gridcolor": "white",
            "linecolor": "white",
            "ticks": ""
           },
           "bgcolor": "#E5ECF6",
           "radialaxis": {
            "gridcolor": "white",
            "linecolor": "white",
            "ticks": ""
           }
          },
          "scene": {
           "xaxis": {
            "backgroundcolor": "#E5ECF6",
            "gridcolor": "white",
            "gridwidth": 2,
            "linecolor": "white",
            "showbackground": true,
            "ticks": "",
            "zerolinecolor": "white"
           },
           "yaxis": {
            "backgroundcolor": "#E5ECF6",
            "gridcolor": "white",
            "gridwidth": 2,
            "linecolor": "white",
            "showbackground": true,
            "ticks": "",
            "zerolinecolor": "white"
           },
           "zaxis": {
            "backgroundcolor": "#E5ECF6",
            "gridcolor": "white",
            "gridwidth": 2,
            "linecolor": "white",
            "showbackground": true,
            "ticks": "",
            "zerolinecolor": "white"
           }
          },
          "shapedefaults": {
           "line": {
            "color": "#2a3f5f"
           }
          },
          "ternary": {
           "aaxis": {
            "gridcolor": "white",
            "linecolor": "white",
            "ticks": ""
           },
           "baxis": {
            "gridcolor": "white",
            "linecolor": "white",
            "ticks": ""
           },
           "bgcolor": "#E5ECF6",
           "caxis": {
            "gridcolor": "white",
            "linecolor": "white",
            "ticks": ""
           }
          },
          "title": {
           "x": 0.05
          },
          "xaxis": {
           "automargin": true,
           "gridcolor": "white",
           "linecolor": "white",
           "ticks": "",
           "title": {
            "standoff": 15
           },
           "zerolinecolor": "white",
           "zerolinewidth": 2
          },
          "yaxis": {
           "automargin": true,
           "gridcolor": "white",
           "linecolor": "white",
           "ticks": "",
           "title": {
            "standoff": 15
           },
           "zerolinecolor": "white",
           "zerolinewidth": 2
          }
         }
        },
        "title": {
         "text": "Top 5 Wheat Producing States"
        },
        "xaxis": {
         "anchor": "y",
         "domain": [
          0,
          1
         ],
         "title": {
          "text": "State_Name"
         }
        },
        "yaxis": {
         "anchor": "x",
         "domain": [
          0,
          1
         ],
         "title": {
          "text": "Wheat_Production"
         }
        }
       }
      }
     },
     "metadata": {},
     "output_type": "display_data"
    },
    {
     "data": {
      "application/vnd.plotly.v1+json": {
       "config": {
        "plotlyServerURL": "https://plot.ly"
       },
       "data": [
        {
         "domain": {
          "x": [
           0,
           1
          ],
          "y": [
           0,
           1
          ]
         },
         "hovertemplate": "State_Name=%{label}<br>Percentage=%{value}<extra></extra>",
         "labels": [
          "Uttar Pradesh",
          "Punjab",
          "Haryana",
          "Madhya Pradesh",
          "Rajasthan"
         ],
         "legendgroup": "",
         "name": "",
         "showlegend": true,
         "type": "pie",
         "values": {
          "bdata": "ZdfJoaxFQ0CtKGlropc3QJ3cmEhIrytA+GRP9j3oKkCIDx5jgiIlQA==",
          "dtype": "f8"
         }
        }
       ],
       "layout": {
        "legend": {
         "tracegroupgap": 0
        },
        "template": {
         "data": {
          "bar": [
           {
            "error_x": {
             "color": "#2a3f5f"
            },
            "error_y": {
             "color": "#2a3f5f"
            },
            "marker": {
             "line": {
              "color": "#E5ECF6",
              "width": 0.5
             },
             "pattern": {
              "fillmode": "overlay",
              "size": 10,
              "solidity": 0.2
             }
            },
            "type": "bar"
           }
          ],
          "barpolar": [
           {
            "marker": {
             "line": {
              "color": "#E5ECF6",
              "width": 0.5
             },
             "pattern": {
              "fillmode": "overlay",
              "size": 10,
              "solidity": 0.2
             }
            },
            "type": "barpolar"
           }
          ],
          "carpet": [
           {
            "aaxis": {
             "endlinecolor": "#2a3f5f",
             "gridcolor": "white",
             "linecolor": "white",
             "minorgridcolor": "white",
             "startlinecolor": "#2a3f5f"
            },
            "baxis": {
             "endlinecolor": "#2a3f5f",
             "gridcolor": "white",
             "linecolor": "white",
             "minorgridcolor": "white",
             "startlinecolor": "#2a3f5f"
            },
            "type": "carpet"
           }
          ],
          "choropleth": [
           {
            "colorbar": {
             "outlinewidth": 0,
             "ticks": ""
            },
            "type": "choropleth"
           }
          ],
          "contour": [
           {
            "colorbar": {
             "outlinewidth": 0,
             "ticks": ""
            },
            "colorscale": [
             [
              0,
              "#0d0887"
             ],
             [
              0.1111111111111111,
              "#46039f"
             ],
             [
              0.2222222222222222,
              "#7201a8"
             ],
             [
              0.3333333333333333,
              "#9c179e"
             ],
             [
              0.4444444444444444,
              "#bd3786"
             ],
             [
              0.5555555555555556,
              "#d8576b"
             ],
             [
              0.6666666666666666,
              "#ed7953"
             ],
             [
              0.7777777777777778,
              "#fb9f3a"
             ],
             [
              0.8888888888888888,
              "#fdca26"
             ],
             [
              1,
              "#f0f921"
             ]
            ],
            "type": "contour"
           }
          ],
          "contourcarpet": [
           {
            "colorbar": {
             "outlinewidth": 0,
             "ticks": ""
            },
            "type": "contourcarpet"
           }
          ],
          "heatmap": [
           {
            "colorbar": {
             "outlinewidth": 0,
             "ticks": ""
            },
            "colorscale": [
             [
              0,
              "#0d0887"
             ],
             [
              0.1111111111111111,
              "#46039f"
             ],
             [
              0.2222222222222222,
              "#7201a8"
             ],
             [
              0.3333333333333333,
              "#9c179e"
             ],
             [
              0.4444444444444444,
              "#bd3786"
             ],
             [
              0.5555555555555556,
              "#d8576b"
             ],
             [
              0.6666666666666666,
              "#ed7953"
             ],
             [
              0.7777777777777778,
              "#fb9f3a"
             ],
             [
              0.8888888888888888,
              "#fdca26"
             ],
             [
              1,
              "#f0f921"
             ]
            ],
            "type": "heatmap"
           }
          ],
          "histogram": [
           {
            "marker": {
             "pattern": {
              "fillmode": "overlay",
              "size": 10,
              "solidity": 0.2
             }
            },
            "type": "histogram"
           }
          ],
          "histogram2d": [
           {
            "colorbar": {
             "outlinewidth": 0,
             "ticks": ""
            },
            "colorscale": [
             [
              0,
              "#0d0887"
             ],
             [
              0.1111111111111111,
              "#46039f"
             ],
             [
              0.2222222222222222,
              "#7201a8"
             ],
             [
              0.3333333333333333,
              "#9c179e"
             ],
             [
              0.4444444444444444,
              "#bd3786"
             ],
             [
              0.5555555555555556,
              "#d8576b"
             ],
             [
              0.6666666666666666,
              "#ed7953"
             ],
             [
              0.7777777777777778,
              "#fb9f3a"
             ],
             [
              0.8888888888888888,
              "#fdca26"
             ],
             [
              1,
              "#f0f921"
             ]
            ],
            "type": "histogram2d"
           }
          ],
          "histogram2dcontour": [
           {
            "colorbar": {
             "outlinewidth": 0,
             "ticks": ""
            },
            "colorscale": [
             [
              0,
              "#0d0887"
             ],
             [
              0.1111111111111111,
              "#46039f"
             ],
             [
              0.2222222222222222,
              "#7201a8"
             ],
             [
              0.3333333333333333,
              "#9c179e"
             ],
             [
              0.4444444444444444,
              "#bd3786"
             ],
             [
              0.5555555555555556,
              "#d8576b"
             ],
             [
              0.6666666666666666,
              "#ed7953"
             ],
             [
              0.7777777777777778,
              "#fb9f3a"
             ],
             [
              0.8888888888888888,
              "#fdca26"
             ],
             [
              1,
              "#f0f921"
             ]
            ],
            "type": "histogram2dcontour"
           }
          ],
          "mesh3d": [
           {
            "colorbar": {
             "outlinewidth": 0,
             "ticks": ""
            },
            "type": "mesh3d"
           }
          ],
          "parcoords": [
           {
            "line": {
             "colorbar": {
              "outlinewidth": 0,
              "ticks": ""
             }
            },
            "type": "parcoords"
           }
          ],
          "pie": [
           {
            "automargin": true,
            "type": "pie"
           }
          ],
          "scatter": [
           {
            "fillpattern": {
             "fillmode": "overlay",
             "size": 10,
             "solidity": 0.2
            },
            "type": "scatter"
           }
          ],
          "scatter3d": [
           {
            "line": {
             "colorbar": {
              "outlinewidth": 0,
              "ticks": ""
             }
            },
            "marker": {
             "colorbar": {
              "outlinewidth": 0,
              "ticks": ""
             }
            },
            "type": "scatter3d"
           }
          ],
          "scattercarpet": [
           {
            "marker": {
             "colorbar": {
              "outlinewidth": 0,
              "ticks": ""
             }
            },
            "type": "scattercarpet"
           }
          ],
          "scattergeo": [
           {
            "marker": {
             "colorbar": {
              "outlinewidth": 0,
              "ticks": ""
             }
            },
            "type": "scattergeo"
           }
          ],
          "scattergl": [
           {
            "marker": {
             "colorbar": {
              "outlinewidth": 0,
              "ticks": ""
             }
            },
            "type": "scattergl"
           }
          ],
          "scattermap": [
           {
            "marker": {
             "colorbar": {
              "outlinewidth": 0,
              "ticks": ""
             }
            },
            "type": "scattermap"
           }
          ],
          "scattermapbox": [
           {
            "marker": {
             "colorbar": {
              "outlinewidth": 0,
              "ticks": ""
             }
            },
            "type": "scattermapbox"
           }
          ],
          "scatterpolar": [
           {
            "marker": {
             "colorbar": {
              "outlinewidth": 0,
              "ticks": ""
             }
            },
            "type": "scatterpolar"
           }
          ],
          "scatterpolargl": [
           {
            "marker": {
             "colorbar": {
              "outlinewidth": 0,
              "ticks": ""
             }
            },
            "type": "scatterpolargl"
           }
          ],
          "scatterternary": [
           {
            "marker": {
             "colorbar": {
              "outlinewidth": 0,
              "ticks": ""
             }
            },
            "type": "scatterternary"
           }
          ],
          "surface": [
           {
            "colorbar": {
             "outlinewidth": 0,
             "ticks": ""
            },
            "colorscale": [
             [
              0,
              "#0d0887"
             ],
             [
              0.1111111111111111,
              "#46039f"
             ],
             [
              0.2222222222222222,
              "#7201a8"
             ],
             [
              0.3333333333333333,
              "#9c179e"
             ],
             [
              0.4444444444444444,
              "#bd3786"
             ],
             [
              0.5555555555555556,
              "#d8576b"
             ],
             [
              0.6666666666666666,
              "#ed7953"
             ],
             [
              0.7777777777777778,
              "#fb9f3a"
             ],
             [
              0.8888888888888888,
              "#fdca26"
             ],
             [
              1,
              "#f0f921"
             ]
            ],
            "type": "surface"
           }
          ],
          "table": [
           {
            "cells": {
             "fill": {
              "color": "#EBF0F8"
             },
             "line": {
              "color": "white"
             }
            },
            "header": {
             "fill": {
              "color": "#C8D4E3"
             },
             "line": {
              "color": "white"
             }
            },
            "type": "table"
           }
          ]
         },
         "layout": {
          "annotationdefaults": {
           "arrowcolor": "#2a3f5f",
           "arrowhead": 0,
           "arrowwidth": 1
          },
          "autotypenumbers": "strict",
          "coloraxis": {
           "colorbar": {
            "outlinewidth": 0,
            "ticks": ""
           }
          },
          "colorscale": {
           "diverging": [
            [
             0,
             "#8e0152"
            ],
            [
             0.1,
             "#c51b7d"
            ],
            [
             0.2,
             "#de77ae"
            ],
            [
             0.3,
             "#f1b6da"
            ],
            [
             0.4,
             "#fde0ef"
            ],
            [
             0.5,
             "#f7f7f7"
            ],
            [
             0.6,
             "#e6f5d0"
            ],
            [
             0.7,
             "#b8e186"
            ],
            [
             0.8,
             "#7fbc41"
            ],
            [
             0.9,
             "#4d9221"
            ],
            [
             1,
             "#276419"
            ]
           ],
           "sequential": [
            [
             0,
             "#0d0887"
            ],
            [
             0.1111111111111111,
             "#46039f"
            ],
            [
             0.2222222222222222,
             "#7201a8"
            ],
            [
             0.3333333333333333,
             "#9c179e"
            ],
            [
             0.4444444444444444,
             "#bd3786"
            ],
            [
             0.5555555555555556,
             "#d8576b"
            ],
            [
             0.6666666666666666,
             "#ed7953"
            ],
            [
             0.7777777777777778,
             "#fb9f3a"
            ],
            [
             0.8888888888888888,
             "#fdca26"
            ],
            [
             1,
             "#f0f921"
            ]
           ],
           "sequentialminus": [
            [
             0,
             "#0d0887"
            ],
            [
             0.1111111111111111,
             "#46039f"
            ],
            [
             0.2222222222222222,
             "#7201a8"
            ],
            [
             0.3333333333333333,
             "#9c179e"
            ],
            [
             0.4444444444444444,
             "#bd3786"
            ],
            [
             0.5555555555555556,
             "#d8576b"
            ],
            [
             0.6666666666666666,
             "#ed7953"
            ],
            [
             0.7777777777777778,
             "#fb9f3a"
            ],
            [
             0.8888888888888888,
             "#fdca26"
            ],
            [
             1,
             "#f0f921"
            ]
           ]
          },
          "colorway": [
           "#636efa",
           "#EF553B",
           "#00cc96",
           "#ab63fa",
           "#FFA15A",
           "#19d3f3",
           "#FF6692",
           "#B6E880",
           "#FF97FF",
           "#FECB52"
          ],
          "font": {
           "color": "#2a3f5f"
          },
          "geo": {
           "bgcolor": "white",
           "lakecolor": "white",
           "landcolor": "#E5ECF6",
           "showlakes": true,
           "showland": true,
           "subunitcolor": "white"
          },
          "hoverlabel": {
           "align": "left"
          },
          "hovermode": "closest",
          "mapbox": {
           "style": "light"
          },
          "paper_bgcolor": "white",
          "plot_bgcolor": "#E5ECF6",
          "polar": {
           "angularaxis": {
            "gridcolor": "white",
            "linecolor": "white",
            "ticks": ""
           },
           "bgcolor": "#E5ECF6",
           "radialaxis": {
            "gridcolor": "white",
            "linecolor": "white",
            "ticks": ""
           }
          },
          "scene": {
           "xaxis": {
            "backgroundcolor": "#E5ECF6",
            "gridcolor": "white",
            "gridwidth": 2,
            "linecolor": "white",
            "showbackground": true,
            "ticks": "",
            "zerolinecolor": "white"
           },
           "yaxis": {
            "backgroundcolor": "#E5ECF6",
            "gridcolor": "white",
            "gridwidth": 2,
            "linecolor": "white",
            "showbackground": true,
            "ticks": "",
            "zerolinecolor": "white"
           },
           "zaxis": {
            "backgroundcolor": "#E5ECF6",
            "gridcolor": "white",
            "gridwidth": 2,
            "linecolor": "white",
            "showbackground": true,
            "ticks": "",
            "zerolinecolor": "white"
           }
          },
          "shapedefaults": {
           "line": {
            "color": "#2a3f5f"
           }
          },
          "ternary": {
           "aaxis": {
            "gridcolor": "white",
            "linecolor": "white",
            "ticks": ""
           },
           "baxis": {
            "gridcolor": "white",
            "linecolor": "white",
            "ticks": ""
           },
           "bgcolor": "#E5ECF6",
           "caxis": {
            "gridcolor": "white",
            "linecolor": "white",
            "ticks": ""
           }
          },
          "title": {
           "x": 0.05
          },
          "xaxis": {
           "automargin": true,
           "gridcolor": "white",
           "linecolor": "white",
           "ticks": "",
           "title": {
            "standoff": 15
           },
           "zerolinecolor": "white",
           "zerolinewidth": 2
          },
          "yaxis": {
           "automargin": true,
           "gridcolor": "white",
           "linecolor": "white",
           "ticks": "",
           "title": {
            "standoff": 15
           },
           "zerolinecolor": "white",
           "zerolinewidth": 2
          }
         }
        },
        "title": {
         "text": "Percentage of Wheat Production by State"
        }
       }
      }
     },
     "metadata": {},
     "output_type": "display_data"
    }
   ],
   "source": [
    "#2.Top 5 Wheat Producing States Data(Bar_chart)and its percentage(%)(Pie_chart)\n",
    "wheat_production = df.groupby('State_Name')['Wheat_Production'].sum().sort_values(ascending=False).head(5).reset_index()\n",
    "fig_wheat = px.bar(wheat_production, x='State_Name', y='Wheat_Production', color='Wheat_Production', title='Top 5 Wheat Producing States')\n",
    "fig_wheat.show()\n",
    "wheat_production['Percentage'] = (wheat_production['Wheat_Production'] / wheat_production['Wheat_Production'].sum()) * 100\n",
    "fig_pie = px.pie(wheat_production, names='State_Name', values='Percentage', title='Percentage of Wheat Production by State')\n",
    "fig_pie.show()"
   ]
  },
  {
   "cell_type": "code",
   "execution_count": 16,
   "id": "8d4f5bca",
   "metadata": {},
   "outputs": [
    {
     "data": {
      "application/vnd.plotly.v1+json": {
       "config": {
        "plotlyServerURL": "https://plot.ly"
       },
       "data": [
        {
         "hovertemplate": "State_Name=%{x}<br>Oilseeds_Production=%{marker.color}<extra></extra>",
         "legendgroup": "",
         "marker": {
          "color": {
           "bdata": "H4XrUda/AkGPwvUoANH+QClcj8Jt9v1A9ihcj/5U90AK16NwgcXyQA==",
           "dtype": "f8"
          },
          "coloraxis": "coloraxis",
          "pattern": {
           "shape": ""
          }
         },
         "name": "",
         "orientation": "v",
         "showlegend": false,
         "textposition": "auto",
         "type": "bar",
         "x": [
          "Madhya Pradesh",
          "Gujarat",
          "Rajasthan",
          "Maharashtra",
          "Andhra Pradesh"
         ],
         "xaxis": "x",
         "y": {
          "bdata": "H4XrUda/AkGPwvUoANH+QClcj8Jt9v1A9ihcj/5U90AK16NwgcXyQA==",
          "dtype": "f8"
         },
         "yaxis": "y"
        }
       ],
       "layout": {
        "barmode": "relative",
        "coloraxis": {
         "colorbar": {
          "title": {
           "text": "Oilseeds_Production"
          }
         },
         "colorscale": [
          [
           0,
           "#0d0887"
          ],
          [
           0.1111111111111111,
           "#46039f"
          ],
          [
           0.2222222222222222,
           "#7201a8"
          ],
          [
           0.3333333333333333,
           "#9c179e"
          ],
          [
           0.4444444444444444,
           "#bd3786"
          ],
          [
           0.5555555555555556,
           "#d8576b"
          ],
          [
           0.6666666666666666,
           "#ed7953"
          ],
          [
           0.7777777777777778,
           "#fb9f3a"
          ],
          [
           0.8888888888888888,
           "#fdca26"
          ],
          [
           1,
           "#f0f921"
          ]
         ]
        },
        "legend": {
         "tracegroupgap": 0
        },
        "template": {
         "data": {
          "bar": [
           {
            "error_x": {
             "color": "#2a3f5f"
            },
            "error_y": {
             "color": "#2a3f5f"
            },
            "marker": {
             "line": {
              "color": "#E5ECF6",
              "width": 0.5
             },
             "pattern": {
              "fillmode": "overlay",
              "size": 10,
              "solidity": 0.2
             }
            },
            "type": "bar"
           }
          ],
          "barpolar": [
           {
            "marker": {
             "line": {
              "color": "#E5ECF6",
              "width": 0.5
             },
             "pattern": {
              "fillmode": "overlay",
              "size": 10,
              "solidity": 0.2
             }
            },
            "type": "barpolar"
           }
          ],
          "carpet": [
           {
            "aaxis": {
             "endlinecolor": "#2a3f5f",
             "gridcolor": "white",
             "linecolor": "white",
             "minorgridcolor": "white",
             "startlinecolor": "#2a3f5f"
            },
            "baxis": {
             "endlinecolor": "#2a3f5f",
             "gridcolor": "white",
             "linecolor": "white",
             "minorgridcolor": "white",
             "startlinecolor": "#2a3f5f"
            },
            "type": "carpet"
           }
          ],
          "choropleth": [
           {
            "colorbar": {
             "outlinewidth": 0,
             "ticks": ""
            },
            "type": "choropleth"
           }
          ],
          "contour": [
           {
            "colorbar": {
             "outlinewidth": 0,
             "ticks": ""
            },
            "colorscale": [
             [
              0,
              "#0d0887"
             ],
             [
              0.1111111111111111,
              "#46039f"
             ],
             [
              0.2222222222222222,
              "#7201a8"
             ],
             [
              0.3333333333333333,
              "#9c179e"
             ],
             [
              0.4444444444444444,
              "#bd3786"
             ],
             [
              0.5555555555555556,
              "#d8576b"
             ],
             [
              0.6666666666666666,
              "#ed7953"
             ],
             [
              0.7777777777777778,
              "#fb9f3a"
             ],
             [
              0.8888888888888888,
              "#fdca26"
             ],
             [
              1,
              "#f0f921"
             ]
            ],
            "type": "contour"
           }
          ],
          "contourcarpet": [
           {
            "colorbar": {
             "outlinewidth": 0,
             "ticks": ""
            },
            "type": "contourcarpet"
           }
          ],
          "heatmap": [
           {
            "colorbar": {
             "outlinewidth": 0,
             "ticks": ""
            },
            "colorscale": [
             [
              0,
              "#0d0887"
             ],
             [
              0.1111111111111111,
              "#46039f"
             ],
             [
              0.2222222222222222,
              "#7201a8"
             ],
             [
              0.3333333333333333,
              "#9c179e"
             ],
             [
              0.4444444444444444,
              "#bd3786"
             ],
             [
              0.5555555555555556,
              "#d8576b"
             ],
             [
              0.6666666666666666,
              "#ed7953"
             ],
             [
              0.7777777777777778,
              "#fb9f3a"
             ],
             [
              0.8888888888888888,
              "#fdca26"
             ],
             [
              1,
              "#f0f921"
             ]
            ],
            "type": "heatmap"
           }
          ],
          "histogram": [
           {
            "marker": {
             "pattern": {
              "fillmode": "overlay",
              "size": 10,
              "solidity": 0.2
             }
            },
            "type": "histogram"
           }
          ],
          "histogram2d": [
           {
            "colorbar": {
             "outlinewidth": 0,
             "ticks": ""
            },
            "colorscale": [
             [
              0,
              "#0d0887"
             ],
             [
              0.1111111111111111,
              "#46039f"
             ],
             [
              0.2222222222222222,
              "#7201a8"
             ],
             [
              0.3333333333333333,
              "#9c179e"
             ],
             [
              0.4444444444444444,
              "#bd3786"
             ],
             [
              0.5555555555555556,
              "#d8576b"
             ],
             [
              0.6666666666666666,
              "#ed7953"
             ],
             [
              0.7777777777777778,
              "#fb9f3a"
             ],
             [
              0.8888888888888888,
              "#fdca26"
             ],
             [
              1,
              "#f0f921"
             ]
            ],
            "type": "histogram2d"
           }
          ],
          "histogram2dcontour": [
           {
            "colorbar": {
             "outlinewidth": 0,
             "ticks": ""
            },
            "colorscale": [
             [
              0,
              "#0d0887"
             ],
             [
              0.1111111111111111,
              "#46039f"
             ],
             [
              0.2222222222222222,
              "#7201a8"
             ],
             [
              0.3333333333333333,
              "#9c179e"
             ],
             [
              0.4444444444444444,
              "#bd3786"
             ],
             [
              0.5555555555555556,
              "#d8576b"
             ],
             [
              0.6666666666666666,
              "#ed7953"
             ],
             [
              0.7777777777777778,
              "#fb9f3a"
             ],
             [
              0.8888888888888888,
              "#fdca26"
             ],
             [
              1,
              "#f0f921"
             ]
            ],
            "type": "histogram2dcontour"
           }
          ],
          "mesh3d": [
           {
            "colorbar": {
             "outlinewidth": 0,
             "ticks": ""
            },
            "type": "mesh3d"
           }
          ],
          "parcoords": [
           {
            "line": {
             "colorbar": {
              "outlinewidth": 0,
              "ticks": ""
             }
            },
            "type": "parcoords"
           }
          ],
          "pie": [
           {
            "automargin": true,
            "type": "pie"
           }
          ],
          "scatter": [
           {
            "fillpattern": {
             "fillmode": "overlay",
             "size": 10,
             "solidity": 0.2
            },
            "type": "scatter"
           }
          ],
          "scatter3d": [
           {
            "line": {
             "colorbar": {
              "outlinewidth": 0,
              "ticks": ""
             }
            },
            "marker": {
             "colorbar": {
              "outlinewidth": 0,
              "ticks": ""
             }
            },
            "type": "scatter3d"
           }
          ],
          "scattercarpet": [
           {
            "marker": {
             "colorbar": {
              "outlinewidth": 0,
              "ticks": ""
             }
            },
            "type": "scattercarpet"
           }
          ],
          "scattergeo": [
           {
            "marker": {
             "colorbar": {
              "outlinewidth": 0,
              "ticks": ""
             }
            },
            "type": "scattergeo"
           }
          ],
          "scattergl": [
           {
            "marker": {
             "colorbar": {
              "outlinewidth": 0,
              "ticks": ""
             }
            },
            "type": "scattergl"
           }
          ],
          "scattermap": [
           {
            "marker": {
             "colorbar": {
              "outlinewidth": 0,
              "ticks": ""
             }
            },
            "type": "scattermap"
           }
          ],
          "scattermapbox": [
           {
            "marker": {
             "colorbar": {
              "outlinewidth": 0,
              "ticks": ""
             }
            },
            "type": "scattermapbox"
           }
          ],
          "scatterpolar": [
           {
            "marker": {
             "colorbar": {
              "outlinewidth": 0,
              "ticks": ""
             }
            },
            "type": "scatterpolar"
           }
          ],
          "scatterpolargl": [
           {
            "marker": {
             "colorbar": {
              "outlinewidth": 0,
              "ticks": ""
             }
            },
            "type": "scatterpolargl"
           }
          ],
          "scatterternary": [
           {
            "marker": {
             "colorbar": {
              "outlinewidth": 0,
              "ticks": ""
             }
            },
            "type": "scatterternary"
           }
          ],
          "surface": [
           {
            "colorbar": {
             "outlinewidth": 0,
             "ticks": ""
            },
            "colorscale": [
             [
              0,
              "#0d0887"
             ],
             [
              0.1111111111111111,
              "#46039f"
             ],
             [
              0.2222222222222222,
              "#7201a8"
             ],
             [
              0.3333333333333333,
              "#9c179e"
             ],
             [
              0.4444444444444444,
              "#bd3786"
             ],
             [
              0.5555555555555556,
              "#d8576b"
             ],
             [
              0.6666666666666666,
              "#ed7953"
             ],
             [
              0.7777777777777778,
              "#fb9f3a"
             ],
             [
              0.8888888888888888,
              "#fdca26"
             ],
             [
              1,
              "#f0f921"
             ]
            ],
            "type": "surface"
           }
          ],
          "table": [
           {
            "cells": {
             "fill": {
              "color": "#EBF0F8"
             },
             "line": {
              "color": "white"
             }
            },
            "header": {
             "fill": {
              "color": "#C8D4E3"
             },
             "line": {
              "color": "white"
             }
            },
            "type": "table"
           }
          ]
         },
         "layout": {
          "annotationdefaults": {
           "arrowcolor": "#2a3f5f",
           "arrowhead": 0,
           "arrowwidth": 1
          },
          "autotypenumbers": "strict",
          "coloraxis": {
           "colorbar": {
            "outlinewidth": 0,
            "ticks": ""
           }
          },
          "colorscale": {
           "diverging": [
            [
             0,
             "#8e0152"
            ],
            [
             0.1,
             "#c51b7d"
            ],
            [
             0.2,
             "#de77ae"
            ],
            [
             0.3,
             "#f1b6da"
            ],
            [
             0.4,
             "#fde0ef"
            ],
            [
             0.5,
             "#f7f7f7"
            ],
            [
             0.6,
             "#e6f5d0"
            ],
            [
             0.7,
             "#b8e186"
            ],
            [
             0.8,
             "#7fbc41"
            ],
            [
             0.9,
             "#4d9221"
            ],
            [
             1,
             "#276419"
            ]
           ],
           "sequential": [
            [
             0,
             "#0d0887"
            ],
            [
             0.1111111111111111,
             "#46039f"
            ],
            [
             0.2222222222222222,
             "#7201a8"
            ],
            [
             0.3333333333333333,
             "#9c179e"
            ],
            [
             0.4444444444444444,
             "#bd3786"
            ],
            [
             0.5555555555555556,
             "#d8576b"
            ],
            [
             0.6666666666666666,
             "#ed7953"
            ],
            [
             0.7777777777777778,
             "#fb9f3a"
            ],
            [
             0.8888888888888888,
             "#fdca26"
            ],
            [
             1,
             "#f0f921"
            ]
           ],
           "sequentialminus": [
            [
             0,
             "#0d0887"
            ],
            [
             0.1111111111111111,
             "#46039f"
            ],
            [
             0.2222222222222222,
             "#7201a8"
            ],
            [
             0.3333333333333333,
             "#9c179e"
            ],
            [
             0.4444444444444444,
             "#bd3786"
            ],
            [
             0.5555555555555556,
             "#d8576b"
            ],
            [
             0.6666666666666666,
             "#ed7953"
            ],
            [
             0.7777777777777778,
             "#fb9f3a"
            ],
            [
             0.8888888888888888,
             "#fdca26"
            ],
            [
             1,
             "#f0f921"
            ]
           ]
          },
          "colorway": [
           "#636efa",
           "#EF553B",
           "#00cc96",
           "#ab63fa",
           "#FFA15A",
           "#19d3f3",
           "#FF6692",
           "#B6E880",
           "#FF97FF",
           "#FECB52"
          ],
          "font": {
           "color": "#2a3f5f"
          },
          "geo": {
           "bgcolor": "white",
           "lakecolor": "white",
           "landcolor": "#E5ECF6",
           "showlakes": true,
           "showland": true,
           "subunitcolor": "white"
          },
          "hoverlabel": {
           "align": "left"
          },
          "hovermode": "closest",
          "mapbox": {
           "style": "light"
          },
          "paper_bgcolor": "white",
          "plot_bgcolor": "#E5ECF6",
          "polar": {
           "angularaxis": {
            "gridcolor": "white",
            "linecolor": "white",
            "ticks": ""
           },
           "bgcolor": "#E5ECF6",
           "radialaxis": {
            "gridcolor": "white",
            "linecolor": "white",
            "ticks": ""
           }
          },
          "scene": {
           "xaxis": {
            "backgroundcolor": "#E5ECF6",
            "gridcolor": "white",
            "gridwidth": 2,
            "linecolor": "white",
            "showbackground": true,
            "ticks": "",
            "zerolinecolor": "white"
           },
           "yaxis": {
            "backgroundcolor": "#E5ECF6",
            "gridcolor": "white",
            "gridwidth": 2,
            "linecolor": "white",
            "showbackground": true,
            "ticks": "",
            "zerolinecolor": "white"
           },
           "zaxis": {
            "backgroundcolor": "#E5ECF6",
            "gridcolor": "white",
            "gridwidth": 2,
            "linecolor": "white",
            "showbackground": true,
            "ticks": "",
            "zerolinecolor": "white"
           }
          },
          "shapedefaults": {
           "line": {
            "color": "#2a3f5f"
           }
          },
          "ternary": {
           "aaxis": {
            "gridcolor": "white",
            "linecolor": "white",
            "ticks": ""
           },
           "baxis": {
            "gridcolor": "white",
            "linecolor": "white",
            "ticks": ""
           },
           "bgcolor": "#E5ECF6",
           "caxis": {
            "gridcolor": "white",
            "linecolor": "white",
            "ticks": ""
           }
          },
          "title": {
           "x": 0.05
          },
          "xaxis": {
           "automargin": true,
           "gridcolor": "white",
           "linecolor": "white",
           "ticks": "",
           "title": {
            "standoff": 15
           },
           "zerolinecolor": "white",
           "zerolinewidth": 2
          },
          "yaxis": {
           "automargin": true,
           "gridcolor": "white",
           "linecolor": "white",
           "ticks": "",
           "title": {
            "standoff": 15
           },
           "zerolinecolor": "white",
           "zerolinewidth": 2
          }
         }
        },
        "title": {
         "text": "Top 5 Oilseeds Producing States"
        },
        "xaxis": {
         "anchor": "y",
         "domain": [
          0,
          1
         ],
         "title": {
          "text": "State_Name"
         }
        },
        "yaxis": {
         "anchor": "x",
         "domain": [
          0,
          1
         ],
         "title": {
          "text": "Oilseeds_Production"
         }
        }
       }
      }
     },
     "metadata": {},
     "output_type": "display_data"
    }
   ],
   "source": [
    "#3.Oil seed production by top 5 states\n",
    "oilseed_production = df.groupby('State_Name')['Oilseeds_Production'].sum().sort_values(ascending=False).head(5).reset_index()\n",
    "fig_oilseed = px.bar(oilseed_production, x='State_Name', y='Oilseeds_Production', color='Oilseeds_Production', title='Top 5 Oilseeds Producing States')\n",
    "fig_oilseed.show()"
   ]
  },
  {
   "cell_type": "code",
   "execution_count": 17,
   "id": "0992f56b",
   "metadata": {},
   "outputs": [
    {
     "data": {
      "application/vnd.plotly.v1+json": {
       "config": {
        "plotlyServerURL": "https://plot.ly"
       },
       "data": [
        {
         "hovertemplate": "State_Name=%{x}<br>Sunflower_Production=%{marker.color}<extra></extra>",
         "legendgroup": "",
         "marker": {
          "color": {
           "bdata": "w/UoXO8QxUApXI/Cdd+1QOF6FK7HX7FACtejcD3klUA9CtejcOeQQNejcD0K04dA4XoUrkdFgUA=",
           "dtype": "f8"
          },
          "coloraxis": "coloraxis",
          "pattern": {
           "shape": ""
          }
         },
         "name": "",
         "orientation": "v",
         "showlegend": false,
         "textposition": "auto",
         "type": "bar",
         "x": [
          "Karnataka",
          "Maharashtra",
          "Andhra Pradesh",
          "Telangana",
          "Punjab",
          "Tamil Nadu",
          "Uttar Pradesh"
         ],
         "xaxis": "x",
         "y": {
          "bdata": "w/UoXO8QxUApXI/Cdd+1QOF6FK7HX7FACtejcD3klUA9CtejcOeQQNejcD0K04dA4XoUrkdFgUA=",
          "dtype": "f8"
         },
         "yaxis": "y"
        }
       ],
       "layout": {
        "barmode": "relative",
        "coloraxis": {
         "colorbar": {
          "title": {
           "text": "Sunflower_Production"
          }
         },
         "colorscale": [
          [
           0,
           "#0d0887"
          ],
          [
           0.1111111111111111,
           "#46039f"
          ],
          [
           0.2222222222222222,
           "#7201a8"
          ],
          [
           0.3333333333333333,
           "#9c179e"
          ],
          [
           0.4444444444444444,
           "#bd3786"
          ],
          [
           0.5555555555555556,
           "#d8576b"
          ],
          [
           0.6666666666666666,
           "#ed7953"
          ],
          [
           0.7777777777777778,
           "#fb9f3a"
          ],
          [
           0.8888888888888888,
           "#fdca26"
          ],
          [
           1,
           "#f0f921"
          ]
         ]
        },
        "legend": {
         "tracegroupgap": 0
        },
        "template": {
         "data": {
          "bar": [
           {
            "error_x": {
             "color": "#2a3f5f"
            },
            "error_y": {
             "color": "#2a3f5f"
            },
            "marker": {
             "line": {
              "color": "#E5ECF6",
              "width": 0.5
             },
             "pattern": {
              "fillmode": "overlay",
              "size": 10,
              "solidity": 0.2
             }
            },
            "type": "bar"
           }
          ],
          "barpolar": [
           {
            "marker": {
             "line": {
              "color": "#E5ECF6",
              "width": 0.5
             },
             "pattern": {
              "fillmode": "overlay",
              "size": 10,
              "solidity": 0.2
             }
            },
            "type": "barpolar"
           }
          ],
          "carpet": [
           {
            "aaxis": {
             "endlinecolor": "#2a3f5f",
             "gridcolor": "white",
             "linecolor": "white",
             "minorgridcolor": "white",
             "startlinecolor": "#2a3f5f"
            },
            "baxis": {
             "endlinecolor": "#2a3f5f",
             "gridcolor": "white",
             "linecolor": "white",
             "minorgridcolor": "white",
             "startlinecolor": "#2a3f5f"
            },
            "type": "carpet"
           }
          ],
          "choropleth": [
           {
            "colorbar": {
             "outlinewidth": 0,
             "ticks": ""
            },
            "type": "choropleth"
           }
          ],
          "contour": [
           {
            "colorbar": {
             "outlinewidth": 0,
             "ticks": ""
            },
            "colorscale": [
             [
              0,
              "#0d0887"
             ],
             [
              0.1111111111111111,
              "#46039f"
             ],
             [
              0.2222222222222222,
              "#7201a8"
             ],
             [
              0.3333333333333333,
              "#9c179e"
             ],
             [
              0.4444444444444444,
              "#bd3786"
             ],
             [
              0.5555555555555556,
              "#d8576b"
             ],
             [
              0.6666666666666666,
              "#ed7953"
             ],
             [
              0.7777777777777778,
              "#fb9f3a"
             ],
             [
              0.8888888888888888,
              "#fdca26"
             ],
             [
              1,
              "#f0f921"
             ]
            ],
            "type": "contour"
           }
          ],
          "contourcarpet": [
           {
            "colorbar": {
             "outlinewidth": 0,
             "ticks": ""
            },
            "type": "contourcarpet"
           }
          ],
          "heatmap": [
           {
            "colorbar": {
             "outlinewidth": 0,
             "ticks": ""
            },
            "colorscale": [
             [
              0,
              "#0d0887"
             ],
             [
              0.1111111111111111,
              "#46039f"
             ],
             [
              0.2222222222222222,
              "#7201a8"
             ],
             [
              0.3333333333333333,
              "#9c179e"
             ],
             [
              0.4444444444444444,
              "#bd3786"
             ],
             [
              0.5555555555555556,
              "#d8576b"
             ],
             [
              0.6666666666666666,
              "#ed7953"
             ],
             [
              0.7777777777777778,
              "#fb9f3a"
             ],
             [
              0.8888888888888888,
              "#fdca26"
             ],
             [
              1,
              "#f0f921"
             ]
            ],
            "type": "heatmap"
           }
          ],
          "histogram": [
           {
            "marker": {
             "pattern": {
              "fillmode": "overlay",
              "size": 10,
              "solidity": 0.2
             }
            },
            "type": "histogram"
           }
          ],
          "histogram2d": [
           {
            "colorbar": {
             "outlinewidth": 0,
             "ticks": ""
            },
            "colorscale": [
             [
              0,
              "#0d0887"
             ],
             [
              0.1111111111111111,
              "#46039f"
             ],
             [
              0.2222222222222222,
              "#7201a8"
             ],
             [
              0.3333333333333333,
              "#9c179e"
             ],
             [
              0.4444444444444444,
              "#bd3786"
             ],
             [
              0.5555555555555556,
              "#d8576b"
             ],
             [
              0.6666666666666666,
              "#ed7953"
             ],
             [
              0.7777777777777778,
              "#fb9f3a"
             ],
             [
              0.8888888888888888,
              "#fdca26"
             ],
             [
              1,
              "#f0f921"
             ]
            ],
            "type": "histogram2d"
           }
          ],
          "histogram2dcontour": [
           {
            "colorbar": {
             "outlinewidth": 0,
             "ticks": ""
            },
            "colorscale": [
             [
              0,
              "#0d0887"
             ],
             [
              0.1111111111111111,
              "#46039f"
             ],
             [
              0.2222222222222222,
              "#7201a8"
             ],
             [
              0.3333333333333333,
              "#9c179e"
             ],
             [
              0.4444444444444444,
              "#bd3786"
             ],
             [
              0.5555555555555556,
              "#d8576b"
             ],
             [
              0.6666666666666666,
              "#ed7953"
             ],
             [
              0.7777777777777778,
              "#fb9f3a"
             ],
             [
              0.8888888888888888,
              "#fdca26"
             ],
             [
              1,
              "#f0f921"
             ]
            ],
            "type": "histogram2dcontour"
           }
          ],
          "mesh3d": [
           {
            "colorbar": {
             "outlinewidth": 0,
             "ticks": ""
            },
            "type": "mesh3d"
           }
          ],
          "parcoords": [
           {
            "line": {
             "colorbar": {
              "outlinewidth": 0,
              "ticks": ""
             }
            },
            "type": "parcoords"
           }
          ],
          "pie": [
           {
            "automargin": true,
            "type": "pie"
           }
          ],
          "scatter": [
           {
            "fillpattern": {
             "fillmode": "overlay",
             "size": 10,
             "solidity": 0.2
            },
            "type": "scatter"
           }
          ],
          "scatter3d": [
           {
            "line": {
             "colorbar": {
              "outlinewidth": 0,
              "ticks": ""
             }
            },
            "marker": {
             "colorbar": {
              "outlinewidth": 0,
              "ticks": ""
             }
            },
            "type": "scatter3d"
           }
          ],
          "scattercarpet": [
           {
            "marker": {
             "colorbar": {
              "outlinewidth": 0,
              "ticks": ""
             }
            },
            "type": "scattercarpet"
           }
          ],
          "scattergeo": [
           {
            "marker": {
             "colorbar": {
              "outlinewidth": 0,
              "ticks": ""
             }
            },
            "type": "scattergeo"
           }
          ],
          "scattergl": [
           {
            "marker": {
             "colorbar": {
              "outlinewidth": 0,
              "ticks": ""
             }
            },
            "type": "scattergl"
           }
          ],
          "scattermap": [
           {
            "marker": {
             "colorbar": {
              "outlinewidth": 0,
              "ticks": ""
             }
            },
            "type": "scattermap"
           }
          ],
          "scattermapbox": [
           {
            "marker": {
             "colorbar": {
              "outlinewidth": 0,
              "ticks": ""
             }
            },
            "type": "scattermapbox"
           }
          ],
          "scatterpolar": [
           {
            "marker": {
             "colorbar": {
              "outlinewidth": 0,
              "ticks": ""
             }
            },
            "type": "scatterpolar"
           }
          ],
          "scatterpolargl": [
           {
            "marker": {
             "colorbar": {
              "outlinewidth": 0,
              "ticks": ""
             }
            },
            "type": "scatterpolargl"
           }
          ],
          "scatterternary": [
           {
            "marker": {
             "colorbar": {
              "outlinewidth": 0,
              "ticks": ""
             }
            },
            "type": "scatterternary"
           }
          ],
          "surface": [
           {
            "colorbar": {
             "outlinewidth": 0,
             "ticks": ""
            },
            "colorscale": [
             [
              0,
              "#0d0887"
             ],
             [
              0.1111111111111111,
              "#46039f"
             ],
             [
              0.2222222222222222,
              "#7201a8"
             ],
             [
              0.3333333333333333,
              "#9c179e"
             ],
             [
              0.4444444444444444,
              "#bd3786"
             ],
             [
              0.5555555555555556,
              "#d8576b"
             ],
             [
              0.6666666666666666,
              "#ed7953"
             ],
             [
              0.7777777777777778,
              "#fb9f3a"
             ],
             [
              0.8888888888888888,
              "#fdca26"
             ],
             [
              1,
              "#f0f921"
             ]
            ],
            "type": "surface"
           }
          ],
          "table": [
           {
            "cells": {
             "fill": {
              "color": "#EBF0F8"
             },
             "line": {
              "color": "white"
             }
            },
            "header": {
             "fill": {
              "color": "#C8D4E3"
             },
             "line": {
              "color": "white"
             }
            },
            "type": "table"
           }
          ]
         },
         "layout": {
          "annotationdefaults": {
           "arrowcolor": "#2a3f5f",
           "arrowhead": 0,
           "arrowwidth": 1
          },
          "autotypenumbers": "strict",
          "coloraxis": {
           "colorbar": {
            "outlinewidth": 0,
            "ticks": ""
           }
          },
          "colorscale": {
           "diverging": [
            [
             0,
             "#8e0152"
            ],
            [
             0.1,
             "#c51b7d"
            ],
            [
             0.2,
             "#de77ae"
            ],
            [
             0.3,
             "#f1b6da"
            ],
            [
             0.4,
             "#fde0ef"
            ],
            [
             0.5,
             "#f7f7f7"
            ],
            [
             0.6,
             "#e6f5d0"
            ],
            [
             0.7,
             "#b8e186"
            ],
            [
             0.8,
             "#7fbc41"
            ],
            [
             0.9,
             "#4d9221"
            ],
            [
             1,
             "#276419"
            ]
           ],
           "sequential": [
            [
             0,
             "#0d0887"
            ],
            [
             0.1111111111111111,
             "#46039f"
            ],
            [
             0.2222222222222222,
             "#7201a8"
            ],
            [
             0.3333333333333333,
             "#9c179e"
            ],
            [
             0.4444444444444444,
             "#bd3786"
            ],
            [
             0.5555555555555556,
             "#d8576b"
            ],
            [
             0.6666666666666666,
             "#ed7953"
            ],
            [
             0.7777777777777778,
             "#fb9f3a"
            ],
            [
             0.8888888888888888,
             "#fdca26"
            ],
            [
             1,
             "#f0f921"
            ]
           ],
           "sequentialminus": [
            [
             0,
             "#0d0887"
            ],
            [
             0.1111111111111111,
             "#46039f"
            ],
            [
             0.2222222222222222,
             "#7201a8"
            ],
            [
             0.3333333333333333,
             "#9c179e"
            ],
            [
             0.4444444444444444,
             "#bd3786"
            ],
            [
             0.5555555555555556,
             "#d8576b"
            ],
            [
             0.6666666666666666,
             "#ed7953"
            ],
            [
             0.7777777777777778,
             "#fb9f3a"
            ],
            [
             0.8888888888888888,
             "#fdca26"
            ],
            [
             1,
             "#f0f921"
            ]
           ]
          },
          "colorway": [
           "#636efa",
           "#EF553B",
           "#00cc96",
           "#ab63fa",
           "#FFA15A",
           "#19d3f3",
           "#FF6692",
           "#B6E880",
           "#FF97FF",
           "#FECB52"
          ],
          "font": {
           "color": "#2a3f5f"
          },
          "geo": {
           "bgcolor": "white",
           "lakecolor": "white",
           "landcolor": "#E5ECF6",
           "showlakes": true,
           "showland": true,
           "subunitcolor": "white"
          },
          "hoverlabel": {
           "align": "left"
          },
          "hovermode": "closest",
          "mapbox": {
           "style": "light"
          },
          "paper_bgcolor": "white",
          "plot_bgcolor": "#E5ECF6",
          "polar": {
           "angularaxis": {
            "gridcolor": "white",
            "linecolor": "white",
            "ticks": ""
           },
           "bgcolor": "#E5ECF6",
           "radialaxis": {
            "gridcolor": "white",
            "linecolor": "white",
            "ticks": ""
           }
          },
          "scene": {
           "xaxis": {
            "backgroundcolor": "#E5ECF6",
            "gridcolor": "white",
            "gridwidth": 2,
            "linecolor": "white",
            "showbackground": true,
            "ticks": "",
            "zerolinecolor": "white"
           },
           "yaxis": {
            "backgroundcolor": "#E5ECF6",
            "gridcolor": "white",
            "gridwidth": 2,
            "linecolor": "white",
            "showbackground": true,
            "ticks": "",
            "zerolinecolor": "white"
           },
           "zaxis": {
            "backgroundcolor": "#E5ECF6",
            "gridcolor": "white",
            "gridwidth": 2,
            "linecolor": "white",
            "showbackground": true,
            "ticks": "",
            "zerolinecolor": "white"
           }
          },
          "shapedefaults": {
           "line": {
            "color": "#2a3f5f"
           }
          },
          "ternary": {
           "aaxis": {
            "gridcolor": "white",
            "linecolor": "white",
            "ticks": ""
           },
           "baxis": {
            "gridcolor": "white",
            "linecolor": "white",
            "ticks": ""
           },
           "bgcolor": "#E5ECF6",
           "caxis": {
            "gridcolor": "white",
            "linecolor": "white",
            "ticks": ""
           }
          },
          "title": {
           "x": 0.05
          },
          "xaxis": {
           "automargin": true,
           "gridcolor": "white",
           "linecolor": "white",
           "ticks": "",
           "title": {
            "standoff": 15
           },
           "zerolinecolor": "white",
           "zerolinewidth": 2
          },
          "yaxis": {
           "automargin": true,
           "gridcolor": "white",
           "linecolor": "white",
           "ticks": "",
           "title": {
            "standoff": 15
           },
           "zerolinecolor": "white",
           "zerolinewidth": 2
          }
         }
        },
        "title": {
         "text": "Top 7 Sunflower Producing States"
        },
        "xaxis": {
         "anchor": "y",
         "domain": [
          0,
          1
         ],
         "title": {
          "text": "State_Name"
         }
        },
        "yaxis": {
         "anchor": "x",
         "domain": [
          0,
          1
         ],
         "title": {
          "text": "Sunflower_Production"
         }
        }
       }
      }
     },
     "metadata": {},
     "output_type": "display_data"
    }
   ],
   "source": [
    "#3.Top 7 SUNFLOWER PRODUCTION  State\n",
    "sunflower_production = df.groupby('State_Name')['Sunflower_Production'].sum().sort_values(ascending=False).head(7).reset_index()\n",
    "fig_sunflower = px.bar(sunflower_production, x='State_Name', y ='Sunflower_Production', color='Sunflower_Production', title='Top 7 Sunflower Producing States')\n",
    "fig_sunflower.show()"
   ]
  },
  {
   "cell_type": "code",
   "execution_count": 19,
   "id": "0d232e54",
   "metadata": {},
   "outputs": [
    {
     "data": {
      "application/vnd.plotly.v1+json": {
       "config": {
        "plotlyServerURL": "https://plot.ly"
       },
       "data": [
        {
         "hovertemplate": "Year=%{x}<br>Sugarcane_Production=%{y}<extra></extra>",
         "legendgroup": "",
         "line": {
          "color": "#636efa",
          "dash": "solid"
         },
         "marker": {
          "symbol": "circle"
         },
         "mode": "lines",
         "name": "",
         "orientation": "v",
         "showlegend": false,
         "type": "scatter",
         "x": {
          "bdata": "rgevB7AHsQeyB7MHtAe1B7YHtwe4B7kHuge7B7wHvQe+B78HwAfBB8IHwwfEB8UHxgfHB8gHyQfKB8sHzAfNB84HzwfQB9EH0gfTB9QH1QfWB9cH2AfZB9oH2wfcB90H3gffB+AH4Qc=",
          "dtype": "i2"
         },
         "xaxis": "x",
         "y": {
          "bdata": "FK5H4dpIwkA9CtejMLPCQJqZmZlZ2MhAXI/C9cjLykDNzMzMzC7IQHsUrkcByMZAcT0K16OOyEDD9ShcTxzMQJqZmZk5mMxAexSuR6EpzUDD9ShcDzzOQBSuR+E6ttFAj8L1KDx9zkDhehSux8jIQFyPwvWImM1Aj8L1KHyY0UC4HoXrcS7SQK5H4XoU8NBAZmZmZmac0EAzMzMz83LQQM3MzMwsiNFAZmZmZobP0kC4HoXrocLTQHE9CtcjfNVArkfhekSC10DNzMzMrBDZQIXrUbi+FtdAexSuR9Ge10ApXI/CJdTbQI/C9Sgse9xA9ihcjxLN2kAUrkfhGvfaQK5H4XpE19xAFa5H4VrG3UB7FK5H0XDdQOF6FK73Y91AKVyPwkU63EDD9Shcn0DXQFK4HoW7gddAj8L1KFyQ20CamZmZmZTgQEjhehQ+UOFA61G4HjUw3EAfhetRmPzcQJqZmZlhpuBAFK5H4ZoJ40BI4XoUrjHhQKRwPQrPteFA7FG4Ht284kDhehSuBzHgQK5H4Xo0eN9AexSuRxkW4kA=",
          "dtype": "f8"
         },
         "yaxis": "y"
        }
       ],
       "layout": {
        "legend": {
         "tracegroupgap": 0
        },
        "template": {
         "data": {
          "bar": [
           {
            "error_x": {
             "color": "#2a3f5f"
            },
            "error_y": {
             "color": "#2a3f5f"
            },
            "marker": {
             "line": {
              "color": "#E5ECF6",
              "width": 0.5
             },
             "pattern": {
              "fillmode": "overlay",
              "size": 10,
              "solidity": 0.2
             }
            },
            "type": "bar"
           }
          ],
          "barpolar": [
           {
            "marker": {
             "line": {
              "color": "#E5ECF6",
              "width": 0.5
             },
             "pattern": {
              "fillmode": "overlay",
              "size": 10,
              "solidity": 0.2
             }
            },
            "type": "barpolar"
           }
          ],
          "carpet": [
           {
            "aaxis": {
             "endlinecolor": "#2a3f5f",
             "gridcolor": "white",
             "linecolor": "white",
             "minorgridcolor": "white",
             "startlinecolor": "#2a3f5f"
            },
            "baxis": {
             "endlinecolor": "#2a3f5f",
             "gridcolor": "white",
             "linecolor": "white",
             "minorgridcolor": "white",
             "startlinecolor": "#2a3f5f"
            },
            "type": "carpet"
           }
          ],
          "choropleth": [
           {
            "colorbar": {
             "outlinewidth": 0,
             "ticks": ""
            },
            "type": "choropleth"
           }
          ],
          "contour": [
           {
            "colorbar": {
             "outlinewidth": 0,
             "ticks": ""
            },
            "colorscale": [
             [
              0,
              "#0d0887"
             ],
             [
              0.1111111111111111,
              "#46039f"
             ],
             [
              0.2222222222222222,
              "#7201a8"
             ],
             [
              0.3333333333333333,
              "#9c179e"
             ],
             [
              0.4444444444444444,
              "#bd3786"
             ],
             [
              0.5555555555555556,
              "#d8576b"
             ],
             [
              0.6666666666666666,
              "#ed7953"
             ],
             [
              0.7777777777777778,
              "#fb9f3a"
             ],
             [
              0.8888888888888888,
              "#fdca26"
             ],
             [
              1,
              "#f0f921"
             ]
            ],
            "type": "contour"
           }
          ],
          "contourcarpet": [
           {
            "colorbar": {
             "outlinewidth": 0,
             "ticks": ""
            },
            "type": "contourcarpet"
           }
          ],
          "heatmap": [
           {
            "colorbar": {
             "outlinewidth": 0,
             "ticks": ""
            },
            "colorscale": [
             [
              0,
              "#0d0887"
             ],
             [
              0.1111111111111111,
              "#46039f"
             ],
             [
              0.2222222222222222,
              "#7201a8"
             ],
             [
              0.3333333333333333,
              "#9c179e"
             ],
             [
              0.4444444444444444,
              "#bd3786"
             ],
             [
              0.5555555555555556,
              "#d8576b"
             ],
             [
              0.6666666666666666,
              "#ed7953"
             ],
             [
              0.7777777777777778,
              "#fb9f3a"
             ],
             [
              0.8888888888888888,
              "#fdca26"
             ],
             [
              1,
              "#f0f921"
             ]
            ],
            "type": "heatmap"
           }
          ],
          "histogram": [
           {
            "marker": {
             "pattern": {
              "fillmode": "overlay",
              "size": 10,
              "solidity": 0.2
             }
            },
            "type": "histogram"
           }
          ],
          "histogram2d": [
           {
            "colorbar": {
             "outlinewidth": 0,
             "ticks": ""
            },
            "colorscale": [
             [
              0,
              "#0d0887"
             ],
             [
              0.1111111111111111,
              "#46039f"
             ],
             [
              0.2222222222222222,
              "#7201a8"
             ],
             [
              0.3333333333333333,
              "#9c179e"
             ],
             [
              0.4444444444444444,
              "#bd3786"
             ],
             [
              0.5555555555555556,
              "#d8576b"
             ],
             [
              0.6666666666666666,
              "#ed7953"
             ],
             [
              0.7777777777777778,
              "#fb9f3a"
             ],
             [
              0.8888888888888888,
              "#fdca26"
             ],
             [
              1,
              "#f0f921"
             ]
            ],
            "type": "histogram2d"
           }
          ],
          "histogram2dcontour": [
           {
            "colorbar": {
             "outlinewidth": 0,
             "ticks": ""
            },
            "colorscale": [
             [
              0,
              "#0d0887"
             ],
             [
              0.1111111111111111,
              "#46039f"
             ],
             [
              0.2222222222222222,
              "#7201a8"
             ],
             [
              0.3333333333333333,
              "#9c179e"
             ],
             [
              0.4444444444444444,
              "#bd3786"
             ],
             [
              0.5555555555555556,
              "#d8576b"
             ],
             [
              0.6666666666666666,
              "#ed7953"
             ],
             [
              0.7777777777777778,
              "#fb9f3a"
             ],
             [
              0.8888888888888888,
              "#fdca26"
             ],
             [
              1,
              "#f0f921"
             ]
            ],
            "type": "histogram2dcontour"
           }
          ],
          "mesh3d": [
           {
            "colorbar": {
             "outlinewidth": 0,
             "ticks": ""
            },
            "type": "mesh3d"
           }
          ],
          "parcoords": [
           {
            "line": {
             "colorbar": {
              "outlinewidth": 0,
              "ticks": ""
             }
            },
            "type": "parcoords"
           }
          ],
          "pie": [
           {
            "automargin": true,
            "type": "pie"
           }
          ],
          "scatter": [
           {
            "fillpattern": {
             "fillmode": "overlay",
             "size": 10,
             "solidity": 0.2
            },
            "type": "scatter"
           }
          ],
          "scatter3d": [
           {
            "line": {
             "colorbar": {
              "outlinewidth": 0,
              "ticks": ""
             }
            },
            "marker": {
             "colorbar": {
              "outlinewidth": 0,
              "ticks": ""
             }
            },
            "type": "scatter3d"
           }
          ],
          "scattercarpet": [
           {
            "marker": {
             "colorbar": {
              "outlinewidth": 0,
              "ticks": ""
             }
            },
            "type": "scattercarpet"
           }
          ],
          "scattergeo": [
           {
            "marker": {
             "colorbar": {
              "outlinewidth": 0,
              "ticks": ""
             }
            },
            "type": "scattergeo"
           }
          ],
          "scattergl": [
           {
            "marker": {
             "colorbar": {
              "outlinewidth": 0,
              "ticks": ""
             }
            },
            "type": "scattergl"
           }
          ],
          "scattermap": [
           {
            "marker": {
             "colorbar": {
              "outlinewidth": 0,
              "ticks": ""
             }
            },
            "type": "scattermap"
           }
          ],
          "scattermapbox": [
           {
            "marker": {
             "colorbar": {
              "outlinewidth": 0,
              "ticks": ""
             }
            },
            "type": "scattermapbox"
           }
          ],
          "scatterpolar": [
           {
            "marker": {
             "colorbar": {
              "outlinewidth": 0,
              "ticks": ""
             }
            },
            "type": "scatterpolar"
           }
          ],
          "scatterpolargl": [
           {
            "marker": {
             "colorbar": {
              "outlinewidth": 0,
              "ticks": ""
             }
            },
            "type": "scatterpolargl"
           }
          ],
          "scatterternary": [
           {
            "marker": {
             "colorbar": {
              "outlinewidth": 0,
              "ticks": ""
             }
            },
            "type": "scatterternary"
           }
          ],
          "surface": [
           {
            "colorbar": {
             "outlinewidth": 0,
             "ticks": ""
            },
            "colorscale": [
             [
              0,
              "#0d0887"
             ],
             [
              0.1111111111111111,
              "#46039f"
             ],
             [
              0.2222222222222222,
              "#7201a8"
             ],
             [
              0.3333333333333333,
              "#9c179e"
             ],
             [
              0.4444444444444444,
              "#bd3786"
             ],
             [
              0.5555555555555556,
              "#d8576b"
             ],
             [
              0.6666666666666666,
              "#ed7953"
             ],
             [
              0.7777777777777778,
              "#fb9f3a"
             ],
             [
              0.8888888888888888,
              "#fdca26"
             ],
             [
              1,
              "#f0f921"
             ]
            ],
            "type": "surface"
           }
          ],
          "table": [
           {
            "cells": {
             "fill": {
              "color": "#EBF0F8"
             },
             "line": {
              "color": "white"
             }
            },
            "header": {
             "fill": {
              "color": "#C8D4E3"
             },
             "line": {
              "color": "white"
             }
            },
            "type": "table"
           }
          ]
         },
         "layout": {
          "annotationdefaults": {
           "arrowcolor": "#2a3f5f",
           "arrowhead": 0,
           "arrowwidth": 1
          },
          "autotypenumbers": "strict",
          "coloraxis": {
           "colorbar": {
            "outlinewidth": 0,
            "ticks": ""
           }
          },
          "colorscale": {
           "diverging": [
            [
             0,
             "#8e0152"
            ],
            [
             0.1,
             "#c51b7d"
            ],
            [
             0.2,
             "#de77ae"
            ],
            [
             0.3,
             "#f1b6da"
            ],
            [
             0.4,
             "#fde0ef"
            ],
            [
             0.5,
             "#f7f7f7"
            ],
            [
             0.6,
             "#e6f5d0"
            ],
            [
             0.7,
             "#b8e186"
            ],
            [
             0.8,
             "#7fbc41"
            ],
            [
             0.9,
             "#4d9221"
            ],
            [
             1,
             "#276419"
            ]
           ],
           "sequential": [
            [
             0,
             "#0d0887"
            ],
            [
             0.1111111111111111,
             "#46039f"
            ],
            [
             0.2222222222222222,
             "#7201a8"
            ],
            [
             0.3333333333333333,
             "#9c179e"
            ],
            [
             0.4444444444444444,
             "#bd3786"
            ],
            [
             0.5555555555555556,
             "#d8576b"
            ],
            [
             0.6666666666666666,
             "#ed7953"
            ],
            [
             0.7777777777777778,
             "#fb9f3a"
            ],
            [
             0.8888888888888888,
             "#fdca26"
            ],
            [
             1,
             "#f0f921"
            ]
           ],
           "sequentialminus": [
            [
             0,
             "#0d0887"
            ],
            [
             0.1111111111111111,
             "#46039f"
            ],
            [
             0.2222222222222222,
             "#7201a8"
            ],
            [
             0.3333333333333333,
             "#9c179e"
            ],
            [
             0.4444444444444444,
             "#bd3786"
            ],
            [
             0.5555555555555556,
             "#d8576b"
            ],
            [
             0.6666666666666666,
             "#ed7953"
            ],
            [
             0.7777777777777778,
             "#fb9f3a"
            ],
            [
             0.8888888888888888,
             "#fdca26"
            ],
            [
             1,
             "#f0f921"
            ]
           ]
          },
          "colorway": [
           "#636efa",
           "#EF553B",
           "#00cc96",
           "#ab63fa",
           "#FFA15A",
           "#19d3f3",
           "#FF6692",
           "#B6E880",
           "#FF97FF",
           "#FECB52"
          ],
          "font": {
           "color": "#2a3f5f"
          },
          "geo": {
           "bgcolor": "white",
           "lakecolor": "white",
           "landcolor": "#E5ECF6",
           "showlakes": true,
           "showland": true,
           "subunitcolor": "white"
          },
          "hoverlabel": {
           "align": "left"
          },
          "hovermode": "closest",
          "mapbox": {
           "style": "light"
          },
          "paper_bgcolor": "white",
          "plot_bgcolor": "#E5ECF6",
          "polar": {
           "angularaxis": {
            "gridcolor": "white",
            "linecolor": "white",
            "ticks": ""
           },
           "bgcolor": "#E5ECF6",
           "radialaxis": {
            "gridcolor": "white",
            "linecolor": "white",
            "ticks": ""
           }
          },
          "scene": {
           "xaxis": {
            "backgroundcolor": "#E5ECF6",
            "gridcolor": "white",
            "gridwidth": 2,
            "linecolor": "white",
            "showbackground": true,
            "ticks": "",
            "zerolinecolor": "white"
           },
           "yaxis": {
            "backgroundcolor": "#E5ECF6",
            "gridcolor": "white",
            "gridwidth": 2,
            "linecolor": "white",
            "showbackground": true,
            "ticks": "",
            "zerolinecolor": "white"
           },
           "zaxis": {
            "backgroundcolor": "#E5ECF6",
            "gridcolor": "white",
            "gridwidth": 2,
            "linecolor": "white",
            "showbackground": true,
            "ticks": "",
            "zerolinecolor": "white"
           }
          },
          "shapedefaults": {
           "line": {
            "color": "#2a3f5f"
           }
          },
          "ternary": {
           "aaxis": {
            "gridcolor": "white",
            "linecolor": "white",
            "ticks": ""
           },
           "baxis": {
            "gridcolor": "white",
            "linecolor": "white",
            "ticks": ""
           },
           "bgcolor": "#E5ECF6",
           "caxis": {
            "gridcolor": "white",
            "linecolor": "white",
            "ticks": ""
           }
          },
          "title": {
           "x": 0.05
          },
          "xaxis": {
           "automargin": true,
           "gridcolor": "white",
           "linecolor": "white",
           "ticks": "",
           "title": {
            "standoff": 15
           },
           "zerolinecolor": "white",
           "zerolinewidth": 2
          },
          "yaxis": {
           "automargin": true,
           "gridcolor": "white",
           "linecolor": "white",
           "ticks": "",
           "title": {
            "standoff": 15
           },
           "zerolinecolor": "white",
           "zerolinewidth": 2
          }
         }
        },
        "title": {
         "text": "India's Sugarcane Production - Last 50Years"
        },
        "xaxis": {
         "anchor": "y",
         "domain": [
          0,
          1
         ],
         "title": {
          "text": "Year"
         }
        },
        "yaxis": {
         "anchor": "x",
         "domain": [
          0,
          1
         ],
         "title": {
          "text": "Sugarcane_Production"
         }
        }
       }
      }
     },
     "metadata": {},
     "output_type": "display_data"
    }
   ],
   "source": [
    "#5.India's SUGARCANE PRODUCTION From Last 50 Years(Line_plot)\n",
    "sugarcane_production = df.groupby('Year')['Sugarcane_Production'].sum().reset_index()\n",
    "fig_sugarcane = px.line(sugarcane_production, x='Year', y='Sugarcane_Production', title='India\\'s Sugarcane Production - Last 50Years')\n",
    "fig_sugarcane.show()"
   ]
  },
  {
   "cell_type": "code",
   "execution_count": 20,
   "id": "7b0385f4",
   "metadata": {},
   "outputs": [
    {
     "data": {
      "application/vnd.plotly.v1+json": {
       "config": {
        "plotlyServerURL": "https://plot.ly"
       },
       "data": [
        {
         "hovertemplate": "Crop=Rice_Production<br>Year=%{x}<br>Production (in 1000 Tons)=%{y}<extra></extra>",
         "legendgroup": "Rice_Production",
         "line": {
          "color": "#636efa",
          "dash": "solid"
         },
         "marker": {
          "symbol": "circle"
         },
         "mode": "lines",
         "name": "Rice_Production",
         "orientation": "v",
         "showlegend": true,
         "type": "scatter",
         "x": {
          "bdata": "rgevB7AHsQeyB7MHtAe1B7YHtwe4B7kHuge7B7wHvQe+B78HwAfBB8IHwwfEB8UHxgfHB8gHyQfKB8sHzAfNB84HzwfQB9EH0gfTB9QH1QfWB9cH2AfZB9oH2wfcB90H3gffB+AH4Qc=",
          "dtype": "i2"
         },
         "xaxis": "x",
         "y": {
          "bdata": "hetRuE5z3ECuR+F6FB7hQD0K16Ow8eBAH4XrUYB/4UBxPQrXgzPjQHsUrkdZgeNAKVyPwr2E4kBI4XoUXoXkQB+F61FQZ+JAUrgehQuI5kBmZmZmTqTjQOxRuB7toOhAPgrXo4DW6ECuR+F6FM7jQAAAAACIx+lAcT0K18ug6UAUrkfhKgPmQAAAAADQNOxA9ihcj3qQ60AzMzMzO2ruQB+F61EAnOxAFK5H4UrN6kAK16NwsdPwQClcj8Kt8/FAuB6F69V78UBcj8L1JIvxQPYoXI/eI/FApHA9CrvX8kD2KFyPnlrzQPYoXI92uvFA16NwPYIS80AK16NwgafzQOF6FK6jHfRA7FG4HvEf9UAK16NwSWH0QLgehetBWvZAKVyPwt0R8UBmZmZmsr70QNejcD16w/NACtejcDlR9UDXo3A9Avj1QB+F61GstPZACtejcK0/90CkcD0Ka4D1QOF6FK7DBfdAH4XrUYT0+EC4HoXr2XL5QIXrUbgGv/pAuB6F63l6+0CPwvUoSCD4QJqZmZnhtvxAKVyPwvno+0A=",
          "dtype": "f8"
         },
         "yaxis": "y"
        },
        {
         "hovertemplate": "Crop=Wheat_Production<br>Year=%{x}<br>Production (in 1000 Tons)=%{y}<extra></extra>",
         "legendgroup": "Wheat_Production",
         "line": {
          "color": "#EF553B",
          "dash": "solid"
         },
         "marker": {
          "symbol": "circle"
         },
         "mode": "lines",
         "name": "Wheat_Production",
         "orientation": "v",
         "showlegend": true,
         "type": "scatter",
         "x": {
          "bdata": "rgevB7AHsQeyB7MHtAe1B7YHtwe4B7kHuge7B7wHvQe+B78HwAfBB8IHwwfEB8UHxgfHB8gHyQfKB8sHzAfNB84HzwfQB9EH0gfTB9QH1QfWB9cH2AfZB9oH2wfcB90H3gffB+AH4Qc=",
          "dtype": "i2"
         },
         "xaxis": "x",
         "y": {
          "bdata": "w/UoXI92xUBmZmZmJkPPQBSuR+Hq99BApHA9ChfI0kAfhetReCXWQFyPwvU4sNhAcT0K1+NX1kBcj8L1WFjUQArXo3A9g9ZA16NwPZqD2kCF61G4Lu/aQNejcD3qTN1AexSuR8mj4EAAAAAAgAXeQLgehethaeFAexSuR0kk4kApXI/CRbTkQKRwPQpn5+VApHA9Ct9o5UAVrkfhYtvmQEjhehR+PeVAzczMzBQ45kCuR+F6XDbqQLgehetpc+lArkfheiSW6kAfhetRUArrQJqZmZkpq+tACtejcBUB7UCamZmZyfbvQI/C9Sik3O1AXI/C9XjB8EBI4XoUpsfvQPYoXI+WGvFAUrgehReb8kA9CtejEP/wQJqZmZmhn/FA61G4HpXv70B7FK5H0afxQClcj8JV2fBAH4XrUbCx8EAAAAAA2PjyQOF6FK7rj/NAw/UoXNPs80CF61G45sfzQM3MzMzoz/ZAcT0K1996+EApXI/Cnbn3QBSuR+GiBvlAexSuRym49EDhehSuD+j2QOxRuB4tlPtAw/UoXCP1+kA=",
          "dtype": "f8"
         },
         "yaxis": "y"
        }
       ],
       "layout": {
        "legend": {
         "title": {
          "text": "Crop"
         },
         "tracegroupgap": 0
        },
        "template": {
         "data": {
          "bar": [
           {
            "error_x": {
             "color": "#2a3f5f"
            },
            "error_y": {
             "color": "#2a3f5f"
            },
            "marker": {
             "line": {
              "color": "#E5ECF6",
              "width": 0.5
             },
             "pattern": {
              "fillmode": "overlay",
              "size": 10,
              "solidity": 0.2
             }
            },
            "type": "bar"
           }
          ],
          "barpolar": [
           {
            "marker": {
             "line": {
              "color": "#E5ECF6",
              "width": 0.5
             },
             "pattern": {
              "fillmode": "overlay",
              "size": 10,
              "solidity": 0.2
             }
            },
            "type": "barpolar"
           }
          ],
          "carpet": [
           {
            "aaxis": {
             "endlinecolor": "#2a3f5f",
             "gridcolor": "white",
             "linecolor": "white",
             "minorgridcolor": "white",
             "startlinecolor": "#2a3f5f"
            },
            "baxis": {
             "endlinecolor": "#2a3f5f",
             "gridcolor": "white",
             "linecolor": "white",
             "minorgridcolor": "white",
             "startlinecolor": "#2a3f5f"
            },
            "type": "carpet"
           }
          ],
          "choropleth": [
           {
            "colorbar": {
             "outlinewidth": 0,
             "ticks": ""
            },
            "type": "choropleth"
           }
          ],
          "contour": [
           {
            "colorbar": {
             "outlinewidth": 0,
             "ticks": ""
            },
            "colorscale": [
             [
              0,
              "#0d0887"
             ],
             [
              0.1111111111111111,
              "#46039f"
             ],
             [
              0.2222222222222222,
              "#7201a8"
             ],
             [
              0.3333333333333333,
              "#9c179e"
             ],
             [
              0.4444444444444444,
              "#bd3786"
             ],
             [
              0.5555555555555556,
              "#d8576b"
             ],
             [
              0.6666666666666666,
              "#ed7953"
             ],
             [
              0.7777777777777778,
              "#fb9f3a"
             ],
             [
              0.8888888888888888,
              "#fdca26"
             ],
             [
              1,
              "#f0f921"
             ]
            ],
            "type": "contour"
           }
          ],
          "contourcarpet": [
           {
            "colorbar": {
             "outlinewidth": 0,
             "ticks": ""
            },
            "type": "contourcarpet"
           }
          ],
          "heatmap": [
           {
            "colorbar": {
             "outlinewidth": 0,
             "ticks": ""
            },
            "colorscale": [
             [
              0,
              "#0d0887"
             ],
             [
              0.1111111111111111,
              "#46039f"
             ],
             [
              0.2222222222222222,
              "#7201a8"
             ],
             [
              0.3333333333333333,
              "#9c179e"
             ],
             [
              0.4444444444444444,
              "#bd3786"
             ],
             [
              0.5555555555555556,
              "#d8576b"
             ],
             [
              0.6666666666666666,
              "#ed7953"
             ],
             [
              0.7777777777777778,
              "#fb9f3a"
             ],
             [
              0.8888888888888888,
              "#fdca26"
             ],
             [
              1,
              "#f0f921"
             ]
            ],
            "type": "heatmap"
           }
          ],
          "histogram": [
           {
            "marker": {
             "pattern": {
              "fillmode": "overlay",
              "size": 10,
              "solidity": 0.2
             }
            },
            "type": "histogram"
           }
          ],
          "histogram2d": [
           {
            "colorbar": {
             "outlinewidth": 0,
             "ticks": ""
            },
            "colorscale": [
             [
              0,
              "#0d0887"
             ],
             [
              0.1111111111111111,
              "#46039f"
             ],
             [
              0.2222222222222222,
              "#7201a8"
             ],
             [
              0.3333333333333333,
              "#9c179e"
             ],
             [
              0.4444444444444444,
              "#bd3786"
             ],
             [
              0.5555555555555556,
              "#d8576b"
             ],
             [
              0.6666666666666666,
              "#ed7953"
             ],
             [
              0.7777777777777778,
              "#fb9f3a"
             ],
             [
              0.8888888888888888,
              "#fdca26"
             ],
             [
              1,
              "#f0f921"
             ]
            ],
            "type": "histogram2d"
           }
          ],
          "histogram2dcontour": [
           {
            "colorbar": {
             "outlinewidth": 0,
             "ticks": ""
            },
            "colorscale": [
             [
              0,
              "#0d0887"
             ],
             [
              0.1111111111111111,
              "#46039f"
             ],
             [
              0.2222222222222222,
              "#7201a8"
             ],
             [
              0.3333333333333333,
              "#9c179e"
             ],
             [
              0.4444444444444444,
              "#bd3786"
             ],
             [
              0.5555555555555556,
              "#d8576b"
             ],
             [
              0.6666666666666666,
              "#ed7953"
             ],
             [
              0.7777777777777778,
              "#fb9f3a"
             ],
             [
              0.8888888888888888,
              "#fdca26"
             ],
             [
              1,
              "#f0f921"
             ]
            ],
            "type": "histogram2dcontour"
           }
          ],
          "mesh3d": [
           {
            "colorbar": {
             "outlinewidth": 0,
             "ticks": ""
            },
            "type": "mesh3d"
           }
          ],
          "parcoords": [
           {
            "line": {
             "colorbar": {
              "outlinewidth": 0,
              "ticks": ""
             }
            },
            "type": "parcoords"
           }
          ],
          "pie": [
           {
            "automargin": true,
            "type": "pie"
           }
          ],
          "scatter": [
           {
            "fillpattern": {
             "fillmode": "overlay",
             "size": 10,
             "solidity": 0.2
            },
            "type": "scatter"
           }
          ],
          "scatter3d": [
           {
            "line": {
             "colorbar": {
              "outlinewidth": 0,
              "ticks": ""
             }
            },
            "marker": {
             "colorbar": {
              "outlinewidth": 0,
              "ticks": ""
             }
            },
            "type": "scatter3d"
           }
          ],
          "scattercarpet": [
           {
            "marker": {
             "colorbar": {
              "outlinewidth": 0,
              "ticks": ""
             }
            },
            "type": "scattercarpet"
           }
          ],
          "scattergeo": [
           {
            "marker": {
             "colorbar": {
              "outlinewidth": 0,
              "ticks": ""
             }
            },
            "type": "scattergeo"
           }
          ],
          "scattergl": [
           {
            "marker": {
             "colorbar": {
              "outlinewidth": 0,
              "ticks": ""
             }
            },
            "type": "scattergl"
           }
          ],
          "scattermap": [
           {
            "marker": {
             "colorbar": {
              "outlinewidth": 0,
              "ticks": ""
             }
            },
            "type": "scattermap"
           }
          ],
          "scattermapbox": [
           {
            "marker": {
             "colorbar": {
              "outlinewidth": 0,
              "ticks": ""
             }
            },
            "type": "scattermapbox"
           }
          ],
          "scatterpolar": [
           {
            "marker": {
             "colorbar": {
              "outlinewidth": 0,
              "ticks": ""
             }
            },
            "type": "scatterpolar"
           }
          ],
          "scatterpolargl": [
           {
            "marker": {
             "colorbar": {
              "outlinewidth": 0,
              "ticks": ""
             }
            },
            "type": "scatterpolargl"
           }
          ],
          "scatterternary": [
           {
            "marker": {
             "colorbar": {
              "outlinewidth": 0,
              "ticks": ""
             }
            },
            "type": "scatterternary"
           }
          ],
          "surface": [
           {
            "colorbar": {
             "outlinewidth": 0,
             "ticks": ""
            },
            "colorscale": [
             [
              0,
              "#0d0887"
             ],
             [
              0.1111111111111111,
              "#46039f"
             ],
             [
              0.2222222222222222,
              "#7201a8"
             ],
             [
              0.3333333333333333,
              "#9c179e"
             ],
             [
              0.4444444444444444,
              "#bd3786"
             ],
             [
              0.5555555555555556,
              "#d8576b"
             ],
             [
              0.6666666666666666,
              "#ed7953"
             ],
             [
              0.7777777777777778,
              "#fb9f3a"
             ],
             [
              0.8888888888888888,
              "#fdca26"
             ],
             [
              1,
              "#f0f921"
             ]
            ],
            "type": "surface"
           }
          ],
          "table": [
           {
            "cells": {
             "fill": {
              "color": "#EBF0F8"
             },
             "line": {
              "color": "white"
             }
            },
            "header": {
             "fill": {
              "color": "#C8D4E3"
             },
             "line": {
              "color": "white"
             }
            },
            "type": "table"
           }
          ]
         },
         "layout": {
          "annotationdefaults": {
           "arrowcolor": "#2a3f5f",
           "arrowhead": 0,
           "arrowwidth": 1
          },
          "autotypenumbers": "strict",
          "coloraxis": {
           "colorbar": {
            "outlinewidth": 0,
            "ticks": ""
           }
          },
          "colorscale": {
           "diverging": [
            [
             0,
             "#8e0152"
            ],
            [
             0.1,
             "#c51b7d"
            ],
            [
             0.2,
             "#de77ae"
            ],
            [
             0.3,
             "#f1b6da"
            ],
            [
             0.4,
             "#fde0ef"
            ],
            [
             0.5,
             "#f7f7f7"
            ],
            [
             0.6,
             "#e6f5d0"
            ],
            [
             0.7,
             "#b8e186"
            ],
            [
             0.8,
             "#7fbc41"
            ],
            [
             0.9,
             "#4d9221"
            ],
            [
             1,
             "#276419"
            ]
           ],
           "sequential": [
            [
             0,
             "#0d0887"
            ],
            [
             0.1111111111111111,
             "#46039f"
            ],
            [
             0.2222222222222222,
             "#7201a8"
            ],
            [
             0.3333333333333333,
             "#9c179e"
            ],
            [
             0.4444444444444444,
             "#bd3786"
            ],
            [
             0.5555555555555556,
             "#d8576b"
            ],
            [
             0.6666666666666666,
             "#ed7953"
            ],
            [
             0.7777777777777778,
             "#fb9f3a"
            ],
            [
             0.8888888888888888,
             "#fdca26"
            ],
            [
             1,
             "#f0f921"
            ]
           ],
           "sequentialminus": [
            [
             0,
             "#0d0887"
            ],
            [
             0.1111111111111111,
             "#46039f"
            ],
            [
             0.2222222222222222,
             "#7201a8"
            ],
            [
             0.3333333333333333,
             "#9c179e"
            ],
            [
             0.4444444444444444,
             "#bd3786"
            ],
            [
             0.5555555555555556,
             "#d8576b"
            ],
            [
             0.6666666666666666,
             "#ed7953"
            ],
            [
             0.7777777777777778,
             "#fb9f3a"
            ],
            [
             0.8888888888888888,
             "#fdca26"
            ],
            [
             1,
             "#f0f921"
            ]
           ]
          },
          "colorway": [
           "#636efa",
           "#EF553B",
           "#00cc96",
           "#ab63fa",
           "#FFA15A",
           "#19d3f3",
           "#FF6692",
           "#B6E880",
           "#FF97FF",
           "#FECB52"
          ],
          "font": {
           "color": "#2a3f5f"
          },
          "geo": {
           "bgcolor": "white",
           "lakecolor": "white",
           "landcolor": "#E5ECF6",
           "showlakes": true,
           "showland": true,
           "subunitcolor": "white"
          },
          "hoverlabel": {
           "align": "left"
          },
          "hovermode": "closest",
          "mapbox": {
           "style": "light"
          },
          "paper_bgcolor": "white",
          "plot_bgcolor": "#E5ECF6",
          "polar": {
           "angularaxis": {
            "gridcolor": "white",
            "linecolor": "white",
            "ticks": ""
           },
           "bgcolor": "#E5ECF6",
           "radialaxis": {
            "gridcolor": "white",
            "linecolor": "white",
            "ticks": ""
           }
          },
          "scene": {
           "xaxis": {
            "backgroundcolor": "#E5ECF6",
            "gridcolor": "white",
            "gridwidth": 2,
            "linecolor": "white",
            "showbackground": true,
            "ticks": "",
            "zerolinecolor": "white"
           },
           "yaxis": {
            "backgroundcolor": "#E5ECF6",
            "gridcolor": "white",
            "gridwidth": 2,
            "linecolor": "white",
            "showbackground": true,
            "ticks": "",
            "zerolinecolor": "white"
           },
           "zaxis": {
            "backgroundcolor": "#E5ECF6",
            "gridcolor": "white",
            "gridwidth": 2,
            "linecolor": "white",
            "showbackground": true,
            "ticks": "",
            "zerolinecolor": "white"
           }
          },
          "shapedefaults": {
           "line": {
            "color": "#2a3f5f"
           }
          },
          "ternary": {
           "aaxis": {
            "gridcolor": "white",
            "linecolor": "white",
            "ticks": ""
           },
           "baxis": {
            "gridcolor": "white",
            "linecolor": "white",
            "ticks": ""
           },
           "bgcolor": "#E5ECF6",
           "caxis": {
            "gridcolor": "white",
            "linecolor": "white",
            "ticks": ""
           }
          },
          "title": {
           "x": 0.05
          },
          "xaxis": {
           "automargin": true,
           "gridcolor": "white",
           "linecolor": "white",
           "ticks": "",
           "title": {
            "standoff": 15
           },
           "zerolinecolor": "white",
           "zerolinewidth": 2
          },
          "yaxis": {
           "automargin": true,
           "gridcolor": "white",
           "linecolor": "white",
           "ticks": "",
           "title": {
            "standoff": 15
           },
           "zerolinecolor": "white",
           "zerolinewidth": 2
          }
         }
        },
        "title": {
         "text": "Rice vs Wheat Production in India (Last 50 Years)"
        },
        "xaxis": {
         "anchor": "y",
         "domain": [
          0,
          1
         ],
         "title": {
          "text": "Year"
         }
        },
        "yaxis": {
         "anchor": "x",
         "domain": [
          0,
          1
         ],
         "title": {
          "text": "Production (in 1000 Tons)"
         }
        }
       }
      }
     },
     "metadata": {},
     "output_type": "display_data"
    }
   ],
   "source": [
    "#6.Rice Production Vs Wheat Production (Last 50y)\n",
    "rice_wheat_production = df.groupby('Year')[['Rice_Production', 'Wheat_Production']].sum().reset_index()\n",
    "fig_rice_wheat = px.line(rice_wheat_production, x='Year', y=['Rice_Production', 'Wheat_Production'],\n",
    "                         labels={'value': 'Production (in 1000 Tons)', 'variable': 'Crop'},\n",
    "                         title='Rice vs Wheat Production in India (Last 50 Years)')\n",
    "fig_rice_wheat.show() "
   ]
  },
  {
   "cell_type": "code",
   "execution_count": 25,
   "id": "a130139d",
   "metadata": {},
   "outputs": [
    {
     "data": {
      "application/vnd.plotly.v1+json": {
       "config": {
        "plotlyServerURL": "https://plot.ly"
       },
       "data": [
        {
         "hovertemplate": "Dist_Name=%{x}<br>Rice_Production=%{marker.color}<extra></extra>",
         "legendgroup": "",
         "marker": {
          "color": {
           "bdata": "4XoUrn/E7kBmZmZmppzjQLgeheu5nORAZmZmZuJv8UCamZmZSXXUQGZmZmZmTqZACtejcI083kBxPQrXQwzEQAAAAAAA99BA7FG4HnX41UCuR+F6RCP4QOF6FK6nMeJAMzMzMxNc20AAAAAA4JrWQHE9CtcbM+FA",
           "dtype": "f8"
          },
          "coloraxis": "coloraxis",
          "pattern": {
           "shape": ""
          }
         },
         "name": "",
         "orientation": "v",
         "showlegend": false,
         "textposition": "auto",
         "type": "bar",
         "x": [
          "24 Parganas",
          "Bankura",
          "Birbhum",
          "Burdwan",
          "Cooch Behar",
          "Darjeeling",
          "Hooghly",
          "Howrah",
          "Jalpaiguri",
          "Malda",
          "Midnapur",
          "Murshidabad",
          "Nadia",
          "Purulia",
          "West Dinajpur"
         ],
         "xaxis": "x",
         "y": {
          "bdata": "4XoUrn/E7kBmZmZmppzjQLgeheu5nORAZmZmZuJv8UCamZmZSXXUQGZmZmZmTqZACtejcI083kBxPQrXQwzEQAAAAAAA99BA7FG4HnX41UCuR+F6RCP4QOF6FK6nMeJAMzMzMxNc20AAAAAA4JrWQHE9CtcbM+FA",
          "dtype": "f8"
         },
         "yaxis": "y"
        }
       ],
       "layout": {
        "barmode": "relative",
        "coloraxis": {
         "colorbar": {
          "title": {
           "text": "Rice_Production"
          }
         },
         "colorscale": [
          [
           0,
           "#0d0887"
          ],
          [
           0.1111111111111111,
           "#46039f"
          ],
          [
           0.2222222222222222,
           "#7201a8"
          ],
          [
           0.3333333333333333,
           "#9c179e"
          ],
          [
           0.4444444444444444,
           "#bd3786"
          ],
          [
           0.5555555555555556,
           "#d8576b"
          ],
          [
           0.6666666666666666,
           "#ed7953"
          ],
          [
           0.7777777777777778,
           "#fb9f3a"
          ],
          [
           0.8888888888888888,
           "#fdca26"
          ],
          [
           1,
           "#f0f921"
          ]
         ]
        },
        "legend": {
         "tracegroupgap": 0
        },
        "template": {
         "data": {
          "bar": [
           {
            "error_x": {
             "color": "#2a3f5f"
            },
            "error_y": {
             "color": "#2a3f5f"
            },
            "marker": {
             "line": {
              "color": "#E5ECF6",
              "width": 0.5
             },
             "pattern": {
              "fillmode": "overlay",
              "size": 10,
              "solidity": 0.2
             }
            },
            "type": "bar"
           }
          ],
          "barpolar": [
           {
            "marker": {
             "line": {
              "color": "#E5ECF6",
              "width": 0.5
             },
             "pattern": {
              "fillmode": "overlay",
              "size": 10,
              "solidity": 0.2
             }
            },
            "type": "barpolar"
           }
          ],
          "carpet": [
           {
            "aaxis": {
             "endlinecolor": "#2a3f5f",
             "gridcolor": "white",
             "linecolor": "white",
             "minorgridcolor": "white",
             "startlinecolor": "#2a3f5f"
            },
            "baxis": {
             "endlinecolor": "#2a3f5f",
             "gridcolor": "white",
             "linecolor": "white",
             "minorgridcolor": "white",
             "startlinecolor": "#2a3f5f"
            },
            "type": "carpet"
           }
          ],
          "choropleth": [
           {
            "colorbar": {
             "outlinewidth": 0,
             "ticks": ""
            },
            "type": "choropleth"
           }
          ],
          "contour": [
           {
            "colorbar": {
             "outlinewidth": 0,
             "ticks": ""
            },
            "colorscale": [
             [
              0,
              "#0d0887"
             ],
             [
              0.1111111111111111,
              "#46039f"
             ],
             [
              0.2222222222222222,
              "#7201a8"
             ],
             [
              0.3333333333333333,
              "#9c179e"
             ],
             [
              0.4444444444444444,
              "#bd3786"
             ],
             [
              0.5555555555555556,
              "#d8576b"
             ],
             [
              0.6666666666666666,
              "#ed7953"
             ],
             [
              0.7777777777777778,
              "#fb9f3a"
             ],
             [
              0.8888888888888888,
              "#fdca26"
             ],
             [
              1,
              "#f0f921"
             ]
            ],
            "type": "contour"
           }
          ],
          "contourcarpet": [
           {
            "colorbar": {
             "outlinewidth": 0,
             "ticks": ""
            },
            "type": "contourcarpet"
           }
          ],
          "heatmap": [
           {
            "colorbar": {
             "outlinewidth": 0,
             "ticks": ""
            },
            "colorscale": [
             [
              0,
              "#0d0887"
             ],
             [
              0.1111111111111111,
              "#46039f"
             ],
             [
              0.2222222222222222,
              "#7201a8"
             ],
             [
              0.3333333333333333,
              "#9c179e"
             ],
             [
              0.4444444444444444,
              "#bd3786"
             ],
             [
              0.5555555555555556,
              "#d8576b"
             ],
             [
              0.6666666666666666,
              "#ed7953"
             ],
             [
              0.7777777777777778,
              "#fb9f3a"
             ],
             [
              0.8888888888888888,
              "#fdca26"
             ],
             [
              1,
              "#f0f921"
             ]
            ],
            "type": "heatmap"
           }
          ],
          "histogram": [
           {
            "marker": {
             "pattern": {
              "fillmode": "overlay",
              "size": 10,
              "solidity": 0.2
             }
            },
            "type": "histogram"
           }
          ],
          "histogram2d": [
           {
            "colorbar": {
             "outlinewidth": 0,
             "ticks": ""
            },
            "colorscale": [
             [
              0,
              "#0d0887"
             ],
             [
              0.1111111111111111,
              "#46039f"
             ],
             [
              0.2222222222222222,
              "#7201a8"
             ],
             [
              0.3333333333333333,
              "#9c179e"
             ],
             [
              0.4444444444444444,
              "#bd3786"
             ],
             [
              0.5555555555555556,
              "#d8576b"
             ],
             [
              0.6666666666666666,
              "#ed7953"
             ],
             [
              0.7777777777777778,
              "#fb9f3a"
             ],
             [
              0.8888888888888888,
              "#fdca26"
             ],
             [
              1,
              "#f0f921"
             ]
            ],
            "type": "histogram2d"
           }
          ],
          "histogram2dcontour": [
           {
            "colorbar": {
             "outlinewidth": 0,
             "ticks": ""
            },
            "colorscale": [
             [
              0,
              "#0d0887"
             ],
             [
              0.1111111111111111,
              "#46039f"
             ],
             [
              0.2222222222222222,
              "#7201a8"
             ],
             [
              0.3333333333333333,
              "#9c179e"
             ],
             [
              0.4444444444444444,
              "#bd3786"
             ],
             [
              0.5555555555555556,
              "#d8576b"
             ],
             [
              0.6666666666666666,
              "#ed7953"
             ],
             [
              0.7777777777777778,
              "#fb9f3a"
             ],
             [
              0.8888888888888888,
              "#fdca26"
             ],
             [
              1,
              "#f0f921"
             ]
            ],
            "type": "histogram2dcontour"
           }
          ],
          "mesh3d": [
           {
            "colorbar": {
             "outlinewidth": 0,
             "ticks": ""
            },
            "type": "mesh3d"
           }
          ],
          "parcoords": [
           {
            "line": {
             "colorbar": {
              "outlinewidth": 0,
              "ticks": ""
             }
            },
            "type": "parcoords"
           }
          ],
          "pie": [
           {
            "automargin": true,
            "type": "pie"
           }
          ],
          "scatter": [
           {
            "fillpattern": {
             "fillmode": "overlay",
             "size": 10,
             "solidity": 0.2
            },
            "type": "scatter"
           }
          ],
          "scatter3d": [
           {
            "line": {
             "colorbar": {
              "outlinewidth": 0,
              "ticks": ""
             }
            },
            "marker": {
             "colorbar": {
              "outlinewidth": 0,
              "ticks": ""
             }
            },
            "type": "scatter3d"
           }
          ],
          "scattercarpet": [
           {
            "marker": {
             "colorbar": {
              "outlinewidth": 0,
              "ticks": ""
             }
            },
            "type": "scattercarpet"
           }
          ],
          "scattergeo": [
           {
            "marker": {
             "colorbar": {
              "outlinewidth": 0,
              "ticks": ""
             }
            },
            "type": "scattergeo"
           }
          ],
          "scattergl": [
           {
            "marker": {
             "colorbar": {
              "outlinewidth": 0,
              "ticks": ""
             }
            },
            "type": "scattergl"
           }
          ],
          "scattermap": [
           {
            "marker": {
             "colorbar": {
              "outlinewidth": 0,
              "ticks": ""
             }
            },
            "type": "scattermap"
           }
          ],
          "scattermapbox": [
           {
            "marker": {
             "colorbar": {
              "outlinewidth": 0,
              "ticks": ""
             }
            },
            "type": "scattermapbox"
           }
          ],
          "scatterpolar": [
           {
            "marker": {
             "colorbar": {
              "outlinewidth": 0,
              "ticks": ""
             }
            },
            "type": "scatterpolar"
           }
          ],
          "scatterpolargl": [
           {
            "marker": {
             "colorbar": {
              "outlinewidth": 0,
              "ticks": ""
             }
            },
            "type": "scatterpolargl"
           }
          ],
          "scatterternary": [
           {
            "marker": {
             "colorbar": {
              "outlinewidth": 0,
              "ticks": ""
             }
            },
            "type": "scatterternary"
           }
          ],
          "surface": [
           {
            "colorbar": {
             "outlinewidth": 0,
             "ticks": ""
            },
            "colorscale": [
             [
              0,
              "#0d0887"
             ],
             [
              0.1111111111111111,
              "#46039f"
             ],
             [
              0.2222222222222222,
              "#7201a8"
             ],
             [
              0.3333333333333333,
              "#9c179e"
             ],
             [
              0.4444444444444444,
              "#bd3786"
             ],
             [
              0.5555555555555556,
              "#d8576b"
             ],
             [
              0.6666666666666666,
              "#ed7953"
             ],
             [
              0.7777777777777778,
              "#fb9f3a"
             ],
             [
              0.8888888888888888,
              "#fdca26"
             ],
             [
              1,
              "#f0f921"
             ]
            ],
            "type": "surface"
           }
          ],
          "table": [
           {
            "cells": {
             "fill": {
              "color": "#EBF0F8"
             },
             "line": {
              "color": "white"
             }
            },
            "header": {
             "fill": {
              "color": "#C8D4E3"
             },
             "line": {
              "color": "white"
             }
            },
            "type": "table"
           }
          ]
         },
         "layout": {
          "annotationdefaults": {
           "arrowcolor": "#2a3f5f",
           "arrowhead": 0,
           "arrowwidth": 1
          },
          "autotypenumbers": "strict",
          "coloraxis": {
           "colorbar": {
            "outlinewidth": 0,
            "ticks": ""
           }
          },
          "colorscale": {
           "diverging": [
            [
             0,
             "#8e0152"
            ],
            [
             0.1,
             "#c51b7d"
            ],
            [
             0.2,
             "#de77ae"
            ],
            [
             0.3,
             "#f1b6da"
            ],
            [
             0.4,
             "#fde0ef"
            ],
            [
             0.5,
             "#f7f7f7"
            ],
            [
             0.6,
             "#e6f5d0"
            ],
            [
             0.7,
             "#b8e186"
            ],
            [
             0.8,
             "#7fbc41"
            ],
            [
             0.9,
             "#4d9221"
            ],
            [
             1,
             "#276419"
            ]
           ],
           "sequential": [
            [
             0,
             "#0d0887"
            ],
            [
             0.1111111111111111,
             "#46039f"
            ],
            [
             0.2222222222222222,
             "#7201a8"
            ],
            [
             0.3333333333333333,
             "#9c179e"
            ],
            [
             0.4444444444444444,
             "#bd3786"
            ],
            [
             0.5555555555555556,
             "#d8576b"
            ],
            [
             0.6666666666666666,
             "#ed7953"
            ],
            [
             0.7777777777777778,
             "#fb9f3a"
            ],
            [
             0.8888888888888888,
             "#fdca26"
            ],
            [
             1,
             "#f0f921"
            ]
           ],
           "sequentialminus": [
            [
             0,
             "#0d0887"
            ],
            [
             0.1111111111111111,
             "#46039f"
            ],
            [
             0.2222222222222222,
             "#7201a8"
            ],
            [
             0.3333333333333333,
             "#9c179e"
            ],
            [
             0.4444444444444444,
             "#bd3786"
            ],
            [
             0.5555555555555556,
             "#d8576b"
            ],
            [
             0.6666666666666666,
             "#ed7953"
            ],
            [
             0.7777777777777778,
             "#fb9f3a"
            ],
            [
             0.8888888888888888,
             "#fdca26"
            ],
            [
             1,
             "#f0f921"
            ]
           ]
          },
          "colorway": [
           "#636efa",
           "#EF553B",
           "#00cc96",
           "#ab63fa",
           "#FFA15A",
           "#19d3f3",
           "#FF6692",
           "#B6E880",
           "#FF97FF",
           "#FECB52"
          ],
          "font": {
           "color": "#2a3f5f"
          },
          "geo": {
           "bgcolor": "white",
           "lakecolor": "white",
           "landcolor": "#E5ECF6",
           "showlakes": true,
           "showland": true,
           "subunitcolor": "white"
          },
          "hoverlabel": {
           "align": "left"
          },
          "hovermode": "closest",
          "mapbox": {
           "style": "light"
          },
          "paper_bgcolor": "white",
          "plot_bgcolor": "#E5ECF6",
          "polar": {
           "angularaxis": {
            "gridcolor": "white",
            "linecolor": "white",
            "ticks": ""
           },
           "bgcolor": "#E5ECF6",
           "radialaxis": {
            "gridcolor": "white",
            "linecolor": "white",
            "ticks": ""
           }
          },
          "scene": {
           "xaxis": {
            "backgroundcolor": "#E5ECF6",
            "gridcolor": "white",
            "gridwidth": 2,
            "linecolor": "white",
            "showbackground": true,
            "ticks": "",
            "zerolinecolor": "white"
           },
           "yaxis": {
            "backgroundcolor": "#E5ECF6",
            "gridcolor": "white",
            "gridwidth": 2,
            "linecolor": "white",
            "showbackground": true,
            "ticks": "",
            "zerolinecolor": "white"
           },
           "zaxis": {
            "backgroundcolor": "#E5ECF6",
            "gridcolor": "white",
            "gridwidth": 2,
            "linecolor": "white",
            "showbackground": true,
            "ticks": "",
            "zerolinecolor": "white"
           }
          },
          "shapedefaults": {
           "line": {
            "color": "#2a3f5f"
           }
          },
          "ternary": {
           "aaxis": {
            "gridcolor": "white",
            "linecolor": "white",
            "ticks": ""
           },
           "baxis": {
            "gridcolor": "white",
            "linecolor": "white",
            "ticks": ""
           },
           "bgcolor": "#E5ECF6",
           "caxis": {
            "gridcolor": "white",
            "linecolor": "white",
            "ticks": ""
           }
          },
          "title": {
           "x": 0.05
          },
          "xaxis": {
           "automargin": true,
           "gridcolor": "white",
           "linecolor": "white",
           "ticks": "",
           "title": {
            "standoff": 15
           },
           "zerolinecolor": "white",
           "zerolinewidth": 2
          },
          "yaxis": {
           "automargin": true,
           "gridcolor": "white",
           "linecolor": "white",
           "ticks": "",
           "title": {
            "standoff": 15
           },
           "zerolinecolor": "white",
           "zerolinewidth": 2
          }
         }
        },
        "title": {
         "text": "Rice Production by Districts in West Bengal"
        },
        "xaxis": {
         "anchor": "y",
         "domain": [
          0,
          1
         ],
         "title": {
          "text": "Dist_Name"
         }
        },
        "yaxis": {
         "anchor": "x",
         "domain": [
          0,
          1
         ],
         "title": {
          "text": "Rice_Production"
         }
        }
       }
      }
     },
     "metadata": {},
     "output_type": "display_data"
    }
   ],
   "source": [
    "#7.Rice Production By West Bengal Districts\n",
    "wb_rice_production = df[df['State_Name'] == 'West Bengal'].groupby('Dist_Name')['Rice_Production'].sum().reset_index()\n",
    "fig_wb_rice = px.bar(wb_rice_production, x='Dist_Name', y='Rice_Production', color='Rice_Production',\n",
    "                     title='Rice Production by Districts in West Bengal')\n",
    "fig_wb_rice.show()"
   ]
  },
  {
   "cell_type": "code",
   "execution_count": 28,
   "id": "52126ebd",
   "metadata": {},
   "outputs": [
    {
     "data": {
      "application/vnd.plotly.v1+json": {
       "config": {
        "plotlyServerURL": "https://plot.ly"
       },
       "data": [
        {
         "hovertemplate": "Year=%{x}<br>Wheat_Production=%{marker.color}<extra></extra>",
         "legendgroup": "",
         "marker": {
          "color": {
           "bdata": "MzMzM9N64UDNzMzMHCbhQI/C9Sjsg99AH4XrUeje3kDXo3A9uuLdQFK4HoW7bdxAuB6F61Fc3EAzMzMzs0HbQFyPwvWYYNpAzczMzFzT2UA=",
           "dtype": "f8"
          },
          "coloraxis": "coloraxis",
          "pattern": {
           "shape": ""
          }
         },
         "name": "",
         "orientation": "v",
         "showlegend": false,
         "textposition": "auto",
         "type": "bar",
         "x": {
          "bdata": "4QfgB9sH3QfaB9gH3AfZB98H0wc=",
          "dtype": "i2"
         },
         "xaxis": "x",
         "y": {
          "bdata": "MzMzM9N64UDNzMzMHCbhQI/C9Sjsg99AH4XrUeje3kDXo3A9uuLdQFK4HoW7bdxAuB6F61Fc3EAzMzMzs0HbQFyPwvWYYNpAzczMzFzT2UA=",
          "dtype": "f8"
         },
         "yaxis": "y"
        }
       ],
       "layout": {
        "barmode": "relative",
        "coloraxis": {
         "colorbar": {
          "title": {
           "text": "Wheat_Production"
          }
         },
         "colorscale": [
          [
           0,
           "#0d0887"
          ],
          [
           0.1111111111111111,
           "#46039f"
          ],
          [
           0.2222222222222222,
           "#7201a8"
          ],
          [
           0.3333333333333333,
           "#9c179e"
          ],
          [
           0.4444444444444444,
           "#bd3786"
          ],
          [
           0.5555555555555556,
           "#d8576b"
          ],
          [
           0.6666666666666666,
           "#ed7953"
          ],
          [
           0.7777777777777778,
           "#fb9f3a"
          ],
          [
           0.8888888888888888,
           "#fdca26"
          ],
          [
           1,
           "#f0f921"
          ]
         ]
        },
        "legend": {
         "tracegroupgap": 0
        },
        "template": {
         "data": {
          "bar": [
           {
            "error_x": {
             "color": "#2a3f5f"
            },
            "error_y": {
             "color": "#2a3f5f"
            },
            "marker": {
             "line": {
              "color": "#E5ECF6",
              "width": 0.5
             },
             "pattern": {
              "fillmode": "overlay",
              "size": 10,
              "solidity": 0.2
             }
            },
            "type": "bar"
           }
          ],
          "barpolar": [
           {
            "marker": {
             "line": {
              "color": "#E5ECF6",
              "width": 0.5
             },
             "pattern": {
              "fillmode": "overlay",
              "size": 10,
              "solidity": 0.2
             }
            },
            "type": "barpolar"
           }
          ],
          "carpet": [
           {
            "aaxis": {
             "endlinecolor": "#2a3f5f",
             "gridcolor": "white",
             "linecolor": "white",
             "minorgridcolor": "white",
             "startlinecolor": "#2a3f5f"
            },
            "baxis": {
             "endlinecolor": "#2a3f5f",
             "gridcolor": "white",
             "linecolor": "white",
             "minorgridcolor": "white",
             "startlinecolor": "#2a3f5f"
            },
            "type": "carpet"
           }
          ],
          "choropleth": [
           {
            "colorbar": {
             "outlinewidth": 0,
             "ticks": ""
            },
            "type": "choropleth"
           }
          ],
          "contour": [
           {
            "colorbar": {
             "outlinewidth": 0,
             "ticks": ""
            },
            "colorscale": [
             [
              0,
              "#0d0887"
             ],
             [
              0.1111111111111111,
              "#46039f"
             ],
             [
              0.2222222222222222,
              "#7201a8"
             ],
             [
              0.3333333333333333,
              "#9c179e"
             ],
             [
              0.4444444444444444,
              "#bd3786"
             ],
             [
              0.5555555555555556,
              "#d8576b"
             ],
             [
              0.6666666666666666,
              "#ed7953"
             ],
             [
              0.7777777777777778,
              "#fb9f3a"
             ],
             [
              0.8888888888888888,
              "#fdca26"
             ],
             [
              1,
              "#f0f921"
             ]
            ],
            "type": "contour"
           }
          ],
          "contourcarpet": [
           {
            "colorbar": {
             "outlinewidth": 0,
             "ticks": ""
            },
            "type": "contourcarpet"
           }
          ],
          "heatmap": [
           {
            "colorbar": {
             "outlinewidth": 0,
             "ticks": ""
            },
            "colorscale": [
             [
              0,
              "#0d0887"
             ],
             [
              0.1111111111111111,
              "#46039f"
             ],
             [
              0.2222222222222222,
              "#7201a8"
             ],
             [
              0.3333333333333333,
              "#9c179e"
             ],
             [
              0.4444444444444444,
              "#bd3786"
             ],
             [
              0.5555555555555556,
              "#d8576b"
             ],
             [
              0.6666666666666666,
              "#ed7953"
             ],
             [
              0.7777777777777778,
              "#fb9f3a"
             ],
             [
              0.8888888888888888,
              "#fdca26"
             ],
             [
              1,
              "#f0f921"
             ]
            ],
            "type": "heatmap"
           }
          ],
          "histogram": [
           {
            "marker": {
             "pattern": {
              "fillmode": "overlay",
              "size": 10,
              "solidity": 0.2
             }
            },
            "type": "histogram"
           }
          ],
          "histogram2d": [
           {
            "colorbar": {
             "outlinewidth": 0,
             "ticks": ""
            },
            "colorscale": [
             [
              0,
              "#0d0887"
             ],
             [
              0.1111111111111111,
              "#46039f"
             ],
             [
              0.2222222222222222,
              "#7201a8"
             ],
             [
              0.3333333333333333,
              "#9c179e"
             ],
             [
              0.4444444444444444,
              "#bd3786"
             ],
             [
              0.5555555555555556,
              "#d8576b"
             ],
             [
              0.6666666666666666,
              "#ed7953"
             ],
             [
              0.7777777777777778,
              "#fb9f3a"
             ],
             [
              0.8888888888888888,
              "#fdca26"
             ],
             [
              1,
              "#f0f921"
             ]
            ],
            "type": "histogram2d"
           }
          ],
          "histogram2dcontour": [
           {
            "colorbar": {
             "outlinewidth": 0,
             "ticks": ""
            },
            "colorscale": [
             [
              0,
              "#0d0887"
             ],
             [
              0.1111111111111111,
              "#46039f"
             ],
             [
              0.2222222222222222,
              "#7201a8"
             ],
             [
              0.3333333333333333,
              "#9c179e"
             ],
             [
              0.4444444444444444,
              "#bd3786"
             ],
             [
              0.5555555555555556,
              "#d8576b"
             ],
             [
              0.6666666666666666,
              "#ed7953"
             ],
             [
              0.7777777777777778,
              "#fb9f3a"
             ],
             [
              0.8888888888888888,
              "#fdca26"
             ],
             [
              1,
              "#f0f921"
             ]
            ],
            "type": "histogram2dcontour"
           }
          ],
          "mesh3d": [
           {
            "colorbar": {
             "outlinewidth": 0,
             "ticks": ""
            },
            "type": "mesh3d"
           }
          ],
          "parcoords": [
           {
            "line": {
             "colorbar": {
              "outlinewidth": 0,
              "ticks": ""
             }
            },
            "type": "parcoords"
           }
          ],
          "pie": [
           {
            "automargin": true,
            "type": "pie"
           }
          ],
          "scatter": [
           {
            "fillpattern": {
             "fillmode": "overlay",
             "size": 10,
             "solidity": 0.2
            },
            "type": "scatter"
           }
          ],
          "scatter3d": [
           {
            "line": {
             "colorbar": {
              "outlinewidth": 0,
              "ticks": ""
             }
            },
            "marker": {
             "colorbar": {
              "outlinewidth": 0,
              "ticks": ""
             }
            },
            "type": "scatter3d"
           }
          ],
          "scattercarpet": [
           {
            "marker": {
             "colorbar": {
              "outlinewidth": 0,
              "ticks": ""
             }
            },
            "type": "scattercarpet"
           }
          ],
          "scattergeo": [
           {
            "marker": {
             "colorbar": {
              "outlinewidth": 0,
              "ticks": ""
             }
            },
            "type": "scattergeo"
           }
          ],
          "scattergl": [
           {
            "marker": {
             "colorbar": {
              "outlinewidth": 0,
              "ticks": ""
             }
            },
            "type": "scattergl"
           }
          ],
          "scattermap": [
           {
            "marker": {
             "colorbar": {
              "outlinewidth": 0,
              "ticks": ""
             }
            },
            "type": "scattermap"
           }
          ],
          "scattermapbox": [
           {
            "marker": {
             "colorbar": {
              "outlinewidth": 0,
              "ticks": ""
             }
            },
            "type": "scattermapbox"
           }
          ],
          "scatterpolar": [
           {
            "marker": {
             "colorbar": {
              "outlinewidth": 0,
              "ticks": ""
             }
            },
            "type": "scatterpolar"
           }
          ],
          "scatterpolargl": [
           {
            "marker": {
             "colorbar": {
              "outlinewidth": 0,
              "ticks": ""
             }
            },
            "type": "scatterpolargl"
           }
          ],
          "scatterternary": [
           {
            "marker": {
             "colorbar": {
              "outlinewidth": 0,
              "ticks": ""
             }
            },
            "type": "scatterternary"
           }
          ],
          "surface": [
           {
            "colorbar": {
             "outlinewidth": 0,
             "ticks": ""
            },
            "colorscale": [
             [
              0,
              "#0d0887"
             ],
             [
              0.1111111111111111,
              "#46039f"
             ],
             [
              0.2222222222222222,
              "#7201a8"
             ],
             [
              0.3333333333333333,
              "#9c179e"
             ],
             [
              0.4444444444444444,
              "#bd3786"
             ],
             [
              0.5555555555555556,
              "#d8576b"
             ],
             [
              0.6666666666666666,
              "#ed7953"
             ],
             [
              0.7777777777777778,
              "#fb9f3a"
             ],
             [
              0.8888888888888888,
              "#fdca26"
             ],
             [
              1,
              "#f0f921"
             ]
            ],
            "type": "surface"
           }
          ],
          "table": [
           {
            "cells": {
             "fill": {
              "color": "#EBF0F8"
             },
             "line": {
              "color": "white"
             }
            },
            "header": {
             "fill": {
              "color": "#C8D4E3"
             },
             "line": {
              "color": "white"
             }
            },
            "type": "table"
           }
          ]
         },
         "layout": {
          "annotationdefaults": {
           "arrowcolor": "#2a3f5f",
           "arrowhead": 0,
           "arrowwidth": 1
          },
          "autotypenumbers": "strict",
          "coloraxis": {
           "colorbar": {
            "outlinewidth": 0,
            "ticks": ""
           }
          },
          "colorscale": {
           "diverging": [
            [
             0,
             "#8e0152"
            ],
            [
             0.1,
             "#c51b7d"
            ],
            [
             0.2,
             "#de77ae"
            ],
            [
             0.3,
             "#f1b6da"
            ],
            [
             0.4,
             "#fde0ef"
            ],
            [
             0.5,
             "#f7f7f7"
            ],
            [
             0.6,
             "#e6f5d0"
            ],
            [
             0.7,
             "#b8e186"
            ],
            [
             0.8,
             "#7fbc41"
            ],
            [
             0.9,
             "#4d9221"
            ],
            [
             1,
             "#276419"
            ]
           ],
           "sequential": [
            [
             0,
             "#0d0887"
            ],
            [
             0.1111111111111111,
             "#46039f"
            ],
            [
             0.2222222222222222,
             "#7201a8"
            ],
            [
             0.3333333333333333,
             "#9c179e"
            ],
            [
             0.4444444444444444,
             "#bd3786"
            ],
            [
             0.5555555555555556,
             "#d8576b"
            ],
            [
             0.6666666666666666,
             "#ed7953"
            ],
            [
             0.7777777777777778,
             "#fb9f3a"
            ],
            [
             0.8888888888888888,
             "#fdca26"
            ],
            [
             1,
             "#f0f921"
            ]
           ],
           "sequentialminus": [
            [
             0,
             "#0d0887"
            ],
            [
             0.1111111111111111,
             "#46039f"
            ],
            [
             0.2222222222222222,
             "#7201a8"
            ],
            [
             0.3333333333333333,
             "#9c179e"
            ],
            [
             0.4444444444444444,
             "#bd3786"
            ],
            [
             0.5555555555555556,
             "#d8576b"
            ],
            [
             0.6666666666666666,
             "#ed7953"
            ],
            [
             0.7777777777777778,
             "#fb9f3a"
            ],
            [
             0.8888888888888888,
             "#fdca26"
            ],
            [
             1,
             "#f0f921"
            ]
           ]
          },
          "colorway": [
           "#636efa",
           "#EF553B",
           "#00cc96",
           "#ab63fa",
           "#FFA15A",
           "#19d3f3",
           "#FF6692",
           "#B6E880",
           "#FF97FF",
           "#FECB52"
          ],
          "font": {
           "color": "#2a3f5f"
          },
          "geo": {
           "bgcolor": "white",
           "lakecolor": "white",
           "landcolor": "#E5ECF6",
           "showlakes": true,
           "showland": true,
           "subunitcolor": "white"
          },
          "hoverlabel": {
           "align": "left"
          },
          "hovermode": "closest",
          "mapbox": {
           "style": "light"
          },
          "paper_bgcolor": "white",
          "plot_bgcolor": "#E5ECF6",
          "polar": {
           "angularaxis": {
            "gridcolor": "white",
            "linecolor": "white",
            "ticks": ""
           },
           "bgcolor": "#E5ECF6",
           "radialaxis": {
            "gridcolor": "white",
            "linecolor": "white",
            "ticks": ""
           }
          },
          "scene": {
           "xaxis": {
            "backgroundcolor": "#E5ECF6",
            "gridcolor": "white",
            "gridwidth": 2,
            "linecolor": "white",
            "showbackground": true,
            "ticks": "",
            "zerolinecolor": "white"
           },
           "yaxis": {
            "backgroundcolor": "#E5ECF6",
            "gridcolor": "white",
            "gridwidth": 2,
            "linecolor": "white",
            "showbackground": true,
            "ticks": "",
            "zerolinecolor": "white"
           },
           "zaxis": {
            "backgroundcolor": "#E5ECF6",
            "gridcolor": "white",
            "gridwidth": 2,
            "linecolor": "white",
            "showbackground": true,
            "ticks": "",
            "zerolinecolor": "white"
           }
          },
          "shapedefaults": {
           "line": {
            "color": "#2a3f5f"
           }
          },
          "ternary": {
           "aaxis": {
            "gridcolor": "white",
            "linecolor": "white",
            "ticks": ""
           },
           "baxis": {
            "gridcolor": "white",
            "linecolor": "white",
            "ticks": ""
           },
           "bgcolor": "#E5ECF6",
           "caxis": {
            "gridcolor": "white",
            "linecolor": "white",
            "ticks": ""
           }
          },
          "title": {
           "x": 0.05
          },
          "xaxis": {
           "automargin": true,
           "gridcolor": "white",
           "linecolor": "white",
           "ticks": "",
           "title": {
            "standoff": 15
           },
           "zerolinecolor": "white",
           "zerolinewidth": 2
          },
          "yaxis": {
           "automargin": true,
           "gridcolor": "white",
           "linecolor": "white",
           "ticks": "",
           "title": {
            "standoff": 15
           },
           "zerolinecolor": "white",
           "zerolinewidth": 2
          }
         }
        },
        "title": {
         "text": "Top 10 Wheat Production Years in Uttar Pradesh"
        },
        "xaxis": {
         "anchor": "y",
         "domain": [
          0,
          1
         ],
         "title": {
          "text": "Year"
         }
        },
        "yaxis": {
         "anchor": "x",
         "domain": [
          0,
          1
         ],
         "title": {
          "text": "Wheat_Production"
         }
        }
       }
      }
     },
     "metadata": {},
     "output_type": "display_data"
    }
   ],
   "source": [
    "#8.Top 10 Wheat Production Years From UP\n",
    "up_wheat_production = df[df['State_Name'] == 'Uttar Pradesh'].groupby('Year')['Wheat_Production'].sum().sort_values(ascending=False).head(10).reset_index()\n",
    "fig_up_wheat = px.bar(up_wheat_production, x='Year', y='Wheat_Production', color='Wheat_Production',\n",
    "                      title='Top 10 Wheat Production Years in Uttar Pradesh')\n",
    "fig_up_wheat.show()"
   ]
  },
  {
   "cell_type": "code",
   "execution_count": 31,
   "id": "19475fdb",
   "metadata": {},
   "outputs": [
    {
     "data": {
      "application/vnd.plotly.v1+json": {
       "config": {
        "plotlyServerURL": "https://plot.ly"
       },
       "data": [
        {
         "hovertemplate": "variable=Pearl_Millet_Production<br>Year=%{x}<br>value=%{y}<extra></extra>",
         "legendgroup": "Pearl_Millet_Production",
         "line": {
          "color": "#636efa",
          "dash": "solid"
         },
         "marker": {
          "symbol": "circle"
         },
         "mode": "lines",
         "name": "Pearl_Millet_Production",
         "orientation": "v",
         "showlegend": true,
         "type": "scatter",
         "x": {
          "bdata": "rgevB7AHsQeyB7MHtAe1B7YHtwe4B7kHuge7B7wHvQe+B78HwAfBB8IHwwfEB8UHxgfHB8gHyQfKB8sHzAfNB84HzwfQB9EH0gfTB9QH1QfWB9cH2AfZB9oH2wfcB90H3gffB+AH4Qc=",
          "dtype": "i2"
         },
         "xaxis": "x",
         "y": {
          "bdata": "w/UoXA+8sUAK16Nw/X60QGZmZmbmGq5AUrgehWuMtUBcj8L1KFK/QKRwPQrXgrRASOF6FK6+rkDNzMzMDGK8QFK4HoXreKpArkfhehT5tUDXo3A9Sv+1QArXo3D9crJAj8L1KFyGtUAK16NwvbexQB+F61G487RAH4XrUXjwtEDrUbgehfazQPYoXI9Cs71AmpmZmdkHuEDsUbgehaCsQI/C9ShcbbFAKVyPwvU3qkDNzMzMjPe9QBWuR+G6SrpAMzMzM3NWu0DD9ShczzmyQClcj8J1vcFAuB6F61FNtECamZmZ2S+8QArXo3B9ZbVApHA9ClfAvkBxPQrXoye+QJqZmZmZubtAmpmZmVkMt0CkcD0Kl/e6QK5H4Xq0nsBAw/UoXM9Zs0Bcj8L1iMLHQHsUrkeh9b5AUrgehWvsu0AUrkfhGl/AQLgehetRpsNAuB6F6zGTwUD2KFyPgsW5QK5H4Xp0LMhAFa5H4bo+yEB7FK5HYTrBQOF6FK5nZcNA7FG4HoViwkB7FK5HIX2+QPYoXI8CJcNAMzMzMxMhwkA=",
          "dtype": "f8"
         },
         "yaxis": "y"
        },
        {
         "hovertemplate": "variable=Finger_Millet_Production<br>Year=%{x}<br>value=%{y}<extra></extra>",
         "legendgroup": "Finger_Millet_Production",
         "line": {
          "color": "#EF553B",
          "dash": "solid"
         },
         "marker": {
          "symbol": "circle"
         },
         "mode": "lines",
         "name": "Finger_Millet_Production",
         "orientation": "v",
         "showlegend": true,
         "type": "scatter",
         "x": {
          "bdata": "rgevB7AHsQeyB7MHtAe1B7YHtwe4B7kHuge7B7wHvQe+B78HwAfBB8IHwwfEB8UHxgfHB8gHyQfKB8sHzAfNB84HzwfQB9EH0gfTB9QH1QfWB9cH2AfZB9oH2wfcB90H3gffB+AH4Qc=",
          "dtype": "i2"
         },
         "xaxis": "x",
         "y": {
          "bdata": "cT0K16NlmkCamZmZmfuaQMP1KFyP45dAZmZmZmbvmUDhehSuR12dQDMzMzMzW59AKVyPwvV+mkDXo3A9Cl+dQAAAAAAArJ9AKVyPwvW4pEDXo3A9CvSeQArXo3C9cKdAuB6F69FnqEAK16NwvTmlQArXo3A9GqNAH4XrUThzpkCPwvUoXBqkQClcj8J1RKdASOF6FK7iokB7FK5H4WajQLgehevRm6RAUrgehevWoUAUrkfh+oWiQOtRuB6FV6VACtejcL1BoEC4HoXr0WOiQPYoXI9CbqNAzczMzExApEB7FK5H4ZWhQOxRuB6Fs6JAZmZmZubUoEAfhetRuKOeQM3MzMxMT6NAzczMzEyRokAAAAAAgD6lQGZmZmbm/KJA16NwPQrdlUAfhetRuJ6eQLgehevRvKJAzczMzMzaokBcj8L1KNqVQAAAAACA6qBArkfhehT1nkBcj8L1KIWdQFK4HoVr0qFArkfhehQCoEDXo3A9CraZQEjhehQus6BAexSuR+GooEBH4XoUruedQHsUrkfhHpFA4XoUrkccokA=",
          "dtype": "f8"
         },
         "yaxis": "y"
        }
       ],
       "layout": {
        "legend": {
         "title": {
          "text": "variable"
         },
         "tracegroupgap": 0
        },
        "template": {
         "data": {
          "bar": [
           {
            "error_x": {
             "color": "#2a3f5f"
            },
            "error_y": {
             "color": "#2a3f5f"
            },
            "marker": {
             "line": {
              "color": "#E5ECF6",
              "width": 0.5
             },
             "pattern": {
              "fillmode": "overlay",
              "size": 10,
              "solidity": 0.2
             }
            },
            "type": "bar"
           }
          ],
          "barpolar": [
           {
            "marker": {
             "line": {
              "color": "#E5ECF6",
              "width": 0.5
             },
             "pattern": {
              "fillmode": "overlay",
              "size": 10,
              "solidity": 0.2
             }
            },
            "type": "barpolar"
           }
          ],
          "carpet": [
           {
            "aaxis": {
             "endlinecolor": "#2a3f5f",
             "gridcolor": "white",
             "linecolor": "white",
             "minorgridcolor": "white",
             "startlinecolor": "#2a3f5f"
            },
            "baxis": {
             "endlinecolor": "#2a3f5f",
             "gridcolor": "white",
             "linecolor": "white",
             "minorgridcolor": "white",
             "startlinecolor": "#2a3f5f"
            },
            "type": "carpet"
           }
          ],
          "choropleth": [
           {
            "colorbar": {
             "outlinewidth": 0,
             "ticks": ""
            },
            "type": "choropleth"
           }
          ],
          "contour": [
           {
            "colorbar": {
             "outlinewidth": 0,
             "ticks": ""
            },
            "colorscale": [
             [
              0,
              "#0d0887"
             ],
             [
              0.1111111111111111,
              "#46039f"
             ],
             [
              0.2222222222222222,
              "#7201a8"
             ],
             [
              0.3333333333333333,
              "#9c179e"
             ],
             [
              0.4444444444444444,
              "#bd3786"
             ],
             [
              0.5555555555555556,
              "#d8576b"
             ],
             [
              0.6666666666666666,
              "#ed7953"
             ],
             [
              0.7777777777777778,
              "#fb9f3a"
             ],
             [
              0.8888888888888888,
              "#fdca26"
             ],
             [
              1,
              "#f0f921"
             ]
            ],
            "type": "contour"
           }
          ],
          "contourcarpet": [
           {
            "colorbar": {
             "outlinewidth": 0,
             "ticks": ""
            },
            "type": "contourcarpet"
           }
          ],
          "heatmap": [
           {
            "colorbar": {
             "outlinewidth": 0,
             "ticks": ""
            },
            "colorscale": [
             [
              0,
              "#0d0887"
             ],
             [
              0.1111111111111111,
              "#46039f"
             ],
             [
              0.2222222222222222,
              "#7201a8"
             ],
             [
              0.3333333333333333,
              "#9c179e"
             ],
             [
              0.4444444444444444,
              "#bd3786"
             ],
             [
              0.5555555555555556,
              "#d8576b"
             ],
             [
              0.6666666666666666,
              "#ed7953"
             ],
             [
              0.7777777777777778,
              "#fb9f3a"
             ],
             [
              0.8888888888888888,
              "#fdca26"
             ],
             [
              1,
              "#f0f921"
             ]
            ],
            "type": "heatmap"
           }
          ],
          "histogram": [
           {
            "marker": {
             "pattern": {
              "fillmode": "overlay",
              "size": 10,
              "solidity": 0.2
             }
            },
            "type": "histogram"
           }
          ],
          "histogram2d": [
           {
            "colorbar": {
             "outlinewidth": 0,
             "ticks": ""
            },
            "colorscale": [
             [
              0,
              "#0d0887"
             ],
             [
              0.1111111111111111,
              "#46039f"
             ],
             [
              0.2222222222222222,
              "#7201a8"
             ],
             [
              0.3333333333333333,
              "#9c179e"
             ],
             [
              0.4444444444444444,
              "#bd3786"
             ],
             [
              0.5555555555555556,
              "#d8576b"
             ],
             [
              0.6666666666666666,
              "#ed7953"
             ],
             [
              0.7777777777777778,
              "#fb9f3a"
             ],
             [
              0.8888888888888888,
              "#fdca26"
             ],
             [
              1,
              "#f0f921"
             ]
            ],
            "type": "histogram2d"
           }
          ],
          "histogram2dcontour": [
           {
            "colorbar": {
             "outlinewidth": 0,
             "ticks": ""
            },
            "colorscale": [
             [
              0,
              "#0d0887"
             ],
             [
              0.1111111111111111,
              "#46039f"
             ],
             [
              0.2222222222222222,
              "#7201a8"
             ],
             [
              0.3333333333333333,
              "#9c179e"
             ],
             [
              0.4444444444444444,
              "#bd3786"
             ],
             [
              0.5555555555555556,
              "#d8576b"
             ],
             [
              0.6666666666666666,
              "#ed7953"
             ],
             [
              0.7777777777777778,
              "#fb9f3a"
             ],
             [
              0.8888888888888888,
              "#fdca26"
             ],
             [
              1,
              "#f0f921"
             ]
            ],
            "type": "histogram2dcontour"
           }
          ],
          "mesh3d": [
           {
            "colorbar": {
             "outlinewidth": 0,
             "ticks": ""
            },
            "type": "mesh3d"
           }
          ],
          "parcoords": [
           {
            "line": {
             "colorbar": {
              "outlinewidth": 0,
              "ticks": ""
             }
            },
            "type": "parcoords"
           }
          ],
          "pie": [
           {
            "automargin": true,
            "type": "pie"
           }
          ],
          "scatter": [
           {
            "fillpattern": {
             "fillmode": "overlay",
             "size": 10,
             "solidity": 0.2
            },
            "type": "scatter"
           }
          ],
          "scatter3d": [
           {
            "line": {
             "colorbar": {
              "outlinewidth": 0,
              "ticks": ""
             }
            },
            "marker": {
             "colorbar": {
              "outlinewidth": 0,
              "ticks": ""
             }
            },
            "type": "scatter3d"
           }
          ],
          "scattercarpet": [
           {
            "marker": {
             "colorbar": {
              "outlinewidth": 0,
              "ticks": ""
             }
            },
            "type": "scattercarpet"
           }
          ],
          "scattergeo": [
           {
            "marker": {
             "colorbar": {
              "outlinewidth": 0,
              "ticks": ""
             }
            },
            "type": "scattergeo"
           }
          ],
          "scattergl": [
           {
            "marker": {
             "colorbar": {
              "outlinewidth": 0,
              "ticks": ""
             }
            },
            "type": "scattergl"
           }
          ],
          "scattermap": [
           {
            "marker": {
             "colorbar": {
              "outlinewidth": 0,
              "ticks": ""
             }
            },
            "type": "scattermap"
           }
          ],
          "scattermapbox": [
           {
            "marker": {
             "colorbar": {
              "outlinewidth": 0,
              "ticks": ""
             }
            },
            "type": "scattermapbox"
           }
          ],
          "scatterpolar": [
           {
            "marker": {
             "colorbar": {
              "outlinewidth": 0,
              "ticks": ""
             }
            },
            "type": "scatterpolar"
           }
          ],
          "scatterpolargl": [
           {
            "marker": {
             "colorbar": {
              "outlinewidth": 0,
              "ticks": ""
             }
            },
            "type": "scatterpolargl"
           }
          ],
          "scatterternary": [
           {
            "marker": {
             "colorbar": {
              "outlinewidth": 0,
              "ticks": ""
             }
            },
            "type": "scatterternary"
           }
          ],
          "surface": [
           {
            "colorbar": {
             "outlinewidth": 0,
             "ticks": ""
            },
            "colorscale": [
             [
              0,
              "#0d0887"
             ],
             [
              0.1111111111111111,
              "#46039f"
             ],
             [
              0.2222222222222222,
              "#7201a8"
             ],
             [
              0.3333333333333333,
              "#9c179e"
             ],
             [
              0.4444444444444444,
              "#bd3786"
             ],
             [
              0.5555555555555556,
              "#d8576b"
             ],
             [
              0.6666666666666666,
              "#ed7953"
             ],
             [
              0.7777777777777778,
              "#fb9f3a"
             ],
             [
              0.8888888888888888,
              "#fdca26"
             ],
             [
              1,
              "#f0f921"
             ]
            ],
            "type": "surface"
           }
          ],
          "table": [
           {
            "cells": {
             "fill": {
              "color": "#EBF0F8"
             },
             "line": {
              "color": "white"
             }
            },
            "header": {
             "fill": {
              "color": "#C8D4E3"
             },
             "line": {
              "color": "white"
             }
            },
            "type": "table"
           }
          ]
         },
         "layout": {
          "annotationdefaults": {
           "arrowcolor": "#2a3f5f",
           "arrowhead": 0,
           "arrowwidth": 1
          },
          "autotypenumbers": "strict",
          "coloraxis": {
           "colorbar": {
            "outlinewidth": 0,
            "ticks": ""
           }
          },
          "colorscale": {
           "diverging": [
            [
             0,
             "#8e0152"
            ],
            [
             0.1,
             "#c51b7d"
            ],
            [
             0.2,
             "#de77ae"
            ],
            [
             0.3,
             "#f1b6da"
            ],
            [
             0.4,
             "#fde0ef"
            ],
            [
             0.5,
             "#f7f7f7"
            ],
            [
             0.6,
             "#e6f5d0"
            ],
            [
             0.7,
             "#b8e186"
            ],
            [
             0.8,
             "#7fbc41"
            ],
            [
             0.9,
             "#4d9221"
            ],
            [
             1,
             "#276419"
            ]
           ],
           "sequential": [
            [
             0,
             "#0d0887"
            ],
            [
             0.1111111111111111,
             "#46039f"
            ],
            [
             0.2222222222222222,
             "#7201a8"
            ],
            [
             0.3333333333333333,
             "#9c179e"
            ],
            [
             0.4444444444444444,
             "#bd3786"
            ],
            [
             0.5555555555555556,
             "#d8576b"
            ],
            [
             0.6666666666666666,
             "#ed7953"
            ],
            [
             0.7777777777777778,
             "#fb9f3a"
            ],
            [
             0.8888888888888888,
             "#fdca26"
            ],
            [
             1,
             "#f0f921"
            ]
           ],
           "sequentialminus": [
            [
             0,
             "#0d0887"
            ],
            [
             0.1111111111111111,
             "#46039f"
            ],
            [
             0.2222222222222222,
             "#7201a8"
            ],
            [
             0.3333333333333333,
             "#9c179e"
            ],
            [
             0.4444444444444444,
             "#bd3786"
            ],
            [
             0.5555555555555556,
             "#d8576b"
            ],
            [
             0.6666666666666666,
             "#ed7953"
            ],
            [
             0.7777777777777778,
             "#fb9f3a"
            ],
            [
             0.8888888888888888,
             "#fdca26"
            ],
            [
             1,
             "#f0f921"
            ]
           ]
          },
          "colorway": [
           "#636efa",
           "#EF553B",
           "#00cc96",
           "#ab63fa",
           "#FFA15A",
           "#19d3f3",
           "#FF6692",
           "#B6E880",
           "#FF97FF",
           "#FECB52"
          ],
          "font": {
           "color": "#2a3f5f"
          },
          "geo": {
           "bgcolor": "white",
           "lakecolor": "white",
           "landcolor": "#E5ECF6",
           "showlakes": true,
           "showland": true,
           "subunitcolor": "white"
          },
          "hoverlabel": {
           "align": "left"
          },
          "hovermode": "closest",
          "mapbox": {
           "style": "light"
          },
          "paper_bgcolor": "white",
          "plot_bgcolor": "#E5ECF6",
          "polar": {
           "angularaxis": {
            "gridcolor": "white",
            "linecolor": "white",
            "ticks": ""
           },
           "bgcolor": "#E5ECF6",
           "radialaxis": {
            "gridcolor": "white",
            "linecolor": "white",
            "ticks": ""
           }
          },
          "scene": {
           "xaxis": {
            "backgroundcolor": "#E5ECF6",
            "gridcolor": "white",
            "gridwidth": 2,
            "linecolor": "white",
            "showbackground": true,
            "ticks": "",
            "zerolinecolor": "white"
           },
           "yaxis": {
            "backgroundcolor": "#E5ECF6",
            "gridcolor": "white",
            "gridwidth": 2,
            "linecolor": "white",
            "showbackground": true,
            "ticks": "",
            "zerolinecolor": "white"
           },
           "zaxis": {
            "backgroundcolor": "#E5ECF6",
            "gridcolor": "white",
            "gridwidth": 2,
            "linecolor": "white",
            "showbackground": true,
            "ticks": "",
            "zerolinecolor": "white"
           }
          },
          "shapedefaults": {
           "line": {
            "color": "#2a3f5f"
           }
          },
          "ternary": {
           "aaxis": {
            "gridcolor": "white",
            "linecolor": "white",
            "ticks": ""
           },
           "baxis": {
            "gridcolor": "white",
            "linecolor": "white",
            "ticks": ""
           },
           "bgcolor": "#E5ECF6",
           "caxis": {
            "gridcolor": "white",
            "linecolor": "white",
            "ticks": ""
           }
          },
          "title": {
           "x": 0.05
          },
          "xaxis": {
           "automargin": true,
           "gridcolor": "white",
           "linecolor": "white",
           "ticks": "",
           "title": {
            "standoff": 15
           },
           "zerolinecolor": "white",
           "zerolinewidth": 2
          },
          "yaxis": {
           "automargin": true,
           "gridcolor": "white",
           "linecolor": "white",
           "ticks": "",
           "title": {
            "standoff": 15
           },
           "zerolinecolor": "white",
           "zerolinewidth": 2
          }
         }
        },
        "title": {
         "text": "Millet Production in India - Last 50 Years"
        },
        "xaxis": {
         "anchor": "y",
         "domain": [
          0,
          1
         ],
         "title": {
          "text": "Year"
         }
        },
        "yaxis": {
         "anchor": "x",
         "domain": [
          0,
          1
         ],
         "title": {
          "text": "value"
         }
        }
       }
      }
     },
     "metadata": {},
     "output_type": "display_data"
    }
   ],
   "source": [
    "#9.Millet Production (Last 50y)\n",
    "millet_production = df.groupby('Year')[['Pearl_Millet_Production','Finger_Millet_Production']].sum().reset_index()\n",
    "fig_millet = px.line(millet_production, x='Year', y=['Pearl_Millet_Production','Finger_Millet_Production'], title='Millet Production in India - Last 50 Years')\n",
    "fig_millet.show()"
   ]
  },
  {
   "cell_type": "code",
   "execution_count": 59,
   "id": "60574b2b",
   "metadata": {},
   "outputs": [
    {
     "data": {
      "application/vnd.plotly.v1+json": {
       "config": {
        "plotlyServerURL": "https://plot.ly"
       },
       "data": [
        {
         "hovertemplate": "Season=Kharif_Sorghum_Production<br>State=%{x}<br>Production (1000 Tons)=%{y}<extra></extra>",
         "legendgroup": "Kharif_Sorghum_Production",
         "marker": {
          "color": "#636efa",
          "pattern": {
           "shape": ""
          }
         },
         "name": "Kharif_Sorghum_Production",
         "orientation": "v",
         "showlegend": true,
         "textposition": "auto",
         "type": "bar",
         "x": [
          "Andhra Pradesh",
          "Assam",
          "Bihar",
          "Chhattisgarh",
          "Gujarat",
          "Haryana",
          "Himachal Pradesh",
          "Jharkhand",
          "Karnataka",
          "Kerala",
          "Madhya Pradesh",
          "Maharashtra",
          "Orissa",
          "Punjab",
          "Rajasthan",
          "Tamil Nadu",
          "Telangana",
          "Uttar Pradesh",
          "Uttarakhand",
          "West Bengal"
         ],
         "xaxis": "x",
         "y": {
          "bdata": "H4XrUXgzuEAAAAAAAAAAAB+F61G4Xl9A7FG4HoUDfUDD9ShcjzbGQAAAAAAA+JpAzczMzMwsQ8AUrkfhehQtQB+F61H4OeFAMzMzMzPzSkD2KFyPWqjrQOF6FK73evxAAAAAAABMhkBnZmZmZqZJQOxRuB6ldNBAmpmZmRmv0UDNzMzMjAbLQDMzMzOT6tFAZ2ZmZmZm9j+F61G4HoUhQA==",
          "dtype": "f8"
         },
         "yaxis": "y"
        },
        {
         "hovertemplate": "Season=Rabi_Sorghum_Production<br>State=%{x}<br>Production (1000 Tons)=%{y}<extra></extra>",
         "legendgroup": "Rabi_Sorghum_Production",
         "marker": {
          "color": "#EF553B",
          "pattern": {
           "shape": ""
          }
         },
         "name": "Rabi_Sorghum_Production",
         "orientation": "v",
         "showlegend": true,
         "textposition": "auto",
         "type": "bar",
         "x": [
          "Andhra Pradesh",
          "Assam",
          "Bihar",
          "Chhattisgarh",
          "Gujarat",
          "Haryana",
          "Himachal Pradesh",
          "Jharkhand",
          "Karnataka",
          "Kerala",
          "Madhya Pradesh",
          "Maharashtra",
          "Orissa",
          "Punjab",
          "Rajasthan",
          "Tamil Nadu",
          "Telangana",
          "Uttar Pradesh",
          "Uttarakhand",
          "West Bengal"
         ],
         "xaxis": "x",
         "y": {
          "bdata": "ZmZmZmY9xkAAAAAAAAAAAAAAAAAAAAAAzczMzMxMO0CamZmZme2wQAAAAAAAAAAAAAAAAAAARMAAAAAAAAAAAPYoXI864ORAAAAAAAAAAABcj8L1KCxdQArXo3Dt3PRAAAAAAAAAAAAAAAAAAAAAAAAAAAAAAAAApHA9ClectUDXo3A9qlbHQAAAAAAAAAAAAAAAAAAAAAB7FK5H4XqUPw==",
          "dtype": "f8"
         },
         "yaxis": "y"
        },
        {
         "hovertemplate": "Season=Sorghum_Production<br>State=%{x}<br>Production (1000 Tons)=%{y}<extra></extra>",
         "legendgroup": "Sorghum_Production",
         "marker": {
          "color": "#00cc96",
          "pattern": {
           "shape": ""
          }
         },
         "name": "Sorghum_Production",
         "orientation": "v",
         "showlegend": true,
         "textposition": "auto",
         "type": "bar",
         "x": [
          "Andhra Pradesh",
          "Assam",
          "Bihar",
          "Chhattisgarh",
          "Gujarat",
          "Haryana",
          "Himachal Pradesh",
          "Jharkhand",
          "Karnataka",
          "Kerala",
          "Madhya Pradesh",
          "Maharashtra",
          "Orissa",
          "Punjab",
          "Rajasthan",
          "Tamil Nadu",
          "Telangana",
          "Uttar Pradesh",
          "Uttarakhand",
          "West Bengal"
         ],
         "xaxis": "x",
         "y": {
          "bdata": "PQrXo6Ar0UAAAAAAAAAAABWuR+F6ZF9Aw/UoXI+egEBcj8L1mB3QQAAAAAAA3JtAzczMzMwsQ8AUrkfhehQtQLgehevJB/NApHA9CtdDS0DD9ShcT8brQJqZmZk5qghBZmZmZmaYhkBmZmZmZuZJQKRwPQo3f9BAw/UoXI9S10DD9Shcjy7ZQBSuR+HqTtJAZ2ZmZmZm9j9cj8L1KNwiQA==",
          "dtype": "f8"
         },
         "yaxis": "y"
        }
       ],
       "layout": {
        "barmode": "relative",
        "legend": {
         "title": {
          "text": "Season"
         },
         "tracegroupgap": 0
        },
        "template": {
         "data": {
          "bar": [
           {
            "error_x": {
             "color": "#2a3f5f"
            },
            "error_y": {
             "color": "#2a3f5f"
            },
            "marker": {
             "line": {
              "color": "#E5ECF6",
              "width": 0.5
             },
             "pattern": {
              "fillmode": "overlay",
              "size": 10,
              "solidity": 0.2
             }
            },
            "type": "bar"
           }
          ],
          "barpolar": [
           {
            "marker": {
             "line": {
              "color": "#E5ECF6",
              "width": 0.5
             },
             "pattern": {
              "fillmode": "overlay",
              "size": 10,
              "solidity": 0.2
             }
            },
            "type": "barpolar"
           }
          ],
          "carpet": [
           {
            "aaxis": {
             "endlinecolor": "#2a3f5f",
             "gridcolor": "white",
             "linecolor": "white",
             "minorgridcolor": "white",
             "startlinecolor": "#2a3f5f"
            },
            "baxis": {
             "endlinecolor": "#2a3f5f",
             "gridcolor": "white",
             "linecolor": "white",
             "minorgridcolor": "white",
             "startlinecolor": "#2a3f5f"
            },
            "type": "carpet"
           }
          ],
          "choropleth": [
           {
            "colorbar": {
             "outlinewidth": 0,
             "ticks": ""
            },
            "type": "choropleth"
           }
          ],
          "contour": [
           {
            "colorbar": {
             "outlinewidth": 0,
             "ticks": ""
            },
            "colorscale": [
             [
              0,
              "#0d0887"
             ],
             [
              0.1111111111111111,
              "#46039f"
             ],
             [
              0.2222222222222222,
              "#7201a8"
             ],
             [
              0.3333333333333333,
              "#9c179e"
             ],
             [
              0.4444444444444444,
              "#bd3786"
             ],
             [
              0.5555555555555556,
              "#d8576b"
             ],
             [
              0.6666666666666666,
              "#ed7953"
             ],
             [
              0.7777777777777778,
              "#fb9f3a"
             ],
             [
              0.8888888888888888,
              "#fdca26"
             ],
             [
              1,
              "#f0f921"
             ]
            ],
            "type": "contour"
           }
          ],
          "contourcarpet": [
           {
            "colorbar": {
             "outlinewidth": 0,
             "ticks": ""
            },
            "type": "contourcarpet"
           }
          ],
          "heatmap": [
           {
            "colorbar": {
             "outlinewidth": 0,
             "ticks": ""
            },
            "colorscale": [
             [
              0,
              "#0d0887"
             ],
             [
              0.1111111111111111,
              "#46039f"
             ],
             [
              0.2222222222222222,
              "#7201a8"
             ],
             [
              0.3333333333333333,
              "#9c179e"
             ],
             [
              0.4444444444444444,
              "#bd3786"
             ],
             [
              0.5555555555555556,
              "#d8576b"
             ],
             [
              0.6666666666666666,
              "#ed7953"
             ],
             [
              0.7777777777777778,
              "#fb9f3a"
             ],
             [
              0.8888888888888888,
              "#fdca26"
             ],
             [
              1,
              "#f0f921"
             ]
            ],
            "type": "heatmap"
           }
          ],
          "histogram": [
           {
            "marker": {
             "pattern": {
              "fillmode": "overlay",
              "size": 10,
              "solidity": 0.2
             }
            },
            "type": "histogram"
           }
          ],
          "histogram2d": [
           {
            "colorbar": {
             "outlinewidth": 0,
             "ticks": ""
            },
            "colorscale": [
             [
              0,
              "#0d0887"
             ],
             [
              0.1111111111111111,
              "#46039f"
             ],
             [
              0.2222222222222222,
              "#7201a8"
             ],
             [
              0.3333333333333333,
              "#9c179e"
             ],
             [
              0.4444444444444444,
              "#bd3786"
             ],
             [
              0.5555555555555556,
              "#d8576b"
             ],
             [
              0.6666666666666666,
              "#ed7953"
             ],
             [
              0.7777777777777778,
              "#fb9f3a"
             ],
             [
              0.8888888888888888,
              "#fdca26"
             ],
             [
              1,
              "#f0f921"
             ]
            ],
            "type": "histogram2d"
           }
          ],
          "histogram2dcontour": [
           {
            "colorbar": {
             "outlinewidth": 0,
             "ticks": ""
            },
            "colorscale": [
             [
              0,
              "#0d0887"
             ],
             [
              0.1111111111111111,
              "#46039f"
             ],
             [
              0.2222222222222222,
              "#7201a8"
             ],
             [
              0.3333333333333333,
              "#9c179e"
             ],
             [
              0.4444444444444444,
              "#bd3786"
             ],
             [
              0.5555555555555556,
              "#d8576b"
             ],
             [
              0.6666666666666666,
              "#ed7953"
             ],
             [
              0.7777777777777778,
              "#fb9f3a"
             ],
             [
              0.8888888888888888,
              "#fdca26"
             ],
             [
              1,
              "#f0f921"
             ]
            ],
            "type": "histogram2dcontour"
           }
          ],
          "mesh3d": [
           {
            "colorbar": {
             "outlinewidth": 0,
             "ticks": ""
            },
            "type": "mesh3d"
           }
          ],
          "parcoords": [
           {
            "line": {
             "colorbar": {
              "outlinewidth": 0,
              "ticks": ""
             }
            },
            "type": "parcoords"
           }
          ],
          "pie": [
           {
            "automargin": true,
            "type": "pie"
           }
          ],
          "scatter": [
           {
            "fillpattern": {
             "fillmode": "overlay",
             "size": 10,
             "solidity": 0.2
            },
            "type": "scatter"
           }
          ],
          "scatter3d": [
           {
            "line": {
             "colorbar": {
              "outlinewidth": 0,
              "ticks": ""
             }
            },
            "marker": {
             "colorbar": {
              "outlinewidth": 0,
              "ticks": ""
             }
            },
            "type": "scatter3d"
           }
          ],
          "scattercarpet": [
           {
            "marker": {
             "colorbar": {
              "outlinewidth": 0,
              "ticks": ""
             }
            },
            "type": "scattercarpet"
           }
          ],
          "scattergeo": [
           {
            "marker": {
             "colorbar": {
              "outlinewidth": 0,
              "ticks": ""
             }
            },
            "type": "scattergeo"
           }
          ],
          "scattergl": [
           {
            "marker": {
             "colorbar": {
              "outlinewidth": 0,
              "ticks": ""
             }
            },
            "type": "scattergl"
           }
          ],
          "scattermap": [
           {
            "marker": {
             "colorbar": {
              "outlinewidth": 0,
              "ticks": ""
             }
            },
            "type": "scattermap"
           }
          ],
          "scattermapbox": [
           {
            "marker": {
             "colorbar": {
              "outlinewidth": 0,
              "ticks": ""
             }
            },
            "type": "scattermapbox"
           }
          ],
          "scatterpolar": [
           {
            "marker": {
             "colorbar": {
              "outlinewidth": 0,
              "ticks": ""
             }
            },
            "type": "scatterpolar"
           }
          ],
          "scatterpolargl": [
           {
            "marker": {
             "colorbar": {
              "outlinewidth": 0,
              "ticks": ""
             }
            },
            "type": "scatterpolargl"
           }
          ],
          "scatterternary": [
           {
            "marker": {
             "colorbar": {
              "outlinewidth": 0,
              "ticks": ""
             }
            },
            "type": "scatterternary"
           }
          ],
          "surface": [
           {
            "colorbar": {
             "outlinewidth": 0,
             "ticks": ""
            },
            "colorscale": [
             [
              0,
              "#0d0887"
             ],
             [
              0.1111111111111111,
              "#46039f"
             ],
             [
              0.2222222222222222,
              "#7201a8"
             ],
             [
              0.3333333333333333,
              "#9c179e"
             ],
             [
              0.4444444444444444,
              "#bd3786"
             ],
             [
              0.5555555555555556,
              "#d8576b"
             ],
             [
              0.6666666666666666,
              "#ed7953"
             ],
             [
              0.7777777777777778,
              "#fb9f3a"
             ],
             [
              0.8888888888888888,
              "#fdca26"
             ],
             [
              1,
              "#f0f921"
             ]
            ],
            "type": "surface"
           }
          ],
          "table": [
           {
            "cells": {
             "fill": {
              "color": "#EBF0F8"
             },
             "line": {
              "color": "white"
             }
            },
            "header": {
             "fill": {
              "color": "#C8D4E3"
             },
             "line": {
              "color": "white"
             }
            },
            "type": "table"
           }
          ]
         },
         "layout": {
          "annotationdefaults": {
           "arrowcolor": "#2a3f5f",
           "arrowhead": 0,
           "arrowwidth": 1
          },
          "autotypenumbers": "strict",
          "coloraxis": {
           "colorbar": {
            "outlinewidth": 0,
            "ticks": ""
           }
          },
          "colorscale": {
           "diverging": [
            [
             0,
             "#8e0152"
            ],
            [
             0.1,
             "#c51b7d"
            ],
            [
             0.2,
             "#de77ae"
            ],
            [
             0.3,
             "#f1b6da"
            ],
            [
             0.4,
             "#fde0ef"
            ],
            [
             0.5,
             "#f7f7f7"
            ],
            [
             0.6,
             "#e6f5d0"
            ],
            [
             0.7,
             "#b8e186"
            ],
            [
             0.8,
             "#7fbc41"
            ],
            [
             0.9,
             "#4d9221"
            ],
            [
             1,
             "#276419"
            ]
           ],
           "sequential": [
            [
             0,
             "#0d0887"
            ],
            [
             0.1111111111111111,
             "#46039f"
            ],
            [
             0.2222222222222222,
             "#7201a8"
            ],
            [
             0.3333333333333333,
             "#9c179e"
            ],
            [
             0.4444444444444444,
             "#bd3786"
            ],
            [
             0.5555555555555556,
             "#d8576b"
            ],
            [
             0.6666666666666666,
             "#ed7953"
            ],
            [
             0.7777777777777778,
             "#fb9f3a"
            ],
            [
             0.8888888888888888,
             "#fdca26"
            ],
            [
             1,
             "#f0f921"
            ]
           ],
           "sequentialminus": [
            [
             0,
             "#0d0887"
            ],
            [
             0.1111111111111111,
             "#46039f"
            ],
            [
             0.2222222222222222,
             "#7201a8"
            ],
            [
             0.3333333333333333,
             "#9c179e"
            ],
            [
             0.4444444444444444,
             "#bd3786"
            ],
            [
             0.5555555555555556,
             "#d8576b"
            ],
            [
             0.6666666666666666,
             "#ed7953"
            ],
            [
             0.7777777777777778,
             "#fb9f3a"
            ],
            [
             0.8888888888888888,
             "#fdca26"
            ],
            [
             1,
             "#f0f921"
            ]
           ]
          },
          "colorway": [
           "#636efa",
           "#EF553B",
           "#00cc96",
           "#ab63fa",
           "#FFA15A",
           "#19d3f3",
           "#FF6692",
           "#B6E880",
           "#FF97FF",
           "#FECB52"
          ],
          "font": {
           "color": "#2a3f5f"
          },
          "geo": {
           "bgcolor": "white",
           "lakecolor": "white",
           "landcolor": "#E5ECF6",
           "showlakes": true,
           "showland": true,
           "subunitcolor": "white"
          },
          "hoverlabel": {
           "align": "left"
          },
          "hovermode": "closest",
          "mapbox": {
           "style": "light"
          },
          "paper_bgcolor": "white",
          "plot_bgcolor": "#E5ECF6",
          "polar": {
           "angularaxis": {
            "gridcolor": "white",
            "linecolor": "white",
            "ticks": ""
           },
           "bgcolor": "#E5ECF6",
           "radialaxis": {
            "gridcolor": "white",
            "linecolor": "white",
            "ticks": ""
           }
          },
          "scene": {
           "xaxis": {
            "backgroundcolor": "#E5ECF6",
            "gridcolor": "white",
            "gridwidth": 2,
            "linecolor": "white",
            "showbackground": true,
            "ticks": "",
            "zerolinecolor": "white"
           },
           "yaxis": {
            "backgroundcolor": "#E5ECF6",
            "gridcolor": "white",
            "gridwidth": 2,
            "linecolor": "white",
            "showbackground": true,
            "ticks": "",
            "zerolinecolor": "white"
           },
           "zaxis": {
            "backgroundcolor": "#E5ECF6",
            "gridcolor": "white",
            "gridwidth": 2,
            "linecolor": "white",
            "showbackground": true,
            "ticks": "",
            "zerolinecolor": "white"
           }
          },
          "shapedefaults": {
           "line": {
            "color": "#2a3f5f"
           }
          },
          "ternary": {
           "aaxis": {
            "gridcolor": "white",
            "linecolor": "white",
            "ticks": ""
           },
           "baxis": {
            "gridcolor": "white",
            "linecolor": "white",
            "ticks": ""
           },
           "bgcolor": "#E5ECF6",
           "caxis": {
            "gridcolor": "white",
            "linecolor": "white",
            "ticks": ""
           }
          },
          "title": {
           "x": 0.05
          },
          "xaxis": {
           "automargin": true,
           "gridcolor": "white",
           "linecolor": "white",
           "ticks": "",
           "title": {
            "standoff": 15
           },
           "zerolinecolor": "white",
           "zerolinewidth": 2
          },
          "yaxis": {
           "automargin": true,
           "gridcolor": "white",
           "linecolor": "white",
           "ticks": "",
           "title": {
            "standoff": 15
           },
           "zerolinecolor": "white",
           "zerolinewidth": 2
          }
         }
        },
        "title": {
         "text": "Sorghum Production (Kharif and Rabi) by State"
        },
        "xaxis": {
         "anchor": "y",
         "domain": [
          0,
          1
         ],
         "tickangle": -45,
         "title": {
          "text": "State"
         }
        },
        "yaxis": {
         "anchor": "x",
         "domain": [
          0,
          1
         ],
         "title": {
          "text": "Production (1000 Tons)"
         }
        }
       }
      }
     },
     "metadata": {},
     "output_type": "display_data"
    }
   ],
   "source": [
    "#10.Sorghum Production (Kharif and Rabi) by Region\n",
    "sorghum = df.groupby('State_Name')[['Kharif_Sorghum_Production', 'Rabi_Sorghum_Production','Sorghum_Production']].sum().reset_index()\n",
    "\n",
    "sorghum_melted = sorghum.melt(id_vars='State_Name',\n",
    "                              value_vars=['Kharif_Sorghum_Production', 'Rabi_Sorghum_Production', 'Sorghum_Production'],\n",
    "                              var_name='Season',\n",
    "                              value_name='Production')\n",
    "\n",
    "sorghum_melted['Season'] = sorghum_melted['Season'].str.replace('_SORGHUM_PRODUCTION_1000_TONS', '').str.title()\n",
    "\n",
    "fig_sorghum = px.bar(sorghum_melted,\n",
    "                     x='State_Name',\n",
    "                     y='Production',\n",
    "                     color='Season',\n",
    "                     title='Sorghum Production (Kharif and Rabi) by State',\n",
    "                     labels={'State_Name': 'State', 'Production': 'Production (1000 Tons)'})\n",
    "\n",
    "fig_sorghum.update_layout(xaxis_tickangle=-45)\n",
    "fig_sorghum.show()\n"
   ]
  },
  {
   "cell_type": "code",
   "execution_count": 46,
   "id": "f84c41e8",
   "metadata": {},
   "outputs": [
    {
     "data": {
      "application/vnd.plotly.v1+json": {
       "config": {
        "plotlyServerURL": "https://plot.ly"
       },
       "data": [
        {
         "hovertemplate": "State_Name=%{x}<br>Groundnut_Production=%{marker.color}<extra></extra>",
         "legendgroup": "",
         "marker": {
          "color": {
           "bdata": "hetRuBYB+EC4HoXrmT7sQArXo3DNJ+xAmpmZmSGY4UBxPQrXg1LcQPYoXI+S8tBAhetRuF520EA=",
           "dtype": "f8"
          },
          "coloraxis": "coloraxis",
          "pattern": {
           "shape": ""
          }
         },
         "name": "",
         "orientation": "v",
         "showlegend": false,
         "textposition": "auto",
         "type": "bar",
         "x": [
          "Gujarat",
          "Andhra Pradesh",
          "Tamil Nadu",
          "Karnataka",
          "Maharashtra",
          "Rajasthan",
          "Orissa"
         ],
         "xaxis": "x",
         "y": {
          "bdata": "hetRuBYB+EC4HoXrmT7sQArXo3DNJ+xAmpmZmSGY4UBxPQrXg1LcQPYoXI+S8tBAhetRuF520EA=",
          "dtype": "f8"
         },
         "yaxis": "y"
        }
       ],
       "layout": {
        "barmode": "relative",
        "coloraxis": {
         "colorbar": {
          "title": {
           "text": "Groundnut_Production"
          }
         },
         "colorscale": [
          [
           0,
           "#0d0887"
          ],
          [
           0.1111111111111111,
           "#46039f"
          ],
          [
           0.2222222222222222,
           "#7201a8"
          ],
          [
           0.3333333333333333,
           "#9c179e"
          ],
          [
           0.4444444444444444,
           "#bd3786"
          ],
          [
           0.5555555555555556,
           "#d8576b"
          ],
          [
           0.6666666666666666,
           "#ed7953"
          ],
          [
           0.7777777777777778,
           "#fb9f3a"
          ],
          [
           0.8888888888888888,
           "#fdca26"
          ],
          [
           1,
           "#f0f921"
          ]
         ]
        },
        "legend": {
         "tracegroupgap": 0
        },
        "template": {
         "data": {
          "bar": [
           {
            "error_x": {
             "color": "#2a3f5f"
            },
            "error_y": {
             "color": "#2a3f5f"
            },
            "marker": {
             "line": {
              "color": "#E5ECF6",
              "width": 0.5
             },
             "pattern": {
              "fillmode": "overlay",
              "size": 10,
              "solidity": 0.2
             }
            },
            "type": "bar"
           }
          ],
          "barpolar": [
           {
            "marker": {
             "line": {
              "color": "#E5ECF6",
              "width": 0.5
             },
             "pattern": {
              "fillmode": "overlay",
              "size": 10,
              "solidity": 0.2
             }
            },
            "type": "barpolar"
           }
          ],
          "carpet": [
           {
            "aaxis": {
             "endlinecolor": "#2a3f5f",
             "gridcolor": "white",
             "linecolor": "white",
             "minorgridcolor": "white",
             "startlinecolor": "#2a3f5f"
            },
            "baxis": {
             "endlinecolor": "#2a3f5f",
             "gridcolor": "white",
             "linecolor": "white",
             "minorgridcolor": "white",
             "startlinecolor": "#2a3f5f"
            },
            "type": "carpet"
           }
          ],
          "choropleth": [
           {
            "colorbar": {
             "outlinewidth": 0,
             "ticks": ""
            },
            "type": "choropleth"
           }
          ],
          "contour": [
           {
            "colorbar": {
             "outlinewidth": 0,
             "ticks": ""
            },
            "colorscale": [
             [
              0,
              "#0d0887"
             ],
             [
              0.1111111111111111,
              "#46039f"
             ],
             [
              0.2222222222222222,
              "#7201a8"
             ],
             [
              0.3333333333333333,
              "#9c179e"
             ],
             [
              0.4444444444444444,
              "#bd3786"
             ],
             [
              0.5555555555555556,
              "#d8576b"
             ],
             [
              0.6666666666666666,
              "#ed7953"
             ],
             [
              0.7777777777777778,
              "#fb9f3a"
             ],
             [
              0.8888888888888888,
              "#fdca26"
             ],
             [
              1,
              "#f0f921"
             ]
            ],
            "type": "contour"
           }
          ],
          "contourcarpet": [
           {
            "colorbar": {
             "outlinewidth": 0,
             "ticks": ""
            },
            "type": "contourcarpet"
           }
          ],
          "heatmap": [
           {
            "colorbar": {
             "outlinewidth": 0,
             "ticks": ""
            },
            "colorscale": [
             [
              0,
              "#0d0887"
             ],
             [
              0.1111111111111111,
              "#46039f"
             ],
             [
              0.2222222222222222,
              "#7201a8"
             ],
             [
              0.3333333333333333,
              "#9c179e"
             ],
             [
              0.4444444444444444,
              "#bd3786"
             ],
             [
              0.5555555555555556,
              "#d8576b"
             ],
             [
              0.6666666666666666,
              "#ed7953"
             ],
             [
              0.7777777777777778,
              "#fb9f3a"
             ],
             [
              0.8888888888888888,
              "#fdca26"
             ],
             [
              1,
              "#f0f921"
             ]
            ],
            "type": "heatmap"
           }
          ],
          "histogram": [
           {
            "marker": {
             "pattern": {
              "fillmode": "overlay",
              "size": 10,
              "solidity": 0.2
             }
            },
            "type": "histogram"
           }
          ],
          "histogram2d": [
           {
            "colorbar": {
             "outlinewidth": 0,
             "ticks": ""
            },
            "colorscale": [
             [
              0,
              "#0d0887"
             ],
             [
              0.1111111111111111,
              "#46039f"
             ],
             [
              0.2222222222222222,
              "#7201a8"
             ],
             [
              0.3333333333333333,
              "#9c179e"
             ],
             [
              0.4444444444444444,
              "#bd3786"
             ],
             [
              0.5555555555555556,
              "#d8576b"
             ],
             [
              0.6666666666666666,
              "#ed7953"
             ],
             [
              0.7777777777777778,
              "#fb9f3a"
             ],
             [
              0.8888888888888888,
              "#fdca26"
             ],
             [
              1,
              "#f0f921"
             ]
            ],
            "type": "histogram2d"
           }
          ],
          "histogram2dcontour": [
           {
            "colorbar": {
             "outlinewidth": 0,
             "ticks": ""
            },
            "colorscale": [
             [
              0,
              "#0d0887"
             ],
             [
              0.1111111111111111,
              "#46039f"
             ],
             [
              0.2222222222222222,
              "#7201a8"
             ],
             [
              0.3333333333333333,
              "#9c179e"
             ],
             [
              0.4444444444444444,
              "#bd3786"
             ],
             [
              0.5555555555555556,
              "#d8576b"
             ],
             [
              0.6666666666666666,
              "#ed7953"
             ],
             [
              0.7777777777777778,
              "#fb9f3a"
             ],
             [
              0.8888888888888888,
              "#fdca26"
             ],
             [
              1,
              "#f0f921"
             ]
            ],
            "type": "histogram2dcontour"
           }
          ],
          "mesh3d": [
           {
            "colorbar": {
             "outlinewidth": 0,
             "ticks": ""
            },
            "type": "mesh3d"
           }
          ],
          "parcoords": [
           {
            "line": {
             "colorbar": {
              "outlinewidth": 0,
              "ticks": ""
             }
            },
            "type": "parcoords"
           }
          ],
          "pie": [
           {
            "automargin": true,
            "type": "pie"
           }
          ],
          "scatter": [
           {
            "fillpattern": {
             "fillmode": "overlay",
             "size": 10,
             "solidity": 0.2
            },
            "type": "scatter"
           }
          ],
          "scatter3d": [
           {
            "line": {
             "colorbar": {
              "outlinewidth": 0,
              "ticks": ""
             }
            },
            "marker": {
             "colorbar": {
              "outlinewidth": 0,
              "ticks": ""
             }
            },
            "type": "scatter3d"
           }
          ],
          "scattercarpet": [
           {
            "marker": {
             "colorbar": {
              "outlinewidth": 0,
              "ticks": ""
             }
            },
            "type": "scattercarpet"
           }
          ],
          "scattergeo": [
           {
            "marker": {
             "colorbar": {
              "outlinewidth": 0,
              "ticks": ""
             }
            },
            "type": "scattergeo"
           }
          ],
          "scattergl": [
           {
            "marker": {
             "colorbar": {
              "outlinewidth": 0,
              "ticks": ""
             }
            },
            "type": "scattergl"
           }
          ],
          "scattermap": [
           {
            "marker": {
             "colorbar": {
              "outlinewidth": 0,
              "ticks": ""
             }
            },
            "type": "scattermap"
           }
          ],
          "scattermapbox": [
           {
            "marker": {
             "colorbar": {
              "outlinewidth": 0,
              "ticks": ""
             }
            },
            "type": "scattermapbox"
           }
          ],
          "scatterpolar": [
           {
            "marker": {
             "colorbar": {
              "outlinewidth": 0,
              "ticks": ""
             }
            },
            "type": "scatterpolar"
           }
          ],
          "scatterpolargl": [
           {
            "marker": {
             "colorbar": {
              "outlinewidth": 0,
              "ticks": ""
             }
            },
            "type": "scatterpolargl"
           }
          ],
          "scatterternary": [
           {
            "marker": {
             "colorbar": {
              "outlinewidth": 0,
              "ticks": ""
             }
            },
            "type": "scatterternary"
           }
          ],
          "surface": [
           {
            "colorbar": {
             "outlinewidth": 0,
             "ticks": ""
            },
            "colorscale": [
             [
              0,
              "#0d0887"
             ],
             [
              0.1111111111111111,
              "#46039f"
             ],
             [
              0.2222222222222222,
              "#7201a8"
             ],
             [
              0.3333333333333333,
              "#9c179e"
             ],
             [
              0.4444444444444444,
              "#bd3786"
             ],
             [
              0.5555555555555556,
              "#d8576b"
             ],
             [
              0.6666666666666666,
              "#ed7953"
             ],
             [
              0.7777777777777778,
              "#fb9f3a"
             ],
             [
              0.8888888888888888,
              "#fdca26"
             ],
             [
              1,
              "#f0f921"
             ]
            ],
            "type": "surface"
           }
          ],
          "table": [
           {
            "cells": {
             "fill": {
              "color": "#EBF0F8"
             },
             "line": {
              "color": "white"
             }
            },
            "header": {
             "fill": {
              "color": "#C8D4E3"
             },
             "line": {
              "color": "white"
             }
            },
            "type": "table"
           }
          ]
         },
         "layout": {
          "annotationdefaults": {
           "arrowcolor": "#2a3f5f",
           "arrowhead": 0,
           "arrowwidth": 1
          },
          "autotypenumbers": "strict",
          "coloraxis": {
           "colorbar": {
            "outlinewidth": 0,
            "ticks": ""
           }
          },
          "colorscale": {
           "diverging": [
            [
             0,
             "#8e0152"
            ],
            [
             0.1,
             "#c51b7d"
            ],
            [
             0.2,
             "#de77ae"
            ],
            [
             0.3,
             "#f1b6da"
            ],
            [
             0.4,
             "#fde0ef"
            ],
            [
             0.5,
             "#f7f7f7"
            ],
            [
             0.6,
             "#e6f5d0"
            ],
            [
             0.7,
             "#b8e186"
            ],
            [
             0.8,
             "#7fbc41"
            ],
            [
             0.9,
             "#4d9221"
            ],
            [
             1,
             "#276419"
            ]
           ],
           "sequential": [
            [
             0,
             "#0d0887"
            ],
            [
             0.1111111111111111,
             "#46039f"
            ],
            [
             0.2222222222222222,
             "#7201a8"
            ],
            [
             0.3333333333333333,
             "#9c179e"
            ],
            [
             0.4444444444444444,
             "#bd3786"
            ],
            [
             0.5555555555555556,
             "#d8576b"
            ],
            [
             0.6666666666666666,
             "#ed7953"
            ],
            [
             0.7777777777777778,
             "#fb9f3a"
            ],
            [
             0.8888888888888888,
             "#fdca26"
            ],
            [
             1,
             "#f0f921"
            ]
           ],
           "sequentialminus": [
            [
             0,
             "#0d0887"
            ],
            [
             0.1111111111111111,
             "#46039f"
            ],
            [
             0.2222222222222222,
             "#7201a8"
            ],
            [
             0.3333333333333333,
             "#9c179e"
            ],
            [
             0.4444444444444444,
             "#bd3786"
            ],
            [
             0.5555555555555556,
             "#d8576b"
            ],
            [
             0.6666666666666666,
             "#ed7953"
            ],
            [
             0.7777777777777778,
             "#fb9f3a"
            ],
            [
             0.8888888888888888,
             "#fdca26"
            ],
            [
             1,
             "#f0f921"
            ]
           ]
          },
          "colorway": [
           "#636efa",
           "#EF553B",
           "#00cc96",
           "#ab63fa",
           "#FFA15A",
           "#19d3f3",
           "#FF6692",
           "#B6E880",
           "#FF97FF",
           "#FECB52"
          ],
          "font": {
           "color": "#2a3f5f"
          },
          "geo": {
           "bgcolor": "white",
           "lakecolor": "white",
           "landcolor": "#E5ECF6",
           "showlakes": true,
           "showland": true,
           "subunitcolor": "white"
          },
          "hoverlabel": {
           "align": "left"
          },
          "hovermode": "closest",
          "mapbox": {
           "style": "light"
          },
          "paper_bgcolor": "white",
          "plot_bgcolor": "#E5ECF6",
          "polar": {
           "angularaxis": {
            "gridcolor": "white",
            "linecolor": "white",
            "ticks": ""
           },
           "bgcolor": "#E5ECF6",
           "radialaxis": {
            "gridcolor": "white",
            "linecolor": "white",
            "ticks": ""
           }
          },
          "scene": {
           "xaxis": {
            "backgroundcolor": "#E5ECF6",
            "gridcolor": "white",
            "gridwidth": 2,
            "linecolor": "white",
            "showbackground": true,
            "ticks": "",
            "zerolinecolor": "white"
           },
           "yaxis": {
            "backgroundcolor": "#E5ECF6",
            "gridcolor": "white",
            "gridwidth": 2,
            "linecolor": "white",
            "showbackground": true,
            "ticks": "",
            "zerolinecolor": "white"
           },
           "zaxis": {
            "backgroundcolor": "#E5ECF6",
            "gridcolor": "white",
            "gridwidth": 2,
            "linecolor": "white",
            "showbackground": true,
            "ticks": "",
            "zerolinecolor": "white"
           }
          },
          "shapedefaults": {
           "line": {
            "color": "#2a3f5f"
           }
          },
          "ternary": {
           "aaxis": {
            "gridcolor": "white",
            "linecolor": "white",
            "ticks": ""
           },
           "baxis": {
            "gridcolor": "white",
            "linecolor": "white",
            "ticks": ""
           },
           "bgcolor": "#E5ECF6",
           "caxis": {
            "gridcolor": "white",
            "linecolor": "white",
            "ticks": ""
           }
          },
          "title": {
           "x": 0.05
          },
          "xaxis": {
           "automargin": true,
           "gridcolor": "white",
           "linecolor": "white",
           "ticks": "",
           "title": {
            "standoff": 15
           },
           "zerolinecolor": "white",
           "zerolinewidth": 2
          },
          "yaxis": {
           "automargin": true,
           "gridcolor": "white",
           "linecolor": "white",
           "ticks": "",
           "title": {
            "standoff": 15
           },
           "zerolinecolor": "white",
           "zerolinewidth": 2
          }
         }
        },
        "title": {
         "text": "Top 7 Groundnut Producing States"
        },
        "xaxis": {
         "anchor": "y",
         "domain": [
          0,
          1
         ],
         "title": {
          "text": "State_Name"
         }
        },
        "yaxis": {
         "anchor": "x",
         "domain": [
          0,
          1
         ],
         "title": {
          "text": "Groundnut_Production"
         }
        }
       }
      }
     },
     "metadata": {},
     "output_type": "display_data"
    }
   ],
   "source": [
    "#11.Top 7 States for Groundnut Production\n",
    "groundnut_production = df.groupby('State_Name')['Groundnut_Production'].sum().sort_values(ascending=False).head(7).reset_index()\n",
    "fig_groundnut = px.bar(groundnut_production, x='State_Name', y='Groundnut_Production', color='Groundnut_Production',\n",
    "                       title='Top 7 Groundnut Producing States')\n",
    "fig_groundnut.show()"
   ]
  },
  {
   "cell_type": "code",
   "execution_count": null,
   "id": "087d5ec3",
   "metadata": {},
   "outputs": [
    {
     "data": {
      "application/vnd.plotly.v1+json": {
       "config": {
        "plotlyServerURL": "https://plot.ly"
       },
       "data": [
        {
         "alignmentgroup": "True",
         "hovertemplate": "Metric Type=Production (1000 Tons)<br>State=%{x}<br>Value=%{y}<extra></extra>",
         "legendgroup": "Production (1000 Tons)",
         "marker": {
          "color": "#636efa",
          "pattern": {
           "shape": ""
          }
         },
         "name": "Production (1000 Tons)",
         "offsetgroup": "Production (1000 Tons)",
         "orientation": "v",
         "showlegend": true,
         "textposition": "auto",
         "type": "bar",
         "x": [
          "Madhya Pradesh",
          "Maharashtra",
          "Rajasthan",
          "Telangana",
          "Karnataka"
         ],
         "xaxis": "x",
         "y": {
          "bdata": "j8L1KDSaAEEpXI/CfaLsQMP1KFy/rdRA9ihcj0Kcp0ApXI/C9XOmQA==",
          "dtype": "f8"
         },
         "yaxis": "y"
        },
        {
         "alignmentgroup": "True",
         "hovertemplate": "Metric Type=Yield (Kg/Ha)<br>State=%{x}<br>Value=%{y}<extra></extra>",
         "legendgroup": "Yield (Kg/Ha)",
         "marker": {
          "color": "#EF553B",
          "pattern": {
           "shape": ""
          }
         },
         "name": "Yield (Kg/Ha)",
         "offsetgroup": "Yield (Kg/Ha)",
         "orientation": "v",
         "showlegend": true,
         "textposition": "auto",
         "type": "bar",
         "x": [
          "Madhya Pradesh",
          "Maharashtra",
          "Rajasthan",
          "Telangana",
          "Karnataka"
         ],
         "xaxis": "x",
         "y": {
          "bdata": "AAAAQNG3MUEzMzMz9YYnQSlcj8LbsRhBH4XrUewb/UAfhetRaqEIQQ==",
          "dtype": "f8"
         },
         "yaxis": "y"
        }
       ],
       "layout": {
        "barmode": "group",
        "legend": {
         "title": {
          "text": "Metric Type"
         },
         "tracegroupgap": 0
        },
        "template": {
         "data": {
          "bar": [
           {
            "error_x": {
             "color": "#2a3f5f"
            },
            "error_y": {
             "color": "#2a3f5f"
            },
            "marker": {
             "line": {
              "color": "#E5ECF6",
              "width": 0.5
             },
             "pattern": {
              "fillmode": "overlay",
              "size": 10,
              "solidity": 0.2
             }
            },
            "type": "bar"
           }
          ],
          "barpolar": [
           {
            "marker": {
             "line": {
              "color": "#E5ECF6",
              "width": 0.5
             },
             "pattern": {
              "fillmode": "overlay",
              "size": 10,
              "solidity": 0.2
             }
            },
            "type": "barpolar"
           }
          ],
          "carpet": [
           {
            "aaxis": {
             "endlinecolor": "#2a3f5f",
             "gridcolor": "white",
             "linecolor": "white",
             "minorgridcolor": "white",
             "startlinecolor": "#2a3f5f"
            },
            "baxis": {
             "endlinecolor": "#2a3f5f",
             "gridcolor": "white",
             "linecolor": "white",
             "minorgridcolor": "white",
             "startlinecolor": "#2a3f5f"
            },
            "type": "carpet"
           }
          ],
          "choropleth": [
           {
            "colorbar": {
             "outlinewidth": 0,
             "ticks": ""
            },
            "type": "choropleth"
           }
          ],
          "contour": [
           {
            "colorbar": {
             "outlinewidth": 0,
             "ticks": ""
            },
            "colorscale": [
             [
              0,
              "#0d0887"
             ],
             [
              0.1111111111111111,
              "#46039f"
             ],
             [
              0.2222222222222222,
              "#7201a8"
             ],
             [
              0.3333333333333333,
              "#9c179e"
             ],
             [
              0.4444444444444444,
              "#bd3786"
             ],
             [
              0.5555555555555556,
              "#d8576b"
             ],
             [
              0.6666666666666666,
              "#ed7953"
             ],
             [
              0.7777777777777778,
              "#fb9f3a"
             ],
             [
              0.8888888888888888,
              "#fdca26"
             ],
             [
              1,
              "#f0f921"
             ]
            ],
            "type": "contour"
           }
          ],
          "contourcarpet": [
           {
            "colorbar": {
             "outlinewidth": 0,
             "ticks": ""
            },
            "type": "contourcarpet"
           }
          ],
          "heatmap": [
           {
            "colorbar": {
             "outlinewidth": 0,
             "ticks": ""
            },
            "colorscale": [
             [
              0,
              "#0d0887"
             ],
             [
              0.1111111111111111,
              "#46039f"
             ],
             [
              0.2222222222222222,
              "#7201a8"
             ],
             [
              0.3333333333333333,
              "#9c179e"
             ],
             [
              0.4444444444444444,
              "#bd3786"
             ],
             [
              0.5555555555555556,
              "#d8576b"
             ],
             [
              0.6666666666666666,
              "#ed7953"
             ],
             [
              0.7777777777777778,
              "#fb9f3a"
             ],
             [
              0.8888888888888888,
              "#fdca26"
             ],
             [
              1,
              "#f0f921"
             ]
            ],
            "type": "heatmap"
           }
          ],
          "histogram": [
           {
            "marker": {
             "pattern": {
              "fillmode": "overlay",
              "size": 10,
              "solidity": 0.2
             }
            },
            "type": "histogram"
           }
          ],
          "histogram2d": [
           {
            "colorbar": {
             "outlinewidth": 0,
             "ticks": ""
            },
            "colorscale": [
             [
              0,
              "#0d0887"
             ],
             [
              0.1111111111111111,
              "#46039f"
             ],
             [
              0.2222222222222222,
              "#7201a8"
             ],
             [
              0.3333333333333333,
              "#9c179e"
             ],
             [
              0.4444444444444444,
              "#bd3786"
             ],
             [
              0.5555555555555556,
              "#d8576b"
             ],
             [
              0.6666666666666666,
              "#ed7953"
             ],
             [
              0.7777777777777778,
              "#fb9f3a"
             ],
             [
              0.8888888888888888,
              "#fdca26"
             ],
             [
              1,
              "#f0f921"
             ]
            ],
            "type": "histogram2d"
           }
          ],
          "histogram2dcontour": [
           {
            "colorbar": {
             "outlinewidth": 0,
             "ticks": ""
            },
            "colorscale": [
             [
              0,
              "#0d0887"
             ],
             [
              0.1111111111111111,
              "#46039f"
             ],
             [
              0.2222222222222222,
              "#7201a8"
             ],
             [
              0.3333333333333333,
              "#9c179e"
             ],
             [
              0.4444444444444444,
              "#bd3786"
             ],
             [
              0.5555555555555556,
              "#d8576b"
             ],
             [
              0.6666666666666666,
              "#ed7953"
             ],
             [
              0.7777777777777778,
              "#fb9f3a"
             ],
             [
              0.8888888888888888,
              "#fdca26"
             ],
             [
              1,
              "#f0f921"
             ]
            ],
            "type": "histogram2dcontour"
           }
          ],
          "mesh3d": [
           {
            "colorbar": {
             "outlinewidth": 0,
             "ticks": ""
            },
            "type": "mesh3d"
           }
          ],
          "parcoords": [
           {
            "line": {
             "colorbar": {
              "outlinewidth": 0,
              "ticks": ""
             }
            },
            "type": "parcoords"
           }
          ],
          "pie": [
           {
            "automargin": true,
            "type": "pie"
           }
          ],
          "scatter": [
           {
            "fillpattern": {
             "fillmode": "overlay",
             "size": 10,
             "solidity": 0.2
            },
            "type": "scatter"
           }
          ],
          "scatter3d": [
           {
            "line": {
             "colorbar": {
              "outlinewidth": 0,
              "ticks": ""
             }
            },
            "marker": {
             "colorbar": {
              "outlinewidth": 0,
              "ticks": ""
             }
            },
            "type": "scatter3d"
           }
          ],
          "scattercarpet": [
           {
            "marker": {
             "colorbar": {
              "outlinewidth": 0,
              "ticks": ""
             }
            },
            "type": "scattercarpet"
           }
          ],
          "scattergeo": [
           {
            "marker": {
             "colorbar": {
              "outlinewidth": 0,
              "ticks": ""
             }
            },
            "type": "scattergeo"
           }
          ],
          "scattergl": [
           {
            "marker": {
             "colorbar": {
              "outlinewidth": 0,
              "ticks": ""
             }
            },
            "type": "scattergl"
           }
          ],
          "scattermap": [
           {
            "marker": {
             "colorbar": {
              "outlinewidth": 0,
              "ticks": ""
             }
            },
            "type": "scattermap"
           }
          ],
          "scattermapbox": [
           {
            "marker": {
             "colorbar": {
              "outlinewidth": 0,
              "ticks": ""
             }
            },
            "type": "scattermapbox"
           }
          ],
          "scatterpolar": [
           {
            "marker": {
             "colorbar": {
              "outlinewidth": 0,
              "ticks": ""
             }
            },
            "type": "scatterpolar"
           }
          ],
          "scatterpolargl": [
           {
            "marker": {
             "colorbar": {
              "outlinewidth": 0,
              "ticks": ""
             }
            },
            "type": "scatterpolargl"
           }
          ],
          "scatterternary": [
           {
            "marker": {
             "colorbar": {
              "outlinewidth": 0,
              "ticks": ""
             }
            },
            "type": "scatterternary"
           }
          ],
          "surface": [
           {
            "colorbar": {
             "outlinewidth": 0,
             "ticks": ""
            },
            "colorscale": [
             [
              0,
              "#0d0887"
             ],
             [
              0.1111111111111111,
              "#46039f"
             ],
             [
              0.2222222222222222,
              "#7201a8"
             ],
             [
              0.3333333333333333,
              "#9c179e"
             ],
             [
              0.4444444444444444,
              "#bd3786"
             ],
             [
              0.5555555555555556,
              "#d8576b"
             ],
             [
              0.6666666666666666,
              "#ed7953"
             ],
             [
              0.7777777777777778,
              "#fb9f3a"
             ],
             [
              0.8888888888888888,
              "#fdca26"
             ],
             [
              1,
              "#f0f921"
             ]
            ],
            "type": "surface"
           }
          ],
          "table": [
           {
            "cells": {
             "fill": {
              "color": "#EBF0F8"
             },
             "line": {
              "color": "white"
             }
            },
            "header": {
             "fill": {
              "color": "#C8D4E3"
             },
             "line": {
              "color": "white"
             }
            },
            "type": "table"
           }
          ]
         },
         "layout": {
          "annotationdefaults": {
           "arrowcolor": "#2a3f5f",
           "arrowhead": 0,
           "arrowwidth": 1
          },
          "autotypenumbers": "strict",
          "coloraxis": {
           "colorbar": {
            "outlinewidth": 0,
            "ticks": ""
           }
          },
          "colorscale": {
           "diverging": [
            [
             0,
             "#8e0152"
            ],
            [
             0.1,
             "#c51b7d"
            ],
            [
             0.2,
             "#de77ae"
            ],
            [
             0.3,
             "#f1b6da"
            ],
            [
             0.4,
             "#fde0ef"
            ],
            [
             0.5,
             "#f7f7f7"
            ],
            [
             0.6,
             "#e6f5d0"
            ],
            [
             0.7,
             "#b8e186"
            ],
            [
             0.8,
             "#7fbc41"
            ],
            [
             0.9,
             "#4d9221"
            ],
            [
             1,
             "#276419"
            ]
           ],
           "sequential": [
            [
             0,
             "#0d0887"
            ],
            [
             0.1111111111111111,
             "#46039f"
            ],
            [
             0.2222222222222222,
             "#7201a8"
            ],
            [
             0.3333333333333333,
             "#9c179e"
            ],
            [
             0.4444444444444444,
             "#bd3786"
            ],
            [
             0.5555555555555556,
             "#d8576b"
            ],
            [
             0.6666666666666666,
             "#ed7953"
            ],
            [
             0.7777777777777778,
             "#fb9f3a"
            ],
            [
             0.8888888888888888,
             "#fdca26"
            ],
            [
             1,
             "#f0f921"
            ]
           ],
           "sequentialminus": [
            [
             0,
             "#0d0887"
            ],
            [
             0.1111111111111111,
             "#46039f"
            ],
            [
             0.2222222222222222,
             "#7201a8"
            ],
            [
             0.3333333333333333,
             "#9c179e"
            ],
            [
             0.4444444444444444,
             "#bd3786"
            ],
            [
             0.5555555555555556,
             "#d8576b"
            ],
            [
             0.6666666666666666,
             "#ed7953"
            ],
            [
             0.7777777777777778,
             "#fb9f3a"
            ],
            [
             0.8888888888888888,
             "#fdca26"
            ],
            [
             1,
             "#f0f921"
            ]
           ]
          },
          "colorway": [
           "#636efa",
           "#EF553B",
           "#00cc96",
           "#ab63fa",
           "#FFA15A",
           "#19d3f3",
           "#FF6692",
           "#B6E880",
           "#FF97FF",
           "#FECB52"
          ],
          "font": {
           "color": "#2a3f5f"
          },
          "geo": {
           "bgcolor": "white",
           "lakecolor": "white",
           "landcolor": "#E5ECF6",
           "showlakes": true,
           "showland": true,
           "subunitcolor": "white"
          },
          "hoverlabel": {
           "align": "left"
          },
          "hovermode": "closest",
          "mapbox": {
           "style": "light"
          },
          "paper_bgcolor": "white",
          "plot_bgcolor": "#E5ECF6",
          "polar": {
           "angularaxis": {
            "gridcolor": "white",
            "linecolor": "white",
            "ticks": ""
           },
           "bgcolor": "#E5ECF6",
           "radialaxis": {
            "gridcolor": "white",
            "linecolor": "white",
            "ticks": ""
           }
          },
          "scene": {
           "xaxis": {
            "backgroundcolor": "#E5ECF6",
            "gridcolor": "white",
            "gridwidth": 2,
            "linecolor": "white",
            "showbackground": true,
            "ticks": "",
            "zerolinecolor": "white"
           },
           "yaxis": {
            "backgroundcolor": "#E5ECF6",
            "gridcolor": "white",
            "gridwidth": 2,
            "linecolor": "white",
            "showbackground": true,
            "ticks": "",
            "zerolinecolor": "white"
           },
           "zaxis": {
            "backgroundcolor": "#E5ECF6",
            "gridcolor": "white",
            "gridwidth": 2,
            "linecolor": "white",
            "showbackground": true,
            "ticks": "",
            "zerolinecolor": "white"
           }
          },
          "shapedefaults": {
           "line": {
            "color": "#2a3f5f"
           }
          },
          "ternary": {
           "aaxis": {
            "gridcolor": "white",
            "linecolor": "white",
            "ticks": ""
           },
           "baxis": {
            "gridcolor": "white",
            "linecolor": "white",
            "ticks": ""
           },
           "bgcolor": "#E5ECF6",
           "caxis": {
            "gridcolor": "white",
            "linecolor": "white",
            "ticks": ""
           }
          },
          "title": {
           "x": 0.05
          },
          "xaxis": {
           "automargin": true,
           "gridcolor": "white",
           "linecolor": "white",
           "ticks": "",
           "title": {
            "standoff": 15
           },
           "zerolinecolor": "white",
           "zerolinewidth": 2
          },
          "yaxis": {
           "automargin": true,
           "gridcolor": "white",
           "linecolor": "white",
           "ticks": "",
           "title": {
            "standoff": 15
           },
           "zerolinecolor": "white",
           "zerolinewidth": 2
          }
         }
        },
        "title": {
         "text": "Top 5 Soybean Producing States and Yield Efficiency"
        },
        "xaxis": {
         "anchor": "y",
         "domain": [
          0,
          1
         ],
         "tickangle": -45,
         "title": {
          "text": "State"
         }
        },
        "yaxis": {
         "anchor": "x",
         "domain": [
          0,
          1
         ],
         "title": {
          "text": "Value"
         }
        }
       }
      }
     },
     "metadata": {},
     "output_type": "display_data"
    }
   ],
   "source": [
    "#12.Soybean Production by Top 5 States and Yield Efficiency\n",
    "top_soy = df.groupby('State_Name')[['Soyabean_Production', 'Soyabean_Yield']].sum().sort_values(by='Soyabean_Production', ascending=False).reset_index().head(5)\n",
    "\n",
    "top_soy_melted = top_soy.melt(id_vars='State_Name',\n",
    "                              value_vars=['Soyabean_Production', 'Soyabean_Yield'],\n",
    "                              var_name='Metric',\n",
    "                              value_name='Value')\n",
    "\n",
    "top_soy_melted['Metric'] = top_soy_melted['Metric'].replace({\n",
    "    'Soyabean_Production': 'Production (1000 Tons)',\n",
    "    'Soyabean_Yield': 'Yield (Kg/Ha)'\n",
    "})\n",
    "\n",
    "fig_soybean = px.bar(top_soy_melted,\n",
    "                     x='State_Name',\n",
    "                     y='Value',\n",
    "                     color='Metric',\n",
    "                     barmode='group',\n",
    "                     title='Top 5 Soybean Producing States and Yield Efficiency',\n",
    "                     labels={'State_Name': 'State', 'Value': 'Value', 'Metric': 'Metric Type'})\n",
    "\n",
    "fig_soybean.update_layout(xaxis_tickangle=-45)\n",
    "fig_soybean.show()\n"
   ]
  },
  {
   "cell_type": "code",
   "execution_count": 61,
   "id": "caa24d10",
   "metadata": {},
   "outputs": [
    {
     "data": {
      "application/vnd.plotly.v1+json": {
       "config": {
        "plotlyServerURL": "https://plot.ly"
       },
       "data": [
        {
         "hovertemplate": "State_Name=%{x}<br>Oilseeds_Production=%{marker.color}<extra></extra>",
         "legendgroup": "",
         "marker": {
          "color": {
           "bdata": "H4XrUda/AkGPwvUoANH+QClcj8Jt9v1A9ihcj/5U90AK16NwgcXyQFyPwvVg/epAexSuR+Gu6UB7FK5HccnbQIXrUbj+c9dAZmZmZqZx10CuR+F6lKjVQFyPwvXI7c1AUrgehWt4vkBI4XoUblO7QK5H4XqU67VApHA9CtdPpECuR+F6FKOSQJqZmZmZlXlAhetRuB6VckDXo3A9CqdsQA==",
           "dtype": "f8"
          },
          "coloraxis": "coloraxis",
          "pattern": {
           "shape": ""
          }
         },
         "name": "",
         "orientation": "v",
         "showlegend": false,
         "textposition": "auto",
         "type": "bar",
         "x": [
          "Madhya Pradesh",
          "Gujarat",
          "Rajasthan",
          "Maharashtra",
          "Andhra Pradesh",
          "Tamil Nadu",
          "Karnataka",
          "Orissa",
          "Uttar Pradesh",
          "Haryana",
          "Telangana",
          "West Bengal",
          "Punjab",
          "Assam",
          "Chhattisgarh",
          "Bihar",
          "Kerala",
          "Jharkhand",
          "Himachal Pradesh",
          "Uttarakhand"
         ],
         "xaxis": "x",
         "y": {
          "bdata": "H4XrUda/AkGPwvUoANH+QClcj8Jt9v1A9ihcj/5U90AK16NwgcXyQFyPwvVg/epAexSuR+Gu6UB7FK5HccnbQIXrUbj+c9dAZmZmZqZx10CuR+F6lKjVQFyPwvXI7c1AUrgehWt4vkBI4XoUblO7QK5H4XqU67VApHA9CtdPpECuR+F6FKOSQJqZmZmZlXlAhetRuB6VckDXo3A9CqdsQA==",
          "dtype": "f8"
         },
         "yaxis": "y"
        }
       ],
       "layout": {
        "barmode": "relative",
        "coloraxis": {
         "colorbar": {
          "title": {
           "text": "Oilseeds_Production"
          }
         },
         "colorscale": [
          [
           0,
           "#0d0887"
          ],
          [
           0.1111111111111111,
           "#46039f"
          ],
          [
           0.2222222222222222,
           "#7201a8"
          ],
          [
           0.3333333333333333,
           "#9c179e"
          ],
          [
           0.4444444444444444,
           "#bd3786"
          ],
          [
           0.5555555555555556,
           "#d8576b"
          ],
          [
           0.6666666666666666,
           "#ed7953"
          ],
          [
           0.7777777777777778,
           "#fb9f3a"
          ],
          [
           0.8888888888888888,
           "#fdca26"
          ],
          [
           1,
           "#f0f921"
          ]
         ]
        },
        "legend": {
         "tracegroupgap": 0
        },
        "template": {
         "data": {
          "bar": [
           {
            "error_x": {
             "color": "#2a3f5f"
            },
            "error_y": {
             "color": "#2a3f5f"
            },
            "marker": {
             "line": {
              "color": "#E5ECF6",
              "width": 0.5
             },
             "pattern": {
              "fillmode": "overlay",
              "size": 10,
              "solidity": 0.2
             }
            },
            "type": "bar"
           }
          ],
          "barpolar": [
           {
            "marker": {
             "line": {
              "color": "#E5ECF6",
              "width": 0.5
             },
             "pattern": {
              "fillmode": "overlay",
              "size": 10,
              "solidity": 0.2
             }
            },
            "type": "barpolar"
           }
          ],
          "carpet": [
           {
            "aaxis": {
             "endlinecolor": "#2a3f5f",
             "gridcolor": "white",
             "linecolor": "white",
             "minorgridcolor": "white",
             "startlinecolor": "#2a3f5f"
            },
            "baxis": {
             "endlinecolor": "#2a3f5f",
             "gridcolor": "white",
             "linecolor": "white",
             "minorgridcolor": "white",
             "startlinecolor": "#2a3f5f"
            },
            "type": "carpet"
           }
          ],
          "choropleth": [
           {
            "colorbar": {
             "outlinewidth": 0,
             "ticks": ""
            },
            "type": "choropleth"
           }
          ],
          "contour": [
           {
            "colorbar": {
             "outlinewidth": 0,
             "ticks": ""
            },
            "colorscale": [
             [
              0,
              "#0d0887"
             ],
             [
              0.1111111111111111,
              "#46039f"
             ],
             [
              0.2222222222222222,
              "#7201a8"
             ],
             [
              0.3333333333333333,
              "#9c179e"
             ],
             [
              0.4444444444444444,
              "#bd3786"
             ],
             [
              0.5555555555555556,
              "#d8576b"
             ],
             [
              0.6666666666666666,
              "#ed7953"
             ],
             [
              0.7777777777777778,
              "#fb9f3a"
             ],
             [
              0.8888888888888888,
              "#fdca26"
             ],
             [
              1,
              "#f0f921"
             ]
            ],
            "type": "contour"
           }
          ],
          "contourcarpet": [
           {
            "colorbar": {
             "outlinewidth": 0,
             "ticks": ""
            },
            "type": "contourcarpet"
           }
          ],
          "heatmap": [
           {
            "colorbar": {
             "outlinewidth": 0,
             "ticks": ""
            },
            "colorscale": [
             [
              0,
              "#0d0887"
             ],
             [
              0.1111111111111111,
              "#46039f"
             ],
             [
              0.2222222222222222,
              "#7201a8"
             ],
             [
              0.3333333333333333,
              "#9c179e"
             ],
             [
              0.4444444444444444,
              "#bd3786"
             ],
             [
              0.5555555555555556,
              "#d8576b"
             ],
             [
              0.6666666666666666,
              "#ed7953"
             ],
             [
              0.7777777777777778,
              "#fb9f3a"
             ],
             [
              0.8888888888888888,
              "#fdca26"
             ],
             [
              1,
              "#f0f921"
             ]
            ],
            "type": "heatmap"
           }
          ],
          "histogram": [
           {
            "marker": {
             "pattern": {
              "fillmode": "overlay",
              "size": 10,
              "solidity": 0.2
             }
            },
            "type": "histogram"
           }
          ],
          "histogram2d": [
           {
            "colorbar": {
             "outlinewidth": 0,
             "ticks": ""
            },
            "colorscale": [
             [
              0,
              "#0d0887"
             ],
             [
              0.1111111111111111,
              "#46039f"
             ],
             [
              0.2222222222222222,
              "#7201a8"
             ],
             [
              0.3333333333333333,
              "#9c179e"
             ],
             [
              0.4444444444444444,
              "#bd3786"
             ],
             [
              0.5555555555555556,
              "#d8576b"
             ],
             [
              0.6666666666666666,
              "#ed7953"
             ],
             [
              0.7777777777777778,
              "#fb9f3a"
             ],
             [
              0.8888888888888888,
              "#fdca26"
             ],
             [
              1,
              "#f0f921"
             ]
            ],
            "type": "histogram2d"
           }
          ],
          "histogram2dcontour": [
           {
            "colorbar": {
             "outlinewidth": 0,
             "ticks": ""
            },
            "colorscale": [
             [
              0,
              "#0d0887"
             ],
             [
              0.1111111111111111,
              "#46039f"
             ],
             [
              0.2222222222222222,
              "#7201a8"
             ],
             [
              0.3333333333333333,
              "#9c179e"
             ],
             [
              0.4444444444444444,
              "#bd3786"
             ],
             [
              0.5555555555555556,
              "#d8576b"
             ],
             [
              0.6666666666666666,
              "#ed7953"
             ],
             [
              0.7777777777777778,
              "#fb9f3a"
             ],
             [
              0.8888888888888888,
              "#fdca26"
             ],
             [
              1,
              "#f0f921"
             ]
            ],
            "type": "histogram2dcontour"
           }
          ],
          "mesh3d": [
           {
            "colorbar": {
             "outlinewidth": 0,
             "ticks": ""
            },
            "type": "mesh3d"
           }
          ],
          "parcoords": [
           {
            "line": {
             "colorbar": {
              "outlinewidth": 0,
              "ticks": ""
             }
            },
            "type": "parcoords"
           }
          ],
          "pie": [
           {
            "automargin": true,
            "type": "pie"
           }
          ],
          "scatter": [
           {
            "fillpattern": {
             "fillmode": "overlay",
             "size": 10,
             "solidity": 0.2
            },
            "type": "scatter"
           }
          ],
          "scatter3d": [
           {
            "line": {
             "colorbar": {
              "outlinewidth": 0,
              "ticks": ""
             }
            },
            "marker": {
             "colorbar": {
              "outlinewidth": 0,
              "ticks": ""
             }
            },
            "type": "scatter3d"
           }
          ],
          "scattercarpet": [
           {
            "marker": {
             "colorbar": {
              "outlinewidth": 0,
              "ticks": ""
             }
            },
            "type": "scattercarpet"
           }
          ],
          "scattergeo": [
           {
            "marker": {
             "colorbar": {
              "outlinewidth": 0,
              "ticks": ""
             }
            },
            "type": "scattergeo"
           }
          ],
          "scattergl": [
           {
            "marker": {
             "colorbar": {
              "outlinewidth": 0,
              "ticks": ""
             }
            },
            "type": "scattergl"
           }
          ],
          "scattermap": [
           {
            "marker": {
             "colorbar": {
              "outlinewidth": 0,
              "ticks": ""
             }
            },
            "type": "scattermap"
           }
          ],
          "scattermapbox": [
           {
            "marker": {
             "colorbar": {
              "outlinewidth": 0,
              "ticks": ""
             }
            },
            "type": "scattermapbox"
           }
          ],
          "scatterpolar": [
           {
            "marker": {
             "colorbar": {
              "outlinewidth": 0,
              "ticks": ""
             }
            },
            "type": "scatterpolar"
           }
          ],
          "scatterpolargl": [
           {
            "marker": {
             "colorbar": {
              "outlinewidth": 0,
              "ticks": ""
             }
            },
            "type": "scatterpolargl"
           }
          ],
          "scatterternary": [
           {
            "marker": {
             "colorbar": {
              "outlinewidth": 0,
              "ticks": ""
             }
            },
            "type": "scatterternary"
           }
          ],
          "surface": [
           {
            "colorbar": {
             "outlinewidth": 0,
             "ticks": ""
            },
            "colorscale": [
             [
              0,
              "#0d0887"
             ],
             [
              0.1111111111111111,
              "#46039f"
             ],
             [
              0.2222222222222222,
              "#7201a8"
             ],
             [
              0.3333333333333333,
              "#9c179e"
             ],
             [
              0.4444444444444444,
              "#bd3786"
             ],
             [
              0.5555555555555556,
              "#d8576b"
             ],
             [
              0.6666666666666666,
              "#ed7953"
             ],
             [
              0.7777777777777778,
              "#fb9f3a"
             ],
             [
              0.8888888888888888,
              "#fdca26"
             ],
             [
              1,
              "#f0f921"
             ]
            ],
            "type": "surface"
           }
          ],
          "table": [
           {
            "cells": {
             "fill": {
              "color": "#EBF0F8"
             },
             "line": {
              "color": "white"
             }
            },
            "header": {
             "fill": {
              "color": "#C8D4E3"
             },
             "line": {
              "color": "white"
             }
            },
            "type": "table"
           }
          ]
         },
         "layout": {
          "annotationdefaults": {
           "arrowcolor": "#2a3f5f",
           "arrowhead": 0,
           "arrowwidth": 1
          },
          "autotypenumbers": "strict",
          "coloraxis": {
           "colorbar": {
            "outlinewidth": 0,
            "ticks": ""
           }
          },
          "colorscale": {
           "diverging": [
            [
             0,
             "#8e0152"
            ],
            [
             0.1,
             "#c51b7d"
            ],
            [
             0.2,
             "#de77ae"
            ],
            [
             0.3,
             "#f1b6da"
            ],
            [
             0.4,
             "#fde0ef"
            ],
            [
             0.5,
             "#f7f7f7"
            ],
            [
             0.6,
             "#e6f5d0"
            ],
            [
             0.7,
             "#b8e186"
            ],
            [
             0.8,
             "#7fbc41"
            ],
            [
             0.9,
             "#4d9221"
            ],
            [
             1,
             "#276419"
            ]
           ],
           "sequential": [
            [
             0,
             "#0d0887"
            ],
            [
             0.1111111111111111,
             "#46039f"
            ],
            [
             0.2222222222222222,
             "#7201a8"
            ],
            [
             0.3333333333333333,
             "#9c179e"
            ],
            [
             0.4444444444444444,
             "#bd3786"
            ],
            [
             0.5555555555555556,
             "#d8576b"
            ],
            [
             0.6666666666666666,
             "#ed7953"
            ],
            [
             0.7777777777777778,
             "#fb9f3a"
            ],
            [
             0.8888888888888888,
             "#fdca26"
            ],
            [
             1,
             "#f0f921"
            ]
           ],
           "sequentialminus": [
            [
             0,
             "#0d0887"
            ],
            [
             0.1111111111111111,
             "#46039f"
            ],
            [
             0.2222222222222222,
             "#7201a8"
            ],
            [
             0.3333333333333333,
             "#9c179e"
            ],
            [
             0.4444444444444444,
             "#bd3786"
            ],
            [
             0.5555555555555556,
             "#d8576b"
            ],
            [
             0.6666666666666666,
             "#ed7953"
            ],
            [
             0.7777777777777778,
             "#fb9f3a"
            ],
            [
             0.8888888888888888,
             "#fdca26"
            ],
            [
             1,
             "#f0f921"
            ]
           ]
          },
          "colorway": [
           "#636efa",
           "#EF553B",
           "#00cc96",
           "#ab63fa",
           "#FFA15A",
           "#19d3f3",
           "#FF6692",
           "#B6E880",
           "#FF97FF",
           "#FECB52"
          ],
          "font": {
           "color": "#2a3f5f"
          },
          "geo": {
           "bgcolor": "white",
           "lakecolor": "white",
           "landcolor": "#E5ECF6",
           "showlakes": true,
           "showland": true,
           "subunitcolor": "white"
          },
          "hoverlabel": {
           "align": "left"
          },
          "hovermode": "closest",
          "mapbox": {
           "style": "light"
          },
          "paper_bgcolor": "white",
          "plot_bgcolor": "#E5ECF6",
          "polar": {
           "angularaxis": {
            "gridcolor": "white",
            "linecolor": "white",
            "ticks": ""
           },
           "bgcolor": "#E5ECF6",
           "radialaxis": {
            "gridcolor": "white",
            "linecolor": "white",
            "ticks": ""
           }
          },
          "scene": {
           "xaxis": {
            "backgroundcolor": "#E5ECF6",
            "gridcolor": "white",
            "gridwidth": 2,
            "linecolor": "white",
            "showbackground": true,
            "ticks": "",
            "zerolinecolor": "white"
           },
           "yaxis": {
            "backgroundcolor": "#E5ECF6",
            "gridcolor": "white",
            "gridwidth": 2,
            "linecolor": "white",
            "showbackground": true,
            "ticks": "",
            "zerolinecolor": "white"
           },
           "zaxis": {
            "backgroundcolor": "#E5ECF6",
            "gridcolor": "white",
            "gridwidth": 2,
            "linecolor": "white",
            "showbackground": true,
            "ticks": "",
            "zerolinecolor": "white"
           }
          },
          "shapedefaults": {
           "line": {
            "color": "#2a3f5f"
           }
          },
          "ternary": {
           "aaxis": {
            "gridcolor": "white",
            "linecolor": "white",
            "ticks": ""
           },
           "baxis": {
            "gridcolor": "white",
            "linecolor": "white",
            "ticks": ""
           },
           "bgcolor": "#E5ECF6",
           "caxis": {
            "gridcolor": "white",
            "linecolor": "white",
            "ticks": ""
           }
          },
          "title": {
           "x": 0.05
          },
          "xaxis": {
           "automargin": true,
           "gridcolor": "white",
           "linecolor": "white",
           "ticks": "",
           "title": {
            "standoff": 15
           },
           "zerolinecolor": "white",
           "zerolinewidth": 2
          },
          "yaxis": {
           "automargin": true,
           "gridcolor": "white",
           "linecolor": "white",
           "ticks": "",
           "title": {
            "standoff": 15
           },
           "zerolinecolor": "white",
           "zerolinewidth": 2
          }
         }
        },
        "title": {
         "text": "Oilseed Production in Major States"
        },
        "xaxis": {
         "anchor": "y",
         "domain": [
          0,
          1
         ],
         "title": {
          "text": "State_Name"
         }
        },
        "yaxis": {
         "anchor": "x",
         "domain": [
          0,
          1
         ],
         "title": {
          "text": "Oilseeds_Production"
         }
        }
       }
      }
     },
     "metadata": {},
     "output_type": "display_data"
    }
   ],
   "source": [
    "#13.Oilseed Production in Major States\n",
    "oilseed_production = df.groupby('State_Name')['Oilseeds_Production'].sum().sort_values(ascending=False).reset_index()\n",
    "fig_oilseed = px.bar(oilseed_production, x='State_Name', y='Oilseeds_Production', color='Oilseeds_Production',\n",
    "                     title='Oilseed Production in Major States')\n",
    "fig_oilseed.show()"
   ]
  },
  {
   "cell_type": "code",
   "execution_count": 66,
   "id": "e8b47389",
   "metadata": {},
   "outputs": [
    {
     "data": {
      "application/vnd.plotly.v1+json": {
       "config": {
        "plotlyServerURL": "https://plot.ly"
       },
       "data": [
        {
         "customdata": {
          "bdata": "rgevB7AHsQeyB7MHtAe1B7YHtwe4B7kHuge7B7wHvQe+B78HwAfBB8IHwwfEB8UHxgfHB8gHyQfKB8sHzAfNB84HzwfQB9EH0gfTB9QH1QfWB9cH2AfZB9oH2wfcB90H3gffB+AH4Qc=",
          "dtype": "i2",
          "shape": "52, 1"
         },
         "hovertemplate": "Crop=Rice<br>Area Cultivated (1000 ha)=%{x}<br>Production (1000 tons)=%{marker.size}<br>Year=%{customdata[0]}<extra></extra>",
         "legendgroup": "Rice",
         "marker": {
          "color": "#636efa",
          "size": {
           "bdata": "hetRuE5z3ECuR+F6FB7hQD0K16Ow8eBAH4XrUYB/4UBxPQrXgzPjQHsUrkdZgeNAKVyPwr2E4kBI4XoUXoXkQB+F61FQZ+JAUrgehQuI5kBmZmZmTqTjQOxRuB7toOhAPgrXo4DW6ECuR+F6FM7jQAAAAACIx+lAcT0K18ug6UAUrkfhKgPmQAAAAADQNOxA9ihcj3qQ60AzMzMzO2ruQB+F61EAnOxAFK5H4UrN6kAK16NwsdPwQClcj8Kt8/FAuB6F69V78UBcj8L1JIvxQPYoXI/eI/FApHA9CrvX8kD2KFyPnlrzQPYoXI92uvFA16NwPYIS80AK16NwgafzQOF6FK6jHfRA7FG4HvEf9UAK16NwSWH0QLgehetBWvZAKVyPwt0R8UBmZmZmsr70QNejcD16w/NACtejcDlR9UDXo3A9Avj1QB+F61GstPZACtejcK0/90CkcD0Ka4D1QOF6FK7DBfdAH4XrUYT0+EC4HoXr2XL5QIXrUbgGv/pAuB6F63l6+0CPwvUoSCD4QJqZmZnhtvxAKVyPwvno+0A=",
           "dtype": "f8"
          },
          "sizemode": "area",
          "sizeref": 294.03525,
          "symbol": "circle"
         },
         "mode": "markers",
         "name": "Rice",
         "orientation": "v",
         "showlegend": true,
         "type": "scatter",
         "x": {
          "bdata": "16NwPVqf4ED2KFyPihjhQJqZmZnB6eBASOF6FD5/4UBI4XoUtojhQOF6FK6Xx+FA7FG4Hl1c4UDD9ShcV/rhQArXo3Dl0+FAXI/C9YCQ4kD2KFyPMh/iQIXrUbi+9+JAj8L1KHwz40AfhetRQJ3iQPYoXI+a/+JApHA9Cg9F40DXo3A9Wq7hQOF6FK73Z+NAj8L1KHx240CuR+F6RGXjQI/C9SjkUuNAPQrXo6Az4kAfhetR+NfjQMP1KFyfZuRA4XoUrt8N5EAzMzMzswfkQIXrUbjuoeNAuB6F6wn940CuR+F6pCLkQGZmZmYWcuNAMzMzM7vN40DhehSuf67kQNejcD1apeRAH4XrUUiq5EApXI/C9UXlQBSuR+EiPOVApHA9Cndu40C4HoXrqRfkQArXo3C11ONAuB6F62nK5EBI4XoU1oHkQDMzMzMbuuRA16NwPZpd5UAfhetR2DvkQFyPwvUIc+RAw/UoXNeY5EAUrkfhivDjQOxRuB4lCeVAmpmZmaHE5EDhehSux2rkQIXrUbh2+uRAXI/C9RD85EA=",
          "dtype": "f8"
         },
         "xaxis": "x",
         "y": {
          "bdata": "hetRuE5z3ECuR+F6FB7hQD0K16Ow8eBAH4XrUYB/4UBxPQrXgzPjQHsUrkdZgeNAKVyPwr2E4kBI4XoUXoXkQB+F61FQZ+JAUrgehQuI5kBmZmZmTqTjQOxRuB7toOhAPgrXo4DW6ECuR+F6FM7jQAAAAACIx+lAcT0K18ug6UAUrkfhKgPmQAAAAADQNOxA9ihcj3qQ60AzMzMzO2ruQB+F61EAnOxAFK5H4UrN6kAK16NwsdPwQClcj8Kt8/FAuB6F69V78UBcj8L1JIvxQPYoXI/eI/FApHA9CrvX8kD2KFyPnlrzQPYoXI92uvFA16NwPYIS80AK16NwgafzQOF6FK6jHfRA7FG4HvEf9UAK16NwSWH0QLgehetBWvZAKVyPwt0R8UBmZmZmsr70QNejcD16w/NACtejcDlR9UDXo3A9Avj1QB+F61GstPZACtejcK0/90CkcD0Ka4D1QOF6FK7DBfdAH4XrUYT0+EC4HoXr2XL5QIXrUbgGv/pAuB6F63l6+0CPwvUoSCD4QJqZmZnhtvxAKVyPwvno+0A=",
          "dtype": "f8"
         },
         "yaxis": "y"
        },
        {
         "customdata": {
          "bdata": "rgevB7AHsQeyB7MHtAe1B7YHtwe4B7kHuge7B7wHvQe+B78HwAfBB8IHwwfEB8UHxgfHB8gHyQfKB8sHzAfNB84HzwfQB9EH0gfTB9QH1QfWB9cH2AfZB9oH2wfcB90H3gffB+AH4Qc=",
          "dtype": "i2",
          "shape": "52, 1"
         },
         "hovertemplate": "Crop=Wheat<br>Area Cultivated (1000 ha)=%{x}<br>Production (1000 tons)=%{marker.size}<br>Year=%{customdata[0]}<extra></extra>",
         "legendgroup": "Wheat",
         "marker": {
          "color": "#EF553B",
          "size": {
           "bdata": "w/UoXI92xUBmZmZmJkPPQBSuR+Hq99BApHA9ChfI0kAfhetReCXWQFyPwvU4sNhAcT0K1+NX1kBcj8L1WFjUQArXo3A9g9ZA16NwPZqD2kCF61G4Lu/aQNejcD3qTN1AexSuR8mj4EAAAAAAgAXeQLgehethaeFAexSuR0kk4kApXI/CRbTkQKRwPQpn5+VApHA9Ct9o5UAVrkfhYtvmQEjhehR+PeVAzczMzBQ45kCuR+F6XDbqQLgehetpc+lArkfheiSW6kAfhetRUArrQJqZmZkpq+tACtejcBUB7UCamZmZyfbvQI/C9Sik3O1AXI/C9XjB8EBI4XoUpsfvQPYoXI+WGvFAUrgehReb8kA9CtejEP/wQJqZmZmhn/FA61G4HpXv70B7FK5H0afxQClcj8JV2fBAH4XrUbCx8EAAAAAA2PjyQOF6FK7rj/NAw/UoXNPs80CF61G45sfzQM3MzMzoz/ZAcT0K1996+EApXI/Cnbn3QBSuR+GiBvlAexSuRym49EDhehSuD+j2QOxRuB4tlPtAw/UoXCP1+kA=",
           "dtype": "f8"
          },
          "sizemode": "area",
          "sizeref": 294.03525,
          "symbol": "circle"
         },
         "mode": "markers",
         "name": "Wheat",
         "orientation": "v",
         "showlegend": true,
         "type": "scatter",
         "x": {
          "bdata": "pHA9CvdkyEC4HoXrUU/MQNejcD3KFM1AKVyPwtUZz0CamZmZCRDRQClcj8KF/NFASOF6FI6j0UAUrkfhKqbRQM3MzMwc+NBA4XoUrrcQ00DXo3A9al/TQK5H4XqExtNAMzMzM4NH1UA9CtejELnUQOF6FK53bdVASOF6FH5q1UB7FK5HIWPWQKRwPQqXo9dA9ihcj3LV1kBxPQrXE0XWQOF6FK73E9ZAhetRuE4v1kCamZmZ6U/XQClcj8J1itdAPQrXo3Ao10C4HoXrkYLWQMP1KFwvxNdAXI/C9RhH2EDXo3A92u3YQHsUrkfhDNhACtejcK3n2EApXI/CFdXZQGZmZmZGuNpAPQrXo3Ch2kDXo3A9mt3YQFyPwvXoZNlACtejcC1j2EA9CtejAPjZQHsUrkdR8dlA9ihcj7LB2UDhehSuZ3fbQNejcD0ap9tA9ihcj2IA20CF61G47q/bQDMzMzOjTN1AcT0K16PF3EA9CtejEI3cQBSuR+H6l95AhetRuG5p3kCkcD0KB1XdQPYoXI+yv95AcT0K1/NZ3UA=",
          "dtype": "f8"
         },
         "xaxis": "x",
         "y": {
          "bdata": "w/UoXI92xUBmZmZmJkPPQBSuR+Hq99BApHA9ChfI0kAfhetReCXWQFyPwvU4sNhAcT0K1+NX1kBcj8L1WFjUQArXo3A9g9ZA16NwPZqD2kCF61G4Lu/aQNejcD3qTN1AexSuR8mj4EAAAAAAgAXeQLgehethaeFAexSuR0kk4kApXI/CRbTkQKRwPQpn5+VApHA9Ct9o5UAVrkfhYtvmQEjhehR+PeVAzczMzBQ45kCuR+F6XDbqQLgehetpc+lArkfheiSW6kAfhetRUArrQJqZmZkpq+tACtejcBUB7UCamZmZyfbvQI/C9Sik3O1AXI/C9XjB8EBI4XoUpsfvQPYoXI+WGvFAUrgehReb8kA9CtejEP/wQJqZmZmhn/FA61G4HpXv70B7FK5H0afxQClcj8JV2fBAH4XrUbCx8EAAAAAA2PjyQOF6FK7rj/NAw/UoXNPs80CF61G45sfzQM3MzMzoz/ZAcT0K1996+EApXI/Cnbn3QBSuR+GiBvlAexSuRym49EDhehSuD+j2QOxRuB4tlPtAw/UoXCP1+kA=",
          "dtype": "f8"
         },
         "yaxis": "y"
        },
        {
         "customdata": {
          "bdata": "rgevB7AHsQeyB7MHtAe1B7YHtwe4B7kHuge7B7wHvQe+B78HwAfBB8IHwwfEB8UHxgfHB8gHyQfKB8sHzAfNB84HzwfQB9EH0gfTB9QH1QfWB9cH2AfZB9oH2wfcB90H3gffB+AH4Qc=",
          "dtype": "i2",
          "shape": "52, 1"
         },
         "hovertemplate": "Crop=Maize<br>Area Cultivated (1000 ha)=%{x}<br>Production (1000 tons)=%{marker.size}<br>Year=%{customdata[0]}<extra></extra>",
         "legendgroup": "Maize",
         "marker": {
          "color": "#00cc96",
          "size": {
           "bdata": "Fa5H4TrgskB7FK5HIce3QKRwPQqXhbFAcT0K16OtskB7FK5H4dW7QClcj8I1f7NA61G4HoXHtkCF61G4HrS0QOF6FK5H/bNACtejcH1zuUDhehSuR4+2QArXo3B9crVAUrgehSsjtkBcj8L16AO1QPYoXI9CaLhASOF6FO6TuEAVrkfh+uO3QEjhehQuL71AcT0K1yNOvkCuR+F61Ce4QMP1KFwPCLpA9ihcj0KPtEC4HoXrESW+QArXo3D9qsFACtejcJ0/wEAAAAAAAPG8QD0K16NwdMJAuB6F63FtwUBxPQrXQ2XAQIXrUbi+EMFAcT0K12M2w0AzMzMz80PEQOxRuB6FKsRAcT0K12MIxUA9Ctej8MjGQAAAAACAGchASOF6FI55xEBcj8L1qD7LQGZmZmaGoslASOF6FO5szEC4HoXrEcfLQJqZmZkZd9JAPQrXo6DH0UAfhetR2EzPQJqZmZkpmtVAUrgehSta1UBmZmZmxl/WQAAAAACAr9lAcT0K1zMn2EBcj8L1iJnVQNejcD2qi9pAuB6F60H130A=",
           "dtype": "f8"
          },
          "sizemode": "area",
          "sizeref": 294.03525,
          "symbol": "circle"
         },
         "mode": "markers",
         "name": "Maize",
         "orientation": "v",
         "showlegend": true,
         "type": "scatter",
         "x": {
          "bdata": "pHA9ClcLs0AzMzMz8/C0QM3MzMxM87NA61G4HoVTtED2KFyPgsy1QHsUrkch5bRAexSuRyFxtUAUrkfhelu2QIXrUbjei7VAmpmZmRkStkAAAAAAgBi2QNejcD0KFbVACtejcP07tUBI4XoULmK1QNejcD2KGbZAPgrXo7C3tUDNzMzMTLq0QD0K16PwJrVAXI/C9ajbtECamZmZmVy1QBWuR+H6MrVAAAAAAEAXtECPwvUo3JC1QOtRuB5FhbVApHA9CpdWtUAUrkfhOma1QClcj8J1DrZAAAAAAAA9tkCF61G43iy2QOxRuB4FY7VAcT0K12NKtkBSuB6Faza3QArXo3D9CbdAuB6F6xFdt0AAAAAAAAK5QOxRuB6F77dAXI/C9ehpuEAK16NwfWi6QHsUrkeh0LpAexSuRyHYu0AK16NwvXC8QD0K16Pwib1A4XoUrsfqvEA9CtejsEq+QBWuR+H6qL9ApHA9CrcWwEBcj8L1aAvAQNejcD0qu8BAj8L1KFwDwUDXo3A9aj/AQMP1KFzvr8FA9ihcj+KfwUA=",
          "dtype": "f8"
         },
         "xaxis": "x",
         "y": {
          "bdata": "Fa5H4TrgskB7FK5HIce3QKRwPQqXhbFAcT0K16OtskB7FK5H4dW7QClcj8I1f7NA61G4HoXHtkCF61G4HrS0QOF6FK5H/bNACtejcH1zuUDhehSuR4+2QArXo3B9crVAUrgehSsjtkBcj8L16AO1QPYoXI9CaLhASOF6FO6TuEAVrkfh+uO3QEjhehQuL71AcT0K1yNOvkCuR+F61Ce4QMP1KFwPCLpA9ihcj0KPtEC4HoXrESW+QArXo3D9qsFACtejcJ0/wEAAAAAAAPG8QD0K16NwdMJAuB6F63FtwUBxPQrXQ2XAQIXrUbi+EMFAcT0K12M2w0AzMzMz80PEQOxRuB6FKsRAcT0K12MIxUA9Ctej8MjGQAAAAACAGchASOF6FI55xEBcj8L1qD7LQGZmZmaGoslASOF6FO5szEC4HoXrEcfLQJqZmZkZd9JAPQrXo6DH0UAfhetR2EzPQJqZmZkpmtVAUrgehSta1UBmZmZmxl/WQAAAAACAr9lAcT0K1zMn2EBcj8L1iJnVQNejcD2qi9pAuB6F60H130A=",
          "dtype": "f8"
         },
         "yaxis": "y"
        }
       ],
       "layout": {
        "legend": {
         "itemsizing": "constant",
         "title": {
          "text": "Crop"
         },
         "tracegroupgap": 0
        },
        "template": {
         "data": {
          "bar": [
           {
            "error_x": {
             "color": "#2a3f5f"
            },
            "error_y": {
             "color": "#2a3f5f"
            },
            "marker": {
             "line": {
              "color": "white",
              "width": 0.5
             },
             "pattern": {
              "fillmode": "overlay",
              "size": 10,
              "solidity": 0.2
             }
            },
            "type": "bar"
           }
          ],
          "barpolar": [
           {
            "marker": {
             "line": {
              "color": "white",
              "width": 0.5
             },
             "pattern": {
              "fillmode": "overlay",
              "size": 10,
              "solidity": 0.2
             }
            },
            "type": "barpolar"
           }
          ],
          "carpet": [
           {
            "aaxis": {
             "endlinecolor": "#2a3f5f",
             "gridcolor": "#C8D4E3",
             "linecolor": "#C8D4E3",
             "minorgridcolor": "#C8D4E3",
             "startlinecolor": "#2a3f5f"
            },
            "baxis": {
             "endlinecolor": "#2a3f5f",
             "gridcolor": "#C8D4E3",
             "linecolor": "#C8D4E3",
             "minorgridcolor": "#C8D4E3",
             "startlinecolor": "#2a3f5f"
            },
            "type": "carpet"
           }
          ],
          "choropleth": [
           {
            "colorbar": {
             "outlinewidth": 0,
             "ticks": ""
            },
            "type": "choropleth"
           }
          ],
          "contour": [
           {
            "colorbar": {
             "outlinewidth": 0,
             "ticks": ""
            },
            "colorscale": [
             [
              0,
              "#0d0887"
             ],
             [
              0.1111111111111111,
              "#46039f"
             ],
             [
              0.2222222222222222,
              "#7201a8"
             ],
             [
              0.3333333333333333,
              "#9c179e"
             ],
             [
              0.4444444444444444,
              "#bd3786"
             ],
             [
              0.5555555555555556,
              "#d8576b"
             ],
             [
              0.6666666666666666,
              "#ed7953"
             ],
             [
              0.7777777777777778,
              "#fb9f3a"
             ],
             [
              0.8888888888888888,
              "#fdca26"
             ],
             [
              1,
              "#f0f921"
             ]
            ],
            "type": "contour"
           }
          ],
          "contourcarpet": [
           {
            "colorbar": {
             "outlinewidth": 0,
             "ticks": ""
            },
            "type": "contourcarpet"
           }
          ],
          "heatmap": [
           {
            "colorbar": {
             "outlinewidth": 0,
             "ticks": ""
            },
            "colorscale": [
             [
              0,
              "#0d0887"
             ],
             [
              0.1111111111111111,
              "#46039f"
             ],
             [
              0.2222222222222222,
              "#7201a8"
             ],
             [
              0.3333333333333333,
              "#9c179e"
             ],
             [
              0.4444444444444444,
              "#bd3786"
             ],
             [
              0.5555555555555556,
              "#d8576b"
             ],
             [
              0.6666666666666666,
              "#ed7953"
             ],
             [
              0.7777777777777778,
              "#fb9f3a"
             ],
             [
              0.8888888888888888,
              "#fdca26"
             ],
             [
              1,
              "#f0f921"
             ]
            ],
            "type": "heatmap"
           }
          ],
          "histogram": [
           {
            "marker": {
             "pattern": {
              "fillmode": "overlay",
              "size": 10,
              "solidity": 0.2
             }
            },
            "type": "histogram"
           }
          ],
          "histogram2d": [
           {
            "colorbar": {
             "outlinewidth": 0,
             "ticks": ""
            },
            "colorscale": [
             [
              0,
              "#0d0887"
             ],
             [
              0.1111111111111111,
              "#46039f"
             ],
             [
              0.2222222222222222,
              "#7201a8"
             ],
             [
              0.3333333333333333,
              "#9c179e"
             ],
             [
              0.4444444444444444,
              "#bd3786"
             ],
             [
              0.5555555555555556,
              "#d8576b"
             ],
             [
              0.6666666666666666,
              "#ed7953"
             ],
             [
              0.7777777777777778,
              "#fb9f3a"
             ],
             [
              0.8888888888888888,
              "#fdca26"
             ],
             [
              1,
              "#f0f921"
             ]
            ],
            "type": "histogram2d"
           }
          ],
          "histogram2dcontour": [
           {
            "colorbar": {
             "outlinewidth": 0,
             "ticks": ""
            },
            "colorscale": [
             [
              0,
              "#0d0887"
             ],
             [
              0.1111111111111111,
              "#46039f"
             ],
             [
              0.2222222222222222,
              "#7201a8"
             ],
             [
              0.3333333333333333,
              "#9c179e"
             ],
             [
              0.4444444444444444,
              "#bd3786"
             ],
             [
              0.5555555555555556,
              "#d8576b"
             ],
             [
              0.6666666666666666,
              "#ed7953"
             ],
             [
              0.7777777777777778,
              "#fb9f3a"
             ],
             [
              0.8888888888888888,
              "#fdca26"
             ],
             [
              1,
              "#f0f921"
             ]
            ],
            "type": "histogram2dcontour"
           }
          ],
          "mesh3d": [
           {
            "colorbar": {
             "outlinewidth": 0,
             "ticks": ""
            },
            "type": "mesh3d"
           }
          ],
          "parcoords": [
           {
            "line": {
             "colorbar": {
              "outlinewidth": 0,
              "ticks": ""
             }
            },
            "type": "parcoords"
           }
          ],
          "pie": [
           {
            "automargin": true,
            "type": "pie"
           }
          ],
          "scatter": [
           {
            "fillpattern": {
             "fillmode": "overlay",
             "size": 10,
             "solidity": 0.2
            },
            "type": "scatter"
           }
          ],
          "scatter3d": [
           {
            "line": {
             "colorbar": {
              "outlinewidth": 0,
              "ticks": ""
             }
            },
            "marker": {
             "colorbar": {
              "outlinewidth": 0,
              "ticks": ""
             }
            },
            "type": "scatter3d"
           }
          ],
          "scattercarpet": [
           {
            "marker": {
             "colorbar": {
              "outlinewidth": 0,
              "ticks": ""
             }
            },
            "type": "scattercarpet"
           }
          ],
          "scattergeo": [
           {
            "marker": {
             "colorbar": {
              "outlinewidth": 0,
              "ticks": ""
             }
            },
            "type": "scattergeo"
           }
          ],
          "scattergl": [
           {
            "marker": {
             "colorbar": {
              "outlinewidth": 0,
              "ticks": ""
             }
            },
            "type": "scattergl"
           }
          ],
          "scattermap": [
           {
            "marker": {
             "colorbar": {
              "outlinewidth": 0,
              "ticks": ""
             }
            },
            "type": "scattermap"
           }
          ],
          "scattermapbox": [
           {
            "marker": {
             "colorbar": {
              "outlinewidth": 0,
              "ticks": ""
             }
            },
            "type": "scattermapbox"
           }
          ],
          "scatterpolar": [
           {
            "marker": {
             "colorbar": {
              "outlinewidth": 0,
              "ticks": ""
             }
            },
            "type": "scatterpolar"
           }
          ],
          "scatterpolargl": [
           {
            "marker": {
             "colorbar": {
              "outlinewidth": 0,
              "ticks": ""
             }
            },
            "type": "scatterpolargl"
           }
          ],
          "scatterternary": [
           {
            "marker": {
             "colorbar": {
              "outlinewidth": 0,
              "ticks": ""
             }
            },
            "type": "scatterternary"
           }
          ],
          "surface": [
           {
            "colorbar": {
             "outlinewidth": 0,
             "ticks": ""
            },
            "colorscale": [
             [
              0,
              "#0d0887"
             ],
             [
              0.1111111111111111,
              "#46039f"
             ],
             [
              0.2222222222222222,
              "#7201a8"
             ],
             [
              0.3333333333333333,
              "#9c179e"
             ],
             [
              0.4444444444444444,
              "#bd3786"
             ],
             [
              0.5555555555555556,
              "#d8576b"
             ],
             [
              0.6666666666666666,
              "#ed7953"
             ],
             [
              0.7777777777777778,
              "#fb9f3a"
             ],
             [
              0.8888888888888888,
              "#fdca26"
             ],
             [
              1,
              "#f0f921"
             ]
            ],
            "type": "surface"
           }
          ],
          "table": [
           {
            "cells": {
             "fill": {
              "color": "#EBF0F8"
             },
             "line": {
              "color": "white"
             }
            },
            "header": {
             "fill": {
              "color": "#C8D4E3"
             },
             "line": {
              "color": "white"
             }
            },
            "type": "table"
           }
          ]
         },
         "layout": {
          "annotationdefaults": {
           "arrowcolor": "#2a3f5f",
           "arrowhead": 0,
           "arrowwidth": 1
          },
          "autotypenumbers": "strict",
          "coloraxis": {
           "colorbar": {
            "outlinewidth": 0,
            "ticks": ""
           }
          },
          "colorscale": {
           "diverging": [
            [
             0,
             "#8e0152"
            ],
            [
             0.1,
             "#c51b7d"
            ],
            [
             0.2,
             "#de77ae"
            ],
            [
             0.3,
             "#f1b6da"
            ],
            [
             0.4,
             "#fde0ef"
            ],
            [
             0.5,
             "#f7f7f7"
            ],
            [
             0.6,
             "#e6f5d0"
            ],
            [
             0.7,
             "#b8e186"
            ],
            [
             0.8,
             "#7fbc41"
            ],
            [
             0.9,
             "#4d9221"
            ],
            [
             1,
             "#276419"
            ]
           ],
           "sequential": [
            [
             0,
             "#0d0887"
            ],
            [
             0.1111111111111111,
             "#46039f"
            ],
            [
             0.2222222222222222,
             "#7201a8"
            ],
            [
             0.3333333333333333,
             "#9c179e"
            ],
            [
             0.4444444444444444,
             "#bd3786"
            ],
            [
             0.5555555555555556,
             "#d8576b"
            ],
            [
             0.6666666666666666,
             "#ed7953"
            ],
            [
             0.7777777777777778,
             "#fb9f3a"
            ],
            [
             0.8888888888888888,
             "#fdca26"
            ],
            [
             1,
             "#f0f921"
            ]
           ],
           "sequentialminus": [
            [
             0,
             "#0d0887"
            ],
            [
             0.1111111111111111,
             "#46039f"
            ],
            [
             0.2222222222222222,
             "#7201a8"
            ],
            [
             0.3333333333333333,
             "#9c179e"
            ],
            [
             0.4444444444444444,
             "#bd3786"
            ],
            [
             0.5555555555555556,
             "#d8576b"
            ],
            [
             0.6666666666666666,
             "#ed7953"
            ],
            [
             0.7777777777777778,
             "#fb9f3a"
            ],
            [
             0.8888888888888888,
             "#fdca26"
            ],
            [
             1,
             "#f0f921"
            ]
           ]
          },
          "colorway": [
           "#636efa",
           "#EF553B",
           "#00cc96",
           "#ab63fa",
           "#FFA15A",
           "#19d3f3",
           "#FF6692",
           "#B6E880",
           "#FF97FF",
           "#FECB52"
          ],
          "font": {
           "color": "#2a3f5f"
          },
          "geo": {
           "bgcolor": "white",
           "lakecolor": "white",
           "landcolor": "white",
           "showlakes": true,
           "showland": true,
           "subunitcolor": "#C8D4E3"
          },
          "hoverlabel": {
           "align": "left"
          },
          "hovermode": "closest",
          "mapbox": {
           "style": "light"
          },
          "paper_bgcolor": "white",
          "plot_bgcolor": "white",
          "polar": {
           "angularaxis": {
            "gridcolor": "#EBF0F8",
            "linecolor": "#EBF0F8",
            "ticks": ""
           },
           "bgcolor": "white",
           "radialaxis": {
            "gridcolor": "#EBF0F8",
            "linecolor": "#EBF0F8",
            "ticks": ""
           }
          },
          "scene": {
           "xaxis": {
            "backgroundcolor": "white",
            "gridcolor": "#DFE8F3",
            "gridwidth": 2,
            "linecolor": "#EBF0F8",
            "showbackground": true,
            "ticks": "",
            "zerolinecolor": "#EBF0F8"
           },
           "yaxis": {
            "backgroundcolor": "white",
            "gridcolor": "#DFE8F3",
            "gridwidth": 2,
            "linecolor": "#EBF0F8",
            "showbackground": true,
            "ticks": "",
            "zerolinecolor": "#EBF0F8"
           },
           "zaxis": {
            "backgroundcolor": "white",
            "gridcolor": "#DFE8F3",
            "gridwidth": 2,
            "linecolor": "#EBF0F8",
            "showbackground": true,
            "ticks": "",
            "zerolinecolor": "#EBF0F8"
           }
          },
          "shapedefaults": {
           "line": {
            "color": "#2a3f5f"
           }
          },
          "ternary": {
           "aaxis": {
            "gridcolor": "#DFE8F3",
            "linecolor": "#A2B1C6",
            "ticks": ""
           },
           "baxis": {
            "gridcolor": "#DFE8F3",
            "linecolor": "#A2B1C6",
            "ticks": ""
           },
           "bgcolor": "white",
           "caxis": {
            "gridcolor": "#DFE8F3",
            "linecolor": "#A2B1C6",
            "ticks": ""
           }
          },
          "title": {
           "x": 0.05
          },
          "xaxis": {
           "automargin": true,
           "gridcolor": "#EBF0F8",
           "linecolor": "#EBF0F8",
           "ticks": "",
           "title": {
            "standoff": 15
           },
           "zerolinecolor": "#EBF0F8",
           "zerolinewidth": 2
          },
          "yaxis": {
           "automargin": true,
           "gridcolor": "#EBF0F8",
           "linecolor": "#EBF0F8",
           "ticks": "",
           "title": {
            "standoff": 15
           },
           "zerolinecolor": "#EBF0F8",
           "zerolinewidth": 2
          }
         }
        },
        "title": {
         "text": "Scatter Plot: Area vs Production (Rice, Wheat, Maize)"
        },
        "xaxis": {
         "anchor": "y",
         "domain": [
          0,
          1
         ],
         "title": {
          "text": "Area Cultivated (1000 ha)"
         }
        },
        "yaxis": {
         "anchor": "x",
         "domain": [
          0,
          1
         ],
         "title": {
          "text": "Production (1000 tons)"
         }
        }
       }
      }
     },
     "metadata": {},
     "output_type": "display_data"
    }
   ],
   "source": [
    "#14.Impact of Area Cultivated on Production (Rice, Wheat, Maize)\n",
    "area_production = df.groupby('Year')[['Rice_Area', 'Wheat_Area', 'Maize_Area',\n",
    "                                       'Rice_Production', 'Wheat_Production', 'Maize_Production']].sum().reset_index()\n",
    "\n",
    "scatter_df = pd.DataFrame({\n",
    "    'Year': pd.concat([area_production['Year']]*3, ignore_index=True),\n",
    "    'Crop': ['Rice']*len(area_production) + ['Wheat']*len(area_production) + ['Maize']*len(area_production),\n",
    "    'Area': pd.concat([area_production['Rice_Area'],\n",
    "                       area_production['Wheat_Area'],\n",
    "                       area_production['Maize_Area']], ignore_index=True),\n",
    "    'Production': pd.concat([area_production['Rice_Production'],\n",
    "                             area_production['Wheat_Production'],\n",
    "                             area_production['Maize_Production']], ignore_index=True)\n",
    "})\n",
    "\n",
    "fig = px.scatter(scatter_df,\n",
    "                 x='Area',\n",
    "                 y='Production',\n",
    "                 color='Crop',\n",
    "                 size='Production',\n",
    "                 hover_data=['Year'],\n",
    "                 title='Scatter Plot: Area vs Production (Rice, Wheat, Maize)',\n",
    "                 labels={'Area': 'Area Cultivated (1000 ha)', 'Production': 'Production (1000 tons)'})\n",
    "\n",
    "fig.update_layout(template='plotly_white')\n",
    "fig.show()\n"
   ]
  },
  {
   "cell_type": "code",
   "execution_count": 67,
   "id": "80d29adf",
   "metadata": {},
   "outputs": [
    {
     "data": {
      "application/vnd.plotly.v1+json": {
       "config": {
        "plotlyServerURL": "https://plot.ly"
       },
       "data": [
        {
         "alignmentgroup": "True",
         "hovertemplate": "Crop=Rice_Yield<br>State_Name=%{x}<br>Yield (Kg/Ha)=%{y}<extra></extra>",
         "legendgroup": "Rice_Yield",
         "marker": {
          "color": "#636efa",
          "pattern": {
           "shape": ""
          }
         },
         "name": "Rice_Yield",
         "offsetgroup": "Rice_Yield",
         "orientation": "v",
         "showlegend": true,
         "textposition": "auto",
         "type": "bar",
         "x": [
          "Andhra Pradesh",
          "Assam",
          "Bihar",
          "Chhattisgarh",
          "Gujarat",
          "Haryana",
          "Himachal Pradesh",
          "Jharkhand",
          "Karnataka",
          "Kerala",
          "Madhya Pradesh",
          "Maharashtra",
          "Orissa",
          "Punjab",
          "Rajasthan",
          "Tamil Nadu",
          "Telangana",
          "Uttar Pradesh",
          "Uttarakhand",
          "West Bengal"
         ],
         "xaxis": "x",
         "y": {
          "bdata": "I1OBHhpDokBMIGsYrUmVQNahNKfn8pNAdcBtQg3HkECWxs9ic4WQQCmIgigoGKFAc5bNP0NBkUA1XrpJjAeSQORnClsUz6BAEQyoc+cnnkAXnDwpp5eJQCipmedq9ZBAQ7r+lGUwk0BGwhE41zioQLezap85gYVARxCeesv7pUDbGPSnZQehQKQHW+pnnJhAsaCk4/sbk0Cxkbq/ViWdQA==",
          "dtype": "f8"
         },
         "yaxis": "y"
        },
        {
         "alignmentgroup": "True",
         "hovertemplate": "Crop=Wheat_Yield<br>State_Name=%{x}<br>Yield (Kg/Ha)=%{y}<extra></extra>",
         "legendgroup": "Wheat_Yield",
         "marker": {
          "color": "#EF553B",
          "pattern": {
           "shape": ""
          }
         },
         "name": "Wheat_Yield",
         "offsetgroup": "Wheat_Yield",
         "orientation": "v",
         "showlegend": true,
         "textposition": "auto",
         "type": "bar",
         "x": [
          "Andhra Pradesh",
          "Assam",
          "Bihar",
          "Chhattisgarh",
          "Gujarat",
          "Haryana",
          "Himachal Pradesh",
          "Jharkhand",
          "Karnataka",
          "Kerala",
          "Madhya Pradesh",
          "Maharashtra",
          "Orissa",
          "Punjab",
          "Rajasthan",
          "Tamil Nadu",
          "Telangana",
          "Uttar Pradesh",
          "Uttarakhand",
          "West Bengal"
         ],
         "xaxis": "x",
         "y": {
          "bdata": "PdB8FwiPaUBlrnUd7cSQQPYoXI/CGZtAB2mQBqk8j0D6OCktDJ+gQK3USq3066hAbSxWJWvvkkCFNagQojKSQMYTfemA64FAwB/wB/wBH0CEBr6yFM2XQARf4W9u3I1A1jSYMF5hmEBimNCZBGqrQMxRun3ldZ9ALt/yLd++PUAle+WK4cOAQFvqp8MlA6FApHA9Co+TkkC1NKghmAydQA==",
          "dtype": "f8"
         },
         "yaxis": "y"
        }
       ],
       "layout": {
        "barmode": "group",
        "legend": {
         "title": {
          "text": "Crop"
         },
         "tracegroupgap": 0
        },
        "template": {
         "data": {
          "bar": [
           {
            "error_x": {
             "color": "#2a3f5f"
            },
            "error_y": {
             "color": "#2a3f5f"
            },
            "marker": {
             "line": {
              "color": "#E5ECF6",
              "width": 0.5
             },
             "pattern": {
              "fillmode": "overlay",
              "size": 10,
              "solidity": 0.2
             }
            },
            "type": "bar"
           }
          ],
          "barpolar": [
           {
            "marker": {
             "line": {
              "color": "#E5ECF6",
              "width": 0.5
             },
             "pattern": {
              "fillmode": "overlay",
              "size": 10,
              "solidity": 0.2
             }
            },
            "type": "barpolar"
           }
          ],
          "carpet": [
           {
            "aaxis": {
             "endlinecolor": "#2a3f5f",
             "gridcolor": "white",
             "linecolor": "white",
             "minorgridcolor": "white",
             "startlinecolor": "#2a3f5f"
            },
            "baxis": {
             "endlinecolor": "#2a3f5f",
             "gridcolor": "white",
             "linecolor": "white",
             "minorgridcolor": "white",
             "startlinecolor": "#2a3f5f"
            },
            "type": "carpet"
           }
          ],
          "choropleth": [
           {
            "colorbar": {
             "outlinewidth": 0,
             "ticks": ""
            },
            "type": "choropleth"
           }
          ],
          "contour": [
           {
            "colorbar": {
             "outlinewidth": 0,
             "ticks": ""
            },
            "colorscale": [
             [
              0,
              "#0d0887"
             ],
             [
              0.1111111111111111,
              "#46039f"
             ],
             [
              0.2222222222222222,
              "#7201a8"
             ],
             [
              0.3333333333333333,
              "#9c179e"
             ],
             [
              0.4444444444444444,
              "#bd3786"
             ],
             [
              0.5555555555555556,
              "#d8576b"
             ],
             [
              0.6666666666666666,
              "#ed7953"
             ],
             [
              0.7777777777777778,
              "#fb9f3a"
             ],
             [
              0.8888888888888888,
              "#fdca26"
             ],
             [
              1,
              "#f0f921"
             ]
            ],
            "type": "contour"
           }
          ],
          "contourcarpet": [
           {
            "colorbar": {
             "outlinewidth": 0,
             "ticks": ""
            },
            "type": "contourcarpet"
           }
          ],
          "heatmap": [
           {
            "colorbar": {
             "outlinewidth": 0,
             "ticks": ""
            },
            "colorscale": [
             [
              0,
              "#0d0887"
             ],
             [
              0.1111111111111111,
              "#46039f"
             ],
             [
              0.2222222222222222,
              "#7201a8"
             ],
             [
              0.3333333333333333,
              "#9c179e"
             ],
             [
              0.4444444444444444,
              "#bd3786"
             ],
             [
              0.5555555555555556,
              "#d8576b"
             ],
             [
              0.6666666666666666,
              "#ed7953"
             ],
             [
              0.7777777777777778,
              "#fb9f3a"
             ],
             [
              0.8888888888888888,
              "#fdca26"
             ],
             [
              1,
              "#f0f921"
             ]
            ],
            "type": "heatmap"
           }
          ],
          "histogram": [
           {
            "marker": {
             "pattern": {
              "fillmode": "overlay",
              "size": 10,
              "solidity": 0.2
             }
            },
            "type": "histogram"
           }
          ],
          "histogram2d": [
           {
            "colorbar": {
             "outlinewidth": 0,
             "ticks": ""
            },
            "colorscale": [
             [
              0,
              "#0d0887"
             ],
             [
              0.1111111111111111,
              "#46039f"
             ],
             [
              0.2222222222222222,
              "#7201a8"
             ],
             [
              0.3333333333333333,
              "#9c179e"
             ],
             [
              0.4444444444444444,
              "#bd3786"
             ],
             [
              0.5555555555555556,
              "#d8576b"
             ],
             [
              0.6666666666666666,
              "#ed7953"
             ],
             [
              0.7777777777777778,
              "#fb9f3a"
             ],
             [
              0.8888888888888888,
              "#fdca26"
             ],
             [
              1,
              "#f0f921"
             ]
            ],
            "type": "histogram2d"
           }
          ],
          "histogram2dcontour": [
           {
            "colorbar": {
             "outlinewidth": 0,
             "ticks": ""
            },
            "colorscale": [
             [
              0,
              "#0d0887"
             ],
             [
              0.1111111111111111,
              "#46039f"
             ],
             [
              0.2222222222222222,
              "#7201a8"
             ],
             [
              0.3333333333333333,
              "#9c179e"
             ],
             [
              0.4444444444444444,
              "#bd3786"
             ],
             [
              0.5555555555555556,
              "#d8576b"
             ],
             [
              0.6666666666666666,
              "#ed7953"
             ],
             [
              0.7777777777777778,
              "#fb9f3a"
             ],
             [
              0.8888888888888888,
              "#fdca26"
             ],
             [
              1,
              "#f0f921"
             ]
            ],
            "type": "histogram2dcontour"
           }
          ],
          "mesh3d": [
           {
            "colorbar": {
             "outlinewidth": 0,
             "ticks": ""
            },
            "type": "mesh3d"
           }
          ],
          "parcoords": [
           {
            "line": {
             "colorbar": {
              "outlinewidth": 0,
              "ticks": ""
             }
            },
            "type": "parcoords"
           }
          ],
          "pie": [
           {
            "automargin": true,
            "type": "pie"
           }
          ],
          "scatter": [
           {
            "fillpattern": {
             "fillmode": "overlay",
             "size": 10,
             "solidity": 0.2
            },
            "type": "scatter"
           }
          ],
          "scatter3d": [
           {
            "line": {
             "colorbar": {
              "outlinewidth": 0,
              "ticks": ""
             }
            },
            "marker": {
             "colorbar": {
              "outlinewidth": 0,
              "ticks": ""
             }
            },
            "type": "scatter3d"
           }
          ],
          "scattercarpet": [
           {
            "marker": {
             "colorbar": {
              "outlinewidth": 0,
              "ticks": ""
             }
            },
            "type": "scattercarpet"
           }
          ],
          "scattergeo": [
           {
            "marker": {
             "colorbar": {
              "outlinewidth": 0,
              "ticks": ""
             }
            },
            "type": "scattergeo"
           }
          ],
          "scattergl": [
           {
            "marker": {
             "colorbar": {
              "outlinewidth": 0,
              "ticks": ""
             }
            },
            "type": "scattergl"
           }
          ],
          "scattermap": [
           {
            "marker": {
             "colorbar": {
              "outlinewidth": 0,
              "ticks": ""
             }
            },
            "type": "scattermap"
           }
          ],
          "scattermapbox": [
           {
            "marker": {
             "colorbar": {
              "outlinewidth": 0,
              "ticks": ""
             }
            },
            "type": "scattermapbox"
           }
          ],
          "scatterpolar": [
           {
            "marker": {
             "colorbar": {
              "outlinewidth": 0,
              "ticks": ""
             }
            },
            "type": "scatterpolar"
           }
          ],
          "scatterpolargl": [
           {
            "marker": {
             "colorbar": {
              "outlinewidth": 0,
              "ticks": ""
             }
            },
            "type": "scatterpolargl"
           }
          ],
          "scatterternary": [
           {
            "marker": {
             "colorbar": {
              "outlinewidth": 0,
              "ticks": ""
             }
            },
            "type": "scatterternary"
           }
          ],
          "surface": [
           {
            "colorbar": {
             "outlinewidth": 0,
             "ticks": ""
            },
            "colorscale": [
             [
              0,
              "#0d0887"
             ],
             [
              0.1111111111111111,
              "#46039f"
             ],
             [
              0.2222222222222222,
              "#7201a8"
             ],
             [
              0.3333333333333333,
              "#9c179e"
             ],
             [
              0.4444444444444444,
              "#bd3786"
             ],
             [
              0.5555555555555556,
              "#d8576b"
             ],
             [
              0.6666666666666666,
              "#ed7953"
             ],
             [
              0.7777777777777778,
              "#fb9f3a"
             ],
             [
              0.8888888888888888,
              "#fdca26"
             ],
             [
              1,
              "#f0f921"
             ]
            ],
            "type": "surface"
           }
          ],
          "table": [
           {
            "cells": {
             "fill": {
              "color": "#EBF0F8"
             },
             "line": {
              "color": "white"
             }
            },
            "header": {
             "fill": {
              "color": "#C8D4E3"
             },
             "line": {
              "color": "white"
             }
            },
            "type": "table"
           }
          ]
         },
         "layout": {
          "annotationdefaults": {
           "arrowcolor": "#2a3f5f",
           "arrowhead": 0,
           "arrowwidth": 1
          },
          "autotypenumbers": "strict",
          "coloraxis": {
           "colorbar": {
            "outlinewidth": 0,
            "ticks": ""
           }
          },
          "colorscale": {
           "diverging": [
            [
             0,
             "#8e0152"
            ],
            [
             0.1,
             "#c51b7d"
            ],
            [
             0.2,
             "#de77ae"
            ],
            [
             0.3,
             "#f1b6da"
            ],
            [
             0.4,
             "#fde0ef"
            ],
            [
             0.5,
             "#f7f7f7"
            ],
            [
             0.6,
             "#e6f5d0"
            ],
            [
             0.7,
             "#b8e186"
            ],
            [
             0.8,
             "#7fbc41"
            ],
            [
             0.9,
             "#4d9221"
            ],
            [
             1,
             "#276419"
            ]
           ],
           "sequential": [
            [
             0,
             "#0d0887"
            ],
            [
             0.1111111111111111,
             "#46039f"
            ],
            [
             0.2222222222222222,
             "#7201a8"
            ],
            [
             0.3333333333333333,
             "#9c179e"
            ],
            [
             0.4444444444444444,
             "#bd3786"
            ],
            [
             0.5555555555555556,
             "#d8576b"
            ],
            [
             0.6666666666666666,
             "#ed7953"
            ],
            [
             0.7777777777777778,
             "#fb9f3a"
            ],
            [
             0.8888888888888888,
             "#fdca26"
            ],
            [
             1,
             "#f0f921"
            ]
           ],
           "sequentialminus": [
            [
             0,
             "#0d0887"
            ],
            [
             0.1111111111111111,
             "#46039f"
            ],
            [
             0.2222222222222222,
             "#7201a8"
            ],
            [
             0.3333333333333333,
             "#9c179e"
            ],
            [
             0.4444444444444444,
             "#bd3786"
            ],
            [
             0.5555555555555556,
             "#d8576b"
            ],
            [
             0.6666666666666666,
             "#ed7953"
            ],
            [
             0.7777777777777778,
             "#fb9f3a"
            ],
            [
             0.8888888888888888,
             "#fdca26"
            ],
            [
             1,
             "#f0f921"
            ]
           ]
          },
          "colorway": [
           "#636efa",
           "#EF553B",
           "#00cc96",
           "#ab63fa",
           "#FFA15A",
           "#19d3f3",
           "#FF6692",
           "#B6E880",
           "#FF97FF",
           "#FECB52"
          ],
          "font": {
           "color": "#2a3f5f"
          },
          "geo": {
           "bgcolor": "white",
           "lakecolor": "white",
           "landcolor": "#E5ECF6",
           "showlakes": true,
           "showland": true,
           "subunitcolor": "white"
          },
          "hoverlabel": {
           "align": "left"
          },
          "hovermode": "closest",
          "mapbox": {
           "style": "light"
          },
          "paper_bgcolor": "white",
          "plot_bgcolor": "#E5ECF6",
          "polar": {
           "angularaxis": {
            "gridcolor": "white",
            "linecolor": "white",
            "ticks": ""
           },
           "bgcolor": "#E5ECF6",
           "radialaxis": {
            "gridcolor": "white",
            "linecolor": "white",
            "ticks": ""
           }
          },
          "scene": {
           "xaxis": {
            "backgroundcolor": "#E5ECF6",
            "gridcolor": "white",
            "gridwidth": 2,
            "linecolor": "white",
            "showbackground": true,
            "ticks": "",
            "zerolinecolor": "white"
           },
           "yaxis": {
            "backgroundcolor": "#E5ECF6",
            "gridcolor": "white",
            "gridwidth": 2,
            "linecolor": "white",
            "showbackground": true,
            "ticks": "",
            "zerolinecolor": "white"
           },
           "zaxis": {
            "backgroundcolor": "#E5ECF6",
            "gridcolor": "white",
            "gridwidth": 2,
            "linecolor": "white",
            "showbackground": true,
            "ticks": "",
            "zerolinecolor": "white"
           }
          },
          "shapedefaults": {
           "line": {
            "color": "#2a3f5f"
           }
          },
          "ternary": {
           "aaxis": {
            "gridcolor": "white",
            "linecolor": "white",
            "ticks": ""
           },
           "baxis": {
            "gridcolor": "white",
            "linecolor": "white",
            "ticks": ""
           },
           "bgcolor": "#E5ECF6",
           "caxis": {
            "gridcolor": "white",
            "linecolor": "white",
            "ticks": ""
           }
          },
          "title": {
           "x": 0.05
          },
          "xaxis": {
           "automargin": true,
           "gridcolor": "white",
           "linecolor": "white",
           "ticks": "",
           "title": {
            "standoff": 15
           },
           "zerolinecolor": "white",
           "zerolinewidth": 2
          },
          "yaxis": {
           "automargin": true,
           "gridcolor": "white",
           "linecolor": "white",
           "ticks": "",
           "title": {
            "standoff": 15
           },
           "zerolinecolor": "white",
           "zerolinewidth": 2
          }
         }
        },
        "title": {
         "text": "Average Rice and Wheat Yield Across States"
        },
        "xaxis": {
         "anchor": "y",
         "domain": [
          0,
          1
         ],
         "tickangle": -45,
         "title": {
          "text": "State_Name"
         }
        },
        "yaxis": {
         "anchor": "x",
         "domain": [
          0,
          1
         ],
         "title": {
          "text": "Yield (Kg/Ha)"
         }
        }
       }
      }
     },
     "metadata": {},
     "output_type": "display_data"
    }
   ],
   "source": [
    "#15.Rice vs. Wheat Yield Across States\n",
    "rice_wheat_yield = df.groupby('State_Name')[['Rice_Yield', 'Wheat_Yield']].mean().reset_index()\n",
    "fig_yield = px.bar(rice_wheat_yield, x='State_Name', y=['Rice_Yield', 'Wheat_Yield'],\n",
    "                   title='Average Rice and Wheat Yield Across States',\n",
    "                   labels={'value': 'Yield (Kg/Ha)', 'variable': 'Crop'},\n",
    "                   barmode='group')\n",
    "fig_yield.update_layout(xaxis_tickangle=-45)\n",
    "fig_yield.show()"
   ]
  },
  {
   "cell_type": "markdown",
   "id": "2ae89538",
   "metadata": {},
   "source": [
    "**SQL_CONNECTION**"
   ]
  },
  {
   "cell_type": "code",
   "execution_count": 90,
   "id": "d2e3c346",
   "metadata": {},
   "outputs": [
    {
     "name": "stdout",
     "output_type": "stream",
     "text": [
      "✅ Sql connection established successfully\n"
     ]
    }
   ],
   "source": [
    "try:\n",
    "    mydb=mysql.connector.connect(\n",
    "        host=\"localhost\",\n",
    "        user=\"root\",\n",
    "        password=\"\"\n",
    "    )\n",
    "    mycursor=mydb.cursor()\n",
    "    print(\"✅ Sql connection established successfully\")\n",
    "except mysql.connector.Error as err:\n",
    "    print(f\"❌ ERROR IN CONNECTION: {err}\")"
   ]
  },
  {
   "cell_type": "code",
   "execution_count": 91,
   "id": "9047f12a",
   "metadata": {},
   "outputs": [
    {
     "name": "stdout",
     "output_type": "stream",
     "text": [
      "✅ Database created successfully\n"
     ]
    }
   ],
   "source": [
    "mycursor.execute(\"DROP DATABASE IF EXISTS agri_production\")\n",
    "mycursor.execute(\"CREATE DATABASE IF NOT EXISTS agri_production\")\n",
    "print(\"✅ Database created successfully\")"
   ]
  },
  {
   "cell_type": "code",
   "execution_count": 92,
   "id": "2bcd770a",
   "metadata": {},
   "outputs": [
    {
     "name": "stdout",
     "output_type": "stream",
     "text": [
      "✅ Database selected successfully\n"
     ]
    }
   ],
   "source": [
    "mycursor.execute(\"USE agri_production\")\n",
    "print(\"✅ Database selected successfully\")"
   ]
  },
  {
   "cell_type": "code",
   "execution_count": 93,
   "id": "2e052e5c",
   "metadata": {},
   "outputs": [
    {
     "name": "stdout",
     "output_type": "stream",
     "text": [
      "✅ Table created successfully\n"
     ]
    }
   ],
   "source": [
    "mycursor.execute(\"\"\"\n",
    "    CREATE TABLE IF NOT EXISTS agri_crop_data (\n",
    "        Dist_Code INT,\n",
    "        Year INT,\n",
    "        State_Code INT,\n",
    "        State_Name VARCHAR(100),\n",
    "        Dist_Name VARCHAR(100),\n",
    "        Rice_Area FLOAT,\n",
    "        Rice_Production FLOAT,\n",
    "        Rice_Yield FLOAT,\n",
    "        Wheat_Area FLOAT,\n",
    "        Wheat_Production FLOAT,\n",
    "        Wheat_Yield FLOAT,\n",
    "        Kharif_Sorghum_Area FLOAT,\n",
    "        Kharif_Sorghum_Production FLOAT,\n",
    "        Kharif_Sorghum_Yield FLOAT,\n",
    "        Rabi_Sorghum_Area FLOAT,\n",
    "        Rabi_Sorghum_Production FLOAT,\n",
    "        Rabi_Sorghum_Yield FLOAT,\n",
    "        Sorghum_Area FLOAT,\n",
    "        Sorghum_Production FLOAT,\n",
    "        Sorghum_Yield FLOAT,\n",
    "        Pearl_Millet_Area FLOAT,\n",
    "        Pearl_Millet_Production FLOAT,\n",
    "        Pearl_Millet_Yield FLOAT,\n",
    "        Maize_Area FLOAT,\n",
    "        Maize_Production FLOAT,\n",
    "        Maize_Yield FLOAT,\n",
    "        Finger_Millet_Area FLOAT,\n",
    "        Finger_Millet_Production FLOAT,\n",
    "        Finger_Millet_Yield FLOAT,\n",
    "        Barley_Area FLOAT,\n",
    "        Barley_Production FLOAT,\n",
    "        Barley_Yield FLOAT,\n",
    "        Chickpea_Area FLOAT,\n",
    "        Chickpea_Production FLOAT,\n",
    "        Chickpea_Yield FLOAT,\n",
    "        Pigeonpea_Area FLOAT,\n",
    "        Pigeonpea_Production FLOAT,\n",
    "        Pigeonpea_Yield FLOAT,\n",
    "        Minor_Pulses_Area FLOAT,\n",
    "        Minor_Pulses_Production FLOAT,\n",
    "        Minor_Pulses_Yield FLOAT,\n",
    "        Groundnut_Area FLOAT,\n",
    "        Groundnut_Production FLOAT,\n",
    "        Groundnut_Yield FLOAT,\n",
    "        Sesamum_Area FLOAT,\n",
    "        Sesamum_Production FLOAT,\n",
    "        Sesamum_Yield FLOAT,\n",
    "        Rapeseed_And_Mustard_Area FLOAT,\n",
    "        Rapeseed_And_Mustard_Production FLOAT,\n",
    "        Rapeseed_And_Mustard_Yield FLOAT,\n",
    "        Safflower_Area FLOAT,\n",
    "        Safflower_Production FLOAT,\n",
    "        Safflower_Yield FLOAT,\n",
    "        Castor_Area FLOAT,\n",
    "        Castor_Production FLOAT,\n",
    "        Castor_Yield FLOAT,\n",
    "        Linseed_Area FLOAT,\n",
    "        Linseed_Production FLOAT,\n",
    "        Linseed_Yield FLOAT,\n",
    "        Sunflower_Area FLOAT,\n",
    "        Sunflower_Production FLOAT,\n",
    "        Sunflower_Yield FLOAT,\n",
    "        Soyabean_Area FLOAT,\n",
    "        Soyabean_Production FLOAT,\n",
    "        Soyabean_Yield FLOAT,\n",
    "        Oilseeds_Area FLOAT,\n",
    "        Oilseeds_Production FLOAT,\n",
    "        Oilseeds_Yield FLOAT,\n",
    "        Sugarcane_Area FLOAT,\n",
    "        Sugarcane_Production FLOAT,\n",
    "        Sugarcane_Yield FLOAT,\n",
    "        Cotton_Area FLOAT,\n",
    "        Cotton_Production FLOAT,\n",
    "        Cotton_Yield FLOAT,\n",
    "        Fruits_Area FLOAT,\n",
    "        Vegetables_Area FLOAT,\n",
    "        Fruits_And_Vegetables_Area FLOAT,\n",
    "        Potatoes_Area FLOAT,\n",
    "        Onion_Area FLOAT,\n",
    "        Fodder_Area FLOAT\n",
    "    );\n",
    "\"\"\")\n",
    "print(\"✅ Table created successfully\")"
   ]
  },
  {
   "cell_type": "code",
   "execution_count": 94,
   "id": "455ac3ac",
   "metadata": {},
   "outputs": [
    {
     "name": "stdout",
     "output_type": "stream",
     "text": [
      "✅ Data inserted successfully.\n"
     ]
    }
   ],
   "source": [
    "from sqlalchemy import create_engine\n",
    "engine = create_engine('mysql+mysqlconnector://root:@localhost/agri_production')\n",
    "try:\n",
    "    df.to_sql('agri_crop_data', con=engine, if_exists='replace', index=False,chunksize=1000)\n",
    "    print(\"✅ Data inserted successfully.\")\n",
    "except Exception as e:\n",
    "    print(\"❌ Error inserting data:\", e)\n"
   ]
  },
  {
   "cell_type": "markdown",
   "id": "7ed73fff",
   "metadata": {},
   "source": [
    "**SQL**"
   ]
  },
  {
   "cell_type": "code",
   "execution_count": 85,
   "id": "18a501f3",
   "metadata": {},
   "outputs": [
    {
     "name": "stdout",
     "output_type": "stream",
     "text": [
      "+--------+----------------+-------------------+\n",
      "|   Year | State_Name     |   Rice_Production |\n",
      "+========+================+===================+\n",
      "|   1966 | West Bengal    |           4819.4  |\n",
      "+--------+----------------+-------------------+\n",
      "|   1966 | Tamil Nadu     |           3793    |\n",
      "+--------+----------------+-------------------+\n",
      "|   1966 | Orissa         |           3691.79 |\n",
      "+--------+----------------+-------------------+\n",
      "|   1967 | West Bengal    |           4865.77 |\n",
      "+--------+----------------+-------------------+\n",
      "|   1967 | Tamil Nadu     |           3848    |\n",
      "+--------+----------------+-------------------+\n",
      "|   1967 | Orissa         |           3755.47 |\n",
      "+--------+----------------+-------------------+\n",
      "|   1968 | West Bengal    |           5461.49 |\n",
      "+--------+----------------+-------------------+\n",
      "|   1968 | Orissa         |           3951.56 |\n",
      "+--------+----------------+-------------------+\n",
      "|   1968 | Tamil Nadu     |           3549    |\n",
      "+--------+----------------+-------------------+\n",
      "|   1969 | West Bengal    |           5362.82 |\n",
      "+--------+----------------+-------------------+\n",
      "|   1969 | Tamil Nadu     |           4011.9  |\n",
      "+--------+----------------+-------------------+\n",
      "|   1969 | Orissa         |           3949.09 |\n",
      "+--------+----------------+-------------------+\n",
      "|   1970 | West Bengal    |           5209.07 |\n",
      "+--------+----------------+-------------------+\n",
      "|   1970 | Tamil Nadu     |           5006.9  |\n",
      "+--------+----------------+-------------------+\n",
      "|   1970 | Orissa         |           3831.5  |\n",
      "+--------+----------------+-------------------+\n",
      "|   1971 | Tamil Nadu     |           5302.1  |\n",
      "+--------+----------------+-------------------+\n",
      "|   1971 | West Bengal    |           4965.1  |\n",
      "+--------+----------------+-------------------+\n",
      "|   1971 | Bihar          |           3854.02 |\n",
      "+--------+----------------+-------------------+\n",
      "|   1972 | Tamil Nadu     |           5569.3  |\n",
      "+--------+----------------+-------------------+\n",
      "|   1972 | West Bengal    |           5310.03 |\n",
      "+--------+----------------+-------------------+\n",
      "|   1972 | Orissa         |           3983.12 |\n",
      "+--------+----------------+-------------------+\n",
      "|   1973 | Tamil Nadu     |           5558.3  |\n",
      "+--------+----------------+-------------------+\n",
      "|   1973 | West Bengal    |           5456.21 |\n",
      "+--------+----------------+-------------------+\n",
      "|   1973 | Orissa         |           4404.36 |\n",
      "+--------+----------------+-------------------+\n",
      "|   1974 | West Bengal    |           6223.33 |\n",
      "+--------+----------------+-------------------+\n",
      "|   1974 | Andhra Pradesh |           4133.8  |\n",
      "+--------+----------------+-------------------+\n",
      "|   1974 | Tamil Nadu     |           3683.6  |\n",
      "+--------+----------------+-------------------+\n",
      "|   1975 | West Bengal    |           6471.76 |\n",
      "+--------+----------------+-------------------+\n",
      "|   1975 | Tamil Nadu     |           5202.9  |\n",
      "+--------+----------------+-------------------+\n",
      "|   1975 | Orissa         |           4531.77 |\n",
      "+--------+----------------+-------------------+\n",
      "|   1976 | West Bengal    |           5607.98 |\n",
      "+--------+----------------+-------------------+\n",
      "|   1976 | Tamil Nadu     |           4395.2  |\n",
      "+--------+----------------+-------------------+\n",
      "|   1976 | Uttar Pradesh  |           3995.6  |\n",
      "+--------+----------------+-------------------+\n",
      "|   1977 | West Bengal    |           7230.09 |\n",
      "+--------+----------------+-------------------+\n",
      "|   1977 | Tamil Nadu     |           5705.5  |\n",
      "+--------+----------------+-------------------+\n",
      "|   1977 | Uttar Pradesh  |           4719.7  |\n",
      "+--------+----------------+-------------------+\n",
      "|   1978 | West Bengal    |           5985.9  |\n",
      "+--------+----------------+-------------------+\n",
      "|   1978 | Tamil Nadu     |           5608.8  |\n",
      "+--------+----------------+-------------------+\n",
      "|   1978 | Uttar Pradesh  |           5470.4  |\n",
      "+--------+----------------+-------------------+\n",
      "|   1979 | Tamil Nadu     |           5801.2  |\n",
      "+--------+----------------+-------------------+\n",
      "|   1979 | West Bengal    |           5773.01 |\n",
      "+--------+----------------+-------------------+\n",
      "|   1979 | Andhra Pradesh |           4480    |\n",
      "+--------+----------------+-------------------+\n",
      "|   1980 | West Bengal    |           7461.57 |\n",
      "+--------+----------------+-------------------+\n",
      "|   1980 | Andhra Pradesh |           5166.5  |\n",
      "+--------+----------------+-------------------+\n",
      "|   1980 | Uttar Pradesh  |           4967.2  |\n",
      "+--------+----------------+-------------------+\n",
      "|   1981 | West Bengal    |           5832.6  |\n",
      "+--------+----------------+-------------------+\n",
      "|   1981 | Tamil Nadu     |           5729.7  |\n",
      "+--------+----------------+-------------------+\n",
      "|   1981 | Uttar Pradesh  |           5478.8  |\n",
      "+--------+----------------+-------------------+\n",
      "|   1982 | Andhra Pradesh |           5410.2  |\n",
      "+--------+----------------+-------------------+\n",
      "|   1982 | Uttar Pradesh  |           5136    |\n",
      "+--------+----------------+-------------------+\n",
      "|   1982 | West Bengal    |           4949.05 |\n",
      "+--------+----------------+-------------------+\n",
      "|   1983 | West Bengal    |           7882.69 |\n",
      "+--------+----------------+-------------------+\n",
      "|   1983 | Uttar Pradesh  |           6325.9  |\n",
      "+--------+----------------+-------------------+\n",
      "|   1983 | Andhra Pradesh |           6083.4  |\n",
      "+--------+----------------+-------------------+\n",
      "|   1984 | West Bengal    |           8092.51 |\n",
      "+--------+----------------+-------------------+\n",
      "|   1984 | Uttar Pradesh  |           6680.3  |\n",
      "+--------+----------------+-------------------+\n",
      "|   1984 | Tamil Nadu     |           5394    |\n",
      "+--------+----------------+-------------------+\n",
      "|   1985 | West Bengal    |           7990.92 |\n",
      "+--------+----------------+-------------------+\n",
      "|   1985 | Uttar Pradesh  |           7747.2  |\n",
      "+--------+----------------+-------------------+\n",
      "|   1985 | Andhra Pradesh |           5896.7  |\n",
      "+--------+----------------+-------------------+\n",
      "|   1986 | West Bengal    |           8463.02 |\n",
      "+--------+----------------+-------------------+\n",
      "|   1986 | Uttar Pradesh  |           6713.8  |\n",
      "+--------+----------------+-------------------+\n",
      "|   1986 | Punjab         |           6022    |\n",
      "+--------+----------------+-------------------+\n",
      "|   1987 | West Bengal    |           9271.74 |\n",
      "+--------+----------------+-------------------+\n",
      "|   1987 | Uttar Pradesh  |           6041.2  |\n",
      "+--------+----------------+-------------------+\n",
      "|   1987 | Tamil Nadu     |           5524.7  |\n",
      "+--------+----------------+-------------------+\n",
      "|   1988 | West Bengal    |          10559.8  |\n",
      "+--------+----------------+-------------------+\n",
      "|   1988 | Uttar Pradesh  |           9067.3  |\n",
      "+--------+----------------+-------------------+\n",
      "|   1988 | Andhra Pradesh |           7454.8  |\n",
      "+--------+----------------+-------------------+\n",
      "|   1989 | West Bengal    |          10923.6  |\n",
      "+--------+----------------+-------------------+\n",
      "|   1989 | Uttar Pradesh  |           9784.4  |\n",
      "+--------+----------------+-------------------+\n",
      "|   1989 | Andhra Pradesh |           6808.9  |\n",
      "+--------+----------------+-------------------+\n",
      "|   1990 | Uttar Pradesh  |           9721.21 |\n",
      "+--------+----------------+-------------------+\n",
      "|   1990 | West Bengal    |           9668.01 |\n",
      "+--------+----------------+-------------------+\n",
      "|   1990 | Punjab         |           6511    |\n",
      "+--------+----------------+-------------------+\n",
      "|   1991 | West Bengal    |          11203.2  |\n",
      "+--------+----------------+-------------------+\n",
      "|   1991 | Uttar Pradesh  |           8917.07 |\n",
      "+--------+----------------+-------------------+\n",
      "|   1991 | Punjab         |           6748    |\n",
      "+--------+----------------+-------------------+\n",
      "|   1992 | West Bengal    |          10640.4  |\n",
      "+--------+----------------+-------------------+\n",
      "|   1992 | Uttar Pradesh  |           9195.8  |\n",
      "+--------+----------------+-------------------+\n",
      "|   1992 | Punjab         |           7031    |\n",
      "+--------+----------------+-------------------+\n",
      "|   1993 | West Bengal    |          11252.4  |\n",
      "+--------+----------------+-------------------+\n",
      "|   1993 | Uttar Pradesh  |           9687.84 |\n",
      "+--------+----------------+-------------------+\n",
      "|   1993 | Punjab         |           7645    |\n",
      "+--------+----------------+-------------------+\n",
      "|   1994 | West Bengal    |          11387.8  |\n",
      "+--------+----------------+-------------------+\n",
      "|   1994 | Uttar Pradesh  |           9832.35 |\n",
      "+--------+----------------+-------------------+\n",
      "|   1994 | Punjab         |           7702    |\n",
      "+--------+----------------+-------------------+\n",
      "|   1995 | West Bengal    |          11082    |\n",
      "+--------+----------------+-------------------+\n",
      "|   1995 | Uttar Pradesh  |           9844.14 |\n",
      "+--------+----------------+-------------------+\n",
      "|   1995 | Punjab         |           6845    |\n",
      "+--------+----------------+-------------------+\n",
      "|   1996 | West Bengal    |          12636.8  |\n",
      "+--------+----------------+-------------------+\n",
      "|   1996 | Uttar Pradesh  |          11249.5  |\n",
      "+--------+----------------+-------------------+\n",
      "|   1996 | Punjab         |           7334    |\n",
      "+--------+----------------+-------------------+\n",
      "|   1997 | West Bengal    |          13236.6  |\n",
      "+--------+----------------+-------------------+\n",
      "|   1997 | Uttar Pradesh  |          11736.9  |\n",
      "+--------+----------------+-------------------+\n",
      "|   1997 | Punjab         |           7890    |\n",
      "+--------+----------------+-------------------+\n",
      "|   1998 | West Bengal    |          13316.5  |\n",
      "+--------+----------------+-------------------+\n",
      "|   1998 | Uttar Pradesh  |          10881.6  |\n",
      "+--------+----------------+-------------------+\n",
      "|   1998 | Tamil Nadu     |           8141.3  |\n",
      "+--------+----------------+-------------------+\n",
      "|   1999 | West Bengal    |          13699.7  |\n",
      "+--------+----------------+-------------------+\n",
      "|   1999 | Uttar Pradesh  |          12690.2  |\n",
      "+--------+----------------+-------------------+\n",
      "|   1999 | Punjab         |           8716    |\n",
      "+--------+----------------+-------------------+\n",
      "|   2000 | West Bengal    |          12428    |\n",
      "+--------+----------------+-------------------+\n",
      "|   2000 | Uttar Pradesh  |          11727.9  |\n",
      "+--------+----------------+-------------------+\n",
      "|   2000 | Punjab         |           9157    |\n",
      "+--------+----------------+-------------------+\n",
      "|   2001 | West Bengal    |          15256.7  |\n",
      "+--------+----------------+-------------------+\n",
      "|   2001 | Uttar Pradesh  |          12901.4  |\n",
      "+--------+----------------+-------------------+\n",
      "|   2001 | Punjab         |           8824    |\n",
      "+--------+----------------+-------------------+\n",
      "|   2002 | West Bengal    |          14389.2  |\n",
      "+--------+----------------+-------------------+\n",
      "|   2002 | Uttar Pradesh  |           9630.53 |\n",
      "+--------+----------------+-------------------+\n",
      "|   2002 | Punjab         |           8880    |\n",
      "+--------+----------------+-------------------+\n",
      "|   2003 | West Bengal    |          14662.2  |\n",
      "+--------+----------------+-------------------+\n",
      "|   2003 | Uttar Pradesh  |          12524.6  |\n",
      "+--------+----------------+-------------------+\n",
      "|   2003 | Punjab         |           9656    |\n",
      "+--------+----------------+-------------------+\n",
      "|   2004 | West Bengal    |          14884.9  |\n",
      "+--------+----------------+-------------------+\n",
      "|   2004 | Punjab         |          10437    |\n",
      "+--------+----------------+-------------------+\n",
      "|   2004 | Uttar Pradesh  |           9599.56 |\n",
      "+--------+----------------+-------------------+\n",
      "|   2005 | West Bengal    |          14510.8  |\n",
      "+--------+----------------+-------------------+\n",
      "|   2005 | Uttar Pradesh  |          11787.3  |\n",
      "+--------+----------------+-------------------+\n",
      "|   2005 | Punjab         |          10193    |\n",
      "+--------+----------------+-------------------+\n",
      "|   2006 | West Bengal    |          14745.9  |\n",
      "+--------+----------------+-------------------+\n",
      "|   2006 | Uttar Pradesh  |          10940.2  |\n",
      "+--------+----------------+-------------------+\n",
      "|   2006 | Punjab         |          10138    |\n",
      "+--------+----------------+-------------------+\n",
      "|   2007 | West Bengal    |          14719.5  |\n",
      "+--------+----------------+-------------------+\n",
      "|   2007 | Uttar Pradesh  |          11913.3  |\n",
      "+--------+----------------+-------------------+\n",
      "|   2007 | Punjab         |          10489    |\n",
      "+--------+----------------+-------------------+\n",
      "|   2008 | West Bengal    |          15037.3  |\n",
      "+--------+----------------+-------------------+\n",
      "|   2008 | Uttar Pradesh  |          13080.9  |\n",
      "+--------+----------------+-------------------+\n",
      "|   2008 | Punjab         |          11000    |\n",
      "+--------+----------------+-------------------+\n",
      "|   2009 | West Bengal    |          14340.6  |\n",
      "+--------+----------------+-------------------+\n",
      "|   2009 | Uttar Pradesh  |          11840.2  |\n",
      "+--------+----------------+-------------------+\n",
      "|   2009 | Punjab         |          11236    |\n",
      "+--------+----------------+-------------------+\n",
      "|   2010 | West Bengal    |          13389.6  |\n",
      "+--------+----------------+-------------------+\n",
      "|   2010 | Uttar Pradesh  |          12363.5  |\n",
      "+--------+----------------+-------------------+\n",
      "|   2010 | Punjab         |          10819    |\n",
      "+--------+----------------+-------------------+\n",
      "|   2011 | West Bengal    |          14610.3  |\n",
      "+--------+----------------+-------------------+\n",
      "|   2011 | Uttar Pradesh  |          13949.6  |\n",
      "+--------+----------------+-------------------+\n",
      "|   2011 | Punjab         |          10542    |\n",
      "+--------+----------------+-------------------+\n",
      "|   2012 | West Bengal    |          14946.7  |\n",
      "+--------+----------------+-------------------+\n",
      "|   2012 | Uttar Pradesh  |          13182.3  |\n",
      "+--------+----------------+-------------------+\n",
      "|   2012 | Punjab         |          11390    |\n",
      "+--------+----------------+-------------------+\n",
      "|   2013 | West Bengal    |          15376.9  |\n",
      "+--------+----------------+-------------------+\n",
      "|   2013 | Uttar Pradesh  |          14589    |\n",
      "+--------+----------------+-------------------+\n",
      "|   2013 | Punjab         |          11267    |\n",
      "+--------+----------------+-------------------+\n",
      "|   2014 | West Bengal    |          15927.2  |\n",
      "+--------+----------------+-------------------+\n",
      "|   2014 | Uttar Pradesh  |          13346    |\n",
      "+--------+----------------+-------------------+\n",
      "|   2014 | Punjab         |          11107    |\n",
      "+--------+----------------+-------------------+\n",
      "|   2015 | West Bengal    |          15948.3  |\n",
      "+--------+----------------+-------------------+\n",
      "|   2015 | Uttar Pradesh  |          12531.7  |\n",
      "+--------+----------------+-------------------+\n",
      "|   2015 | Punjab         |          11823    |\n",
      "+--------+----------------+-------------------+\n",
      "|   2016 | West Bengal    |          15106.3  |\n",
      "+--------+----------------+-------------------+\n",
      "|   2016 | Uttar Pradesh  |          14500.8  |\n",
      "+--------+----------------+-------------------+\n",
      "|   2016 | Punjab         |          12638    |\n",
      "+--------+----------------+-------------------+\n",
      "|   2017 | West Bengal    |          15658.9  |\n",
      "+--------+----------------+-------------------+\n",
      "|   2017 | Uttar Pradesh  |          15551.4  |\n",
      "+--------+----------------+-------------------+\n",
      "|   2017 | Punjab         |          13382    |\n",
      "+--------+----------------+-------------------+\n"
     ]
    }
   ],
   "source": [
    "#1.Year-wise Trend of Rice Production Across States (Top 3)\n",
    "\n",
    "mycursor.execute(\"\"\"SELECT Year, State_Name, Rice_Production\n",
    "FROM (\n",
    "    SELECT \n",
    "        Year, \n",
    "        State_Name, \n",
    "        SUM(Rice_Production) AS Rice_Production,\n",
    "        RANK() OVER (PARTITION BY Year ORDER BY SUM(Rice_Production) DESC) AS rnk\n",
    "    FROM agri_crop_data\n",
    "    GROUP BY Year, State_Name\n",
    ") AS ranked_data\n",
    "WHERE rnk <= 3\n",
    "ORDER BY Year, rnk\n",
    "\"\"\")\n",
    "out=mycursor.fetchall()\n",
    "print(tabulate(out,headers=[i[0] for i in mycursor.description],  tablefmt='grid'))"
   ]
  },
  {
   "cell_type": "code",
   "execution_count": 86,
   "id": "377dedf9",
   "metadata": {},
   "outputs": [
    {
     "name": "stdout",
     "output_type": "stream",
     "text": [
      "+-------------+------------------+\n",
      "| Dist_Name   |   Yield_Increase |\n",
      "+=============+==================+\n",
      "| Adilabad    |          3754.65 |\n",
      "+-------------+------------------+\n",
      "| Nadia       |          3405.97 |\n",
      "+-------------+------------------+\n",
      "| Hyderabad   |          3268.42 |\n",
      "+-------------+------------------+\n",
      "| Thane       |          2833.33 |\n",
      "+-------------+------------------+\n",
      "| Kanpur      |          2750.47 |\n",
      "+-------------+------------------+\n"
     ]
    }
   ],
   "source": [
    "#2.Top 5 Districts by Wheat Yield Increase Over the Last 5 Years\n",
    "mycursor.execute(\"\"\"\n",
    "    SELECT Dist_Name, \n",
    "           MAX(Wheat_Yield) - MIN(Wheat_Yield) AS Yield_Increase\n",
    "    FROM agri_crop_data\n",
    "    WHERE Year >= (SELECT MAX(Year) - 5 FROM agri_crop_data)\n",
    "    GROUP BY Dist_Name\n",
    "    ORDER BY Yield_Increase DESC\n",
    "    LIMIT 5;\n",
    "\"\"\")\n",
    "out=mycursor.fetchall()\n",
    "print(tabulate(out, headers=[i[0] for i in mycursor.description], tablefmt='grid'))"
   ]
  },
  {
   "cell_type": "code",
   "execution_count": 97,
   "id": "c00ea9aa",
   "metadata": {},
   "outputs": [
    {
     "name": "stdout",
     "output_type": "stream",
     "text": [
      "+----------------+------------------+\n",
      "| State_Name     |   Oilseed_Growth |\n",
      "+================+==================+\n",
      "| Gujarat        |          1712.92 |\n",
      "+----------------+------------------+\n",
      "| Andhra Pradesh |          1123.85 |\n",
      "+----------------+------------------+\n",
      "| Maharashtra    |          1045.7  |\n",
      "+----------------+------------------+\n",
      "| Rajasthan      |           968.51 |\n",
      "+----------------+------------------+\n",
      "| Madhya Pradesh |           840.85 |\n",
      "+----------------+------------------+\n"
     ]
    }
   ],
   "source": [
    "#3.States with the Highest Growth in Oilseed Production (5-Year Growth Rate)\n",
    "mycursor.execute(\"\"\"\n",
    "        SELECT State_Name,MAX(Oilseeds_Production) - MIN(Oilseeds_Production) AS Oilseed_Growth\n",
    "        FROM agri_crop_data\n",
    "        WHERE Year >= (SELECT MAX(Year) - 5 FROM agri_crop_data)\n",
    "        GROUP BY State_Name\n",
    "        ORDER BY Oilseed_Growth DESC\n",
    "        LIMIT 5;\n",
    "\n",
    "\"\"\")\n",
    "out=mycursor.fetchall()\n",
    "print(tabulate(out, headers=[i[0] for i in mycursor.description], tablefmt='grid'))"
   ]
  },
  {
   "cell_type": "code",
   "execution_count": 99,
   "id": "7ba88d4c",
   "metadata": {},
   "outputs": [
    {
     "name": "stdout",
     "output_type": "stream",
     "text": [
      "+-----------------------------------------+--------------------+---------------------+---------------------+\n",
      "| Dist_Name                               |   Rice_Correlation |   Wheat_Correlation |   Maize_Correlation |\n",
      "+=========================================+====================+=====================+=====================+\n",
      "| 24 Parganas                             |               0.45 |                0.81 |                0.88 |\n",
      "+-----------------------------------------+--------------------+---------------------+---------------------+\n",
      "| Adilabad                                |               0.82 |                0.38 |                0.68 |\n",
      "+-----------------------------------------+--------------------+---------------------+---------------------+\n",
      "| Agra                                    |               0.98 |                0.86 |                0.51 |\n",
      "+-----------------------------------------+--------------------+---------------------+---------------------+\n",
      "| Ahmedabad                               |               0.94 |                0.89 |                0.87 |\n",
      "+-----------------------------------------+--------------------+---------------------+---------------------+\n",
      "| Ahmednagar                              |               0.75 |                0.92 |                0.95 |\n",
      "+-----------------------------------------+--------------------+---------------------+---------------------+\n",
      "| Ajmer                                   |               0.43 |                0.63 |                0.03 |\n",
      "+-----------------------------------------+--------------------+---------------------+---------------------+\n",
      "| Akola                                   |               0.82 |                0.6  |                0.92 |\n",
      "+-----------------------------------------+--------------------+---------------------+---------------------+\n",
      "| Alappuzha                               |               0.88 |                     |                     |\n",
      "+-----------------------------------------+--------------------+---------------------+---------------------+\n",
      "| Aligarh                                 |               0.99 |                0.93 |                0.42 |\n",
      "+-----------------------------------------+--------------------+---------------------+---------------------+\n",
      "| Allahabad                               |               0.89 |                0.91 |                0.77 |\n",
      "+-----------------------------------------+--------------------+---------------------+---------------------+\n",
      "| Almorah                                 |               0.98 |                0.94 |                0.95 |\n",
      "+-----------------------------------------+--------------------+---------------------+---------------------+\n",
      "| Alwar                                   |               0.81 |                0.96 |                0.25 |\n",
      "+-----------------------------------------+--------------------+---------------------+---------------------+\n",
      "| Amarawati                               |               0.66 |                0.74 |                0.96 |\n",
      "+-----------------------------------------+--------------------+---------------------+---------------------+\n",
      "| Ambala                                  |               0.98 |                0.83 |                0.95 |\n",
      "+-----------------------------------------+--------------------+---------------------+---------------------+\n",
      "| Amreli                                  |               0.89 |                0.95 |                0.85 |\n",
      "+-----------------------------------------+--------------------+---------------------+---------------------+\n",
      "| Amritsar                                |               0.98 |                0.94 |                0.89 |\n",
      "+-----------------------------------------+--------------------+---------------------+---------------------+\n",
      "| Ananthapur                              |               0.74 |                0.79 |                0.96 |\n",
      "+-----------------------------------------+--------------------+---------------------+---------------------+\n",
      "| Aurangabad                              |               0.86 |                0.49 |                0.87 |\n",
      "+-----------------------------------------+--------------------+---------------------+---------------------+\n",
      "| Azamgarh                                |               0.92 |                0.94 |                0.42 |\n",
      "+-----------------------------------------+--------------------+---------------------+---------------------+\n",
      "| Bahraich                                |               0.63 |                0.92 |                0.18 |\n",
      "+-----------------------------------------+--------------------+---------------------+---------------------+\n",
      "| Balaghat                                |               0.7  |                0.89 |                0.83 |\n",
      "+-----------------------------------------+--------------------+---------------------+---------------------+\n",
      "| Balasore                                |               0.09 |                0.98 |                0.84 |\n",
      "+-----------------------------------------+--------------------+---------------------+---------------------+\n",
      "| Ballia                                  |               0.83 |                0.88 |                0.72 |\n",
      "+-----------------------------------------+--------------------+---------------------+---------------------+\n",
      "| Banaskantha                             |               0.94 |                0.93 |                0.43 |\n",
      "+-----------------------------------------+--------------------+---------------------+---------------------+\n",
      "| Banda                                   |               0.19 |                0.85 |                0.76 |\n",
      "+-----------------------------------------+--------------------+---------------------+---------------------+\n",
      "| Bangalore                               |               0.8  |                0.92 |                0.89 |\n",
      "+-----------------------------------------+--------------------+---------------------+---------------------+\n",
      "| Bankura                                 |               0.52 |                0.87 |                0.61 |\n",
      "+-----------------------------------------+--------------------+---------------------+---------------------+\n",
      "| Banswara                                |               0.23 |                0.97 |                0.77 |\n",
      "+-----------------------------------------+--------------------+---------------------+---------------------+\n",
      "| Barabanki                               |               0.89 |                0.83 |                0.39 |\n",
      "+-----------------------------------------+--------------------+---------------------+---------------------+\n",
      "| Bareilly                                |               0.9  |                0.93 |                0.9  |\n",
      "+-----------------------------------------+--------------------+---------------------+---------------------+\n",
      "| Barmer                                  |                    |                0.42 |                0.97 |\n",
      "+-----------------------------------------+--------------------+---------------------+---------------------+\n",
      "| Bastar                                  |               0.72 |                0.4  |                0.91 |\n",
      "+-----------------------------------------+--------------------+---------------------+---------------------+\n",
      "| Basti                                   |               0.47 |                0.89 |                0.56 |\n",
      "+-----------------------------------------+--------------------+---------------------+---------------------+\n",
      "| Beed                                    |               0.79 |                0.64 |                0.86 |\n",
      "+-----------------------------------------+--------------------+---------------------+---------------------+\n",
      "| Belgaum                                 |               0.34 |                0.35 |                0.94 |\n",
      "+-----------------------------------------+--------------------+---------------------+---------------------+\n",
      "| Bellary                                 |               0.99 |                0.91 |                0.97 |\n",
      "+-----------------------------------------+--------------------+---------------------+---------------------+\n",
      "| Betul                                   |               0.69 |                0.92 |                0.88 |\n",
      "+-----------------------------------------+--------------------+---------------------+---------------------+\n",
      "| Bhagalpur                               |               0.01 |                0.76 |                0.3  |\n",
      "+-----------------------------------------+--------------------+---------------------+---------------------+\n",
      "| Bhandara                                |               0.77 |                0.46 |                0.77 |\n",
      "+-----------------------------------------+--------------------+---------------------+---------------------+\n",
      "| Bharatpur                               |               0.5  |                0.94 |                0.38 |\n",
      "+-----------------------------------------+--------------------+---------------------+---------------------+\n",
      "| Bharuch                                 |               0.64 |                0.59 |                0.93 |\n",
      "+-----------------------------------------+--------------------+---------------------+---------------------+\n",
      "| Bhatinda                                |               0.99 |                0.96 |                0.97 |\n",
      "+-----------------------------------------+--------------------+---------------------+---------------------+\n",
      "| Bhavnagar                               |               0.84 |                0.91 |                0.94 |\n",
      "+-----------------------------------------+--------------------+---------------------+---------------------+\n",
      "| Bhilwara                                |               0.92 |                0.88 |                0.67 |\n",
      "+-----------------------------------------+--------------------+---------------------+---------------------+\n",
      "| Bhind                                   |               0.71 |                0.9  |                0.76 |\n",
      "+-----------------------------------------+--------------------+---------------------+---------------------+\n",
      "| Bidar                                   |               0.55 |                0.89 |                0.89 |\n",
      "+-----------------------------------------+--------------------+---------------------+---------------------+\n",
      "| Bijapur / Vijayapura                    |               0.91 |                0.47 |                0.97 |\n",
      "+-----------------------------------------+--------------------+---------------------+---------------------+\n",
      "| Bijnor                                  |              -0.3  |                0.42 |                0.91 |\n",
      "+-----------------------------------------+--------------------+---------------------+---------------------+\n",
      "| Bikaner                                 |               0.74 |                0.97 |                0.96 |\n",
      "+-----------------------------------------+--------------------+---------------------+---------------------+\n",
      "| Bilashpur                               |               0.72 |                0.63 |                0.67 |\n",
      "+-----------------------------------------+--------------------+---------------------+---------------------+\n",
      "| Bilaspur                                |               0.75 |                0.45 |                0.01 |\n",
      "+-----------------------------------------+--------------------+---------------------+---------------------+\n",
      "| Birbhum                                 |               0.79 |                0.78 |                0.81 |\n",
      "+-----------------------------------------+--------------------+---------------------+---------------------+\n",
      "| Bolangir                                |               0.67 |                0.98 |                0.78 |\n",
      "+-----------------------------------------+--------------------+---------------------+---------------------+\n",
      "| Bombay                                  |               0.98 |                     |                1    |\n",
      "+-----------------------------------------+--------------------+---------------------+---------------------+\n",
      "| Budaun                                  |               0.97 |                0.94 |                0.59 |\n",
      "+-----------------------------------------+--------------------+---------------------+---------------------+\n",
      "| Buland Shahar                           |               0.99 |                0.56 |                0.69 |\n",
      "+-----------------------------------------+--------------------+---------------------+---------------------+\n",
      "| Buldhana                                |               0.86 |                0.7  |                0.95 |\n",
      "+-----------------------------------------+--------------------+---------------------+---------------------+\n",
      "| Bundi                                   |               0.83 |                0.92 |                0.63 |\n",
      "+-----------------------------------------+--------------------+---------------------+---------------------+\n",
      "| Burdwan                                 |               0.89 |                0.94 |                0.83 |\n",
      "+-----------------------------------------+--------------------+---------------------+---------------------+\n",
      "| Cachar                                  |               0.67 |                0.94 |                0.48 |\n",
      "+-----------------------------------------+--------------------+---------------------+---------------------+\n",
      "| Chamba                                  |               0.88 |                0.64 |                0.66 |\n",
      "+-----------------------------------------+--------------------+---------------------+---------------------+\n",
      "| Chamoli                                 |               0.99 |                0.95 |                0.96 |\n",
      "+-----------------------------------------+--------------------+---------------------+---------------------+\n",
      "| Champaran                               |               0.15 |                0.78 |                0.92 |\n",
      "+-----------------------------------------+--------------------+---------------------+---------------------+\n",
      "| Chandrapur                              |               0.61 |                0.24 |                0.16 |\n",
      "+-----------------------------------------+--------------------+---------------------+---------------------+\n",
      "| Chengalpattu MGR / Kanchipuram          |              -0.01 |                     |                0.94 |\n",
      "+-----------------------------------------+--------------------+---------------------+---------------------+\n",
      "| Chhatarpur                              |               0.68 |                0.93 |                1    |\n",
      "+-----------------------------------------+--------------------+---------------------+---------------------+\n",
      "| Chhindwara                              |               0.32 |                0.95 |                0.94 |\n",
      "+-----------------------------------------+--------------------+---------------------+---------------------+\n",
      "| Chickmagalur                            |               0.4  |                1    |                0.98 |\n",
      "+-----------------------------------------+--------------------+---------------------+---------------------+\n",
      "| Chitradurga                             |               0.99 |                0.75 |                0.95 |\n",
      "+-----------------------------------------+--------------------+---------------------+---------------------+\n",
      "| Chittoor                                |               0.79 |                0.91 |                0.95 |\n",
      "+-----------------------------------------+--------------------+---------------------+---------------------+\n",
      "| Chittorgarh                             |               0.05 |                0.91 |                0.81 |\n",
      "+-----------------------------------------+--------------------+---------------------+---------------------+\n",
      "| Churu                                   |               1    |                0.97 |                     |\n",
      "+-----------------------------------------+--------------------+---------------------+---------------------+\n",
      "| Coimbatore                              |               0.61 |                0.87 |                0.61 |\n",
      "+-----------------------------------------+--------------------+---------------------+---------------------+\n",
      "| Cooch Behar                             |               0.02 |                0.89 |                1    |\n",
      "+-----------------------------------------+--------------------+---------------------+---------------------+\n",
      "| Cuttack                                 |              -0.34 |                0.98 |                0.75 |\n",
      "+-----------------------------------------+--------------------+---------------------+---------------------+\n",
      "| Dakshina Kannada                        |               0    |                1    |                0.7  |\n",
      "+-----------------------------------------+--------------------+---------------------+---------------------+\n",
      "| Damoh                                   |               0.89 |               -0.18 |                0.96 |\n",
      "+-----------------------------------------+--------------------+---------------------+---------------------+\n",
      "| Dangs                                   |               0.89 |                0.94 |                0.94 |\n",
      "+-----------------------------------------+--------------------+---------------------+---------------------+\n",
      "| Darbhanga                               |               0.5  |                0.86 |               -0.01 |\n",
      "+-----------------------------------------+--------------------+---------------------+---------------------+\n",
      "| Darjeeling                              |              -0.08 |                0.9  |                0.15 |\n",
      "+-----------------------------------------+--------------------+---------------------+---------------------+\n",
      "| Darrang                                 |               0.78 |                0.96 |                0.93 |\n",
      "+-----------------------------------------+--------------------+---------------------+---------------------+\n",
      "| Datia                                   |               0.93 |                0.97 |                0.98 |\n",
      "+-----------------------------------------+--------------------+---------------------+---------------------+\n",
      "| Dehradun                                |               0.08 |                0.14 |                0.28 |\n",
      "+-----------------------------------------+--------------------+---------------------+---------------------+\n",
      "| Deoria                                  |               0.86 |                0.9  |                0.32 |\n",
      "+-----------------------------------------+--------------------+---------------------+---------------------+\n",
      "| Dewas                                   |               0.93 |                0.94 |                0.77 |\n",
      "+-----------------------------------------+--------------------+---------------------+---------------------+\n",
      "| Dhanbad                                 |               0.66 |                0.85 |                0.81 |\n",
      "+-----------------------------------------+--------------------+---------------------+---------------------+\n",
      "| Dhar                                    |               0.87 |                0.95 |                0.59 |\n",
      "+-----------------------------------------+--------------------+---------------------+---------------------+\n",
      "| Dharwad                                 |               0.17 |                0.21 |                0.96 |\n",
      "+-----------------------------------------+--------------------+---------------------+---------------------+\n",
      "| Dhenkanal                               |              -0.19 |                0.9  |                0.51 |\n",
      "+-----------------------------------------+--------------------+---------------------+---------------------+\n",
      "| Dhule                                   |               0.65 |                0.79 |                0.97 |\n",
      "+-----------------------------------------+--------------------+---------------------+---------------------+\n",
      "| Dibrugarh                               |               0.91 |                0.97 |                0.8  |\n",
      "+-----------------------------------------+--------------------+---------------------+---------------------+\n",
      "| Dungarpur                               |               0.71 |                0.91 |                0.54 |\n",
      "+-----------------------------------------+--------------------+---------------------+---------------------+\n",
      "| Durg                                    |               0.82 |                0.44 |                0.92 |\n",
      "+-----------------------------------------+--------------------+---------------------+---------------------+\n",
      "| East Godavari                           |               0.65 |                     |                0.96 |\n",
      "+-----------------------------------------+--------------------+---------------------+---------------------+\n",
      "| Eranakulam                              |               0.97 |                     |                     |\n",
      "+-----------------------------------------+--------------------+---------------------+---------------------+\n",
      "| Etah                                    |               0.83 |                0.95 |                0.56 |\n",
      "+-----------------------------------------+--------------------+---------------------+---------------------+\n",
      "| Etawah                                  |               0.95 |                0.95 |               -0.15 |\n",
      "+-----------------------------------------+--------------------+---------------------+---------------------+\n",
      "| Faizabad                                |               0.96 |                0.95 |                0.26 |\n",
      "+-----------------------------------------+--------------------+---------------------+---------------------+\n",
      "| Farrukhabad                             |               0.76 |                0.87 |                0.63 |\n",
      "+-----------------------------------------+--------------------+---------------------+---------------------+\n",
      "| Fatehpur                                |               0.56 |                0.94 |                0.58 |\n",
      "+-----------------------------------------+--------------------+---------------------+---------------------+\n",
      "| Ferozpur                                |               0.99 |                0.96 |                0.97 |\n",
      "+-----------------------------------------+--------------------+---------------------+---------------------+\n",
      "| Ganganagar                              |               0.89 |                0.95 |                0.87 |\n",
      "+-----------------------------------------+--------------------+---------------------+---------------------+\n",
      "| Ganjam                                  |               0.08 |                0.83 |                0.9  |\n",
      "+-----------------------------------------+--------------------+---------------------+---------------------+\n",
      "| Garhwal                                 |               0.97 |                0.94 |                0.86 |\n",
      "+-----------------------------------------+--------------------+---------------------+---------------------+\n",
      "| Gaya                                    |               0.19 |                0.84 |                0.24 |\n",
      "+-----------------------------------------+--------------------+---------------------+---------------------+\n",
      "| Ghazipur                                |               0.91 |                0.94 |                0.94 |\n",
      "+-----------------------------------------+--------------------+---------------------+---------------------+\n",
      "| Goalpara                                |               0.22 |                0.94 |                0.88 |\n",
      "+-----------------------------------------+--------------------+---------------------+---------------------+\n",
      "| Gonda                                   |              -0.24 |                0.85 |                0.19 |\n",
      "+-----------------------------------------+--------------------+---------------------+---------------------+\n",
      "| Gorakhpur                               |               0.79 |                0.86 |                0.58 |\n",
      "+-----------------------------------------+--------------------+---------------------+---------------------+\n",
      "| Gulbarga / Kalaburagi                   |               0.96 |                0.43 |                0.93 |\n",
      "+-----------------------------------------+--------------------+---------------------+---------------------+\n",
      "| Guna                                    |               0.61 |                0.9  |                0.29 |\n",
      "+-----------------------------------------+--------------------+---------------------+---------------------+\n",
      "| Guntur                                  |               0.43 |                0.68 |                0.98 |\n",
      "+-----------------------------------------+--------------------+---------------------+---------------------+\n",
      "| Gurdaspur                               |               0.97 |                0.92 |                0.61 |\n",
      "+-----------------------------------------+--------------------+---------------------+---------------------+\n",
      "| Gurgaon                                 |               0.99 |                0.92 |                0.78 |\n",
      "+-----------------------------------------+--------------------+---------------------+---------------------+\n",
      "| Gwalior                                 |               0.9  |                0.82 |                1    |\n",
      "+-----------------------------------------+--------------------+---------------------+---------------------+\n",
      "| Hamirpur                                |               0.7  |                0.79 |                0.99 |\n",
      "+-----------------------------------------+--------------------+---------------------+---------------------+\n",
      "| Hardoi                                  |               0.96 |                0.95 |                0.46 |\n",
      "+-----------------------------------------+--------------------+---------------------+---------------------+\n",
      "| Hassan                                  |               0.65 |                1    |                0.93 |\n",
      "+-----------------------------------------+--------------------+---------------------+---------------------+\n",
      "| Hazaribagh                              |               0.42 |                0.91 |                0.71 |\n",
      "+-----------------------------------------+--------------------+---------------------+---------------------+\n",
      "| Hissar                                  |               0.99 |                0.99 |                0.94 |\n",
      "+-----------------------------------------+--------------------+---------------------+---------------------+\n",
      "| Hooghly                                 |               0.91 |                0.96 |                0.98 |\n",
      "+-----------------------------------------+--------------------+---------------------+---------------------+\n",
      "| Hoshangabad                             |               0.99 |                0.96 |                0.98 |\n",
      "+-----------------------------------------+--------------------+---------------------+---------------------+\n",
      "| Hoshiarpur                              |               0.99 |                0.84 |               -0.37 |\n",
      "+-----------------------------------------+--------------------+---------------------+---------------------+\n",
      "| Howrah                                  |               0.86 |                0.91 |                0.86 |\n",
      "+-----------------------------------------+--------------------+---------------------+---------------------+\n",
      "| Hyderabad                               |               0.67 |                0.91 |                0.97 |\n",
      "+-----------------------------------------+--------------------+---------------------+---------------------+\n",
      "| Indore                                  |               0.76 |                0.85 |                0.69 |\n",
      "+-----------------------------------------+--------------------+---------------------+---------------------+\n",
      "| Jabalpur                                |               0.78 |                0.85 |                0.9  |\n",
      "+-----------------------------------------+--------------------+---------------------+---------------------+\n",
      "| Jaipur                                  |               0.9  |                0.91 |                0.75 |\n",
      "+-----------------------------------------+--------------------+---------------------+---------------------+\n",
      "| Jaisalmer                               |               1    |                0.86 |                0.99 |\n",
      "+-----------------------------------------+--------------------+---------------------+---------------------+\n",
      "| Jalandhar                               |               0.99 |                0.68 |                0.86 |\n",
      "+-----------------------------------------+--------------------+---------------------+---------------------+\n",
      "| Jalaun                                  |               0.85 |                0.68 |                0.86 |\n",
      "+-----------------------------------------+--------------------+---------------------+---------------------+\n",
      "| Jalgaon                                 |               0.86 |                0.51 |                0.98 |\n",
      "+-----------------------------------------+--------------------+---------------------+---------------------+\n",
      "| Jalore                                  |               0.99 |                0.48 |                0.74 |\n",
      "+-----------------------------------------+--------------------+---------------------+---------------------+\n",
      "| Jalpaiguri                              |              -0.5  |                0.9  |                0.93 |\n",
      "+-----------------------------------------+--------------------+---------------------+---------------------+\n",
      "| Jamnagar                                |               0.92 |                0.89 |                0.92 |\n",
      "+-----------------------------------------+--------------------+---------------------+---------------------+\n",
      "| Jaunpur                                 |               0.93 |                0.93 |                0.03 |\n",
      "+-----------------------------------------+--------------------+---------------------+---------------------+\n",
      "| Jhabua                                  |               0.04 |                0.97 |                0.72 |\n",
      "+-----------------------------------------+--------------------+---------------------+---------------------+\n",
      "| Jhalawar                                |               0.87 |                0.95 |                0.39 |\n",
      "+-----------------------------------------+--------------------+---------------------+---------------------+\n",
      "| Jhansi                                  |               0.01 |                0.93 |                0.71 |\n",
      "+-----------------------------------------+--------------------+---------------------+---------------------+\n",
      "| Jhunjhunu                               |               1    |                0.97 |                     |\n",
      "+-----------------------------------------+--------------------+---------------------+---------------------+\n",
      "| Jind                                    |               0.98 |                0.97 |                0.92 |\n",
      "+-----------------------------------------+--------------------+---------------------+---------------------+\n",
      "| Jodhpur                                 |               1    |                0.87 |                0.73 |\n",
      "+-----------------------------------------+--------------------+---------------------+---------------------+\n",
      "| Junagadh                                |               0.88 |                0.99 |                1    |\n",
      "+-----------------------------------------+--------------------+---------------------+---------------------+\n",
      "| Kadapa YSR                              |               0.42 |                0.91 |                0.95 |\n",
      "+-----------------------------------------+--------------------+---------------------+---------------------+\n",
      "| Kalahandi                               |               0.65 |                0.92 |                0.83 |\n",
      "+-----------------------------------------+--------------------+---------------------+---------------------+\n",
      "| Kamrup                                  |               0.19 |                0.96 |                0.31 |\n",
      "+-----------------------------------------+--------------------+---------------------+---------------------+\n",
      "| Kangra                                  |               0.68 |                0.71 |                0.79 |\n",
      "+-----------------------------------------+--------------------+---------------------+---------------------+\n",
      "| Kannur                                  |               0.99 |                     |                     |\n",
      "+-----------------------------------------+--------------------+---------------------+---------------------+\n",
      "| Kanpur                                  |               0.57 |                0.93 |                0.59 |\n",
      "+-----------------------------------------+--------------------+---------------------+---------------------+\n",
      "| Kanyakumari                             |               0.56 |                     |                0.9  |\n",
      "+-----------------------------------------+--------------------+---------------------+---------------------+\n",
      "| Kapurthala                              |               0.96 |                0.89 |                0.84 |\n",
      "+-----------------------------------------+--------------------+---------------------+---------------------+\n",
      "| Karbi Anglong                           |               0.89 |                0.89 |                0.5  |\n",
      "+-----------------------------------------+--------------------+---------------------+---------------------+\n",
      "| Karimnagar                              |               0.98 |                0.91 |                0.83 |\n",
      "+-----------------------------------------+--------------------+---------------------+---------------------+\n",
      "| Karnal                                  |               0.95 |                0.85 |                0.97 |\n",
      "+-----------------------------------------+--------------------+---------------------+---------------------+\n",
      "| Keonjhar                                |              -0.24 |                0.85 |                0.68 |\n",
      "+-----------------------------------------+--------------------+---------------------+---------------------+\n",
      "| Khammam                                 |               0.93 |                     |                0.96 |\n",
      "+-----------------------------------------+--------------------+---------------------+---------------------+\n",
      "| Khandwa / East Nimar                    |               0.81 |                0.94 |                0.99 |\n",
      "+-----------------------------------------+--------------------+---------------------+---------------------+\n",
      "| Khargone / West Nimar                   |               0.8  |                0.98 |                0.92 |\n",
      "+-----------------------------------------+--------------------+---------------------+---------------------+\n",
      "| Kheda                                   |               0.96 |                0.98 |                0.81 |\n",
      "+-----------------------------------------+--------------------+---------------------+---------------------+\n",
      "| Kheri                                   |               0.8  |                0.85 |                0.86 |\n",
      "+-----------------------------------------+--------------------+---------------------+---------------------+\n",
      "| Kinnaur                                 |               1    |                0.93 |                0.95 |\n",
      "+-----------------------------------------+--------------------+---------------------+---------------------+\n",
      "| Kodagu / Coorg                          |               0.39 |                1    |                0.95 |\n",
      "+-----------------------------------------+--------------------+---------------------+---------------------+\n",
      "| Kolar                                   |               0.91 |                0.89 |                0.93 |\n",
      "+-----------------------------------------+--------------------+---------------------+---------------------+\n",
      "| Kolhapur                                |               0.81 |                0.76 |                0.92 |\n",
      "+-----------------------------------------+--------------------+---------------------+---------------------+\n",
      "| Kollam                                  |               0.96 |                     |                     |\n",
      "+-----------------------------------------+--------------------+---------------------+---------------------+\n",
      "| Koraput                                 |               0.65 |                0.95 |                0.93 |\n",
      "+-----------------------------------------+--------------------+---------------------+---------------------+\n",
      "| Kota                                    |               0.96 |                0.85 |                0.56 |\n",
      "+-----------------------------------------+--------------------+---------------------+---------------------+\n",
      "| Kottayam                                |               0.9  |                     |                0.79 |\n",
      "+-----------------------------------------+--------------------+---------------------+---------------------+\n",
      "| Kozhikode                               |               0.99 |                     |                     |\n",
      "+-----------------------------------------+--------------------+---------------------+---------------------+\n",
      "| Krishna                                 |               0.22 |                     |                0.98 |\n",
      "+-----------------------------------------+--------------------+---------------------+---------------------+\n",
      "| Kullu                                   |               0.85 |                0.79 |                0.71 |\n",
      "+-----------------------------------------+--------------------+---------------------+---------------------+\n",
      "| Kurnool                                 |               0.69 |                0.74 |                0.99 |\n",
      "+-----------------------------------------+--------------------+---------------------+---------------------+\n",
      "| Kutch                                   |                    |                0.95 |                0.96 |\n",
      "+-----------------------------------------+--------------------+---------------------+---------------------+\n",
      "| Lahul & Spiti                           |               1    |                0.88 |                1    |\n",
      "+-----------------------------------------+--------------------+---------------------+---------------------+\n",
      "| Lakhimpur                               |               0.75 |                0.95 |                0.51 |\n",
      "+-----------------------------------------+--------------------+---------------------+---------------------+\n",
      "| Lucknow                                 |               0.75 |                0.9  |                0.59 |\n",
      "+-----------------------------------------+--------------------+---------------------+---------------------+\n",
      "| Ludhiana                                |               0.98 |                0.76 |                0.99 |\n",
      "+-----------------------------------------+--------------------+---------------------+---------------------+\n",
      "| Madurai                                 |               0.46 |                0.78 |                0.85 |\n",
      "+-----------------------------------------+--------------------+---------------------+---------------------+\n",
      "| Mahabubnagar                            |               0.85 |                0.54 |                0.84 |\n",
      "+-----------------------------------------+--------------------+---------------------+---------------------+\n",
      "| Mahendragarh / Narnaul                  |               0.99 |                0.95 |                1    |\n",
      "+-----------------------------------------+--------------------+---------------------+---------------------+\n",
      "| Mainpuri                                |               0.93 |                0.93 |                0.43 |\n",
      "+-----------------------------------------+--------------------+---------------------+---------------------+\n",
      "| Malappuram                              |               0.97 |                     |                     |\n",
      "+-----------------------------------------+--------------------+---------------------+---------------------+\n",
      "| Malda                                   |              -0.02 |                0.95 |                0.87 |\n",
      "+-----------------------------------------+--------------------+---------------------+---------------------+\n",
      "| Mandi                                   |               0.71 |                0.72 |                0.47 |\n",
      "+-----------------------------------------+--------------------+---------------------+---------------------+\n",
      "| Mandla                                  |               0.68 |                0.63 |                0.74 |\n",
      "+-----------------------------------------+--------------------+---------------------+---------------------+\n",
      "| Mandsaur                                |               0.78 |                0.95 |                0.66 |\n",
      "+-----------------------------------------+--------------------+---------------------+---------------------+\n",
      "| Mandya                                  |               0.78 |                0.8  |                0.93 |\n",
      "+-----------------------------------------+--------------------+---------------------+---------------------+\n",
      "| Mathura                                 |               0.99 |                0.83 |                0.86 |\n",
      "+-----------------------------------------+--------------------+---------------------+---------------------+\n",
      "| Mayurbhanja                             |              -0.14 |                0.97 |                0.7  |\n",
      "+-----------------------------------------+--------------------+---------------------+---------------------+\n",
      "| Medak                                   |               0.85 |                0.43 |                0.86 |\n",
      "+-----------------------------------------+--------------------+---------------------+---------------------+\n",
      "| Meerut                                  |               0.94 |                0.33 |                0.86 |\n",
      "+-----------------------------------------+--------------------+---------------------+---------------------+\n",
      "| Mehsana                                 |               0.84 |                0.9  |                0.79 |\n",
      "+-----------------------------------------+--------------------+---------------------+---------------------+\n",
      "| Midnapur                                |               0.9  |                0.92 |                0.62 |\n",
      "+-----------------------------------------+--------------------+---------------------+---------------------+\n",
      "| Mirzpur                                 |               0.57 |                0.88 |                0.43 |\n",
      "+-----------------------------------------+--------------------+---------------------+---------------------+\n",
      "| Moradabad                               |               0.93 |                0.89 |                0.79 |\n",
      "+-----------------------------------------+--------------------+---------------------+---------------------+\n",
      "| Morena                                  |               0.96 |                0.92 |                0.96 |\n",
      "+-----------------------------------------+--------------------+---------------------+---------------------+\n",
      "| Mungair                                 |               0.51 |                0.77 |                0.38 |\n",
      "+-----------------------------------------+--------------------+---------------------+---------------------+\n",
      "| Murshidabad                             |               0.84 |                0.93 |                0.99 |\n",
      "+-----------------------------------------+--------------------+---------------------+---------------------+\n",
      "| Muzaffarnagar                           |               0.19 |               -0.25 |                0.95 |\n",
      "+-----------------------------------------+--------------------+---------------------+---------------------+\n",
      "| Muzaffarpur                             |              -0.02 |                0.88 |                0.02 |\n",
      "+-----------------------------------------+--------------------+---------------------+---------------------+\n",
      "| Mysore                                  |               0.96 |                0.99 |                0.96 |\n",
      "+-----------------------------------------+--------------------+---------------------+---------------------+\n",
      "| Nadia                                   |               0.79 |                0.83 |                0.96 |\n",
      "+-----------------------------------------+--------------------+---------------------+---------------------+\n",
      "| Nagaon                                  |               0.72 |                0.96 |                0.5  |\n",
      "+-----------------------------------------+--------------------+---------------------+---------------------+\n",
      "| Nagaur                                  |                    |                0.83 |                0.77 |\n",
      "+-----------------------------------------+--------------------+---------------------+---------------------+\n",
      "| Nagpur                                  |               0.9  |                0.76 |                0.64 |\n",
      "+-----------------------------------------+--------------------+---------------------+---------------------+\n",
      "| Nainital                                |               0.93 |                0.86 |                0.95 |\n",
      "+-----------------------------------------+--------------------+---------------------+---------------------+\n",
      "| Nalgonda                                |               0.9  |                0.72 |                0.89 |\n",
      "+-----------------------------------------+--------------------+---------------------+---------------------+\n",
      "| Nanded                                  |               0.75 |                0.72 |                0.95 |\n",
      "+-----------------------------------------+--------------------+---------------------+---------------------+\n",
      "| Narsinghpur                             |               0.91 |                0.89 |                0.97 |\n",
      "+-----------------------------------------+--------------------+---------------------+---------------------+\n",
      "| Nasik                                   |               0.78 |                0.3  |                0.96 |\n",
      "+-----------------------------------------+--------------------+---------------------+---------------------+\n",
      "| Nizamabad                               |               0.94 |                0.47 |                0.78 |\n",
      "+-----------------------------------------+--------------------+---------------------+---------------------+\n",
      "| North Arcot / Vellore                   |               0.52 |                0.36 |                0.94 |\n",
      "+-----------------------------------------+--------------------+---------------------+---------------------+\n",
      "| North Cachar Hil / Dima hasao           |               0.8  |                0.93 |                0.77 |\n",
      "+-----------------------------------------+--------------------+---------------------+---------------------+\n",
      "| Osmanabad                               |               0.6  |                0.56 |                0.84 |\n",
      "+-----------------------------------------+--------------------+---------------------+---------------------+\n",
      "| Palakkad                                |               0.92 |                     |                0.84 |\n",
      "+-----------------------------------------+--------------------+---------------------+---------------------+\n",
      "| Palamau                                 |               0.49 |                0.83 |                0.5  |\n",
      "+-----------------------------------------+--------------------+---------------------+---------------------+\n",
      "| Pali                                    |               0.77 |                0.66 |                0.28 |\n",
      "+-----------------------------------------+--------------------+---------------------+---------------------+\n",
      "| Panchmahal                              |               0.48 |                0.95 |                0.74 |\n",
      "+-----------------------------------------+--------------------+---------------------+---------------------+\n",
      "| Panna                                   |               0.54 |                0.52 |                0.85 |\n",
      "+-----------------------------------------+--------------------+---------------------+---------------------+\n",
      "| Parbhani                                |               0.79 |                0.72 |                0.88 |\n",
      "+-----------------------------------------+--------------------+---------------------+---------------------+\n",
      "| Patiala                                 |               0.98 |                0.89 |                0.95 |\n",
      "+-----------------------------------------+--------------------+---------------------+---------------------+\n",
      "| Patna                                   |               0.24 |                0.87 |                0.62 |\n",
      "+-----------------------------------------+--------------------+---------------------+---------------------+\n",
      "| Phulbani ( Kandhamal )                  |               0.73 |                0.94 |                0.71 |\n",
      "+-----------------------------------------+--------------------+---------------------+---------------------+\n",
      "| Pilibhit                                |               0.89 |                0.88 |                0.91 |\n",
      "+-----------------------------------------+--------------------+---------------------+---------------------+\n",
      "| Pithorgarh                              |               0.98 |                0.97 |                0.96 |\n",
      "+-----------------------------------------+--------------------+---------------------+---------------------+\n",
      "| Pratapgarh                              |               0.8  |                0.92 |                0.34 |\n",
      "+-----------------------------------------+--------------------+---------------------+---------------------+\n",
      "| Pune                                    |               0.5  |                0.91 |                0.89 |\n",
      "+-----------------------------------------+--------------------+---------------------+---------------------+\n",
      "| Puri                                    |              -0.01 |                0.86 |                0.75 |\n",
      "+-----------------------------------------+--------------------+---------------------+---------------------+\n",
      "| Purnea                                  |              -0.34 |                0.7  |                0.91 |\n",
      "+-----------------------------------------+--------------------+---------------------+---------------------+\n",
      "| Purulia                                 |               0.65 |                0.93 |                0.67 |\n",
      "+-----------------------------------------+--------------------+---------------------+---------------------+\n",
      "| Rae-Bareily                             |               0.88 |                0.91 |                0.8  |\n",
      "+-----------------------------------------+--------------------+---------------------+---------------------+\n",
      "| Raichur                                 |               0.98 |                0.82 |                0.93 |\n",
      "+-----------------------------------------+--------------------+---------------------+---------------------+\n",
      "| Raigad                                  |              -0.19 |                1    |                0.93 |\n",
      "+-----------------------------------------+--------------------+---------------------+---------------------+\n",
      "| Raigarh                                 |               0.72 |                0.73 |                0.18 |\n",
      "+-----------------------------------------+--------------------+---------------------+---------------------+\n",
      "| Raipur                                  |               0.81 |                0.5  |                0.99 |\n",
      "+-----------------------------------------+--------------------+---------------------+---------------------+\n",
      "| Raisen                                  |               0.98 |                0.92 |                0.96 |\n",
      "+-----------------------------------------+--------------------+---------------------+---------------------+\n",
      "| Rajgarh                                 |               0.86 |                0.96 |                0.76 |\n",
      "+-----------------------------------------+--------------------+---------------------+---------------------+\n",
      "| Rajkot                                  |               0.92 |                0.97 |                0.97 |\n",
      "+-----------------------------------------+--------------------+---------------------+---------------------+\n",
      "| Ramananthapuram                         |               0.33 |                     |                0.84 |\n",
      "+-----------------------------------------+--------------------+---------------------+---------------------+\n",
      "| Rampur                                  |               0.96 |                0.92 |                0.96 |\n",
      "+-----------------------------------------+--------------------+---------------------+---------------------+\n",
      "| Ranchi                                  |               0.2  |                0.86 |                0.79 |\n",
      "+-----------------------------------------+--------------------+---------------------+---------------------+\n",
      "| Ratlam                                  |               0.73 |                0.94 |                0.72 |\n",
      "+-----------------------------------------+--------------------+---------------------+---------------------+\n",
      "| Ratnagiri                               |               0.53 |                1    |                0.84 |\n",
      "+-----------------------------------------+--------------------+---------------------+---------------------+\n",
      "| Rewa                                    |               0.33 |                0.72 |                0.97 |\n",
      "+-----------------------------------------+--------------------+---------------------+---------------------+\n",
      "| Rohtak                                  |               0.98 |                0.95 |                0.52 |\n",
      "+-----------------------------------------+--------------------+---------------------+---------------------+\n",
      "| Roopnagar / Ropar                       |               0.99 |                0.95 |               -0.47 |\n",
      "+-----------------------------------------+--------------------+---------------------+---------------------+\n",
      "| S.P.S. Nellore                          |               0.75 |                     |                0.92 |\n",
      "+-----------------------------------------+--------------------+---------------------+---------------------+\n",
      "| Sabarkantha                             |               0.61 |                0.99 |                0.67 |\n",
      "+-----------------------------------------+--------------------+---------------------+---------------------+\n",
      "| Sagar                                   |               0.79 |                0.16 |                0.73 |\n",
      "+-----------------------------------------+--------------------+---------------------+---------------------+\n",
      "| Saharanpur                              |               0.32 |                0.35 |                0.76 |\n",
      "+-----------------------------------------+--------------------+---------------------+---------------------+\n",
      "| Saharsa                                 |               0.31 |                0.82 |                0.15 |\n",
      "+-----------------------------------------+--------------------+---------------------+---------------------+\n",
      "| Salem                                   |               0.46 |                0.65 |                0.96 |\n",
      "+-----------------------------------------+--------------------+---------------------+---------------------+\n",
      "| Sambalpur                               |               0.27 |                0.98 |                0.97 |\n",
      "+-----------------------------------------+--------------------+---------------------+---------------------+\n",
      "| Sangli                                  |               0.6  |                0.54 |                0.95 |\n",
      "+-----------------------------------------+--------------------+---------------------+---------------------+\n",
      "| Sangrur                                 |               0.98 |                0.95 |                0.98 |\n",
      "+-----------------------------------------+--------------------+---------------------+---------------------+\n",
      "| Santhal Paragana / Dumka                |               0.49 |                0.9  |                0.63 |\n",
      "+-----------------------------------------+--------------------+---------------------+---------------------+\n",
      "| Saran                                   |               0.65 |                0.79 |               -0.16 |\n",
      "+-----------------------------------------+--------------------+---------------------+---------------------+\n",
      "| Satara                                  |               0.85 |                0.94 |                0.97 |\n",
      "+-----------------------------------------+--------------------+---------------------+---------------------+\n",
      "| Satna                                   |               0.66 |                0.37 |                0.99 |\n",
      "+-----------------------------------------+--------------------+---------------------+---------------------+\n",
      "| Sehore                                  |               0.95 |                0.91 |                0.84 |\n",
      "+-----------------------------------------+--------------------+---------------------+---------------------+\n",
      "| Seoni / Shivani                         |               0.8  |                0.89 |                0.92 |\n",
      "+-----------------------------------------+--------------------+---------------------+---------------------+\n",
      "| Shahabad (now part of Bhojpur district) |               0.13 |                0.81 |                0.74 |\n",
      "+-----------------------------------------+--------------------+---------------------+---------------------+\n",
      "| Shahdol                                 |               0.66 |                0.8  |                0.81 |\n",
      "+-----------------------------------------+--------------------+---------------------+---------------------+\n",
      "| Shahjahanpur                            |               0.95 |                0.92 |                0.91 |\n",
      "+-----------------------------------------+--------------------+---------------------+---------------------+\n",
      "| Shajapur                                |               0.94 |                0.93 |                0.77 |\n",
      "+-----------------------------------------+--------------------+---------------------+---------------------+\n",
      "| Shimla                                  |               0.89 |                0.87 |                0.79 |\n",
      "+-----------------------------------------+--------------------+---------------------+---------------------+\n",
      "| Shimoge                                 |               0.61 |                0.78 |                0.96 |\n",
      "+-----------------------------------------+--------------------+---------------------+---------------------+\n",
      "| Shivpuri                                |               0.61 |                0.93 |                0.28 |\n",
      "+-----------------------------------------+--------------------+---------------------+---------------------+\n",
      "| Sibsagar                                |               0.84 |                0.98 |                0.27 |\n",
      "+-----------------------------------------+--------------------+---------------------+---------------------+\n",
      "| Sidhi                                   |               0.58 |                0.81 |                0.81 |\n",
      "+-----------------------------------------+--------------------+---------------------+---------------------+\n",
      "| Sikar                                   |               1    |                0.96 |                0.64 |\n",
      "+-----------------------------------------+--------------------+---------------------+---------------------+\n",
      "| Singhbhum                               |               0.35 |                0.88 |                0.81 |\n",
      "+-----------------------------------------+--------------------+---------------------+---------------------+\n",
      "| Sirmaur                                 |               0.67 |                0.62 |                0.64 |\n",
      "+-----------------------------------------+--------------------+---------------------+---------------------+\n",
      "| Sirohi                                  |               0.83 |                0.77 |                0.48 |\n",
      "+-----------------------------------------+--------------------+---------------------+---------------------+\n",
      "| Sitapur                                 |               0.84 |                0.9  |                0.46 |\n",
      "+-----------------------------------------+--------------------+---------------------+---------------------+\n",
      "| Solan                                   |               0.42 |                0.5  |                0.6  |\n",
      "+-----------------------------------------+--------------------+---------------------+---------------------+\n",
      "| Solapur                                 |               0.77 |                0.92 |                0.95 |\n",
      "+-----------------------------------------+--------------------+---------------------+---------------------+\n",
      "| South Arcot / Cuddalore                 |               0.4  |                     |                0.95 |\n",
      "+-----------------------------------------+--------------------+---------------------+---------------------+\n",
      "| Srikakulam                              |               0.31 |                1    |                1    |\n",
      "+-----------------------------------------+--------------------+---------------------+---------------------+\n",
      "| Sultanpur                               |               0.83 |                0.94 |               -0.26 |\n",
      "+-----------------------------------------+--------------------+---------------------+---------------------+\n",
      "| Sundargarh                              |              -0.04 |                0.95 |                0.76 |\n",
      "+-----------------------------------------+--------------------+---------------------+---------------------+\n",
      "| Surat                                   |               0.96 |                0.79 |                0.88 |\n",
      "+-----------------------------------------+--------------------+---------------------+---------------------+\n",
      "| Surendranagar                           |               0.94 |                0.9  |                0.99 |\n",
      "+-----------------------------------------+--------------------+---------------------+---------------------+\n",
      "| Surguja                                 |               0.77 |                0.93 |                0.6  |\n",
      "+-----------------------------------------+--------------------+---------------------+---------------------+\n",
      "| Swami Madhopur                          |               0.68 |                0.87 |                0.77 |\n",
      "+-----------------------------------------+--------------------+---------------------+---------------------+\n",
      "| Tehri Garhwal                           |               0.94 |                0.93 |                0.84 |\n",
      "+-----------------------------------------+--------------------+---------------------+---------------------+\n",
      "| Thane                                   |              -0.01 |                0.89 |                0.91 |\n",
      "+-----------------------------------------+--------------------+---------------------+---------------------+\n",
      "| Thanjavur                               |               0.03 |                     |                0.93 |\n",
      "+-----------------------------------------+--------------------+---------------------+---------------------+\n",
      "| The Nilgiris                            |               0.58 |                0.89 |                     |\n",
      "+-----------------------------------------+--------------------+---------------------+---------------------+\n",
      "| Thirunelveli                            |               0.25 |                     |                0.81 |\n",
      "+-----------------------------------------+--------------------+---------------------+---------------------+\n",
      "| Thiruvananthapuram                      |               0.99 |                     |                     |\n",
      "+-----------------------------------------+--------------------+---------------------+---------------------+\n",
      "| Thrissur                                |               0.97 |                     |                     |\n",
      "+-----------------------------------------+--------------------+---------------------+---------------------+\n",
      "| Tikamgarh                               |               0.66 |                0.93 |                0.9  |\n",
      "+-----------------------------------------+--------------------+---------------------+---------------------+\n",
      "| Tiruchirapalli / Trichy                 |               0.01 |                     |                0.82 |\n",
      "+-----------------------------------------+--------------------+---------------------+---------------------+\n",
      "| Tonk                                    |               0.76 |               -0    |                0.11 |\n",
      "+-----------------------------------------+--------------------+---------------------+---------------------+\n",
      "| Tumkur                                  |               0.84 |                0.96 |                0.96 |\n",
      "+-----------------------------------------+--------------------+---------------------+---------------------+\n",
      "| Udaipur                                 |               0.63 |                0.9  |                0.67 |\n",
      "+-----------------------------------------+--------------------+---------------------+---------------------+\n",
      "| Ujjain                                  |               0.9  |                0.95 |                0.78 |\n",
      "+-----------------------------------------+--------------------+---------------------+---------------------+\n",
      "| Unnao                                   |               0.81 |                0.96 |                0.32 |\n",
      "+-----------------------------------------+--------------------+---------------------+---------------------+\n",
      "| Uttar Kashi                             |               0.96 |                0.93 |                0.87 |\n",
      "+-----------------------------------------+--------------------+---------------------+---------------------+\n",
      "| Uttara Kannada                          |               0.11 |                     |                0.96 |\n",
      "+-----------------------------------------+--------------------+---------------------+---------------------+\n",
      "| Vadodara / Baroda                       |               0.14 |                0.98 |                0.94 |\n",
      "+-----------------------------------------+--------------------+---------------------+---------------------+\n",
      "| Valsad                                  |               0.88 |                0.91 |                0.98 |\n",
      "+-----------------------------------------+--------------------+---------------------+---------------------+\n",
      "| Varanasi                                |               0.88 |                0.92 |                0.59 |\n",
      "+-----------------------------------------+--------------------+---------------------+---------------------+\n",
      "| Vidisha                                 |               0.94 |                0.46 |                0.87 |\n",
      "+-----------------------------------------+--------------------+---------------------+---------------------+\n",
      "| Visakhapatnam                           |               0.73 |                0.7  |                0.96 |\n",
      "+-----------------------------------------+--------------------+---------------------+---------------------+\n",
      "| Warangal                                |               0.94 |                0.85 |                0.95 |\n",
      "+-----------------------------------------+--------------------+---------------------+---------------------+\n",
      "| Wardha                                  |               0.88 |                0.44 |                0.97 |\n",
      "+-----------------------------------------+--------------------+---------------------+---------------------+\n",
      "| West Dinajpur                           |               0.13 |                0.9  |                0.98 |\n",
      "+-----------------------------------------+--------------------+---------------------+---------------------+\n",
      "| West Godavari                           |               0.52 |                1    |                0.99 |\n",
      "+-----------------------------------------+--------------------+---------------------+---------------------+\n",
      "| Yeotmal                                 |               0.87 |                0.89 |                0.91 |\n",
      "+-----------------------------------------+--------------------+---------------------+---------------------+\n"
     ]
    }
   ],
   "source": [
    "#4.District-wise Correlation Between Area and Production for Major Crops (Rice, Wheat, and Maize)\n",
    "mycursor.execute(\"\"\"SELECT\n",
    "  Dist_Name,  \n",
    " \n",
    " ROUND( (\n",
    "    (COUNT(*) * SUM(Rice_Area * Rice_Production) - SUM(Rice_Area) * SUM(Rice_Production)) /\n",
    "    (SQRT(COUNT(*) * SUM(POW(Rice_Area, 2)) - POW(SUM(Rice_Area), 2)) *\n",
    "     SQRT(COUNT(*) * SUM(POW(Rice_Production, 2)) - POW(SUM(Rice_Production), 2)))\n",
    "  ),2) AS Rice_Correlation,\n",
    " ROUND( (\n",
    "    (COUNT(*) * SUM(Wheat_Area * Wheat_Production) - SUM(Wheat_Area) * SUM(Wheat_Production)) /\n",
    "    (SQRT(COUNT(*) * SUM(POW(Wheat_Area, 2)) - POW(SUM(Wheat_Area), 2)) *\n",
    "     SQRT(COUNT(*) * SUM(POW(Wheat_Production, 2)) - POW(SUM(Wheat_Production), 2)))\n",
    "  ),2) AS Wheat_Correlation,\n",
    "ROUND(  (\n",
    "    (COUNT(*) * SUM(Maize_Area * Maize_Production) - SUM(Maize_Area) * SUM(Maize_Production)) /\n",
    "    (SQRT(COUNT(*) * SUM(POW(Maize_Area, 2)) - POW(SUM(Maize_Area), 2)) *\n",
    "     SQRT(COUNT(*) * SUM(POW(Maize_Production, 2)) - POW(SUM(Maize_Production), 2)))\n",
    "  ),2) AS Maize_Correlation\n",
    "\n",
    "FROM agri_crop_data\n",
    "WHERE \n",
    "  Rice_Area IS NOT NULL AND Rice_Production IS NOT NULL AND\n",
    "  Wheat_Area IS NOT NULL AND Wheat_Production IS NOT NULL AND\n",
    "  Maize_Area IS NOT NULL AND Maize_Production IS NOT NULL\n",
    "GROUP BY Dist_Name\n",
    "HAVING COUNT(*) > 1\n",
    "ORDER BY Dist_Name\n",
    "\n",
    "\n",
    "\"\"\")\n",
    "out=mycursor.fetchall()\n",
    "print(tabulate(out,headers=[i[0] for i in mycursor.description],  tablefmt='grid'))"
   ]
  },
  {
   "cell_type": "code",
   "execution_count": 102,
   "id": "5c8f734c",
   "metadata": {},
   "outputs": [
    {
     "name": "stdout",
     "output_type": "stream",
     "text": [
      "+--------+--------------+----------------------------+\n",
      "|   Year | State_Name   |   Yearly_Cotton_Production |\n",
      "+========+==============+============================+\n",
      "|   1966 | Gujarat      |                     252    |\n",
      "+--------+--------------+----------------------------+\n",
      "|   1966 | Haryana      |                      54.3  |\n",
      "+--------+--------------+----------------------------+\n",
      "|   1966 | Maharashtra  |                     197    |\n",
      "+--------+--------------+----------------------------+\n",
      "|   1966 | Punjab       |                     131.6  |\n",
      "+--------+--------------+----------------------------+\n",
      "|   1966 | Telangana    |                       8.6  |\n",
      "+--------+--------------+----------------------------+\n",
      "|   1967 | Gujarat      |                     271    |\n",
      "+--------+--------------+----------------------------+\n",
      "|   1967 | Haryana      |                      67.8  |\n",
      "+--------+--------------+----------------------------+\n",
      "|   1967 | Maharashtra  |                     232.4  |\n",
      "+--------+--------------+----------------------------+\n",
      "|   1967 | Punjab       |                     140.9  |\n",
      "+--------+--------------+----------------------------+\n",
      "|   1967 | Telangana    |                      12.1  |\n",
      "+--------+--------------+----------------------------+\n",
      "|   1968 | Gujarat      |                     264    |\n",
      "+--------+--------------+----------------------------+\n",
      "|   1968 | Haryana      |                      60.7  |\n",
      "+--------+--------------+----------------------------+\n",
      "|   1968 | Maharashtra  |                     248.1  |\n",
      "+--------+--------------+----------------------------+\n",
      "|   1968 | Punjab       |                     132.7  |\n",
      "+--------+--------------+----------------------------+\n",
      "|   1968 | Telangana    |                       5.5  |\n",
      "+--------+--------------+----------------------------+\n",
      "|   1969 | Gujarat      |                     295.3  |\n",
      "+--------+--------------+----------------------------+\n",
      "|   1969 | Haryana      |                      61.5  |\n",
      "+--------+--------------+----------------------------+\n",
      "|   1969 | Maharashtra  |                     215.1  |\n",
      "+--------+--------------+----------------------------+\n",
      "|   1969 | Punjab       |                     143.9  |\n",
      "+--------+--------------+----------------------------+\n",
      "|   1969 | Telangana    |                       7.8  |\n",
      "+--------+--------------+----------------------------+\n",
      "|   1970 | Gujarat      |                     323.9  |\n",
      "+--------+--------------+----------------------------+\n",
      "|   1970 | Haryana      |                      63.2  |\n",
      "+--------+--------------+----------------------------+\n",
      "|   1970 | Maharashtra  |                      82.8  |\n",
      "+--------+--------------+----------------------------+\n",
      "|   1970 | Punjab       |                     147.3  |\n",
      "+--------+--------------+----------------------------+\n",
      "|   1970 | Telangana    |                       8.3  |\n",
      "+--------+--------------+----------------------------+\n",
      "|   1971 | Gujarat      |                     451.4  |\n",
      "+--------+--------------+----------------------------+\n",
      "|   1971 | Haryana      |                      79.2  |\n",
      "+--------+--------------+----------------------------+\n",
      "|   1971 | Maharashtra  |                     217.7  |\n",
      "+--------+--------------+----------------------------+\n",
      "|   1971 | Punjab       |                     174.1  |\n",
      "+--------+--------------+----------------------------+\n",
      "|   1971 | Telangana    |                      10.9  |\n",
      "+--------+--------------+----------------------------+\n",
      "|   1972 | Gujarat      |                     292.7  |\n",
      "+--------+--------------+----------------------------+\n",
      "|   1972 | Haryana      |                      79.3  |\n",
      "+--------+--------------+----------------------------+\n",
      "|   1972 | Maharashtra  |                     188.7  |\n",
      "+--------+--------------+----------------------------+\n",
      "|   1972 | Punjab       |                     182.9  |\n",
      "+--------+--------------+----------------------------+\n",
      "|   1972 | Telangana    |                       8.4  |\n",
      "+--------+--------------+----------------------------+\n",
      "|   1973 | Gujarat      |                     312.6  |\n",
      "+--------+--------------+----------------------------+\n",
      "|   1973 | Haryana      |                      81    |\n",
      "+--------+--------------+----------------------------+\n",
      "|   1973 | Maharashtra  |                     188.1  |\n",
      "+--------+--------------+----------------------------+\n",
      "|   1973 | Punjab       |                     187.4  |\n",
      "+--------+--------------+----------------------------+\n",
      "|   1973 | Telangana    |                      10.4  |\n",
      "+--------+--------------+----------------------------+\n",
      "|   1974 | Gujarat      |                     254.2  |\n",
      "+--------+--------------+----------------------------+\n",
      "|   1974 | Haryana      |                      81    |\n",
      "+--------+--------------+----------------------------+\n",
      "|   1974 | Maharashtra  |                     280.8  |\n",
      "+--------+--------------+----------------------------+\n",
      "|   1974 | Punjab       |                     214.9  |\n",
      "+--------+--------------+----------------------------+\n",
      "|   1974 | Telangana    |                      13.5  |\n",
      "+--------+--------------+----------------------------+\n",
      "|   1975 | Gujarat      |                     316.6  |\n",
      "+--------+--------------+----------------------------+\n",
      "|   1975 | Haryana      |                      83.9  |\n",
      "+--------+--------------+----------------------------+\n",
      "|   1975 | Maharashtra  |                     139    |\n",
      "+--------+--------------+----------------------------+\n",
      "|   1975 | Punjab       |                     224.6  |\n",
      "+--------+--------------+----------------------------+\n",
      "|   1975 | Telangana    |                       4.6  |\n",
      "+--------+--------------+----------------------------+\n",
      "|   1976 | Gujarat      |                     317    |\n",
      "+--------+--------------+----------------------------+\n",
      "|   1976 | Haryana      |                      85.8  |\n",
      "+--------+--------------+----------------------------+\n",
      "|   1976 | Maharashtra  |                     150.8  |\n",
      "+--------+--------------+----------------------------+\n",
      "|   1976 | Punjab       |                     203.2  |\n",
      "+--------+--------------+----------------------------+\n",
      "|   1976 | Telangana    |                       4.9  |\n",
      "+--------+--------------+----------------------------+\n",
      "|   1977 | Gujarat      |                     366.5  |\n",
      "+--------+--------------+----------------------------+\n",
      "|   1977 | Haryana      |                      84.7  |\n",
      "+--------+--------------+----------------------------+\n",
      "|   1977 | Maharashtra  |                     221.4  |\n",
      "+--------+--------------+----------------------------+\n",
      "|   1977 | Punjab       |                     220.4  |\n",
      "+--------+--------------+----------------------------+\n",
      "|   1977 | Telangana    |                      11.3  |\n",
      "+--------+--------------+----------------------------+\n",
      "|   1978 | Gujarat      |                     374.1  |\n",
      "+--------+--------------+----------------------------+\n",
      "|   1978 | Haryana      |                     108.5  |\n",
      "+--------+--------------+----------------------------+\n",
      "|   1978 | Maharashtra  |                     228.9  |\n",
      "+--------+--------------+----------------------------+\n",
      "|   1978 | Punjab       |                     200.1  |\n",
      "+--------+--------------+----------------------------+\n",
      "|   1978 | Telangana    |                      11.9  |\n",
      "+--------+--------------+----------------------------+\n",
      "|   1979 | Gujarat      |                     303.6  |\n",
      "+--------+--------------+----------------------------+\n",
      "|   1979 | Haryana      |                     100.4  |\n",
      "+--------+--------------+----------------------------+\n",
      "|   1979 | Maharashtra  |                     273.6  |\n",
      "+--------+--------------+----------------------------+\n",
      "|   1979 | Punjab       |                     207.5  |\n",
      "+--------+--------------+----------------------------+\n",
      "|   1979 | Telangana    |                      15.5  |\n",
      "+--------+--------------+----------------------------+\n",
      "|   1980 | Gujarat      |                     291.5  |\n",
      "+--------+--------------+----------------------------+\n",
      "|   1980 | Haryana      |                     116.5  |\n",
      "+--------+--------------+----------------------------+\n",
      "|   1980 | Maharashtra  |                     210.2  |\n",
      "+--------+--------------+----------------------------+\n",
      "|   1980 | Punjab       |                     200.4  |\n",
      "+--------+--------------+----------------------------+\n",
      "|   1980 | Telangana    |                      25.1  |\n",
      "+--------+--------------+----------------------------+\n",
      "|   1981 | Gujarat      |                     356.5  |\n",
      "+--------+--------------+----------------------------+\n",
      "|   1981 | Haryana      |                     115.5  |\n",
      "+--------+--------------+----------------------------+\n",
      "|   1981 | Maharashtra  |                     238.2  |\n",
      "+--------+--------------+----------------------------+\n",
      "|   1981 | Punjab       |                     216    |\n",
      "+--------+--------------+----------------------------+\n",
      "|   1981 | Telangana    |                      24.4  |\n",
      "+--------+--------------+----------------------------+\n",
      "|   1982 | Gujarat      |                     263    |\n",
      "+--------+--------------+----------------------------+\n",
      "|   1982 | Haryana      |                     142.8  |\n",
      "+--------+--------------+----------------------------+\n",
      "|   1982 | Maharashtra  |                     257.1  |\n",
      "+--------+--------------+----------------------------+\n",
      "|   1982 | Punjab       |                     207.1  |\n",
      "+--------+--------------+----------------------------+\n",
      "|   1982 | Telangana    |                      21.1  |\n",
      "+--------+--------------+----------------------------+\n",
      "|   1983 | Gujarat      |                     245.7  |\n",
      "+--------+--------------+----------------------------+\n",
      "|   1983 | Haryana      |                      98    |\n",
      "+--------+--------------+----------------------------+\n",
      "|   1983 | Maharashtra  |                     139    |\n",
      "+--------+--------------+----------------------------+\n",
      "|   1983 | Punjab       |                     120.4  |\n",
      "+--------+--------------+----------------------------+\n",
      "|   1983 | Telangana    |                      33.6  |\n",
      "+--------+--------------+----------------------------+\n",
      "|   1984 | Gujarat      |                     351.8  |\n",
      "+--------+--------------+----------------------------+\n",
      "|   1984 | Haryana      |                     103.7  |\n",
      "+--------+--------------+----------------------------+\n",
      "|   1984 | Maharashtra  |                     249.4  |\n",
      "+--------+--------------+----------------------------+\n",
      "|   1984 | Punjab       |                     210.3  |\n",
      "+--------+--------------+----------------------------+\n",
      "|   1984 | Telangana    |                      22.4  |\n",
      "+--------+--------------+----------------------------+\n",
      "|   1985 | Gujarat      |                     337.8  |\n",
      "+--------+--------------+----------------------------+\n",
      "|   1985 | Haryana      |                     126.8  |\n",
      "+--------+--------------+----------------------------+\n",
      "|   1985 | Maharashtra  |                     338.5  |\n",
      "+--------+--------------+----------------------------+\n",
      "|   1985 | Punjab       |                     238.3  |\n",
      "+--------+--------------+----------------------------+\n",
      "|   1985 | Telangana    |                      31.1  |\n",
      "+--------+--------------+----------------------------+\n",
      "|   1986 | Gujarat      |                     186.5  |\n",
      "+--------+--------------+----------------------------+\n",
      "|   1986 | Haryana      |                     153.3  |\n",
      "+--------+--------------+----------------------------+\n",
      "|   1986 | Maharashtra  |                     153.3  |\n",
      "+--------+--------------+----------------------------+\n",
      "|   1986 | Punjab       |                     287.4  |\n",
      "+--------+--------------+----------------------------+\n",
      "|   1986 | Telangana    |                      25.6  |\n",
      "+--------+--------------+----------------------------+\n",
      "|   1987 | Gujarat      |                      55.1  |\n",
      "+--------+--------------+----------------------------+\n",
      "|   1987 | Haryana      |                     117.5  |\n",
      "+--------+--------------+----------------------------+\n",
      "|   1987 | Maharashtra  |                     255.6  |\n",
      "+--------+--------------+----------------------------+\n",
      "|   1987 | Punjab       |                     315.4  |\n",
      "+--------+--------------+----------------------------+\n",
      "|   1987 | Telangana    |                      34.9  |\n",
      "+--------+--------------+----------------------------+\n",
      "|   1988 | Gujarat      |                     249.6  |\n",
      "+--------+--------------+----------------------------+\n",
      "|   1988 | Haryana      |                     143.6  |\n",
      "+--------+--------------+----------------------------+\n",
      "|   1988 | Maharashtra  |                     233.6  |\n",
      "+--------+--------------+----------------------------+\n",
      "|   1988 | Punjab       |                     360.1  |\n",
      "+--------+--------------+----------------------------+\n",
      "|   1988 | Telangana    |                      23.6  |\n",
      "+--------+--------------+----------------------------+\n",
      "|   1989 | Gujarat      |                     298.5  |\n",
      "+--------+--------------+----------------------------+\n",
      "|   1989 | Haryana      |                     205.8  |\n",
      "+--------+--------------+----------------------------+\n",
      "|   1989 | Maharashtra  |                     375.7  |\n",
      "+--------+--------------+----------------------------+\n",
      "|   1989 | Punjab       |                     417.6  |\n",
      "+--------+--------------+----------------------------+\n",
      "|   1989 | Telangana    |                      56.9  |\n",
      "+--------+--------------+----------------------------+\n",
      "|   1990 | Gujarat      |                     260.24 |\n",
      "+--------+--------------+----------------------------+\n",
      "|   1990 | Haryana      |                     196.35 |\n",
      "+--------+--------------+----------------------------+\n",
      "|   1990 | Maharashtra  |                     318.79 |\n",
      "+--------+--------------+----------------------------+\n",
      "|   1990 | Punjab       |                     351.25 |\n",
      "+--------+--------------+----------------------------+\n",
      "|   1990 | Telangana    |                      67.22 |\n",
      "+--------+--------------+----------------------------+\n",
      "|   1991 | Gujarat      |                     204.47 |\n",
      "+--------+--------------+----------------------------+\n",
      "|   1991 | Haryana      |                     227.97 |\n",
      "+--------+--------------+----------------------------+\n",
      "|   1991 | Maharashtra  |                     196.54 |\n",
      "+--------+--------------+----------------------------+\n",
      "|   1991 | Punjab       |                     409.75 |\n",
      "+--------+--------------+----------------------------+\n",
      "|   1991 | Telangana    |                      71.1  |\n",
      "+--------+--------------+----------------------------+\n",
      "|   1992 | Gujarat      |                     350.99 |\n",
      "+--------+--------------+----------------------------+\n",
      "|   1992 | Haryana      |                     239.87 |\n",
      "+--------+--------------+----------------------------+\n",
      "|   1992 | Maharashtra  |                     307.31 |\n",
      "+--------+--------------+----------------------------+\n",
      "|   1992 | Punjab       |                     399.14 |\n",
      "+--------+--------------+----------------------------+\n",
      "|   1992 | Telangana    |                      73.19 |\n",
      "+--------+--------------+----------------------------+\n",
      "|   1993 | Gujarat      |                     297.35 |\n",
      "+--------+--------------+----------------------------+\n",
      "|   1993 | Haryana      |                     191.08 |\n",
      "+--------+--------------+----------------------------+\n",
      "|   1993 | Maharashtra  |                     446.35 |\n",
      "+--------+--------------+----------------------------+\n",
      "|   1993 | Punjab       |                     258.21 |\n",
      "+--------+--------------+----------------------------+\n",
      "|   1993 | Telangana    |                      84.15 |\n",
      "+--------+--------------+----------------------------+\n",
      "|   1994 | Gujarat      |                       0    |\n",
      "+--------+--------------+----------------------------+\n",
      "|   1994 | Haryana      |                     233.07 |\n",
      "+--------+--------------+----------------------------+\n",
      "|   1994 | Maharashtra  |                     401.33 |\n",
      "+--------+--------------+----------------------------+\n",
      "|   1994 | Punjab       |                     303.26 |\n",
      "+--------+--------------+----------------------------+\n",
      "|   1994 | Telangana    |                     108.46 |\n",
      "+--------+--------------+----------------------------+\n",
      "|   1995 | Gujarat      |                     409.27 |\n",
      "+--------+--------------+----------------------------+\n",
      "|   1995 | Haryana      |                     222.67 |\n",
      "+--------+--------------+----------------------------+\n",
      "|   1995 | Maharashtra  |                     475.85 |\n",
      "+--------+--------------+----------------------------+\n",
      "|   1995 | Punjab       |                     289.4  |\n",
      "+--------+--------------+----------------------------+\n",
      "|   1995 | Telangana    |                     123.25 |\n",
      "+--------+--------------+----------------------------+\n",
      "|   1996 | Gujarat      |                     451.83 |\n",
      "+--------+--------------+----------------------------+\n",
      "|   1996 | Haryana      |                     256.19 |\n",
      "+--------+--------------+----------------------------+\n",
      "|   1996 | Maharashtra  |                     534.38 |\n",
      "+--------+--------------+----------------------------+\n",
      "|   1996 | Punjab       |                     317.44 |\n",
      "+--------+--------------+----------------------------+\n",
      "|   1996 | Telangana    |                     147.22 |\n",
      "+--------+--------------+----------------------------+\n",
      "|   1997 | Gujarat      |                     580.89 |\n",
      "+--------+--------------+----------------------------+\n",
      "|   1997 | Haryana      |                     188.19 |\n",
      "+--------+--------------+----------------------------+\n",
      "|   1997 | Maharashtra  |                     288.49 |\n",
      "+--------+--------------+----------------------------+\n",
      "|   1997 | Punjab       |                     159.13 |\n",
      "+--------+--------------+----------------------------+\n",
      "|   1997 | Telangana    |                      95.71 |\n",
      "+--------+--------------+----------------------------+\n",
      "|   1998 | Gujarat      |                     680.64 |\n",
      "+--------+--------------+----------------------------+\n",
      "|   1998 | Haryana      |                     148.59 |\n",
      "+--------+--------------+----------------------------+\n",
      "|   1998 | Maharashtra  |                     443.86 |\n",
      "+--------+--------------+----------------------------+\n",
      "|   1998 | Punjab       |                     101.11 |\n",
      "+--------+--------------+----------------------------+\n",
      "|   1998 | Telangana    |                     183.77 |\n",
      "+--------+--------------+----------------------------+\n",
      "|   1999 | Gujarat      |                     364.74 |\n",
      "+--------+--------------+----------------------------+\n",
      "|   1999 | Haryana      |                     221.69 |\n",
      "+--------+--------------+----------------------------+\n",
      "|   1999 | Maharashtra  |                     511.42 |\n",
      "+--------+--------------+----------------------------+\n",
      "|   1999 | Punjab       |                     161.5  |\n",
      "+--------+--------------+----------------------------+\n",
      "|   1999 | Telangana    |                     175.51 |\n",
      "+--------+--------------+----------------------------+\n",
      "|   2000 | Gujarat      |                     211.25 |\n",
      "+--------+--------------+----------------------------+\n",
      "|   2000 | Haryana      |                     235.11 |\n",
      "+--------+--------------+----------------------------+\n",
      "|   2000 | Maharashtra  |                     306.46 |\n",
      "+--------+--------------+----------------------------+\n",
      "|   2000 | Punjab       |                     203.32 |\n",
      "+--------+--------------+----------------------------+\n",
      "|   2000 | Telangana    |                     172.51 |\n",
      "+--------+--------------+----------------------------+\n",
      "|   2001 | Gujarat      |                     286.4  |\n",
      "+--------+--------------+----------------------------+\n",
      "|   2001 | Haryana      |                     122.75 |\n",
      "+--------+--------------+----------------------------+\n",
      "|   2001 | Maharashtra  |                     457.25 |\n",
      "+--------+--------------+----------------------------+\n",
      "|   2001 | Punjab       |                     222.19 |\n",
      "+--------+--------------+----------------------------+\n",
      "|   2001 | Telangana    |                     195.3  |\n",
      "+--------+--------------+----------------------------+\n",
      "|   2002 | Gujarat      |                     320.29 |\n",
      "+--------+--------------+----------------------------+\n",
      "|   2002 | Haryana      |                     176.46 |\n",
      "+--------+--------------+----------------------------+\n",
      "|   2002 | Maharashtra  |                     441.35 |\n",
      "+--------+--------------+----------------------------+\n",
      "|   2002 | Punjab       |                     184.45 |\n",
      "+--------+--------------+----------------------------+\n",
      "|   2002 | Telangana    |                     118.32 |\n",
      "+--------+--------------+----------------------------+\n",
      "|   2003 | Gujarat      |                     684.58 |\n",
      "+--------+--------------+----------------------------+\n",
      "|   2003 | Haryana      |                     239.19 |\n",
      "+--------+--------------+----------------------------+\n",
      "|   2003 | Maharashtra  |                     523.63 |\n",
      "+--------+--------------+----------------------------+\n",
      "|   2003 | Punjab       |                     251.26 |\n",
      "+--------+--------------+----------------------------+\n",
      "|   2003 | Telangana    |                     182.89 |\n",
      "+--------+--------------+----------------------------+\n",
      "|   2004 | Gujarat      |                     925.39 |\n",
      "+--------+--------------+----------------------------+\n",
      "|   2004 | Haryana      |                     352.75 |\n",
      "+--------+--------------+----------------------------+\n",
      "|   2004 | Maharashtra  |                     501.75 |\n",
      "+--------+--------------+----------------------------+\n",
      "|   2004 | Punjab       |                     354.96 |\n",
      "+--------+--------------+----------------------------+\n",
      "|   2004 | Telangana    |                     199.18 |\n",
      "+--------+--------------+----------------------------+\n",
      "|   2005 | Gujarat      |                    1168.21 |\n",
      "+--------+--------------+----------------------------+\n",
      "|   2005 | Haryana      |                     255.34 |\n",
      "+--------+--------------+----------------------------+\n",
      "|   2005 | Maharashtra  |                     537.23 |\n",
      "+--------+--------------+----------------------------+\n",
      "|   2005 | Punjab       |                     407.3  |\n",
      "+--------+--------------+----------------------------+\n",
      "|   2005 | Telangana    |                     240.33 |\n",
      "+--------+--------------+----------------------------+\n",
      "|   2006 | Gujarat      |                    1339.03 |\n",
      "+--------+--------------+----------------------------+\n",
      "|   2006 | Haryana      |                     306.85 |\n",
      "+--------+--------------+----------------------------+\n",
      "|   2006 | Maharashtra  |                     784.96 |\n",
      "+--------+--------------+----------------------------+\n",
      "|   2006 | Punjab       |                     455.08 |\n",
      "+--------+--------------+----------------------------+\n",
      "|   2006 | Telangana    |                     253.8  |\n",
      "+--------+--------------+----------------------------+\n",
      "|   2007 | Gujarat      |                    1406.88 |\n",
      "+--------+--------------+----------------------------+\n",
      "|   2007 | Haryana      |                     319.94 |\n",
      "+--------+--------------+----------------------------+\n",
      "|   2007 | Maharashtra  |                    1192.55 |\n",
      "+--------+--------------+----------------------------+\n",
      "|   2007 | Punjab       |                     400.21 |\n",
      "+--------+--------------+----------------------------+\n",
      "|   2007 | Telangana    |                     421.67 |\n",
      "+--------+--------------+----------------------------+\n",
      "|   2008 | Gujarat      |                    1192.32 |\n",
      "+--------+--------------+----------------------------+\n",
      "|   2008 | Haryana      |                     317.42 |\n",
      "+--------+--------------+----------------------------+\n",
      "|   2008 | Maharashtra  |                     807.91 |\n",
      "+--------+--------------+----------------------------+\n",
      "|   2008 | Punjab       |                     388.25 |\n",
      "+--------+--------------+----------------------------+\n",
      "|   2008 | Telangana    |                     431.95 |\n",
      "+--------+--------------+----------------------------+\n",
      "|   2009 | Gujarat      |                    1258.16 |\n",
      "+--------+--------------+----------------------------+\n",
      "|   2009 | Haryana      |                     326.06 |\n",
      "+--------+--------------+----------------------------+\n",
      "|   2009 | Maharashtra  |                     868.95 |\n",
      "+--------+--------------+----------------------------+\n",
      "|   2009 | Punjab       |                     341.02 |\n",
      "+--------+--------------+----------------------------+\n",
      "|   2009 | Telangana    |                     397.32 |\n",
      "+--------+--------------+----------------------------+\n",
      "|   2010 | Gujarat      |                    1670.31 |\n",
      "+--------+--------------+----------------------------+\n",
      "|   2010 | Haryana      |                     295.67 |\n",
      "+--------+--------------+----------------------------+\n",
      "|   2010 | Maharashtra  |                    1270.38 |\n",
      "+--------+--------------+----------------------------+\n",
      "|   2010 | Punjab       |                     309.64 |\n",
      "+--------+--------------+----------------------------+\n",
      "|   2010 | Telangana    |                     515.92 |\n",
      "+--------+--------------+----------------------------+\n",
      "|   2011 | Gujarat      |                    1763.7  |\n",
      "+--------+--------------+----------------------------+\n",
      "|   2011 | Haryana      |                     445.56 |\n",
      "+--------+--------------+----------------------------+\n",
      "|   2011 | Maharashtra  |                    1159.47 |\n",
      "+--------+--------------+----------------------------+\n",
      "|   2011 | Punjab       |                     275.36 |\n",
      "+--------+--------------+----------------------------+\n",
      "|   2011 | Telangana    |                     389.91 |\n",
      "+--------+--------------+----------------------------+\n",
      "|   2012 | Gujarat      |                     841.67 |\n",
      "+--------+--------------+----------------------------+\n",
      "|   2012 | Haryana      |                     404.26 |\n",
      "+--------+--------------+----------------------------+\n",
      "|   2012 | Maharashtra  |                    1154.8  |\n",
      "+--------+--------------+----------------------------+\n",
      "|   2012 | Punjab       |                     292.86 |\n",
      "+--------+--------------+----------------------------+\n",
      "|   2012 | Telangana    |                     689.71 |\n",
      "+--------+--------------+----------------------------+\n",
      "|   2013 | Gujarat      |                    1892.07 |\n",
      "+--------+--------------+----------------------------+\n",
      "|   2013 | Haryana      |                     344.59 |\n",
      "+--------+--------------+----------------------------+\n",
      "|   2013 | Maharashtra  |                    1590.15 |\n",
      "+--------+--------------+----------------------------+\n",
      "|   2013 | Punjab       |                     269.1  |\n",
      "+--------+--------------+----------------------------+\n",
      "|   2013 | Telangana    |                     767.75 |\n",
      "+--------+--------------+----------------------------+\n",
      "|   2014 | Gujarat      |                    1662.04 |\n",
      "+--------+--------------+----------------------------+\n",
      "|   2014 | Haryana      |                     329.63 |\n",
      "+--------+--------------+----------------------------+\n",
      "|   2014 | Maharashtra  |                     643.9  |\n",
      "+--------+--------------+----------------------------+\n",
      "|   2014 | Punjab       |                     241.56 |\n",
      "+--------+--------------+----------------------------+\n",
      "|   2014 | Telangana    |                     645    |\n",
      "+--------+--------------+----------------------------+\n",
      "|   2015 | Gujarat      |                    1357.65 |\n",
      "+--------+--------------+----------------------------+\n",
      "|   2015 | Haryana      |                     179.11 |\n",
      "+--------+--------------+----------------------------+\n",
      "|   2015 | Maharashtra  |                     704.51 |\n",
      "+--------+--------------+----------------------------+\n",
      "|   2015 | Punjab       |                      70.74 |\n",
      "+--------+--------------+----------------------------+\n",
      "|   2015 | Telangana    |                     671.94 |\n",
      "+--------+--------------+----------------------------+\n",
      "|   2016 | Gujarat      |                     928.02 |\n",
      "+--------+--------------+----------------------------+\n",
      "|   2016 | Haryana      |                     367.39 |\n",
      "+--------+--------------+----------------------------+\n",
      "|   2016 | Maharashtra  |                    1935.9  |\n",
      "+--------+--------------+----------------------------+\n",
      "|   2016 | Punjab       |                     228.06 |\n",
      "+--------+--------------+----------------------------+\n",
      "|   2016 | Telangana    |                     619.98 |\n",
      "+--------+--------------+----------------------------+\n",
      "|   2017 | Gujarat      |                    1820.28 |\n",
      "+--------+--------------+----------------------------+\n",
      "|   2017 | Haryana      |                     292.68 |\n",
      "+--------+--------------+----------------------------+\n",
      "|   2017 | Maharashtra  |                    1096.83 |\n",
      "+--------+--------------+----------------------------+\n",
      "|   2017 | Punjab       |                     230.94 |\n",
      "+--------+--------------+----------------------------+\n",
      "|   2017 | Telangana    |                     935.19 |\n",
      "+--------+--------------+----------------------------+\n"
     ]
    }
   ],
   "source": [
    "#5.Yearly Production Growth of Cotton in Top 5 Cotton Producing States\n",
    "mycursor.execute(\"\"\" \n",
    "WITH total_cotton AS (\n",
    "    SELECT State_Name, SUM(Cotton_Production) AS Total_Cotton\n",
    "    FROM agri_crop_data\n",
    "    GROUP BY State_Name\n",
    "    ORDER BY Total_Cotton DESC\n",
    "    LIMIT 5\n",
    ")\n",
    "SELECT a.Year, a.State_Name, ROUND(SUM(a.Cotton_Production),3) AS Yearly_Cotton_Production\n",
    "FROM agri_crop_data a\n",
    "JOIN total_cotton t ON a.State_Name = t.State_Name\n",
    "GROUP BY a.Year, a.State_Name\n",
    "ORDER BY a.Year, a.State_Name\n",
    "\n",
    "\"\"\")\n",
    "out=mycursor.fetchall()\n",
    "print(tabulate(out,headers=[i[0] for i in mycursor.description],  tablefmt='grid'))"
   ]
  },
  {
   "cell_type": "code",
   "execution_count": 109,
   "id": "5e235fdf",
   "metadata": {},
   "outputs": [
    {
     "name": "stdout",
     "output_type": "stream",
     "text": [
      "+--------+-----------------------+----------------+------------------------+\n",
      "|   Year | Dist_Name             | State_Name     |   Groundnut_Production |\n",
      "+========+=======================+================+========================+\n",
      "|   2017 | Jamnagar              | Gujarat        |                 977.65 |\n",
      "+--------+-----------------------+----------------+------------------------+\n",
      "|   2017 | Junagadh              | Gujarat        |                 945.49 |\n",
      "+--------+-----------------------+----------------+------------------------+\n",
      "|   2017 | Rajkot                | Gujarat        |                 873.87 |\n",
      "+--------+-----------------------+----------------+------------------------+\n",
      "|   2017 | Bikaner               | Rajasthan      |                 514.09 |\n",
      "+--------+-----------------------+----------------+------------------------+\n",
      "|   2017 | Ananthapur            | Andhra Pradesh |                 454.94 |\n",
      "+--------+-----------------------+----------------+------------------------+\n",
      "|   2017 | Banaskantha           | Gujarat        |                 288.21 |\n",
      "+--------+-----------------------+----------------+------------------------+\n",
      "|   2017 | North Arcot / Vellore | Tamil Nadu     |                 280.51 |\n",
      "+--------+-----------------------+----------------+------------------------+\n",
      "|   2017 | Mahabubnagar          | Telangana      |                 273.25 |\n",
      "+--------+-----------------------+----------------+------------------------+\n",
      "|   2017 | Chittoor              | Andhra Pradesh |                 263.38 |\n",
      "+--------+-----------------------+----------------+------------------------+\n",
      "|   2017 | Sabarkantha           | Gujarat        |                 244.48 |\n",
      "+--------+-----------------------+----------------+------------------------+\n"
     ]
    }
   ],
   "source": [
    "#Districts with the Highest Groundnut Production in 2020\n",
    "mycursor.execute(\"\"\"\n",
    "    SELECT Year,Dist_Name,State_Name, Groundnut_Production\n",
    "    FROM agri_crop_data\n",
    "    WHERE Year = 2017\n",
    "    ORDER BY Groundnut_Production DESC\n",
    "    LIMIT 10;\n",
    "\"\"\")\n",
    "out=mycursor.fetchall()\n",
    "print(tabulate(out, headers=[i[0] for i in mycursor.description], tablefmt='grid'))"
   ]
  },
  {
   "cell_type": "code",
   "execution_count": 110,
   "id": "ad2e7f49",
   "metadata": {},
   "outputs": [
    {
     "name": "stdout",
     "output_type": "stream",
     "text": [
      "+--------+-------------------+\n",
      "|   Year |   Avg_Maize_Yield |\n",
      "+========+===================+\n",
      "|   1966 |           734.266 |\n",
      "+--------+-------------------+\n",
      "|   1967 |           869.54  |\n",
      "+--------+-------------------+\n",
      "|   1968 |           709.262 |\n",
      "+--------+-------------------+\n",
      "|   1969 |           781.477 |\n",
      "+--------+-------------------+\n",
      "|   1970 |          1094.18  |\n",
      "+--------+-------------------+\n",
      "|   1971 |           848.643 |\n",
      "+--------+-------------------+\n",
      "|   1972 |           895.126 |\n",
      "+--------+-------------------+\n",
      "|   1973 |           886.84  |\n",
      "+--------+-------------------+\n",
      "|   1974 |           852.937 |\n",
      "+--------+-------------------+\n",
      "|   1975 |          1026.01  |\n",
      "+--------+-------------------+\n",
      "|   1976 |           966.654 |\n",
      "+--------+-------------------+\n",
      "|   1977 |           946.525 |\n",
      "+--------+-------------------+\n",
      "|   1978 |           964.877 |\n",
      "+--------+-------------------+\n",
      "|   1979 |           984.162 |\n",
      "+--------+-------------------+\n",
      "|   1980 |          1067.09  |\n",
      "+--------+-------------------+\n",
      "|   1981 |          1119.51  |\n",
      "+--------+-------------------+\n",
      "|   1982 |          1189.24  |\n",
      "+--------+-------------------+\n",
      "|   1983 |          1314.56  |\n",
      "+--------+-------------------+\n",
      "|   1984 |          1226.57  |\n",
      "+--------+-------------------+\n",
      "|   1985 |          1057.79  |\n",
      "+--------+-------------------+\n",
      "|   1986 |          1078.99  |\n",
      "+--------+-------------------+\n",
      "|   1987 |           945.444 |\n",
      "+--------+-------------------+\n",
      "|   1988 |          1145.88  |\n",
      "+--------+-------------------+\n",
      "|   1989 |          1324.73  |\n",
      "+--------+-------------------+\n",
      "|   1990 |          1235.36  |\n",
      "+--------+-------------------+\n",
      "|   1991 |          1157.02  |\n",
      "+--------+-------------------+\n",
      "|   1992 |          1450.82  |\n",
      "+--------+-------------------+\n",
      "|   1993 |          1345.81  |\n",
      "+--------+-------------------+\n",
      "|   1994 |          1211.29  |\n",
      "+--------+-------------------+\n",
      "|   1995 |          1344     |\n",
      "+--------+-------------------+\n",
      "|   1996 |          1443.18  |\n",
      "+--------+-------------------+\n",
      "|   1997 |          1409.27  |\n",
      "+--------+-------------------+\n",
      "|   1998 |          1419.08  |\n",
      "+--------+-------------------+\n",
      "|   1999 |          1516.95  |\n",
      "+--------+-------------------+\n",
      "|   2000 |          1556.49  |\n",
      "+--------+-------------------+\n",
      "|   2001 |          1758.42  |\n",
      "+--------+-------------------+\n",
      "|   2002 |          1384.69  |\n",
      "+--------+-------------------+\n",
      "|   2003 |          1704.56  |\n",
      "+--------+-------------------+\n",
      "|   2004 |          1619.8   |\n",
      "+--------+-------------------+\n",
      "|   2005 |          1702.61  |\n",
      "+--------+-------------------+\n",
      "|   2006 |          1678.54  |\n",
      "+--------+-------------------+\n",
      "|   2007 |          1990.17  |\n",
      "+--------+-------------------+\n",
      "|   2008 |          1935.15  |\n",
      "+--------+-------------------+\n",
      "|   2009 |          1764.6   |\n",
      "+--------+-------------------+\n",
      "|   2010 |          2078.25  |\n",
      "+--------+-------------------+\n",
      "|   2011 |          2064.95  |\n",
      "+--------+-------------------+\n",
      "|   2012 |          2137.16  |\n",
      "+--------+-------------------+\n",
      "|   2013 |          2343.5   |\n",
      "+--------+-------------------+\n",
      "|   2014 |          2400.83  |\n",
      "+--------+-------------------+\n",
      "|   2015 |          2260.08  |\n",
      "+--------+-------------------+\n",
      "|   2016 |          2463.03  |\n",
      "+--------+-------------------+\n",
      "|   2017 |          2852.33  |\n",
      "+--------+-------------------+\n"
     ]
    }
   ],
   "source": [
    "#7.Annual Average Maize Yield Across All States\n",
    "mycursor.execute(\"\"\"\n",
    "    SELECT Year, AVG(Maize_Yield) AS Avg_Maize_Yield\n",
    "    FROM agri_crop_data\n",
    "    GROUP BY Year\n",
    "    ORDER BY Year;\n",
    "\"\"\")\n",
    "out=mycursor.fetchall()\n",
    "print(tabulate(out, headers=[i[0] for i in mycursor.description], tablefmt='grid'))"
   ]
  },
  {
   "cell_type": "code",
   "execution_count": 111,
   "id": "5b8446da",
   "metadata": {},
   "outputs": [
    {
     "name": "stdout",
     "output_type": "stream",
     "text": [
      "+------------------+-----------------------+\n",
      "| State_Name       |   Total_Oilseeds_Area |\n",
      "+==================+=======================+\n",
      "| Madhya Pradesh   |             189946    |\n",
      "+------------------+-----------------------+\n",
      "| Rajasthan        |             142433    |\n",
      "+------------------+-----------------------+\n",
      "| Maharashtra      |             134069    |\n",
      "+------------------+-----------------------+\n",
      "| Gujarat          |             130725    |\n",
      "+------------------+-----------------------+\n",
      "| Karnataka        |              92527.2  |\n",
      "+------------------+-----------------------+\n",
      "| Andhra Pradesh   |              87223.5  |\n",
      "+------------------+-----------------------+\n",
      "| Tamil Nadu       |              56225.6  |\n",
      "+------------------+-----------------------+\n",
      "| Uttar Pradesh    |              43047.1  |\n",
      "+------------------+-----------------------+\n",
      "| Orissa           |              39682    |\n",
      "+------------------+-----------------------+\n",
      "| Telangana        |              35293.4  |\n",
      "+------------------+-----------------------+\n",
      "| Kerala           |              34348.9  |\n",
      "+------------------+-----------------------+\n",
      "| Haryana          |              21465.5  |\n",
      "+------------------+-----------------------+\n",
      "| West Bengal      |              20300.8  |\n",
      "+------------------+-----------------------+\n",
      "| Chhattisgarh     |              17267.1  |\n",
      "+------------------+-----------------------+\n",
      "| Assam            |              14176.6  |\n",
      "+------------------+-----------------------+\n",
      "| Punjab           |               8697.93 |\n",
      "+------------------+-----------------------+\n",
      "| Bihar            |               5536.29 |\n",
      "+------------------+-----------------------+\n",
      "| Jharkhand        |               2826.29 |\n",
      "+------------------+-----------------------+\n",
      "| Uttarakhand      |                993.53 |\n",
      "+------------------+-----------------------+\n",
      "| Himachal Pradesh |                799.25 |\n",
      "+------------------+-----------------------+\n"
     ]
    }
   ],
   "source": [
    "#8.Total Area Cultivated for Oilseeds in Each State\n",
    "mycursor.execute(\"\"\"\n",
    "    SELECT State_Name, SUM(Oilseeds_Area) AS Total_Oilseeds_Area\n",
    "    FROM agri_crop_data\n",
    "    GROUP BY State_Name\n",
    "    ORDER BY Total_Oilseeds_Area DESC;\n",
    "\"\"\")\n",
    "out=mycursor.fetchall()\n",
    "print(tabulate(out, headers=[i[0] for i in mycursor.description], tablefmt='grid'))"
   ]
  },
  {
   "cell_type": "code",
   "execution_count": 112,
   "id": "3c378a8f",
   "metadata": {},
   "outputs": [
    {
     "name": "stdout",
     "output_type": "stream",
     "text": [
      "+-------------------------+------------------+\n",
      "| Dist_Name               |   Max_Rice_Yield |\n",
      "+=========================+==================+\n",
      "| Thirunelveli            |          5653.83 |\n",
      "+-------------------------+------------------+\n",
      "| Saharsa                 |          5542.32 |\n",
      "+-------------------------+------------------+\n",
      "| Kanyakumari             |          5421.78 |\n",
      "+-------------------------+------------------+\n",
      "| Rewa                    |          5159.93 |\n",
      "+-------------------------+------------------+\n",
      "| Salem                   |          5129.68 |\n",
      "+-------------------------+------------------+\n",
      "| Tiruchirapalli / Trichy |          5094.65 |\n",
      "+-------------------------+------------------+\n",
      "| Sangrur                 |          5047.54 |\n",
      "+-------------------------+------------------+\n",
      "| The Nilgiris            |          5000    |\n",
      "+-------------------------+------------------+\n",
      "| Madurai                 |          4889.99 |\n",
      "+-------------------------+------------------+\n",
      "| North Arcot / Vellore   |          4887.52 |\n",
      "+-------------------------+------------------+\n"
     ]
    }
   ],
   "source": [
    "#9.Districts with the Highest Rice Yield\n",
    "mycursor.execute(\"\"\"\n",
    "    SELECT Dist_Name, MAX(Rice_Yield) AS Max_Rice_Yield\n",
    "    FROM agri_crop_data\n",
    "    GROUP BY Dist_Name\n",
    "    ORDER BY Max_Rice_Yield DESC\n",
    "    LIMIT 10;\n",
    "\"\"\")\n",
    "out=mycursor.fetchall()\n",
    "print(tabulate(out, headers=[i[0] for i in mycursor.description], tablefmt='grid'))\n"
   ]
  },
  {
   "cell_type": "code",
   "execution_count": 115,
   "id": "a058813f",
   "metadata": {},
   "outputs": [
    {
     "name": "stdout",
     "output_type": "stream",
     "text": [
      "+--------+----------------+--------------------------+-------------------------+\n",
      "|   Year | State_Name     |   Total_Wheat_Production |   Total_Rice_Production |\n",
      "+========+================+==========================+=========================+\n",
      "|   2008 | Haryana        |                 11360    |                 3299    |\n",
      "+--------+----------------+--------------------------+-------------------------+\n",
      "|   2008 | Madhya Pradesh |                  7272.2  |                 1036.93 |\n",
      "+--------+----------------+--------------------------+-------------------------+\n",
      "|   2008 | Punjab         |                 15733    |                11000    |\n",
      "+--------+----------------+--------------------------+-------------------------+\n",
      "|   2008 | Uttar Pradesh  |                 29110.9  |                13080.9  |\n",
      "+--------+----------------+--------------------------+-------------------------+\n",
      "|   2008 | West Bengal    |                   764.5  |                15037.3  |\n",
      "+--------+----------------+--------------------------+-------------------------+\n",
      "|   2009 | Haryana        |                 10488    |                 3628    |\n",
      "+--------+----------------+--------------------------+-------------------------+\n",
      "|   2009 | Madhya Pradesh |                  8865.3  |                 1355.6  |\n",
      "+--------+----------------+--------------------------+-------------------------+\n",
      "|   2009 | Punjab         |                 15169    |                11236    |\n",
      "+--------+----------------+--------------------------+-------------------------+\n",
      "|   2009 | Uttar Pradesh  |                 27910.8  |                11840.2  |\n",
      "+--------+----------------+--------------------------+-------------------------+\n",
      "|   2009 | West Bengal    |                   846.7  |                14340.6  |\n",
      "+--------+----------------+--------------------------+-------------------------+\n",
      "|   2010 | Haryana        |                 11578    |                 3465    |\n",
      "+--------+----------------+--------------------------+-------------------------+\n",
      "|   2010 | Madhya Pradesh |                  9219.8  |                 1766.6  |\n",
      "+--------+----------------+--------------------------+-------------------------+\n",
      "|   2010 | Punjab         |                 16472    |                10819    |\n",
      "+--------+----------------+--------------------------+-------------------------+\n",
      "|   2010 | Uttar Pradesh  |                 30602.9  |                12363.5  |\n",
      "+--------+----------------+--------------------------+-------------------------+\n",
      "|   2010 | West Bengal    |                   874.42 |                13389.6  |\n",
      "+--------+----------------+--------------------------+-------------------------+\n",
      "|   2011 | Haryana        |                 13119    |                 3757    |\n",
      "+--------+----------------+--------------------------+-------------------------+\n",
      "|   2011 | Madhya Pradesh |                 12226.2  |                 2220.4  |\n",
      "+--------+----------------+--------------------------+-------------------------+\n",
      "|   2011 | Punjab         |                 17782    |                10542    |\n",
      "+--------+----------------+--------------------------+-------------------------+\n",
      "|   2011 | Uttar Pradesh  |                 32271.7  |                13949.6  |\n",
      "+--------+----------------+--------------------------+-------------------------+\n",
      "|   2011 | West Bengal    |                   872.9  |                14610.3  |\n",
      "+--------+----------------+--------------------------+-------------------------+\n",
      "|   2012 | Haryana        |                 11117    |                 3941    |\n",
      "+--------+----------------+--------------------------+-------------------------+\n",
      "|   2012 | Madhya Pradesh |                 16510.6  |                 2971.14 |\n",
      "+--------+----------------+--------------------------+-------------------------+\n",
      "|   2012 | Punjab         |                 16614    |                11390    |\n",
      "+--------+----------------+--------------------------+-------------------------+\n",
      "|   2012 | Uttar Pradesh  |                 29041.3  |                13182.3  |\n",
      "+--------+----------------+--------------------------+-------------------------+\n",
      "|   2012 | West Bengal    |                   895.93 |                14946.7  |\n",
      "+--------+----------------+--------------------------+-------------------------+\n",
      "|   2013 | Haryana        |                 11800    |                 4041    |\n",
      "+--------+----------------+--------------------------+-------------------------+\n",
      "|   2013 | Madhya Pradesh |                 15722.8  |                 3321.73 |\n",
      "+--------+----------------+--------------------------+-------------------------+\n",
      "|   2013 | Punjab         |                 17620    |                11267    |\n",
      "+--------+----------------+--------------------------+-------------------------+\n",
      "|   2013 | Uttar Pradesh  |                 31611.6  |                14589    |\n",
      "+--------+----------------+--------------------------+-------------------------+\n",
      "|   2013 | West Bengal    |                   927.86 |                15376.9  |\n",
      "+--------+----------------+--------------------------+-------------------------+\n",
      "|   2014 | Haryana        |                 10457    |                 3989    |\n",
      "+--------+----------------+--------------------------+-------------------------+\n",
      "|   2014 | Madhya Pradesh |                 18463    |                 3522.66 |\n",
      "+--------+----------------+--------------------------+-------------------------+\n",
      "|   2014 | Punjab         |                 15050    |                11107    |\n",
      "+--------+----------------+--------------------------+-------------------------+\n",
      "|   2014 | Uttar Pradesh  |                 20146.4  |                13346    |\n",
      "+--------+----------------+--------------------------+-------------------------+\n",
      "|   2014 | West Bengal    |                   939.26 |                15927.2  |\n",
      "+--------+----------------+--------------------------+-------------------------+\n",
      "|   2015 | Haryana        |                 11351    |                 4144    |\n",
      "+--------+----------------+--------------------------+-------------------------+\n",
      "|   2015 | Madhya Pradesh |                 18407    |                 3412.66 |\n",
      "+--------+----------------+--------------------------+-------------------------+\n",
      "|   2015 | Punjab         |                 16077    |                11823    |\n",
      "+--------+----------------+--------------------------+-------------------------+\n",
      "|   2015 | Uttar Pradesh  |                 27010.4  |                12531.7  |\n",
      "+--------+----------------+--------------------------+-------------------------+\n",
      "|   2015 | West Bengal    |                   788.49 |                15948.3  |\n",
      "+--------+----------------+--------------------------+-------------------------+\n",
      "|   2016 | Haryana        |                 12384    |                 4453    |\n",
      "+--------+----------------+--------------------------+-------------------------+\n",
      "|   2016 | Madhya Pradesh |                 21916    |                 5499.21 |\n",
      "+--------+----------------+--------------------------+-------------------------+\n",
      "|   2016 | Punjab         |                 17636    |                12638    |\n",
      "+--------+----------------+--------------------------+-------------------------+\n",
      "|   2016 | Uttar Pradesh  |                 35120.9  |                14500.8  |\n",
      "+--------+----------------+--------------------------+-------------------------+\n",
      "|   2016 | West Bengal    |                   858.53 |                15106.3  |\n",
      "+--------+----------------+--------------------------+-------------------------+\n",
      "|   2017 | Haryana        |                 12263    |                 4880    |\n",
      "+--------+----------------+--------------------------+-------------------------+\n",
      "|   2017 | Madhya Pradesh |                 20019.9  |                 4899.06 |\n",
      "+--------+----------------+--------------------------+-------------------------+\n",
      "|   2017 | Punjab         |                 17830    |                13382    |\n",
      "+--------+----------------+--------------------------+-------------------------+\n",
      "|   2017 | Uttar Pradesh  |                 35798.6  |                15551.4  |\n",
      "+--------+----------------+--------------------------+-------------------------+\n",
      "|   2017 | West Bengal    |                   359.13 |                15658.9  |\n",
      "+--------+----------------+--------------------------+-------------------------+\n"
     ]
    }
   ],
   "source": [
    "#10.Compare the Production of Wheat and Rice for the Top 5 States Over 10 Years\n",
    "mycursor.execute(\"\"\"WITH top_states AS \n",
    "                 ( SELECT State_Name, SUM(Wheat_Production + Rice_Production) AS Total_Cereal_Production \n",
    "                 FROM agri_crop_data \n",
    "                 WHERE Year >= (SELECT MAX(Year) - 9 FROM agri_crop_data) \n",
    "                  GROUP BY State_Name \n",
    "                 ORDER BY Total_Cereal_Production DESC LIMIT 5 ) \n",
    "        SELECT Year, State_Name, \n",
    "        SUM(Wheat_Production) AS Total_Wheat_Production, \n",
    "        SUM(Rice_Production) AS Total_Rice_Production \n",
    "        FROM agri_crop_data \n",
    "        WHERE State_Name IN (SELECT State_Name FROM top_states) AND Year >= (SELECT MAX(Year) - 9 FROM agri_crop_data) \n",
    "        GROUP BY Year, State_Name \n",
    "        ORDER BY Year, State_Name\n",
    "\"\"\")\n",
    "out=mycursor.fetchall()\n",
    "print(tabulate(out,headers=[i[0] for i in mycursor.description],  tablefmt='grid'))"
   ]
  }
 ],
 "metadata": {
  "kernelspec": {
   "display_name": "Python 3",
   "language": "python",
   "name": "python3"
  },
  "language_info": {
   "codemirror_mode": {
    "name": "ipython",
    "version": 3
   },
   "file_extension": ".py",
   "mimetype": "text/x-python",
   "name": "python",
   "nbconvert_exporter": "python",
   "pygments_lexer": "ipython3",
   "version": "3.13.3"
  }
 },
 "nbformat": 4,
 "nbformat_minor": 5
}
